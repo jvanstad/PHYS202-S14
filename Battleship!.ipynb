{
 "metadata": {
  "name": "",
  "signature": "sha256:a4fbb729a16f78efd259543556c6f10a6e9050256104fe08176c2f196513abe3"
 },
 "nbformat": 3,
 "nbformat_minor": 0,
 "worksheets": [
  {
   "cells": [
    {
     "cell_type": "heading",
     "level": 1,
     "metadata": {},
     "source": [
      "Battleship!"
     ]
    },
    {
     "cell_type": "code",
     "collapsed": false,
     "input": [
      "from random import randint\n",
      "from ipythonblocks import BlockGrid\n",
      "from ipythonblocks import colors\n",
      "\n",
      "board = BlockGrid(5,5, fill=(135, 206, 235))\n",
      "\n",
      "\n",
      "def print_board(board):\n",
      "    print board.show()\n",
      "\n",
      "print \"Let's play Battleship!\"\n",
      "print_board(board)\n",
      "\n",
      "def random_row(board):\n",
      "    return randint(1, 6)\n",
      "\n",
      "def random_col(board):\n",
      "    return randint(1, 6)\n",
      "\n",
      "ship_row = random_row(board)\n",
      "ship_col = random_col(board)\n",
      "\n",
      "\n",
      "\n",
      "for turn in range(4):\n",
      "    print \"Turn \" + str(turn+1)\n",
      "    guess_row = int(raw_input(\"Guess Row:\"))-1\n",
      "    guess_col = int(raw_input(\"Guess Col:\"))-1\n",
      "\n",
      "    if guess_row == ship_row and guess_col == ship_col:\n",
      "        print \"Congratulations! You sunk my battleship!\"\n",
      "        break \n",
      "    else:\n",
      "        if turn==3:\n",
      "            print \"Game Over.\"\n",
      "        elif (guess_row < 0 or guess_row > 5) or (guess_col < 0 or guess_col > 5):\n",
      "            print \"Oops, that's not even in the ocean.\"\n",
      "        elif board[guess_row,guess_col]==(0,0,0):\n",
      "            print \"You guessed that one already.\"\n",
      "        else:\n",
      "            print \"You missed my battleship!\"\n",
      "            board[guess_row, guess_col] = (0,0,0)\n",
      "    \n",
      "        print_board(board)\n",
      "    "
     ],
     "language": "python",
     "metadata": {},
     "outputs": [
      {
       "output_type": "stream",
       "stream": "stdout",
       "text": [
        "Let's play Battleship!\n"
       ]
      },
      {
       "html": [
        "<style type=\"text/css\">table.blockgrid {border: none;} .blockgrid tr {border: none;} .blockgrid td {padding: 0px;} #blocksbe96e83f-7cc7-4ffa-b138-258e02197a99 td {border: 1px solid white;}</style><table id=\"blocksbe96e83f-7cc7-4ffa-b138-258e02197a99\" class=\"blockgrid\"><tbody><tr><td title=\"Index: [0, 0]&#10;Color: (135, 206, 235)\" style=\"width: 20px; height: 20px;background-color: rgb(135, 206, 235);\"></td><td title=\"Index: [0, 1]&#10;Color: (135, 206, 235)\" style=\"width: 20px; height: 20px;background-color: rgb(135, 206, 235);\"></td><td title=\"Index: [0, 2]&#10;Color: (135, 206, 235)\" style=\"width: 20px; height: 20px;background-color: rgb(135, 206, 235);\"></td><td title=\"Index: [0, 3]&#10;Color: (135, 206, 235)\" style=\"width: 20px; height: 20px;background-color: rgb(135, 206, 235);\"></td><td title=\"Index: [0, 4]&#10;Color: (135, 206, 235)\" style=\"width: 20px; height: 20px;background-color: rgb(135, 206, 235);\"></td></tr><tr><td title=\"Index: [1, 0]&#10;Color: (135, 206, 235)\" style=\"width: 20px; height: 20px;background-color: rgb(135, 206, 235);\"></td><td title=\"Index: [1, 1]&#10;Color: (135, 206, 235)\" style=\"width: 20px; height: 20px;background-color: rgb(135, 206, 235);\"></td><td title=\"Index: [1, 2]&#10;Color: (135, 206, 235)\" style=\"width: 20px; height: 20px;background-color: rgb(135, 206, 235);\"></td><td title=\"Index: [1, 3]&#10;Color: (135, 206, 235)\" style=\"width: 20px; height: 20px;background-color: rgb(135, 206, 235);\"></td><td title=\"Index: [1, 4]&#10;Color: (135, 206, 235)\" style=\"width: 20px; height: 20px;background-color: rgb(135, 206, 235);\"></td></tr><tr><td title=\"Index: [2, 0]&#10;Color: (135, 206, 235)\" style=\"width: 20px; height: 20px;background-color: rgb(135, 206, 235);\"></td><td title=\"Index: [2, 1]&#10;Color: (135, 206, 235)\" style=\"width: 20px; height: 20px;background-color: rgb(135, 206, 235);\"></td><td title=\"Index: [2, 2]&#10;Color: (135, 206, 235)\" style=\"width: 20px; height: 20px;background-color: rgb(135, 206, 235);\"></td><td title=\"Index: [2, 3]&#10;Color: (135, 206, 235)\" style=\"width: 20px; height: 20px;background-color: rgb(135, 206, 235);\"></td><td title=\"Index: [2, 4]&#10;Color: (135, 206, 235)\" style=\"width: 20px; height: 20px;background-color: rgb(135, 206, 235);\"></td></tr><tr><td title=\"Index: [3, 0]&#10;Color: (135, 206, 235)\" style=\"width: 20px; height: 20px;background-color: rgb(135, 206, 235);\"></td><td title=\"Index: [3, 1]&#10;Color: (135, 206, 235)\" style=\"width: 20px; height: 20px;background-color: rgb(135, 206, 235);\"></td><td title=\"Index: [3, 2]&#10;Color: (135, 206, 235)\" style=\"width: 20px; height: 20px;background-color: rgb(135, 206, 235);\"></td><td title=\"Index: [3, 3]&#10;Color: (135, 206, 235)\" style=\"width: 20px; height: 20px;background-color: rgb(135, 206, 235);\"></td><td title=\"Index: [3, 4]&#10;Color: (135, 206, 235)\" style=\"width: 20px; height: 20px;background-color: rgb(135, 206, 235);\"></td></tr><tr><td title=\"Index: [4, 0]&#10;Color: (135, 206, 235)\" style=\"width: 20px; height: 20px;background-color: rgb(135, 206, 235);\"></td><td title=\"Index: [4, 1]&#10;Color: (135, 206, 235)\" style=\"width: 20px; height: 20px;background-color: rgb(135, 206, 235);\"></td><td title=\"Index: [4, 2]&#10;Color: (135, 206, 235)\" style=\"width: 20px; height: 20px;background-color: rgb(135, 206, 235);\"></td><td title=\"Index: [4, 3]&#10;Color: (135, 206, 235)\" style=\"width: 20px; height: 20px;background-color: rgb(135, 206, 235);\"></td><td title=\"Index: [4, 4]&#10;Color: (135, 206, 235)\" style=\"width: 20px; height: 20px;background-color: rgb(135, 206, 235);\"></td></tr></tbody></table>"
       ],
       "metadata": {},
       "output_type": "display_data",
       "text": [
        "<IPython.core.display.HTML at 0x1cb41d0>"
       ]
      },
      {
       "output_type": "stream",
       "stream": "stdout",
       "text": [
        "None\n",
        "Turn 1\n"
       ]
      },
      {
       "name": "stdout",
       "output_type": "stream",
       "stream": "stdout",
       "text": [
        "Guess Row:1\n"
       ]
      },
      {
       "name": "stdout",
       "output_type": "stream",
       "stream": "stdout",
       "text": [
        "Guess Col:1\n"
       ]
      },
      {
       "output_type": "stream",
       "stream": "stdout",
       "text": [
        "You missed my battleship!\n"
       ]
      },
      {
       "html": [
        "<style type=\"text/css\">table.blockgrid {border: none;} .blockgrid tr {border: none;} .blockgrid td {padding: 0px;} #blocksa7918757-e0e5-4349-b5ab-585007c53430 td {border: 1px solid white;}</style><table id=\"blocksa7918757-e0e5-4349-b5ab-585007c53430\" class=\"blockgrid\"><tbody><tr><td title=\"Index: [0, 0]&#10;Color: (0, 0, 0)\" style=\"width: 20px; height: 20px;background-color: rgb(0, 0, 0);\"></td><td title=\"Index: [0, 1]&#10;Color: (135, 206, 235)\" style=\"width: 20px; height: 20px;background-color: rgb(135, 206, 235);\"></td><td title=\"Index: [0, 2]&#10;Color: (135, 206, 235)\" style=\"width: 20px; height: 20px;background-color: rgb(135, 206, 235);\"></td><td title=\"Index: [0, 3]&#10;Color: (135, 206, 235)\" style=\"width: 20px; height: 20px;background-color: rgb(135, 206, 235);\"></td><td title=\"Index: [0, 4]&#10;Color: (135, 206, 235)\" style=\"width: 20px; height: 20px;background-color: rgb(135, 206, 235);\"></td></tr><tr><td title=\"Index: [1, 0]&#10;Color: (135, 206, 235)\" style=\"width: 20px; height: 20px;background-color: rgb(135, 206, 235);\"></td><td title=\"Index: [1, 1]&#10;Color: (135, 206, 235)\" style=\"width: 20px; height: 20px;background-color: rgb(135, 206, 235);\"></td><td title=\"Index: [1, 2]&#10;Color: (135, 206, 235)\" style=\"width: 20px; height: 20px;background-color: rgb(135, 206, 235);\"></td><td title=\"Index: [1, 3]&#10;Color: (135, 206, 235)\" style=\"width: 20px; height: 20px;background-color: rgb(135, 206, 235);\"></td><td title=\"Index: [1, 4]&#10;Color: (135, 206, 235)\" style=\"width: 20px; height: 20px;background-color: rgb(135, 206, 235);\"></td></tr><tr><td title=\"Index: [2, 0]&#10;Color: (135, 206, 235)\" style=\"width: 20px; height: 20px;background-color: rgb(135, 206, 235);\"></td><td title=\"Index: [2, 1]&#10;Color: (135, 206, 235)\" style=\"width: 20px; height: 20px;background-color: rgb(135, 206, 235);\"></td><td title=\"Index: [2, 2]&#10;Color: (135, 206, 235)\" style=\"width: 20px; height: 20px;background-color: rgb(135, 206, 235);\"></td><td title=\"Index: [2, 3]&#10;Color: (135, 206, 235)\" style=\"width: 20px; height: 20px;background-color: rgb(135, 206, 235);\"></td><td title=\"Index: [2, 4]&#10;Color: (135, 206, 235)\" style=\"width: 20px; height: 20px;background-color: rgb(135, 206, 235);\"></td></tr><tr><td title=\"Index: [3, 0]&#10;Color: (135, 206, 235)\" style=\"width: 20px; height: 20px;background-color: rgb(135, 206, 235);\"></td><td title=\"Index: [3, 1]&#10;Color: (135, 206, 235)\" style=\"width: 20px; height: 20px;background-color: rgb(135, 206, 235);\"></td><td title=\"Index: [3, 2]&#10;Color: (135, 206, 235)\" style=\"width: 20px; height: 20px;background-color: rgb(135, 206, 235);\"></td><td title=\"Index: [3, 3]&#10;Color: (135, 206, 235)\" style=\"width: 20px; height: 20px;background-color: rgb(135, 206, 235);\"></td><td title=\"Index: [3, 4]&#10;Color: (135, 206, 235)\" style=\"width: 20px; height: 20px;background-color: rgb(135, 206, 235);\"></td></tr><tr><td title=\"Index: [4, 0]&#10;Color: (135, 206, 235)\" style=\"width: 20px; height: 20px;background-color: rgb(135, 206, 235);\"></td><td title=\"Index: [4, 1]&#10;Color: (135, 206, 235)\" style=\"width: 20px; height: 20px;background-color: rgb(135, 206, 235);\"></td><td title=\"Index: [4, 2]&#10;Color: (135, 206, 235)\" style=\"width: 20px; height: 20px;background-color: rgb(135, 206, 235);\"></td><td title=\"Index: [4, 3]&#10;Color: (135, 206, 235)\" style=\"width: 20px; height: 20px;background-color: rgb(135, 206, 235);\"></td><td title=\"Index: [4, 4]&#10;Color: (135, 206, 235)\" style=\"width: 20px; height: 20px;background-color: rgb(135, 206, 235);\"></td></tr></tbody></table>"
       ],
       "metadata": {},
       "output_type": "display_data",
       "text": [
        "<IPython.core.display.HTML at 0x1cb4310>"
       ]
      },
      {
       "output_type": "stream",
       "stream": "stdout",
       "text": [
        "None\n",
        "Turn 2\n"
       ]
      },
      {
       "name": "stdout",
       "output_type": "stream",
       "stream": "stdout",
       "text": [
        "Guess Row:1\n"
       ]
      },
      {
       "name": "stdout",
       "output_type": "stream",
       "stream": "stdout",
       "text": [
        "Guess Col:1\n"
       ]
      },
      {
       "output_type": "stream",
       "stream": "stdout",
       "text": [
        "You missed my battleship!\n"
       ]
      },
      {
       "html": [
        "<style type=\"text/css\">table.blockgrid {border: none;} .blockgrid tr {border: none;} .blockgrid td {padding: 0px;} #blocks1d2895f5-dd7e-40c0-940e-a8f46df5f9a0 td {border: 1px solid white;}</style><table id=\"blocks1d2895f5-dd7e-40c0-940e-a8f46df5f9a0\" class=\"blockgrid\"><tbody><tr><td title=\"Index: [0, 0]&#10;Color: (0, 0, 0)\" style=\"width: 20px; height: 20px;background-color: rgb(0, 0, 0);\"></td><td title=\"Index: [0, 1]&#10;Color: (135, 206, 235)\" style=\"width: 20px; height: 20px;background-color: rgb(135, 206, 235);\"></td><td title=\"Index: [0, 2]&#10;Color: (135, 206, 235)\" style=\"width: 20px; height: 20px;background-color: rgb(135, 206, 235);\"></td><td title=\"Index: [0, 3]&#10;Color: (135, 206, 235)\" style=\"width: 20px; height: 20px;background-color: rgb(135, 206, 235);\"></td><td title=\"Index: [0, 4]&#10;Color: (135, 206, 235)\" style=\"width: 20px; height: 20px;background-color: rgb(135, 206, 235);\"></td></tr><tr><td title=\"Index: [1, 0]&#10;Color: (135, 206, 235)\" style=\"width: 20px; height: 20px;background-color: rgb(135, 206, 235);\"></td><td title=\"Index: [1, 1]&#10;Color: (135, 206, 235)\" style=\"width: 20px; height: 20px;background-color: rgb(135, 206, 235);\"></td><td title=\"Index: [1, 2]&#10;Color: (135, 206, 235)\" style=\"width: 20px; height: 20px;background-color: rgb(135, 206, 235);\"></td><td title=\"Index: [1, 3]&#10;Color: (135, 206, 235)\" style=\"width: 20px; height: 20px;background-color: rgb(135, 206, 235);\"></td><td title=\"Index: [1, 4]&#10;Color: (135, 206, 235)\" style=\"width: 20px; height: 20px;background-color: rgb(135, 206, 235);\"></td></tr><tr><td title=\"Index: [2, 0]&#10;Color: (135, 206, 235)\" style=\"width: 20px; height: 20px;background-color: rgb(135, 206, 235);\"></td><td title=\"Index: [2, 1]&#10;Color: (135, 206, 235)\" style=\"width: 20px; height: 20px;background-color: rgb(135, 206, 235);\"></td><td title=\"Index: [2, 2]&#10;Color: (135, 206, 235)\" style=\"width: 20px; height: 20px;background-color: rgb(135, 206, 235);\"></td><td title=\"Index: [2, 3]&#10;Color: (135, 206, 235)\" style=\"width: 20px; height: 20px;background-color: rgb(135, 206, 235);\"></td><td title=\"Index: [2, 4]&#10;Color: (135, 206, 235)\" style=\"width: 20px; height: 20px;background-color: rgb(135, 206, 235);\"></td></tr><tr><td title=\"Index: [3, 0]&#10;Color: (135, 206, 235)\" style=\"width: 20px; height: 20px;background-color: rgb(135, 206, 235);\"></td><td title=\"Index: [3, 1]&#10;Color: (135, 206, 235)\" style=\"width: 20px; height: 20px;background-color: rgb(135, 206, 235);\"></td><td title=\"Index: [3, 2]&#10;Color: (135, 206, 235)\" style=\"width: 20px; height: 20px;background-color: rgb(135, 206, 235);\"></td><td title=\"Index: [3, 3]&#10;Color: (135, 206, 235)\" style=\"width: 20px; height: 20px;background-color: rgb(135, 206, 235);\"></td><td title=\"Index: [3, 4]&#10;Color: (135, 206, 235)\" style=\"width: 20px; height: 20px;background-color: rgb(135, 206, 235);\"></td></tr><tr><td title=\"Index: [4, 0]&#10;Color: (135, 206, 235)\" style=\"width: 20px; height: 20px;background-color: rgb(135, 206, 235);\"></td><td title=\"Index: [4, 1]&#10;Color: (135, 206, 235)\" style=\"width: 20px; height: 20px;background-color: rgb(135, 206, 235);\"></td><td title=\"Index: [4, 2]&#10;Color: (135, 206, 235)\" style=\"width: 20px; height: 20px;background-color: rgb(135, 206, 235);\"></td><td title=\"Index: [4, 3]&#10;Color: (135, 206, 235)\" style=\"width: 20px; height: 20px;background-color: rgb(135, 206, 235);\"></td><td title=\"Index: [4, 4]&#10;Color: (135, 206, 235)\" style=\"width: 20px; height: 20px;background-color: rgb(135, 206, 235);\"></td></tr></tbody></table>"
       ],
       "metadata": {},
       "output_type": "display_data",
       "text": [
        "<IPython.core.display.HTML at 0x1cb43d0>"
       ]
      },
      {
       "output_type": "stream",
       "stream": "stdout",
       "text": [
        "None\n",
        "Turn 3\n"
       ]
      },
      {
       "name": "stdout",
       "output_type": "stream",
       "stream": "stdout",
       "text": [
        "Guess Row:2\n"
       ]
      },
      {
       "name": "stdout",
       "output_type": "stream",
       "stream": "stdout",
       "text": [
        "Guess Col:2\n"
       ]
      },
      {
       "output_type": "stream",
       "stream": "stdout",
       "text": [
        "You missed my battleship!\n"
       ]
      },
      {
       "html": [
        "<style type=\"text/css\">table.blockgrid {border: none;} .blockgrid tr {border: none;} .blockgrid td {padding: 0px;} #blocks15b76392-3b10-439c-b662-90557e26265d td {border: 1px solid white;}</style><table id=\"blocks15b76392-3b10-439c-b662-90557e26265d\" class=\"blockgrid\"><tbody><tr><td title=\"Index: [0, 0]&#10;Color: (0, 0, 0)\" style=\"width: 20px; height: 20px;background-color: rgb(0, 0, 0);\"></td><td title=\"Index: [0, 1]&#10;Color: (135, 206, 235)\" style=\"width: 20px; height: 20px;background-color: rgb(135, 206, 235);\"></td><td title=\"Index: [0, 2]&#10;Color: (135, 206, 235)\" style=\"width: 20px; height: 20px;background-color: rgb(135, 206, 235);\"></td><td title=\"Index: [0, 3]&#10;Color: (135, 206, 235)\" style=\"width: 20px; height: 20px;background-color: rgb(135, 206, 235);\"></td><td title=\"Index: [0, 4]&#10;Color: (135, 206, 235)\" style=\"width: 20px; height: 20px;background-color: rgb(135, 206, 235);\"></td></tr><tr><td title=\"Index: [1, 0]&#10;Color: (135, 206, 235)\" style=\"width: 20px; height: 20px;background-color: rgb(135, 206, 235);\"></td><td title=\"Index: [1, 1]&#10;Color: (0, 0, 0)\" style=\"width: 20px; height: 20px;background-color: rgb(0, 0, 0);\"></td><td title=\"Index: [1, 2]&#10;Color: (135, 206, 235)\" style=\"width: 20px; height: 20px;background-color: rgb(135, 206, 235);\"></td><td title=\"Index: [1, 3]&#10;Color: (135, 206, 235)\" style=\"width: 20px; height: 20px;background-color: rgb(135, 206, 235);\"></td><td title=\"Index: [1, 4]&#10;Color: (135, 206, 235)\" style=\"width: 20px; height: 20px;background-color: rgb(135, 206, 235);\"></td></tr><tr><td title=\"Index: [2, 0]&#10;Color: (135, 206, 235)\" style=\"width: 20px; height: 20px;background-color: rgb(135, 206, 235);\"></td><td title=\"Index: [2, 1]&#10;Color: (135, 206, 235)\" style=\"width: 20px; height: 20px;background-color: rgb(135, 206, 235);\"></td><td title=\"Index: [2, 2]&#10;Color: (135, 206, 235)\" style=\"width: 20px; height: 20px;background-color: rgb(135, 206, 235);\"></td><td title=\"Index: [2, 3]&#10;Color: (135, 206, 235)\" style=\"width: 20px; height: 20px;background-color: rgb(135, 206, 235);\"></td><td title=\"Index: [2, 4]&#10;Color: (135, 206, 235)\" style=\"width: 20px; height: 20px;background-color: rgb(135, 206, 235);\"></td></tr><tr><td title=\"Index: [3, 0]&#10;Color: (135, 206, 235)\" style=\"width: 20px; height: 20px;background-color: rgb(135, 206, 235);\"></td><td title=\"Index: [3, 1]&#10;Color: (135, 206, 235)\" style=\"width: 20px; height: 20px;background-color: rgb(135, 206, 235);\"></td><td title=\"Index: [3, 2]&#10;Color: (135, 206, 235)\" style=\"width: 20px; height: 20px;background-color: rgb(135, 206, 235);\"></td><td title=\"Index: [3, 3]&#10;Color: (135, 206, 235)\" style=\"width: 20px; height: 20px;background-color: rgb(135, 206, 235);\"></td><td title=\"Index: [3, 4]&#10;Color: (135, 206, 235)\" style=\"width: 20px; height: 20px;background-color: rgb(135, 206, 235);\"></td></tr><tr><td title=\"Index: [4, 0]&#10;Color: (135, 206, 235)\" style=\"width: 20px; height: 20px;background-color: rgb(135, 206, 235);\"></td><td title=\"Index: [4, 1]&#10;Color: (135, 206, 235)\" style=\"width: 20px; height: 20px;background-color: rgb(135, 206, 235);\"></td><td title=\"Index: [4, 2]&#10;Color: (135, 206, 235)\" style=\"width: 20px; height: 20px;background-color: rgb(135, 206, 235);\"></td><td title=\"Index: [4, 3]&#10;Color: (135, 206, 235)\" style=\"width: 20px; height: 20px;background-color: rgb(135, 206, 235);\"></td><td title=\"Index: [4, 4]&#10;Color: (135, 206, 235)\" style=\"width: 20px; height: 20px;background-color: rgb(135, 206, 235);\"></td></tr></tbody></table>"
       ],
       "metadata": {},
       "output_type": "display_data",
       "text": [
        "<IPython.core.display.HTML at 0x1cba250>"
       ]
      },
      {
       "output_type": "stream",
       "stream": "stdout",
       "text": [
        "None\n",
        "Turn 4\n"
       ]
      },
      {
       "name": "stdout",
       "output_type": "stream",
       "stream": "stdout",
       "text": [
        "Guess Row:1\n"
       ]
      },
      {
       "name": "stdout",
       "output_type": "stream",
       "stream": "stdout",
       "text": [
        "Guess Col:5\n"
       ]
      },
      {
       "output_type": "stream",
       "stream": "stdout",
       "text": [
        "Game Over.\n"
       ]
      },
      {
       "html": [
        "<style type=\"text/css\">table.blockgrid {border: none;} .blockgrid tr {border: none;} .blockgrid td {padding: 0px;} #blocks0219c849-b9fa-4b1f-9cde-6fa589f23ce7 td {border: 1px solid white;}</style><table id=\"blocks0219c849-b9fa-4b1f-9cde-6fa589f23ce7\" class=\"blockgrid\"><tbody><tr><td title=\"Index: [0, 0]&#10;Color: (0, 0, 0)\" style=\"width: 20px; height: 20px;background-color: rgb(0, 0, 0);\"></td><td title=\"Index: [0, 1]&#10;Color: (135, 206, 235)\" style=\"width: 20px; height: 20px;background-color: rgb(135, 206, 235);\"></td><td title=\"Index: [0, 2]&#10;Color: (135, 206, 235)\" style=\"width: 20px; height: 20px;background-color: rgb(135, 206, 235);\"></td><td title=\"Index: [0, 3]&#10;Color: (135, 206, 235)\" style=\"width: 20px; height: 20px;background-color: rgb(135, 206, 235);\"></td><td title=\"Index: [0, 4]&#10;Color: (135, 206, 235)\" style=\"width: 20px; height: 20px;background-color: rgb(135, 206, 235);\"></td></tr><tr><td title=\"Index: [1, 0]&#10;Color: (135, 206, 235)\" style=\"width: 20px; height: 20px;background-color: rgb(135, 206, 235);\"></td><td title=\"Index: [1, 1]&#10;Color: (0, 0, 0)\" style=\"width: 20px; height: 20px;background-color: rgb(0, 0, 0);\"></td><td title=\"Index: [1, 2]&#10;Color: (135, 206, 235)\" style=\"width: 20px; height: 20px;background-color: rgb(135, 206, 235);\"></td><td title=\"Index: [1, 3]&#10;Color: (135, 206, 235)\" style=\"width: 20px; height: 20px;background-color: rgb(135, 206, 235);\"></td><td title=\"Index: [1, 4]&#10;Color: (135, 206, 235)\" style=\"width: 20px; height: 20px;background-color: rgb(135, 206, 235);\"></td></tr><tr><td title=\"Index: [2, 0]&#10;Color: (135, 206, 235)\" style=\"width: 20px; height: 20px;background-color: rgb(135, 206, 235);\"></td><td title=\"Index: [2, 1]&#10;Color: (135, 206, 235)\" style=\"width: 20px; height: 20px;background-color: rgb(135, 206, 235);\"></td><td title=\"Index: [2, 2]&#10;Color: (135, 206, 235)\" style=\"width: 20px; height: 20px;background-color: rgb(135, 206, 235);\"></td><td title=\"Index: [2, 3]&#10;Color: (135, 206, 235)\" style=\"width: 20px; height: 20px;background-color: rgb(135, 206, 235);\"></td><td title=\"Index: [2, 4]&#10;Color: (135, 206, 235)\" style=\"width: 20px; height: 20px;background-color: rgb(135, 206, 235);\"></td></tr><tr><td title=\"Index: [3, 0]&#10;Color: (135, 206, 235)\" style=\"width: 20px; height: 20px;background-color: rgb(135, 206, 235);\"></td><td title=\"Index: [3, 1]&#10;Color: (135, 206, 235)\" style=\"width: 20px; height: 20px;background-color: rgb(135, 206, 235);\"></td><td title=\"Index: [3, 2]&#10;Color: (135, 206, 235)\" style=\"width: 20px; height: 20px;background-color: rgb(135, 206, 235);\"></td><td title=\"Index: [3, 3]&#10;Color: (135, 206, 235)\" style=\"width: 20px; height: 20px;background-color: rgb(135, 206, 235);\"></td><td title=\"Index: [3, 4]&#10;Color: (135, 206, 235)\" style=\"width: 20px; height: 20px;background-color: rgb(135, 206, 235);\"></td></tr><tr><td title=\"Index: [4, 0]&#10;Color: (135, 206, 235)\" style=\"width: 20px; height: 20px;background-color: rgb(135, 206, 235);\"></td><td title=\"Index: [4, 1]&#10;Color: (135, 206, 235)\" style=\"width: 20px; height: 20px;background-color: rgb(135, 206, 235);\"></td><td title=\"Index: [4, 2]&#10;Color: (135, 206, 235)\" style=\"width: 20px; height: 20px;background-color: rgb(135, 206, 235);\"></td><td title=\"Index: [4, 3]&#10;Color: (135, 206, 235)\" style=\"width: 20px; height: 20px;background-color: rgb(135, 206, 235);\"></td><td title=\"Index: [4, 4]&#10;Color: (135, 206, 235)\" style=\"width: 20px; height: 20px;background-color: rgb(135, 206, 235);\"></td></tr></tbody></table>"
       ],
       "metadata": {},
       "output_type": "display_data",
       "text": [
        "<IPython.core.display.HTML at 0x1cba210>"
       ]
      },
      {
       "output_type": "stream",
       "stream": "stdout",
       "text": [
        "None\n"
       ]
      }
     ],
     "prompt_number": 4
    },
    {
     "cell_type": "markdown",
     "metadata": {},
     "source": [
      "BATTLESHIP!!! 2.0 with added trial (if it stays...)"
     ]
    },
    {
     "cell_type": "code",
     "collapsed": false,
     "input": [
      "from random import randint\n",
      "from ipythonblocks import BlockGrid\n",
      "from ipythonblocks import colors\n",
      "#Change the dimensions of the board/color\n",
      "board = BlockGrid(8,8, fill=(135, 206, 235))\n",
      "\n",
      "\n",
      "def print_board(board):\n",
      "    print board.show()\n",
      "\n",
      "print \"Let's play Battleship!\"\n",
      "print_board(board)\n",
      "\n",
      "#Change where the ship can be\n",
      "def random_row(board):\n",
      "    return randint(1, 7)\n",
      "\n",
      "def random_col(board):\n",
      "    return randint(1, 7)\n",
      "\n",
      "ship_row = random_row(board)-1\n",
      "ship_col = random_col(board)-1\n",
      "shipr=0\n",
      "shipc=0\n",
      "#Make the ship larger \n",
      "Pain=randint(1,3)\n",
      "if Pain==1:\n",
      "    shipr=ship_row +1\n",
      "    shipc=ship_col\n",
      "if Pain==2:\n",
      "    shipr=ship_row\n",
      "    shipc=ship_col+1\n",
      "if Pain==3:\n",
      "    shipr=ship_row +1\n",
      "    shipc=ship_col+1\n",
      "\n",
      "\n",
      "#Change the number of turns\n",
      "for turn in range(7):\n",
      "    guess_row = int(raw_input(\"Guess Row:\"))-1\n",
      "    guess_col = int(raw_input(\"Guess Col:\"))-1\n",
      "    print \"Turn \" + str(turn+1)\n",
      "    \n",
      "    if guess_row == ship_row and guess_col == ship_col or guess_row == shipr and guess_col == shipc:\n",
      "        board[guess_row,guess_col]=(255,0,0)\n",
      "        print \"Congratulations! You hit my battleship!\"\n",
      "        if guess_row == ship_row and guess_col == ship_col and board[shipr,shipc]==(255,0,0) or board[ship_row,ship_col]==(255,0,0) and guess_row == shipr and guess_col == shipc:\n",
      "            board[guess_row, guess_col]=(255,0,0)\n",
      "            print \"Congratulations! You sunk my battleship!\"\n",
      "            break\n",
      "    else:\n",
      "        if turn==6:\n",
      "            board[guess_row, guess_col] = (0,0,0)\n",
      "            board[ship_row, ship_col]=(250,250,3)\n",
      "            board[shipr, shipc]=(250,250,3)\n",
      "            board.show()\n",
      "            print \"Game Over.\"\n",
      "        elif (guess_row < 0 or guess_row > 8) or (guess_col < 0 or guess_col > 8):\n",
      "            print \"Oops, that's not even in the ocean.\"\n",
      "        elif board[guess_row,guess_col]==(0,0,0):\n",
      "            print \"You guessed that one already.\"\n",
      "        else:\n",
      "            board[guess_row, guess_col] = (0,0,0)\n",
      "            print \"You missed my battleship!\"\n",
      "    \n",
      "        print_board(board)\n",
      "    "
     ],
     "language": "python",
     "metadata": {},
     "outputs": [
      {
       "output_type": "stream",
       "stream": "stdout",
       "text": [
        "Let's play Battleship!\n"
       ]
      },
      {
       "html": [
        "<style type=\"text/css\">table.blockgrid {border: none;} .blockgrid tr {border: none;} .blockgrid td {padding: 0px;} #blocks39b8c5d8-bc95-4a95-9ae8-609d8a969ffe td {border: 1px solid white;}</style><table id=\"blocks39b8c5d8-bc95-4a95-9ae8-609d8a969ffe\" class=\"blockgrid\"><tbody><tr><td title=\"Index: [0, 0]&#10;Color: (135, 206, 235)\" style=\"width: 20px; height: 20px;background-color: rgb(135, 206, 235);\"></td><td title=\"Index: [0, 1]&#10;Color: (135, 206, 235)\" style=\"width: 20px; height: 20px;background-color: rgb(135, 206, 235);\"></td><td title=\"Index: [0, 2]&#10;Color: (135, 206, 235)\" style=\"width: 20px; height: 20px;background-color: rgb(135, 206, 235);\"></td><td title=\"Index: [0, 3]&#10;Color: (135, 206, 235)\" style=\"width: 20px; height: 20px;background-color: rgb(135, 206, 235);\"></td><td title=\"Index: [0, 4]&#10;Color: (135, 206, 235)\" style=\"width: 20px; height: 20px;background-color: rgb(135, 206, 235);\"></td><td title=\"Index: [0, 5]&#10;Color: (135, 206, 235)\" style=\"width: 20px; height: 20px;background-color: rgb(135, 206, 235);\"></td><td title=\"Index: [0, 6]&#10;Color: (135, 206, 235)\" style=\"width: 20px; height: 20px;background-color: rgb(135, 206, 235);\"></td><td title=\"Index: [0, 7]&#10;Color: (135, 206, 235)\" style=\"width: 20px; height: 20px;background-color: rgb(135, 206, 235);\"></td></tr><tr><td title=\"Index: [1, 0]&#10;Color: (135, 206, 235)\" style=\"width: 20px; height: 20px;background-color: rgb(135, 206, 235);\"></td><td title=\"Index: [1, 1]&#10;Color: (135, 206, 235)\" style=\"width: 20px; height: 20px;background-color: rgb(135, 206, 235);\"></td><td title=\"Index: [1, 2]&#10;Color: (135, 206, 235)\" style=\"width: 20px; height: 20px;background-color: rgb(135, 206, 235);\"></td><td title=\"Index: [1, 3]&#10;Color: (135, 206, 235)\" style=\"width: 20px; height: 20px;background-color: rgb(135, 206, 235);\"></td><td title=\"Index: [1, 4]&#10;Color: (135, 206, 235)\" style=\"width: 20px; height: 20px;background-color: rgb(135, 206, 235);\"></td><td title=\"Index: [1, 5]&#10;Color: (135, 206, 235)\" style=\"width: 20px; height: 20px;background-color: rgb(135, 206, 235);\"></td><td title=\"Index: [1, 6]&#10;Color: (135, 206, 235)\" style=\"width: 20px; height: 20px;background-color: rgb(135, 206, 235);\"></td><td title=\"Index: [1, 7]&#10;Color: (135, 206, 235)\" style=\"width: 20px; height: 20px;background-color: rgb(135, 206, 235);\"></td></tr><tr><td title=\"Index: [2, 0]&#10;Color: (135, 206, 235)\" style=\"width: 20px; height: 20px;background-color: rgb(135, 206, 235);\"></td><td title=\"Index: [2, 1]&#10;Color: (135, 206, 235)\" style=\"width: 20px; height: 20px;background-color: rgb(135, 206, 235);\"></td><td title=\"Index: [2, 2]&#10;Color: (135, 206, 235)\" style=\"width: 20px; height: 20px;background-color: rgb(135, 206, 235);\"></td><td title=\"Index: [2, 3]&#10;Color: (135, 206, 235)\" style=\"width: 20px; height: 20px;background-color: rgb(135, 206, 235);\"></td><td title=\"Index: [2, 4]&#10;Color: (135, 206, 235)\" style=\"width: 20px; height: 20px;background-color: rgb(135, 206, 235);\"></td><td title=\"Index: [2, 5]&#10;Color: (135, 206, 235)\" style=\"width: 20px; height: 20px;background-color: rgb(135, 206, 235);\"></td><td title=\"Index: [2, 6]&#10;Color: (135, 206, 235)\" style=\"width: 20px; height: 20px;background-color: rgb(135, 206, 235);\"></td><td title=\"Index: [2, 7]&#10;Color: (135, 206, 235)\" style=\"width: 20px; height: 20px;background-color: rgb(135, 206, 235);\"></td></tr><tr><td title=\"Index: [3, 0]&#10;Color: (135, 206, 235)\" style=\"width: 20px; height: 20px;background-color: rgb(135, 206, 235);\"></td><td title=\"Index: [3, 1]&#10;Color: (135, 206, 235)\" style=\"width: 20px; height: 20px;background-color: rgb(135, 206, 235);\"></td><td title=\"Index: [3, 2]&#10;Color: (135, 206, 235)\" style=\"width: 20px; height: 20px;background-color: rgb(135, 206, 235);\"></td><td title=\"Index: [3, 3]&#10;Color: (135, 206, 235)\" style=\"width: 20px; height: 20px;background-color: rgb(135, 206, 235);\"></td><td title=\"Index: [3, 4]&#10;Color: (135, 206, 235)\" style=\"width: 20px; height: 20px;background-color: rgb(135, 206, 235);\"></td><td title=\"Index: [3, 5]&#10;Color: (135, 206, 235)\" style=\"width: 20px; height: 20px;background-color: rgb(135, 206, 235);\"></td><td title=\"Index: [3, 6]&#10;Color: (135, 206, 235)\" style=\"width: 20px; height: 20px;background-color: rgb(135, 206, 235);\"></td><td title=\"Index: [3, 7]&#10;Color: (135, 206, 235)\" style=\"width: 20px; height: 20px;background-color: rgb(135, 206, 235);\"></td></tr><tr><td title=\"Index: [4, 0]&#10;Color: (135, 206, 235)\" style=\"width: 20px; height: 20px;background-color: rgb(135, 206, 235);\"></td><td title=\"Index: [4, 1]&#10;Color: (135, 206, 235)\" style=\"width: 20px; height: 20px;background-color: rgb(135, 206, 235);\"></td><td title=\"Index: [4, 2]&#10;Color: (135, 206, 235)\" style=\"width: 20px; height: 20px;background-color: rgb(135, 206, 235);\"></td><td title=\"Index: [4, 3]&#10;Color: (135, 206, 235)\" style=\"width: 20px; height: 20px;background-color: rgb(135, 206, 235);\"></td><td title=\"Index: [4, 4]&#10;Color: (135, 206, 235)\" style=\"width: 20px; height: 20px;background-color: rgb(135, 206, 235);\"></td><td title=\"Index: [4, 5]&#10;Color: (135, 206, 235)\" style=\"width: 20px; height: 20px;background-color: rgb(135, 206, 235);\"></td><td title=\"Index: [4, 6]&#10;Color: (135, 206, 235)\" style=\"width: 20px; height: 20px;background-color: rgb(135, 206, 235);\"></td><td title=\"Index: [4, 7]&#10;Color: (135, 206, 235)\" style=\"width: 20px; height: 20px;background-color: rgb(135, 206, 235);\"></td></tr><tr><td title=\"Index: [5, 0]&#10;Color: (135, 206, 235)\" style=\"width: 20px; height: 20px;background-color: rgb(135, 206, 235);\"></td><td title=\"Index: [5, 1]&#10;Color: (135, 206, 235)\" style=\"width: 20px; height: 20px;background-color: rgb(135, 206, 235);\"></td><td title=\"Index: [5, 2]&#10;Color: (135, 206, 235)\" style=\"width: 20px; height: 20px;background-color: rgb(135, 206, 235);\"></td><td title=\"Index: [5, 3]&#10;Color: (135, 206, 235)\" style=\"width: 20px; height: 20px;background-color: rgb(135, 206, 235);\"></td><td title=\"Index: [5, 4]&#10;Color: (135, 206, 235)\" style=\"width: 20px; height: 20px;background-color: rgb(135, 206, 235);\"></td><td title=\"Index: [5, 5]&#10;Color: (135, 206, 235)\" style=\"width: 20px; height: 20px;background-color: rgb(135, 206, 235);\"></td><td title=\"Index: [5, 6]&#10;Color: (135, 206, 235)\" style=\"width: 20px; height: 20px;background-color: rgb(135, 206, 235);\"></td><td title=\"Index: [5, 7]&#10;Color: (135, 206, 235)\" style=\"width: 20px; height: 20px;background-color: rgb(135, 206, 235);\"></td></tr><tr><td title=\"Index: [6, 0]&#10;Color: (135, 206, 235)\" style=\"width: 20px; height: 20px;background-color: rgb(135, 206, 235);\"></td><td title=\"Index: [6, 1]&#10;Color: (135, 206, 235)\" style=\"width: 20px; height: 20px;background-color: rgb(135, 206, 235);\"></td><td title=\"Index: [6, 2]&#10;Color: (135, 206, 235)\" style=\"width: 20px; height: 20px;background-color: rgb(135, 206, 235);\"></td><td title=\"Index: [6, 3]&#10;Color: (135, 206, 235)\" style=\"width: 20px; height: 20px;background-color: rgb(135, 206, 235);\"></td><td title=\"Index: [6, 4]&#10;Color: (135, 206, 235)\" style=\"width: 20px; height: 20px;background-color: rgb(135, 206, 235);\"></td><td title=\"Index: [6, 5]&#10;Color: (135, 206, 235)\" style=\"width: 20px; height: 20px;background-color: rgb(135, 206, 235);\"></td><td title=\"Index: [6, 6]&#10;Color: (135, 206, 235)\" style=\"width: 20px; height: 20px;background-color: rgb(135, 206, 235);\"></td><td title=\"Index: [6, 7]&#10;Color: (135, 206, 235)\" style=\"width: 20px; height: 20px;background-color: rgb(135, 206, 235);\"></td></tr><tr><td title=\"Index: [7, 0]&#10;Color: (135, 206, 235)\" style=\"width: 20px; height: 20px;background-color: rgb(135, 206, 235);\"></td><td title=\"Index: [7, 1]&#10;Color: (135, 206, 235)\" style=\"width: 20px; height: 20px;background-color: rgb(135, 206, 235);\"></td><td title=\"Index: [7, 2]&#10;Color: (135, 206, 235)\" style=\"width: 20px; height: 20px;background-color: rgb(135, 206, 235);\"></td><td title=\"Index: [7, 3]&#10;Color: (135, 206, 235)\" style=\"width: 20px; height: 20px;background-color: rgb(135, 206, 235);\"></td><td title=\"Index: [7, 4]&#10;Color: (135, 206, 235)\" style=\"width: 20px; height: 20px;background-color: rgb(135, 206, 235);\"></td><td title=\"Index: [7, 5]&#10;Color: (135, 206, 235)\" style=\"width: 20px; height: 20px;background-color: rgb(135, 206, 235);\"></td><td title=\"Index: [7, 6]&#10;Color: (135, 206, 235)\" style=\"width: 20px; height: 20px;background-color: rgb(135, 206, 235);\"></td><td title=\"Index: [7, 7]&#10;Color: (135, 206, 235)\" style=\"width: 20px; height: 20px;background-color: rgb(135, 206, 235);\"></td></tr></tbody></table>"
       ],
       "metadata": {},
       "output_type": "display_data",
       "text": [
        "<IPython.core.display.HTML at 0x2a78a90>"
       ]
      },
      {
       "output_type": "stream",
       "stream": "stdout",
       "text": [
        "None\n"
       ]
      },
      {
       "name": "stdout",
       "output_type": "stream",
       "stream": "stdout",
       "text": [
        "Guess Row:1\n"
       ]
      },
      {
       "name": "stdout",
       "output_type": "stream",
       "stream": "stdout",
       "text": [
        "Guess Col:1\n"
       ]
      },
      {
       "output_type": "stream",
       "stream": "stdout",
       "text": [
        "Turn 1\n",
        "You missed my battleship!\n"
       ]
      },
      {
       "html": [
        "<style type=\"text/css\">table.blockgrid {border: none;} .blockgrid tr {border: none;} .blockgrid td {padding: 0px;} #blockscf211452-d2b1-43ff-b4c9-166e5e4fd06c td {border: 1px solid white;}</style><table id=\"blockscf211452-d2b1-43ff-b4c9-166e5e4fd06c\" class=\"blockgrid\"><tbody><tr><td title=\"Index: [0, 0]&#10;Color: (0, 0, 0)\" style=\"width: 20px; height: 20px;background-color: rgb(0, 0, 0);\"></td><td title=\"Index: [0, 1]&#10;Color: (135, 206, 235)\" style=\"width: 20px; height: 20px;background-color: rgb(135, 206, 235);\"></td><td title=\"Index: [0, 2]&#10;Color: (135, 206, 235)\" style=\"width: 20px; height: 20px;background-color: rgb(135, 206, 235);\"></td><td title=\"Index: [0, 3]&#10;Color: (135, 206, 235)\" style=\"width: 20px; height: 20px;background-color: rgb(135, 206, 235);\"></td><td title=\"Index: [0, 4]&#10;Color: (135, 206, 235)\" style=\"width: 20px; height: 20px;background-color: rgb(135, 206, 235);\"></td><td title=\"Index: [0, 5]&#10;Color: (135, 206, 235)\" style=\"width: 20px; height: 20px;background-color: rgb(135, 206, 235);\"></td><td title=\"Index: [0, 6]&#10;Color: (135, 206, 235)\" style=\"width: 20px; height: 20px;background-color: rgb(135, 206, 235);\"></td><td title=\"Index: [0, 7]&#10;Color: (135, 206, 235)\" style=\"width: 20px; height: 20px;background-color: rgb(135, 206, 235);\"></td></tr><tr><td title=\"Index: [1, 0]&#10;Color: (135, 206, 235)\" style=\"width: 20px; height: 20px;background-color: rgb(135, 206, 235);\"></td><td title=\"Index: [1, 1]&#10;Color: (135, 206, 235)\" style=\"width: 20px; height: 20px;background-color: rgb(135, 206, 235);\"></td><td title=\"Index: [1, 2]&#10;Color: (135, 206, 235)\" style=\"width: 20px; height: 20px;background-color: rgb(135, 206, 235);\"></td><td title=\"Index: [1, 3]&#10;Color: (135, 206, 235)\" style=\"width: 20px; height: 20px;background-color: rgb(135, 206, 235);\"></td><td title=\"Index: [1, 4]&#10;Color: (135, 206, 235)\" style=\"width: 20px; height: 20px;background-color: rgb(135, 206, 235);\"></td><td title=\"Index: [1, 5]&#10;Color: (135, 206, 235)\" style=\"width: 20px; height: 20px;background-color: rgb(135, 206, 235);\"></td><td title=\"Index: [1, 6]&#10;Color: (135, 206, 235)\" style=\"width: 20px; height: 20px;background-color: rgb(135, 206, 235);\"></td><td title=\"Index: [1, 7]&#10;Color: (135, 206, 235)\" style=\"width: 20px; height: 20px;background-color: rgb(135, 206, 235);\"></td></tr><tr><td title=\"Index: [2, 0]&#10;Color: (135, 206, 235)\" style=\"width: 20px; height: 20px;background-color: rgb(135, 206, 235);\"></td><td title=\"Index: [2, 1]&#10;Color: (135, 206, 235)\" style=\"width: 20px; height: 20px;background-color: rgb(135, 206, 235);\"></td><td title=\"Index: [2, 2]&#10;Color: (135, 206, 235)\" style=\"width: 20px; height: 20px;background-color: rgb(135, 206, 235);\"></td><td title=\"Index: [2, 3]&#10;Color: (135, 206, 235)\" style=\"width: 20px; height: 20px;background-color: rgb(135, 206, 235);\"></td><td title=\"Index: [2, 4]&#10;Color: (135, 206, 235)\" style=\"width: 20px; height: 20px;background-color: rgb(135, 206, 235);\"></td><td title=\"Index: [2, 5]&#10;Color: (135, 206, 235)\" style=\"width: 20px; height: 20px;background-color: rgb(135, 206, 235);\"></td><td title=\"Index: [2, 6]&#10;Color: (135, 206, 235)\" style=\"width: 20px; height: 20px;background-color: rgb(135, 206, 235);\"></td><td title=\"Index: [2, 7]&#10;Color: (135, 206, 235)\" style=\"width: 20px; height: 20px;background-color: rgb(135, 206, 235);\"></td></tr><tr><td title=\"Index: [3, 0]&#10;Color: (135, 206, 235)\" style=\"width: 20px; height: 20px;background-color: rgb(135, 206, 235);\"></td><td title=\"Index: [3, 1]&#10;Color: (135, 206, 235)\" style=\"width: 20px; height: 20px;background-color: rgb(135, 206, 235);\"></td><td title=\"Index: [3, 2]&#10;Color: (135, 206, 235)\" style=\"width: 20px; height: 20px;background-color: rgb(135, 206, 235);\"></td><td title=\"Index: [3, 3]&#10;Color: (135, 206, 235)\" style=\"width: 20px; height: 20px;background-color: rgb(135, 206, 235);\"></td><td title=\"Index: [3, 4]&#10;Color: (135, 206, 235)\" style=\"width: 20px; height: 20px;background-color: rgb(135, 206, 235);\"></td><td title=\"Index: [3, 5]&#10;Color: (135, 206, 235)\" style=\"width: 20px; height: 20px;background-color: rgb(135, 206, 235);\"></td><td title=\"Index: [3, 6]&#10;Color: (135, 206, 235)\" style=\"width: 20px; height: 20px;background-color: rgb(135, 206, 235);\"></td><td title=\"Index: [3, 7]&#10;Color: (135, 206, 235)\" style=\"width: 20px; height: 20px;background-color: rgb(135, 206, 235);\"></td></tr><tr><td title=\"Index: [4, 0]&#10;Color: (135, 206, 235)\" style=\"width: 20px; height: 20px;background-color: rgb(135, 206, 235);\"></td><td title=\"Index: [4, 1]&#10;Color: (135, 206, 235)\" style=\"width: 20px; height: 20px;background-color: rgb(135, 206, 235);\"></td><td title=\"Index: [4, 2]&#10;Color: (135, 206, 235)\" style=\"width: 20px; height: 20px;background-color: rgb(135, 206, 235);\"></td><td title=\"Index: [4, 3]&#10;Color: (135, 206, 235)\" style=\"width: 20px; height: 20px;background-color: rgb(135, 206, 235);\"></td><td title=\"Index: [4, 4]&#10;Color: (135, 206, 235)\" style=\"width: 20px; height: 20px;background-color: rgb(135, 206, 235);\"></td><td title=\"Index: [4, 5]&#10;Color: (135, 206, 235)\" style=\"width: 20px; height: 20px;background-color: rgb(135, 206, 235);\"></td><td title=\"Index: [4, 6]&#10;Color: (135, 206, 235)\" style=\"width: 20px; height: 20px;background-color: rgb(135, 206, 235);\"></td><td title=\"Index: [4, 7]&#10;Color: (135, 206, 235)\" style=\"width: 20px; height: 20px;background-color: rgb(135, 206, 235);\"></td></tr><tr><td title=\"Index: [5, 0]&#10;Color: (135, 206, 235)\" style=\"width: 20px; height: 20px;background-color: rgb(135, 206, 235);\"></td><td title=\"Index: [5, 1]&#10;Color: (135, 206, 235)\" style=\"width: 20px; height: 20px;background-color: rgb(135, 206, 235);\"></td><td title=\"Index: [5, 2]&#10;Color: (135, 206, 235)\" style=\"width: 20px; height: 20px;background-color: rgb(135, 206, 235);\"></td><td title=\"Index: [5, 3]&#10;Color: (135, 206, 235)\" style=\"width: 20px; height: 20px;background-color: rgb(135, 206, 235);\"></td><td title=\"Index: [5, 4]&#10;Color: (135, 206, 235)\" style=\"width: 20px; height: 20px;background-color: rgb(135, 206, 235);\"></td><td title=\"Index: [5, 5]&#10;Color: (135, 206, 235)\" style=\"width: 20px; height: 20px;background-color: rgb(135, 206, 235);\"></td><td title=\"Index: [5, 6]&#10;Color: (135, 206, 235)\" style=\"width: 20px; height: 20px;background-color: rgb(135, 206, 235);\"></td><td title=\"Index: [5, 7]&#10;Color: (135, 206, 235)\" style=\"width: 20px; height: 20px;background-color: rgb(135, 206, 235);\"></td></tr><tr><td title=\"Index: [6, 0]&#10;Color: (135, 206, 235)\" style=\"width: 20px; height: 20px;background-color: rgb(135, 206, 235);\"></td><td title=\"Index: [6, 1]&#10;Color: (135, 206, 235)\" style=\"width: 20px; height: 20px;background-color: rgb(135, 206, 235);\"></td><td title=\"Index: [6, 2]&#10;Color: (135, 206, 235)\" style=\"width: 20px; height: 20px;background-color: rgb(135, 206, 235);\"></td><td title=\"Index: [6, 3]&#10;Color: (135, 206, 235)\" style=\"width: 20px; height: 20px;background-color: rgb(135, 206, 235);\"></td><td title=\"Index: [6, 4]&#10;Color: (135, 206, 235)\" style=\"width: 20px; height: 20px;background-color: rgb(135, 206, 235);\"></td><td title=\"Index: [6, 5]&#10;Color: (135, 206, 235)\" style=\"width: 20px; height: 20px;background-color: rgb(135, 206, 235);\"></td><td title=\"Index: [6, 6]&#10;Color: (135, 206, 235)\" style=\"width: 20px; height: 20px;background-color: rgb(135, 206, 235);\"></td><td title=\"Index: [6, 7]&#10;Color: (135, 206, 235)\" style=\"width: 20px; height: 20px;background-color: rgb(135, 206, 235);\"></td></tr><tr><td title=\"Index: [7, 0]&#10;Color: (135, 206, 235)\" style=\"width: 20px; height: 20px;background-color: rgb(135, 206, 235);\"></td><td title=\"Index: [7, 1]&#10;Color: (135, 206, 235)\" style=\"width: 20px; height: 20px;background-color: rgb(135, 206, 235);\"></td><td title=\"Index: [7, 2]&#10;Color: (135, 206, 235)\" style=\"width: 20px; height: 20px;background-color: rgb(135, 206, 235);\"></td><td title=\"Index: [7, 3]&#10;Color: (135, 206, 235)\" style=\"width: 20px; height: 20px;background-color: rgb(135, 206, 235);\"></td><td title=\"Index: [7, 4]&#10;Color: (135, 206, 235)\" style=\"width: 20px; height: 20px;background-color: rgb(135, 206, 235);\"></td><td title=\"Index: [7, 5]&#10;Color: (135, 206, 235)\" style=\"width: 20px; height: 20px;background-color: rgb(135, 206, 235);\"></td><td title=\"Index: [7, 6]&#10;Color: (135, 206, 235)\" style=\"width: 20px; height: 20px;background-color: rgb(135, 206, 235);\"></td><td title=\"Index: [7, 7]&#10;Color: (135, 206, 235)\" style=\"width: 20px; height: 20px;background-color: rgb(135, 206, 235);\"></td></tr></tbody></table>"
       ],
       "metadata": {},
       "output_type": "display_data",
       "text": [
        "<IPython.core.display.HTML at 0x2a78c10>"
       ]
      },
      {
       "output_type": "stream",
       "stream": "stdout",
       "text": [
        "None\n"
       ]
      },
      {
       "name": "stdout",
       "output_type": "stream",
       "stream": "stdout",
       "text": [
        "Guess Row:2\n"
       ]
      },
      {
       "name": "stdout",
       "output_type": "stream",
       "stream": "stdout",
       "text": [
        "Guess Col:2\n"
       ]
      },
      {
       "output_type": "stream",
       "stream": "stdout",
       "text": [
        "Turn 2\n",
        "You missed my battleship!\n"
       ]
      },
      {
       "html": [
        "<style type=\"text/css\">table.blockgrid {border: none;} .blockgrid tr {border: none;} .blockgrid td {padding: 0px;} #blocks74bba8a2-dcfb-455e-999c-9d286ec9aaac td {border: 1px solid white;}</style><table id=\"blocks74bba8a2-dcfb-455e-999c-9d286ec9aaac\" class=\"blockgrid\"><tbody><tr><td title=\"Index: [0, 0]&#10;Color: (0, 0, 0)\" style=\"width: 20px; height: 20px;background-color: rgb(0, 0, 0);\"></td><td title=\"Index: [0, 1]&#10;Color: (135, 206, 235)\" style=\"width: 20px; height: 20px;background-color: rgb(135, 206, 235);\"></td><td title=\"Index: [0, 2]&#10;Color: (135, 206, 235)\" style=\"width: 20px; height: 20px;background-color: rgb(135, 206, 235);\"></td><td title=\"Index: [0, 3]&#10;Color: (135, 206, 235)\" style=\"width: 20px; height: 20px;background-color: rgb(135, 206, 235);\"></td><td title=\"Index: [0, 4]&#10;Color: (135, 206, 235)\" style=\"width: 20px; height: 20px;background-color: rgb(135, 206, 235);\"></td><td title=\"Index: [0, 5]&#10;Color: (135, 206, 235)\" style=\"width: 20px; height: 20px;background-color: rgb(135, 206, 235);\"></td><td title=\"Index: [0, 6]&#10;Color: (135, 206, 235)\" style=\"width: 20px; height: 20px;background-color: rgb(135, 206, 235);\"></td><td title=\"Index: [0, 7]&#10;Color: (135, 206, 235)\" style=\"width: 20px; height: 20px;background-color: rgb(135, 206, 235);\"></td></tr><tr><td title=\"Index: [1, 0]&#10;Color: (135, 206, 235)\" style=\"width: 20px; height: 20px;background-color: rgb(135, 206, 235);\"></td><td title=\"Index: [1, 1]&#10;Color: (0, 0, 0)\" style=\"width: 20px; height: 20px;background-color: rgb(0, 0, 0);\"></td><td title=\"Index: [1, 2]&#10;Color: (135, 206, 235)\" style=\"width: 20px; height: 20px;background-color: rgb(135, 206, 235);\"></td><td title=\"Index: [1, 3]&#10;Color: (135, 206, 235)\" style=\"width: 20px; height: 20px;background-color: rgb(135, 206, 235);\"></td><td title=\"Index: [1, 4]&#10;Color: (135, 206, 235)\" style=\"width: 20px; height: 20px;background-color: rgb(135, 206, 235);\"></td><td title=\"Index: [1, 5]&#10;Color: (135, 206, 235)\" style=\"width: 20px; height: 20px;background-color: rgb(135, 206, 235);\"></td><td title=\"Index: [1, 6]&#10;Color: (135, 206, 235)\" style=\"width: 20px; height: 20px;background-color: rgb(135, 206, 235);\"></td><td title=\"Index: [1, 7]&#10;Color: (135, 206, 235)\" style=\"width: 20px; height: 20px;background-color: rgb(135, 206, 235);\"></td></tr><tr><td title=\"Index: [2, 0]&#10;Color: (135, 206, 235)\" style=\"width: 20px; height: 20px;background-color: rgb(135, 206, 235);\"></td><td title=\"Index: [2, 1]&#10;Color: (135, 206, 235)\" style=\"width: 20px; height: 20px;background-color: rgb(135, 206, 235);\"></td><td title=\"Index: [2, 2]&#10;Color: (135, 206, 235)\" style=\"width: 20px; height: 20px;background-color: rgb(135, 206, 235);\"></td><td title=\"Index: [2, 3]&#10;Color: (135, 206, 235)\" style=\"width: 20px; height: 20px;background-color: rgb(135, 206, 235);\"></td><td title=\"Index: [2, 4]&#10;Color: (135, 206, 235)\" style=\"width: 20px; height: 20px;background-color: rgb(135, 206, 235);\"></td><td title=\"Index: [2, 5]&#10;Color: (135, 206, 235)\" style=\"width: 20px; height: 20px;background-color: rgb(135, 206, 235);\"></td><td title=\"Index: [2, 6]&#10;Color: (135, 206, 235)\" style=\"width: 20px; height: 20px;background-color: rgb(135, 206, 235);\"></td><td title=\"Index: [2, 7]&#10;Color: (135, 206, 235)\" style=\"width: 20px; height: 20px;background-color: rgb(135, 206, 235);\"></td></tr><tr><td title=\"Index: [3, 0]&#10;Color: (135, 206, 235)\" style=\"width: 20px; height: 20px;background-color: rgb(135, 206, 235);\"></td><td title=\"Index: [3, 1]&#10;Color: (135, 206, 235)\" style=\"width: 20px; height: 20px;background-color: rgb(135, 206, 235);\"></td><td title=\"Index: [3, 2]&#10;Color: (135, 206, 235)\" style=\"width: 20px; height: 20px;background-color: rgb(135, 206, 235);\"></td><td title=\"Index: [3, 3]&#10;Color: (135, 206, 235)\" style=\"width: 20px; height: 20px;background-color: rgb(135, 206, 235);\"></td><td title=\"Index: [3, 4]&#10;Color: (135, 206, 235)\" style=\"width: 20px; height: 20px;background-color: rgb(135, 206, 235);\"></td><td title=\"Index: [3, 5]&#10;Color: (135, 206, 235)\" style=\"width: 20px; height: 20px;background-color: rgb(135, 206, 235);\"></td><td title=\"Index: [3, 6]&#10;Color: (135, 206, 235)\" style=\"width: 20px; height: 20px;background-color: rgb(135, 206, 235);\"></td><td title=\"Index: [3, 7]&#10;Color: (135, 206, 235)\" style=\"width: 20px; height: 20px;background-color: rgb(135, 206, 235);\"></td></tr><tr><td title=\"Index: [4, 0]&#10;Color: (135, 206, 235)\" style=\"width: 20px; height: 20px;background-color: rgb(135, 206, 235);\"></td><td title=\"Index: [4, 1]&#10;Color: (135, 206, 235)\" style=\"width: 20px; height: 20px;background-color: rgb(135, 206, 235);\"></td><td title=\"Index: [4, 2]&#10;Color: (135, 206, 235)\" style=\"width: 20px; height: 20px;background-color: rgb(135, 206, 235);\"></td><td title=\"Index: [4, 3]&#10;Color: (135, 206, 235)\" style=\"width: 20px; height: 20px;background-color: rgb(135, 206, 235);\"></td><td title=\"Index: [4, 4]&#10;Color: (135, 206, 235)\" style=\"width: 20px; height: 20px;background-color: rgb(135, 206, 235);\"></td><td title=\"Index: [4, 5]&#10;Color: (135, 206, 235)\" style=\"width: 20px; height: 20px;background-color: rgb(135, 206, 235);\"></td><td title=\"Index: [4, 6]&#10;Color: (135, 206, 235)\" style=\"width: 20px; height: 20px;background-color: rgb(135, 206, 235);\"></td><td title=\"Index: [4, 7]&#10;Color: (135, 206, 235)\" style=\"width: 20px; height: 20px;background-color: rgb(135, 206, 235);\"></td></tr><tr><td title=\"Index: [5, 0]&#10;Color: (135, 206, 235)\" style=\"width: 20px; height: 20px;background-color: rgb(135, 206, 235);\"></td><td title=\"Index: [5, 1]&#10;Color: (135, 206, 235)\" style=\"width: 20px; height: 20px;background-color: rgb(135, 206, 235);\"></td><td title=\"Index: [5, 2]&#10;Color: (135, 206, 235)\" style=\"width: 20px; height: 20px;background-color: rgb(135, 206, 235);\"></td><td title=\"Index: [5, 3]&#10;Color: (135, 206, 235)\" style=\"width: 20px; height: 20px;background-color: rgb(135, 206, 235);\"></td><td title=\"Index: [5, 4]&#10;Color: (135, 206, 235)\" style=\"width: 20px; height: 20px;background-color: rgb(135, 206, 235);\"></td><td title=\"Index: [5, 5]&#10;Color: (135, 206, 235)\" style=\"width: 20px; height: 20px;background-color: rgb(135, 206, 235);\"></td><td title=\"Index: [5, 6]&#10;Color: (135, 206, 235)\" style=\"width: 20px; height: 20px;background-color: rgb(135, 206, 235);\"></td><td title=\"Index: [5, 7]&#10;Color: (135, 206, 235)\" style=\"width: 20px; height: 20px;background-color: rgb(135, 206, 235);\"></td></tr><tr><td title=\"Index: [6, 0]&#10;Color: (135, 206, 235)\" style=\"width: 20px; height: 20px;background-color: rgb(135, 206, 235);\"></td><td title=\"Index: [6, 1]&#10;Color: (135, 206, 235)\" style=\"width: 20px; height: 20px;background-color: rgb(135, 206, 235);\"></td><td title=\"Index: [6, 2]&#10;Color: (135, 206, 235)\" style=\"width: 20px; height: 20px;background-color: rgb(135, 206, 235);\"></td><td title=\"Index: [6, 3]&#10;Color: (135, 206, 235)\" style=\"width: 20px; height: 20px;background-color: rgb(135, 206, 235);\"></td><td title=\"Index: [6, 4]&#10;Color: (135, 206, 235)\" style=\"width: 20px; height: 20px;background-color: rgb(135, 206, 235);\"></td><td title=\"Index: [6, 5]&#10;Color: (135, 206, 235)\" style=\"width: 20px; height: 20px;background-color: rgb(135, 206, 235);\"></td><td title=\"Index: [6, 6]&#10;Color: (135, 206, 235)\" style=\"width: 20px; height: 20px;background-color: rgb(135, 206, 235);\"></td><td title=\"Index: [6, 7]&#10;Color: (135, 206, 235)\" style=\"width: 20px; height: 20px;background-color: rgb(135, 206, 235);\"></td></tr><tr><td title=\"Index: [7, 0]&#10;Color: (135, 206, 235)\" style=\"width: 20px; height: 20px;background-color: rgb(135, 206, 235);\"></td><td title=\"Index: [7, 1]&#10;Color: (135, 206, 235)\" style=\"width: 20px; height: 20px;background-color: rgb(135, 206, 235);\"></td><td title=\"Index: [7, 2]&#10;Color: (135, 206, 235)\" style=\"width: 20px; height: 20px;background-color: rgb(135, 206, 235);\"></td><td title=\"Index: [7, 3]&#10;Color: (135, 206, 235)\" style=\"width: 20px; height: 20px;background-color: rgb(135, 206, 235);\"></td><td title=\"Index: [7, 4]&#10;Color: (135, 206, 235)\" style=\"width: 20px; height: 20px;background-color: rgb(135, 206, 235);\"></td><td title=\"Index: [7, 5]&#10;Color: (135, 206, 235)\" style=\"width: 20px; height: 20px;background-color: rgb(135, 206, 235);\"></td><td title=\"Index: [7, 6]&#10;Color: (135, 206, 235)\" style=\"width: 20px; height: 20px;background-color: rgb(135, 206, 235);\"></td><td title=\"Index: [7, 7]&#10;Color: (135, 206, 235)\" style=\"width: 20px; height: 20px;background-color: rgb(135, 206, 235);\"></td></tr></tbody></table>"
       ],
       "metadata": {},
       "output_type": "display_data",
       "text": [
        "<IPython.core.display.HTML at 0x2a92690>"
       ]
      },
      {
       "output_type": "stream",
       "stream": "stdout",
       "text": [
        "None\n"
       ]
      },
      {
       "name": "stdout",
       "output_type": "stream",
       "stream": "stdout",
       "text": [
        "Guess Row:3\n"
       ]
      },
      {
       "name": "stdout",
       "output_type": "stream",
       "stream": "stdout",
       "text": [
        "Guess Col:3\n"
       ]
      },
      {
       "output_type": "stream",
       "stream": "stdout",
       "text": [
        "Turn 3\n",
        "Congratulations! You hit my battleship!\n"
       ]
      },
      {
       "name": "stdout",
       "output_type": "stream",
       "stream": "stdout",
       "text": [
        "Guess Row:4\n"
       ]
      },
      {
       "name": "stdout",
       "output_type": "stream",
       "stream": "stdout",
       "text": [
        "Guess Col:4\n"
       ]
      },
      {
       "output_type": "stream",
       "stream": "stdout",
       "text": [
        "Turn 4\n",
        "You missed my battleship!\n"
       ]
      },
      {
       "html": [
        "<style type=\"text/css\">table.blockgrid {border: none;} .blockgrid tr {border: none;} .blockgrid td {padding: 0px;} #blocks7675bf29-cc94-408c-a38b-48632ef28312 td {border: 1px solid white;}</style><table id=\"blocks7675bf29-cc94-408c-a38b-48632ef28312\" class=\"blockgrid\"><tbody><tr><td title=\"Index: [0, 0]&#10;Color: (0, 0, 0)\" style=\"width: 20px; height: 20px;background-color: rgb(0, 0, 0);\"></td><td title=\"Index: [0, 1]&#10;Color: (135, 206, 235)\" style=\"width: 20px; height: 20px;background-color: rgb(135, 206, 235);\"></td><td title=\"Index: [0, 2]&#10;Color: (135, 206, 235)\" style=\"width: 20px; height: 20px;background-color: rgb(135, 206, 235);\"></td><td title=\"Index: [0, 3]&#10;Color: (135, 206, 235)\" style=\"width: 20px; height: 20px;background-color: rgb(135, 206, 235);\"></td><td title=\"Index: [0, 4]&#10;Color: (135, 206, 235)\" style=\"width: 20px; height: 20px;background-color: rgb(135, 206, 235);\"></td><td title=\"Index: [0, 5]&#10;Color: (135, 206, 235)\" style=\"width: 20px; height: 20px;background-color: rgb(135, 206, 235);\"></td><td title=\"Index: [0, 6]&#10;Color: (135, 206, 235)\" style=\"width: 20px; height: 20px;background-color: rgb(135, 206, 235);\"></td><td title=\"Index: [0, 7]&#10;Color: (135, 206, 235)\" style=\"width: 20px; height: 20px;background-color: rgb(135, 206, 235);\"></td></tr><tr><td title=\"Index: [1, 0]&#10;Color: (135, 206, 235)\" style=\"width: 20px; height: 20px;background-color: rgb(135, 206, 235);\"></td><td title=\"Index: [1, 1]&#10;Color: (0, 0, 0)\" style=\"width: 20px; height: 20px;background-color: rgb(0, 0, 0);\"></td><td title=\"Index: [1, 2]&#10;Color: (135, 206, 235)\" style=\"width: 20px; height: 20px;background-color: rgb(135, 206, 235);\"></td><td title=\"Index: [1, 3]&#10;Color: (135, 206, 235)\" style=\"width: 20px; height: 20px;background-color: rgb(135, 206, 235);\"></td><td title=\"Index: [1, 4]&#10;Color: (135, 206, 235)\" style=\"width: 20px; height: 20px;background-color: rgb(135, 206, 235);\"></td><td title=\"Index: [1, 5]&#10;Color: (135, 206, 235)\" style=\"width: 20px; height: 20px;background-color: rgb(135, 206, 235);\"></td><td title=\"Index: [1, 6]&#10;Color: (135, 206, 235)\" style=\"width: 20px; height: 20px;background-color: rgb(135, 206, 235);\"></td><td title=\"Index: [1, 7]&#10;Color: (135, 206, 235)\" style=\"width: 20px; height: 20px;background-color: rgb(135, 206, 235);\"></td></tr><tr><td title=\"Index: [2, 0]&#10;Color: (135, 206, 235)\" style=\"width: 20px; height: 20px;background-color: rgb(135, 206, 235);\"></td><td title=\"Index: [2, 1]&#10;Color: (135, 206, 235)\" style=\"width: 20px; height: 20px;background-color: rgb(135, 206, 235);\"></td><td title=\"Index: [2, 2]&#10;Color: (255, 0, 0)\" style=\"width: 20px; height: 20px;background-color: rgb(255, 0, 0);\"></td><td title=\"Index: [2, 3]&#10;Color: (135, 206, 235)\" style=\"width: 20px; height: 20px;background-color: rgb(135, 206, 235);\"></td><td title=\"Index: [2, 4]&#10;Color: (135, 206, 235)\" style=\"width: 20px; height: 20px;background-color: rgb(135, 206, 235);\"></td><td title=\"Index: [2, 5]&#10;Color: (135, 206, 235)\" style=\"width: 20px; height: 20px;background-color: rgb(135, 206, 235);\"></td><td title=\"Index: [2, 6]&#10;Color: (135, 206, 235)\" style=\"width: 20px; height: 20px;background-color: rgb(135, 206, 235);\"></td><td title=\"Index: [2, 7]&#10;Color: (135, 206, 235)\" style=\"width: 20px; height: 20px;background-color: rgb(135, 206, 235);\"></td></tr><tr><td title=\"Index: [3, 0]&#10;Color: (135, 206, 235)\" style=\"width: 20px; height: 20px;background-color: rgb(135, 206, 235);\"></td><td title=\"Index: [3, 1]&#10;Color: (135, 206, 235)\" style=\"width: 20px; height: 20px;background-color: rgb(135, 206, 235);\"></td><td title=\"Index: [3, 2]&#10;Color: (135, 206, 235)\" style=\"width: 20px; height: 20px;background-color: rgb(135, 206, 235);\"></td><td title=\"Index: [3, 3]&#10;Color: (0, 0, 0)\" style=\"width: 20px; height: 20px;background-color: rgb(0, 0, 0);\"></td><td title=\"Index: [3, 4]&#10;Color: (135, 206, 235)\" style=\"width: 20px; height: 20px;background-color: rgb(135, 206, 235);\"></td><td title=\"Index: [3, 5]&#10;Color: (135, 206, 235)\" style=\"width: 20px; height: 20px;background-color: rgb(135, 206, 235);\"></td><td title=\"Index: [3, 6]&#10;Color: (135, 206, 235)\" style=\"width: 20px; height: 20px;background-color: rgb(135, 206, 235);\"></td><td title=\"Index: [3, 7]&#10;Color: (135, 206, 235)\" style=\"width: 20px; height: 20px;background-color: rgb(135, 206, 235);\"></td></tr><tr><td title=\"Index: [4, 0]&#10;Color: (135, 206, 235)\" style=\"width: 20px; height: 20px;background-color: rgb(135, 206, 235);\"></td><td title=\"Index: [4, 1]&#10;Color: (135, 206, 235)\" style=\"width: 20px; height: 20px;background-color: rgb(135, 206, 235);\"></td><td title=\"Index: [4, 2]&#10;Color: (135, 206, 235)\" style=\"width: 20px; height: 20px;background-color: rgb(135, 206, 235);\"></td><td title=\"Index: [4, 3]&#10;Color: (135, 206, 235)\" style=\"width: 20px; height: 20px;background-color: rgb(135, 206, 235);\"></td><td title=\"Index: [4, 4]&#10;Color: (135, 206, 235)\" style=\"width: 20px; height: 20px;background-color: rgb(135, 206, 235);\"></td><td title=\"Index: [4, 5]&#10;Color: (135, 206, 235)\" style=\"width: 20px; height: 20px;background-color: rgb(135, 206, 235);\"></td><td title=\"Index: [4, 6]&#10;Color: (135, 206, 235)\" style=\"width: 20px; height: 20px;background-color: rgb(135, 206, 235);\"></td><td title=\"Index: [4, 7]&#10;Color: (135, 206, 235)\" style=\"width: 20px; height: 20px;background-color: rgb(135, 206, 235);\"></td></tr><tr><td title=\"Index: [5, 0]&#10;Color: (135, 206, 235)\" style=\"width: 20px; height: 20px;background-color: rgb(135, 206, 235);\"></td><td title=\"Index: [5, 1]&#10;Color: (135, 206, 235)\" style=\"width: 20px; height: 20px;background-color: rgb(135, 206, 235);\"></td><td title=\"Index: [5, 2]&#10;Color: (135, 206, 235)\" style=\"width: 20px; height: 20px;background-color: rgb(135, 206, 235);\"></td><td title=\"Index: [5, 3]&#10;Color: (135, 206, 235)\" style=\"width: 20px; height: 20px;background-color: rgb(135, 206, 235);\"></td><td title=\"Index: [5, 4]&#10;Color: (135, 206, 235)\" style=\"width: 20px; height: 20px;background-color: rgb(135, 206, 235);\"></td><td title=\"Index: [5, 5]&#10;Color: (135, 206, 235)\" style=\"width: 20px; height: 20px;background-color: rgb(135, 206, 235);\"></td><td title=\"Index: [5, 6]&#10;Color: (135, 206, 235)\" style=\"width: 20px; height: 20px;background-color: rgb(135, 206, 235);\"></td><td title=\"Index: [5, 7]&#10;Color: (135, 206, 235)\" style=\"width: 20px; height: 20px;background-color: rgb(135, 206, 235);\"></td></tr><tr><td title=\"Index: [6, 0]&#10;Color: (135, 206, 235)\" style=\"width: 20px; height: 20px;background-color: rgb(135, 206, 235);\"></td><td title=\"Index: [6, 1]&#10;Color: (135, 206, 235)\" style=\"width: 20px; height: 20px;background-color: rgb(135, 206, 235);\"></td><td title=\"Index: [6, 2]&#10;Color: (135, 206, 235)\" style=\"width: 20px; height: 20px;background-color: rgb(135, 206, 235);\"></td><td title=\"Index: [6, 3]&#10;Color: (135, 206, 235)\" style=\"width: 20px; height: 20px;background-color: rgb(135, 206, 235);\"></td><td title=\"Index: [6, 4]&#10;Color: (135, 206, 235)\" style=\"width: 20px; height: 20px;background-color: rgb(135, 206, 235);\"></td><td title=\"Index: [6, 5]&#10;Color: (135, 206, 235)\" style=\"width: 20px; height: 20px;background-color: rgb(135, 206, 235);\"></td><td title=\"Index: [6, 6]&#10;Color: (135, 206, 235)\" style=\"width: 20px; height: 20px;background-color: rgb(135, 206, 235);\"></td><td title=\"Index: [6, 7]&#10;Color: (135, 206, 235)\" style=\"width: 20px; height: 20px;background-color: rgb(135, 206, 235);\"></td></tr><tr><td title=\"Index: [7, 0]&#10;Color: (135, 206, 235)\" style=\"width: 20px; height: 20px;background-color: rgb(135, 206, 235);\"></td><td title=\"Index: [7, 1]&#10;Color: (135, 206, 235)\" style=\"width: 20px; height: 20px;background-color: rgb(135, 206, 235);\"></td><td title=\"Index: [7, 2]&#10;Color: (135, 206, 235)\" style=\"width: 20px; height: 20px;background-color: rgb(135, 206, 235);\"></td><td title=\"Index: [7, 3]&#10;Color: (135, 206, 235)\" style=\"width: 20px; height: 20px;background-color: rgb(135, 206, 235);\"></td><td title=\"Index: [7, 4]&#10;Color: (135, 206, 235)\" style=\"width: 20px; height: 20px;background-color: rgb(135, 206, 235);\"></td><td title=\"Index: [7, 5]&#10;Color: (135, 206, 235)\" style=\"width: 20px; height: 20px;background-color: rgb(135, 206, 235);\"></td><td title=\"Index: [7, 6]&#10;Color: (135, 206, 235)\" style=\"width: 20px; height: 20px;background-color: rgb(135, 206, 235);\"></td><td title=\"Index: [7, 7]&#10;Color: (135, 206, 235)\" style=\"width: 20px; height: 20px;background-color: rgb(135, 206, 235);\"></td></tr></tbody></table>"
       ],
       "metadata": {},
       "output_type": "display_data",
       "text": [
        "<IPython.core.display.HTML at 0x2a92650>"
       ]
      },
      {
       "output_type": "stream",
       "stream": "stdout",
       "text": [
        "None\n"
       ]
      },
      {
       "name": "stdout",
       "output_type": "stream",
       "stream": "stdout",
       "text": [
        "Guess Row:3\n"
       ]
      },
      {
       "name": "stdout",
       "output_type": "stream",
       "stream": "stdout",
       "text": [
        "Guess Col:4\n"
       ]
      },
      {
       "output_type": "stream",
       "stream": "stdout",
       "text": [
        "Turn 5\n",
        "You missed my battleship!\n"
       ]
      },
      {
       "html": [
        "<style type=\"text/css\">table.blockgrid {border: none;} .blockgrid tr {border: none;} .blockgrid td {padding: 0px;} #blocks37a75e01-a72e-4d35-841a-47094335cf79 td {border: 1px solid white;}</style><table id=\"blocks37a75e01-a72e-4d35-841a-47094335cf79\" class=\"blockgrid\"><tbody><tr><td title=\"Index: [0, 0]&#10;Color: (0, 0, 0)\" style=\"width: 20px; height: 20px;background-color: rgb(0, 0, 0);\"></td><td title=\"Index: [0, 1]&#10;Color: (135, 206, 235)\" style=\"width: 20px; height: 20px;background-color: rgb(135, 206, 235);\"></td><td title=\"Index: [0, 2]&#10;Color: (135, 206, 235)\" style=\"width: 20px; height: 20px;background-color: rgb(135, 206, 235);\"></td><td title=\"Index: [0, 3]&#10;Color: (135, 206, 235)\" style=\"width: 20px; height: 20px;background-color: rgb(135, 206, 235);\"></td><td title=\"Index: [0, 4]&#10;Color: (135, 206, 235)\" style=\"width: 20px; height: 20px;background-color: rgb(135, 206, 235);\"></td><td title=\"Index: [0, 5]&#10;Color: (135, 206, 235)\" style=\"width: 20px; height: 20px;background-color: rgb(135, 206, 235);\"></td><td title=\"Index: [0, 6]&#10;Color: (135, 206, 235)\" style=\"width: 20px; height: 20px;background-color: rgb(135, 206, 235);\"></td><td title=\"Index: [0, 7]&#10;Color: (135, 206, 235)\" style=\"width: 20px; height: 20px;background-color: rgb(135, 206, 235);\"></td></tr><tr><td title=\"Index: [1, 0]&#10;Color: (135, 206, 235)\" style=\"width: 20px; height: 20px;background-color: rgb(135, 206, 235);\"></td><td title=\"Index: [1, 1]&#10;Color: (0, 0, 0)\" style=\"width: 20px; height: 20px;background-color: rgb(0, 0, 0);\"></td><td title=\"Index: [1, 2]&#10;Color: (135, 206, 235)\" style=\"width: 20px; height: 20px;background-color: rgb(135, 206, 235);\"></td><td title=\"Index: [1, 3]&#10;Color: (135, 206, 235)\" style=\"width: 20px; height: 20px;background-color: rgb(135, 206, 235);\"></td><td title=\"Index: [1, 4]&#10;Color: (135, 206, 235)\" style=\"width: 20px; height: 20px;background-color: rgb(135, 206, 235);\"></td><td title=\"Index: [1, 5]&#10;Color: (135, 206, 235)\" style=\"width: 20px; height: 20px;background-color: rgb(135, 206, 235);\"></td><td title=\"Index: [1, 6]&#10;Color: (135, 206, 235)\" style=\"width: 20px; height: 20px;background-color: rgb(135, 206, 235);\"></td><td title=\"Index: [1, 7]&#10;Color: (135, 206, 235)\" style=\"width: 20px; height: 20px;background-color: rgb(135, 206, 235);\"></td></tr><tr><td title=\"Index: [2, 0]&#10;Color: (135, 206, 235)\" style=\"width: 20px; height: 20px;background-color: rgb(135, 206, 235);\"></td><td title=\"Index: [2, 1]&#10;Color: (135, 206, 235)\" style=\"width: 20px; height: 20px;background-color: rgb(135, 206, 235);\"></td><td title=\"Index: [2, 2]&#10;Color: (255, 0, 0)\" style=\"width: 20px; height: 20px;background-color: rgb(255, 0, 0);\"></td><td title=\"Index: [2, 3]&#10;Color: (0, 0, 0)\" style=\"width: 20px; height: 20px;background-color: rgb(0, 0, 0);\"></td><td title=\"Index: [2, 4]&#10;Color: (135, 206, 235)\" style=\"width: 20px; height: 20px;background-color: rgb(135, 206, 235);\"></td><td title=\"Index: [2, 5]&#10;Color: (135, 206, 235)\" style=\"width: 20px; height: 20px;background-color: rgb(135, 206, 235);\"></td><td title=\"Index: [2, 6]&#10;Color: (135, 206, 235)\" style=\"width: 20px; height: 20px;background-color: rgb(135, 206, 235);\"></td><td title=\"Index: [2, 7]&#10;Color: (135, 206, 235)\" style=\"width: 20px; height: 20px;background-color: rgb(135, 206, 235);\"></td></tr><tr><td title=\"Index: [3, 0]&#10;Color: (135, 206, 235)\" style=\"width: 20px; height: 20px;background-color: rgb(135, 206, 235);\"></td><td title=\"Index: [3, 1]&#10;Color: (135, 206, 235)\" style=\"width: 20px; height: 20px;background-color: rgb(135, 206, 235);\"></td><td title=\"Index: [3, 2]&#10;Color: (135, 206, 235)\" style=\"width: 20px; height: 20px;background-color: rgb(135, 206, 235);\"></td><td title=\"Index: [3, 3]&#10;Color: (0, 0, 0)\" style=\"width: 20px; height: 20px;background-color: rgb(0, 0, 0);\"></td><td title=\"Index: [3, 4]&#10;Color: (135, 206, 235)\" style=\"width: 20px; height: 20px;background-color: rgb(135, 206, 235);\"></td><td title=\"Index: [3, 5]&#10;Color: (135, 206, 235)\" style=\"width: 20px; height: 20px;background-color: rgb(135, 206, 235);\"></td><td title=\"Index: [3, 6]&#10;Color: (135, 206, 235)\" style=\"width: 20px; height: 20px;background-color: rgb(135, 206, 235);\"></td><td title=\"Index: [3, 7]&#10;Color: (135, 206, 235)\" style=\"width: 20px; height: 20px;background-color: rgb(135, 206, 235);\"></td></tr><tr><td title=\"Index: [4, 0]&#10;Color: (135, 206, 235)\" style=\"width: 20px; height: 20px;background-color: rgb(135, 206, 235);\"></td><td title=\"Index: [4, 1]&#10;Color: (135, 206, 235)\" style=\"width: 20px; height: 20px;background-color: rgb(135, 206, 235);\"></td><td title=\"Index: [4, 2]&#10;Color: (135, 206, 235)\" style=\"width: 20px; height: 20px;background-color: rgb(135, 206, 235);\"></td><td title=\"Index: [4, 3]&#10;Color: (135, 206, 235)\" style=\"width: 20px; height: 20px;background-color: rgb(135, 206, 235);\"></td><td title=\"Index: [4, 4]&#10;Color: (135, 206, 235)\" style=\"width: 20px; height: 20px;background-color: rgb(135, 206, 235);\"></td><td title=\"Index: [4, 5]&#10;Color: (135, 206, 235)\" style=\"width: 20px; height: 20px;background-color: rgb(135, 206, 235);\"></td><td title=\"Index: [4, 6]&#10;Color: (135, 206, 235)\" style=\"width: 20px; height: 20px;background-color: rgb(135, 206, 235);\"></td><td title=\"Index: [4, 7]&#10;Color: (135, 206, 235)\" style=\"width: 20px; height: 20px;background-color: rgb(135, 206, 235);\"></td></tr><tr><td title=\"Index: [5, 0]&#10;Color: (135, 206, 235)\" style=\"width: 20px; height: 20px;background-color: rgb(135, 206, 235);\"></td><td title=\"Index: [5, 1]&#10;Color: (135, 206, 235)\" style=\"width: 20px; height: 20px;background-color: rgb(135, 206, 235);\"></td><td title=\"Index: [5, 2]&#10;Color: (135, 206, 235)\" style=\"width: 20px; height: 20px;background-color: rgb(135, 206, 235);\"></td><td title=\"Index: [5, 3]&#10;Color: (135, 206, 235)\" style=\"width: 20px; height: 20px;background-color: rgb(135, 206, 235);\"></td><td title=\"Index: [5, 4]&#10;Color: (135, 206, 235)\" style=\"width: 20px; height: 20px;background-color: rgb(135, 206, 235);\"></td><td title=\"Index: [5, 5]&#10;Color: (135, 206, 235)\" style=\"width: 20px; height: 20px;background-color: rgb(135, 206, 235);\"></td><td title=\"Index: [5, 6]&#10;Color: (135, 206, 235)\" style=\"width: 20px; height: 20px;background-color: rgb(135, 206, 235);\"></td><td title=\"Index: [5, 7]&#10;Color: (135, 206, 235)\" style=\"width: 20px; height: 20px;background-color: rgb(135, 206, 235);\"></td></tr><tr><td title=\"Index: [6, 0]&#10;Color: (135, 206, 235)\" style=\"width: 20px; height: 20px;background-color: rgb(135, 206, 235);\"></td><td title=\"Index: [6, 1]&#10;Color: (135, 206, 235)\" style=\"width: 20px; height: 20px;background-color: rgb(135, 206, 235);\"></td><td title=\"Index: [6, 2]&#10;Color: (135, 206, 235)\" style=\"width: 20px; height: 20px;background-color: rgb(135, 206, 235);\"></td><td title=\"Index: [6, 3]&#10;Color: (135, 206, 235)\" style=\"width: 20px; height: 20px;background-color: rgb(135, 206, 235);\"></td><td title=\"Index: [6, 4]&#10;Color: (135, 206, 235)\" style=\"width: 20px; height: 20px;background-color: rgb(135, 206, 235);\"></td><td title=\"Index: [6, 5]&#10;Color: (135, 206, 235)\" style=\"width: 20px; height: 20px;background-color: rgb(135, 206, 235);\"></td><td title=\"Index: [6, 6]&#10;Color: (135, 206, 235)\" style=\"width: 20px; height: 20px;background-color: rgb(135, 206, 235);\"></td><td title=\"Index: [6, 7]&#10;Color: (135, 206, 235)\" style=\"width: 20px; height: 20px;background-color: rgb(135, 206, 235);\"></td></tr><tr><td title=\"Index: [7, 0]&#10;Color: (135, 206, 235)\" style=\"width: 20px; height: 20px;background-color: rgb(135, 206, 235);\"></td><td title=\"Index: [7, 1]&#10;Color: (135, 206, 235)\" style=\"width: 20px; height: 20px;background-color: rgb(135, 206, 235);\"></td><td title=\"Index: [7, 2]&#10;Color: (135, 206, 235)\" style=\"width: 20px; height: 20px;background-color: rgb(135, 206, 235);\"></td><td title=\"Index: [7, 3]&#10;Color: (135, 206, 235)\" style=\"width: 20px; height: 20px;background-color: rgb(135, 206, 235);\"></td><td title=\"Index: [7, 4]&#10;Color: (135, 206, 235)\" style=\"width: 20px; height: 20px;background-color: rgb(135, 206, 235);\"></td><td title=\"Index: [7, 5]&#10;Color: (135, 206, 235)\" style=\"width: 20px; height: 20px;background-color: rgb(135, 206, 235);\"></td><td title=\"Index: [7, 6]&#10;Color: (135, 206, 235)\" style=\"width: 20px; height: 20px;background-color: rgb(135, 206, 235);\"></td><td title=\"Index: [7, 7]&#10;Color: (135, 206, 235)\" style=\"width: 20px; height: 20px;background-color: rgb(135, 206, 235);\"></td></tr></tbody></table>"
       ],
       "metadata": {},
       "output_type": "display_data",
       "text": [
        "<IPython.core.display.HTML at 0x2a927d0>"
       ]
      },
      {
       "output_type": "stream",
       "stream": "stdout",
       "text": [
        "None\n"
       ]
      },
      {
       "name": "stdout",
       "output_type": "stream",
       "stream": "stdout",
       "text": [
        "Guess Row:3\n"
       ]
      },
      {
       "name": "stdout",
       "output_type": "stream",
       "stream": "stdout",
       "text": [
        "Guess Col:2\n"
       ]
      },
      {
       "output_type": "stream",
       "stream": "stdout",
       "text": [
        "Turn 6\n",
        "You missed my battleship!\n"
       ]
      },
      {
       "html": [
        "<style type=\"text/css\">table.blockgrid {border: none;} .blockgrid tr {border: none;} .blockgrid td {padding: 0px;} #blocks894f5a88-d0e9-4c63-9bb8-f76f0907bdfb td {border: 1px solid white;}</style><table id=\"blocks894f5a88-d0e9-4c63-9bb8-f76f0907bdfb\" class=\"blockgrid\"><tbody><tr><td title=\"Index: [0, 0]&#10;Color: (0, 0, 0)\" style=\"width: 20px; height: 20px;background-color: rgb(0, 0, 0);\"></td><td title=\"Index: [0, 1]&#10;Color: (135, 206, 235)\" style=\"width: 20px; height: 20px;background-color: rgb(135, 206, 235);\"></td><td title=\"Index: [0, 2]&#10;Color: (135, 206, 235)\" style=\"width: 20px; height: 20px;background-color: rgb(135, 206, 235);\"></td><td title=\"Index: [0, 3]&#10;Color: (135, 206, 235)\" style=\"width: 20px; height: 20px;background-color: rgb(135, 206, 235);\"></td><td title=\"Index: [0, 4]&#10;Color: (135, 206, 235)\" style=\"width: 20px; height: 20px;background-color: rgb(135, 206, 235);\"></td><td title=\"Index: [0, 5]&#10;Color: (135, 206, 235)\" style=\"width: 20px; height: 20px;background-color: rgb(135, 206, 235);\"></td><td title=\"Index: [0, 6]&#10;Color: (135, 206, 235)\" style=\"width: 20px; height: 20px;background-color: rgb(135, 206, 235);\"></td><td title=\"Index: [0, 7]&#10;Color: (135, 206, 235)\" style=\"width: 20px; height: 20px;background-color: rgb(135, 206, 235);\"></td></tr><tr><td title=\"Index: [1, 0]&#10;Color: (135, 206, 235)\" style=\"width: 20px; height: 20px;background-color: rgb(135, 206, 235);\"></td><td title=\"Index: [1, 1]&#10;Color: (0, 0, 0)\" style=\"width: 20px; height: 20px;background-color: rgb(0, 0, 0);\"></td><td title=\"Index: [1, 2]&#10;Color: (135, 206, 235)\" style=\"width: 20px; height: 20px;background-color: rgb(135, 206, 235);\"></td><td title=\"Index: [1, 3]&#10;Color: (135, 206, 235)\" style=\"width: 20px; height: 20px;background-color: rgb(135, 206, 235);\"></td><td title=\"Index: [1, 4]&#10;Color: (135, 206, 235)\" style=\"width: 20px; height: 20px;background-color: rgb(135, 206, 235);\"></td><td title=\"Index: [1, 5]&#10;Color: (135, 206, 235)\" style=\"width: 20px; height: 20px;background-color: rgb(135, 206, 235);\"></td><td title=\"Index: [1, 6]&#10;Color: (135, 206, 235)\" style=\"width: 20px; height: 20px;background-color: rgb(135, 206, 235);\"></td><td title=\"Index: [1, 7]&#10;Color: (135, 206, 235)\" style=\"width: 20px; height: 20px;background-color: rgb(135, 206, 235);\"></td></tr><tr><td title=\"Index: [2, 0]&#10;Color: (135, 206, 235)\" style=\"width: 20px; height: 20px;background-color: rgb(135, 206, 235);\"></td><td title=\"Index: [2, 1]&#10;Color: (0, 0, 0)\" style=\"width: 20px; height: 20px;background-color: rgb(0, 0, 0);\"></td><td title=\"Index: [2, 2]&#10;Color: (255, 0, 0)\" style=\"width: 20px; height: 20px;background-color: rgb(255, 0, 0);\"></td><td title=\"Index: [2, 3]&#10;Color: (0, 0, 0)\" style=\"width: 20px; height: 20px;background-color: rgb(0, 0, 0);\"></td><td title=\"Index: [2, 4]&#10;Color: (135, 206, 235)\" style=\"width: 20px; height: 20px;background-color: rgb(135, 206, 235);\"></td><td title=\"Index: [2, 5]&#10;Color: (135, 206, 235)\" style=\"width: 20px; height: 20px;background-color: rgb(135, 206, 235);\"></td><td title=\"Index: [2, 6]&#10;Color: (135, 206, 235)\" style=\"width: 20px; height: 20px;background-color: rgb(135, 206, 235);\"></td><td title=\"Index: [2, 7]&#10;Color: (135, 206, 235)\" style=\"width: 20px; height: 20px;background-color: rgb(135, 206, 235);\"></td></tr><tr><td title=\"Index: [3, 0]&#10;Color: (135, 206, 235)\" style=\"width: 20px; height: 20px;background-color: rgb(135, 206, 235);\"></td><td title=\"Index: [3, 1]&#10;Color: (135, 206, 235)\" style=\"width: 20px; height: 20px;background-color: rgb(135, 206, 235);\"></td><td title=\"Index: [3, 2]&#10;Color: (135, 206, 235)\" style=\"width: 20px; height: 20px;background-color: rgb(135, 206, 235);\"></td><td title=\"Index: [3, 3]&#10;Color: (0, 0, 0)\" style=\"width: 20px; height: 20px;background-color: rgb(0, 0, 0);\"></td><td title=\"Index: [3, 4]&#10;Color: (135, 206, 235)\" style=\"width: 20px; height: 20px;background-color: rgb(135, 206, 235);\"></td><td title=\"Index: [3, 5]&#10;Color: (135, 206, 235)\" style=\"width: 20px; height: 20px;background-color: rgb(135, 206, 235);\"></td><td title=\"Index: [3, 6]&#10;Color: (135, 206, 235)\" style=\"width: 20px; height: 20px;background-color: rgb(135, 206, 235);\"></td><td title=\"Index: [3, 7]&#10;Color: (135, 206, 235)\" style=\"width: 20px; height: 20px;background-color: rgb(135, 206, 235);\"></td></tr><tr><td title=\"Index: [4, 0]&#10;Color: (135, 206, 235)\" style=\"width: 20px; height: 20px;background-color: rgb(135, 206, 235);\"></td><td title=\"Index: [4, 1]&#10;Color: (135, 206, 235)\" style=\"width: 20px; height: 20px;background-color: rgb(135, 206, 235);\"></td><td title=\"Index: [4, 2]&#10;Color: (135, 206, 235)\" style=\"width: 20px; height: 20px;background-color: rgb(135, 206, 235);\"></td><td title=\"Index: [4, 3]&#10;Color: (135, 206, 235)\" style=\"width: 20px; height: 20px;background-color: rgb(135, 206, 235);\"></td><td title=\"Index: [4, 4]&#10;Color: (135, 206, 235)\" style=\"width: 20px; height: 20px;background-color: rgb(135, 206, 235);\"></td><td title=\"Index: [4, 5]&#10;Color: (135, 206, 235)\" style=\"width: 20px; height: 20px;background-color: rgb(135, 206, 235);\"></td><td title=\"Index: [4, 6]&#10;Color: (135, 206, 235)\" style=\"width: 20px; height: 20px;background-color: rgb(135, 206, 235);\"></td><td title=\"Index: [4, 7]&#10;Color: (135, 206, 235)\" style=\"width: 20px; height: 20px;background-color: rgb(135, 206, 235);\"></td></tr><tr><td title=\"Index: [5, 0]&#10;Color: (135, 206, 235)\" style=\"width: 20px; height: 20px;background-color: rgb(135, 206, 235);\"></td><td title=\"Index: [5, 1]&#10;Color: (135, 206, 235)\" style=\"width: 20px; height: 20px;background-color: rgb(135, 206, 235);\"></td><td title=\"Index: [5, 2]&#10;Color: (135, 206, 235)\" style=\"width: 20px; height: 20px;background-color: rgb(135, 206, 235);\"></td><td title=\"Index: [5, 3]&#10;Color: (135, 206, 235)\" style=\"width: 20px; height: 20px;background-color: rgb(135, 206, 235);\"></td><td title=\"Index: [5, 4]&#10;Color: (135, 206, 235)\" style=\"width: 20px; height: 20px;background-color: rgb(135, 206, 235);\"></td><td title=\"Index: [5, 5]&#10;Color: (135, 206, 235)\" style=\"width: 20px; height: 20px;background-color: rgb(135, 206, 235);\"></td><td title=\"Index: [5, 6]&#10;Color: (135, 206, 235)\" style=\"width: 20px; height: 20px;background-color: rgb(135, 206, 235);\"></td><td title=\"Index: [5, 7]&#10;Color: (135, 206, 235)\" style=\"width: 20px; height: 20px;background-color: rgb(135, 206, 235);\"></td></tr><tr><td title=\"Index: [6, 0]&#10;Color: (135, 206, 235)\" style=\"width: 20px; height: 20px;background-color: rgb(135, 206, 235);\"></td><td title=\"Index: [6, 1]&#10;Color: (135, 206, 235)\" style=\"width: 20px; height: 20px;background-color: rgb(135, 206, 235);\"></td><td title=\"Index: [6, 2]&#10;Color: (135, 206, 235)\" style=\"width: 20px; height: 20px;background-color: rgb(135, 206, 235);\"></td><td title=\"Index: [6, 3]&#10;Color: (135, 206, 235)\" style=\"width: 20px; height: 20px;background-color: rgb(135, 206, 235);\"></td><td title=\"Index: [6, 4]&#10;Color: (135, 206, 235)\" style=\"width: 20px; height: 20px;background-color: rgb(135, 206, 235);\"></td><td title=\"Index: [6, 5]&#10;Color: (135, 206, 235)\" style=\"width: 20px; height: 20px;background-color: rgb(135, 206, 235);\"></td><td title=\"Index: [6, 6]&#10;Color: (135, 206, 235)\" style=\"width: 20px; height: 20px;background-color: rgb(135, 206, 235);\"></td><td title=\"Index: [6, 7]&#10;Color: (135, 206, 235)\" style=\"width: 20px; height: 20px;background-color: rgb(135, 206, 235);\"></td></tr><tr><td title=\"Index: [7, 0]&#10;Color: (135, 206, 235)\" style=\"width: 20px; height: 20px;background-color: rgb(135, 206, 235);\"></td><td title=\"Index: [7, 1]&#10;Color: (135, 206, 235)\" style=\"width: 20px; height: 20px;background-color: rgb(135, 206, 235);\"></td><td title=\"Index: [7, 2]&#10;Color: (135, 206, 235)\" style=\"width: 20px; height: 20px;background-color: rgb(135, 206, 235);\"></td><td title=\"Index: [7, 3]&#10;Color: (135, 206, 235)\" style=\"width: 20px; height: 20px;background-color: rgb(135, 206, 235);\"></td><td title=\"Index: [7, 4]&#10;Color: (135, 206, 235)\" style=\"width: 20px; height: 20px;background-color: rgb(135, 206, 235);\"></td><td title=\"Index: [7, 5]&#10;Color: (135, 206, 235)\" style=\"width: 20px; height: 20px;background-color: rgb(135, 206, 235);\"></td><td title=\"Index: [7, 6]&#10;Color: (135, 206, 235)\" style=\"width: 20px; height: 20px;background-color: rgb(135, 206, 235);\"></td><td title=\"Index: [7, 7]&#10;Color: (135, 206, 235)\" style=\"width: 20px; height: 20px;background-color: rgb(135, 206, 235);\"></td></tr></tbody></table>"
       ],
       "metadata": {},
       "output_type": "display_data",
       "text": [
        "<IPython.core.display.HTML at 0x2a92810>"
       ]
      },
      {
       "output_type": "stream",
       "stream": "stdout",
       "text": [
        "None\n"
       ]
      },
      {
       "name": "stdout",
       "output_type": "stream",
       "stream": "stdout",
       "text": [
        "Guess Row:2\n"
       ]
      },
      {
       "name": "stdout",
       "output_type": "stream",
       "stream": "stdout",
       "text": [
        "Guess Col:3\n"
       ]
      },
      {
       "output_type": "stream",
       "stream": "stdout",
       "text": [
        "Turn 7\n"
       ]
      },
      {
       "html": [
        "<style type=\"text/css\">table.blockgrid {border: none;} .blockgrid tr {border: none;} .blockgrid td {padding: 0px;} #blocks83686782-d50c-4218-8c55-2dbe1e967791 td {border: 1px solid white;}</style><table id=\"blocks83686782-d50c-4218-8c55-2dbe1e967791\" class=\"blockgrid\"><tbody><tr><td title=\"Index: [0, 0]&#10;Color: (0, 0, 0)\" style=\"width: 20px; height: 20px;background-color: rgb(0, 0, 0);\"></td><td title=\"Index: [0, 1]&#10;Color: (135, 206, 235)\" style=\"width: 20px; height: 20px;background-color: rgb(135, 206, 235);\"></td><td title=\"Index: [0, 2]&#10;Color: (135, 206, 235)\" style=\"width: 20px; height: 20px;background-color: rgb(135, 206, 235);\"></td><td title=\"Index: [0, 3]&#10;Color: (135, 206, 235)\" style=\"width: 20px; height: 20px;background-color: rgb(135, 206, 235);\"></td><td title=\"Index: [0, 4]&#10;Color: (135, 206, 235)\" style=\"width: 20px; height: 20px;background-color: rgb(135, 206, 235);\"></td><td title=\"Index: [0, 5]&#10;Color: (135, 206, 235)\" style=\"width: 20px; height: 20px;background-color: rgb(135, 206, 235);\"></td><td title=\"Index: [0, 6]&#10;Color: (135, 206, 235)\" style=\"width: 20px; height: 20px;background-color: rgb(135, 206, 235);\"></td><td title=\"Index: [0, 7]&#10;Color: (135, 206, 235)\" style=\"width: 20px; height: 20px;background-color: rgb(135, 206, 235);\"></td></tr><tr><td title=\"Index: [1, 0]&#10;Color: (135, 206, 235)\" style=\"width: 20px; height: 20px;background-color: rgb(135, 206, 235);\"></td><td title=\"Index: [1, 1]&#10;Color: (0, 0, 0)\" style=\"width: 20px; height: 20px;background-color: rgb(0, 0, 0);\"></td><td title=\"Index: [1, 2]&#10;Color: (0, 0, 0)\" style=\"width: 20px; height: 20px;background-color: rgb(0, 0, 0);\"></td><td title=\"Index: [1, 3]&#10;Color: (135, 206, 235)\" style=\"width: 20px; height: 20px;background-color: rgb(135, 206, 235);\"></td><td title=\"Index: [1, 4]&#10;Color: (135, 206, 235)\" style=\"width: 20px; height: 20px;background-color: rgb(135, 206, 235);\"></td><td title=\"Index: [1, 5]&#10;Color: (135, 206, 235)\" style=\"width: 20px; height: 20px;background-color: rgb(135, 206, 235);\"></td><td title=\"Index: [1, 6]&#10;Color: (135, 206, 235)\" style=\"width: 20px; height: 20px;background-color: rgb(135, 206, 235);\"></td><td title=\"Index: [1, 7]&#10;Color: (135, 206, 235)\" style=\"width: 20px; height: 20px;background-color: rgb(135, 206, 235);\"></td></tr><tr><td title=\"Index: [2, 0]&#10;Color: (135, 206, 235)\" style=\"width: 20px; height: 20px;background-color: rgb(135, 206, 235);\"></td><td title=\"Index: [2, 1]&#10;Color: (0, 0, 0)\" style=\"width: 20px; height: 20px;background-color: rgb(0, 0, 0);\"></td><td title=\"Index: [2, 2]&#10;Color: (250, 250, 3)\" style=\"width: 20px; height: 20px;background-color: rgb(250, 250, 3);\"></td><td title=\"Index: [2, 3]&#10;Color: (0, 0, 0)\" style=\"width: 20px; height: 20px;background-color: rgb(0, 0, 0);\"></td><td title=\"Index: [2, 4]&#10;Color: (135, 206, 235)\" style=\"width: 20px; height: 20px;background-color: rgb(135, 206, 235);\"></td><td title=\"Index: [2, 5]&#10;Color: (135, 206, 235)\" style=\"width: 20px; height: 20px;background-color: rgb(135, 206, 235);\"></td><td title=\"Index: [2, 6]&#10;Color: (135, 206, 235)\" style=\"width: 20px; height: 20px;background-color: rgb(135, 206, 235);\"></td><td title=\"Index: [2, 7]&#10;Color: (135, 206, 235)\" style=\"width: 20px; height: 20px;background-color: rgb(135, 206, 235);\"></td></tr><tr><td title=\"Index: [3, 0]&#10;Color: (135, 206, 235)\" style=\"width: 20px; height: 20px;background-color: rgb(135, 206, 235);\"></td><td title=\"Index: [3, 1]&#10;Color: (135, 206, 235)\" style=\"width: 20px; height: 20px;background-color: rgb(135, 206, 235);\"></td><td title=\"Index: [3, 2]&#10;Color: (250, 250, 3)\" style=\"width: 20px; height: 20px;background-color: rgb(250, 250, 3);\"></td><td title=\"Index: [3, 3]&#10;Color: (0, 0, 0)\" style=\"width: 20px; height: 20px;background-color: rgb(0, 0, 0);\"></td><td title=\"Index: [3, 4]&#10;Color: (135, 206, 235)\" style=\"width: 20px; height: 20px;background-color: rgb(135, 206, 235);\"></td><td title=\"Index: [3, 5]&#10;Color: (135, 206, 235)\" style=\"width: 20px; height: 20px;background-color: rgb(135, 206, 235);\"></td><td title=\"Index: [3, 6]&#10;Color: (135, 206, 235)\" style=\"width: 20px; height: 20px;background-color: rgb(135, 206, 235);\"></td><td title=\"Index: [3, 7]&#10;Color: (135, 206, 235)\" style=\"width: 20px; height: 20px;background-color: rgb(135, 206, 235);\"></td></tr><tr><td title=\"Index: [4, 0]&#10;Color: (135, 206, 235)\" style=\"width: 20px; height: 20px;background-color: rgb(135, 206, 235);\"></td><td title=\"Index: [4, 1]&#10;Color: (135, 206, 235)\" style=\"width: 20px; height: 20px;background-color: rgb(135, 206, 235);\"></td><td title=\"Index: [4, 2]&#10;Color: (135, 206, 235)\" style=\"width: 20px; height: 20px;background-color: rgb(135, 206, 235);\"></td><td title=\"Index: [4, 3]&#10;Color: (135, 206, 235)\" style=\"width: 20px; height: 20px;background-color: rgb(135, 206, 235);\"></td><td title=\"Index: [4, 4]&#10;Color: (135, 206, 235)\" style=\"width: 20px; height: 20px;background-color: rgb(135, 206, 235);\"></td><td title=\"Index: [4, 5]&#10;Color: (135, 206, 235)\" style=\"width: 20px; height: 20px;background-color: rgb(135, 206, 235);\"></td><td title=\"Index: [4, 6]&#10;Color: (135, 206, 235)\" style=\"width: 20px; height: 20px;background-color: rgb(135, 206, 235);\"></td><td title=\"Index: [4, 7]&#10;Color: (135, 206, 235)\" style=\"width: 20px; height: 20px;background-color: rgb(135, 206, 235);\"></td></tr><tr><td title=\"Index: [5, 0]&#10;Color: (135, 206, 235)\" style=\"width: 20px; height: 20px;background-color: rgb(135, 206, 235);\"></td><td title=\"Index: [5, 1]&#10;Color: (135, 206, 235)\" style=\"width: 20px; height: 20px;background-color: rgb(135, 206, 235);\"></td><td title=\"Index: [5, 2]&#10;Color: (135, 206, 235)\" style=\"width: 20px; height: 20px;background-color: rgb(135, 206, 235);\"></td><td title=\"Index: [5, 3]&#10;Color: (135, 206, 235)\" style=\"width: 20px; height: 20px;background-color: rgb(135, 206, 235);\"></td><td title=\"Index: [5, 4]&#10;Color: (135, 206, 235)\" style=\"width: 20px; height: 20px;background-color: rgb(135, 206, 235);\"></td><td title=\"Index: [5, 5]&#10;Color: (135, 206, 235)\" style=\"width: 20px; height: 20px;background-color: rgb(135, 206, 235);\"></td><td title=\"Index: [5, 6]&#10;Color: (135, 206, 235)\" style=\"width: 20px; height: 20px;background-color: rgb(135, 206, 235);\"></td><td title=\"Index: [5, 7]&#10;Color: (135, 206, 235)\" style=\"width: 20px; height: 20px;background-color: rgb(135, 206, 235);\"></td></tr><tr><td title=\"Index: [6, 0]&#10;Color: (135, 206, 235)\" style=\"width: 20px; height: 20px;background-color: rgb(135, 206, 235);\"></td><td title=\"Index: [6, 1]&#10;Color: (135, 206, 235)\" style=\"width: 20px; height: 20px;background-color: rgb(135, 206, 235);\"></td><td title=\"Index: [6, 2]&#10;Color: (135, 206, 235)\" style=\"width: 20px; height: 20px;background-color: rgb(135, 206, 235);\"></td><td title=\"Index: [6, 3]&#10;Color: (135, 206, 235)\" style=\"width: 20px; height: 20px;background-color: rgb(135, 206, 235);\"></td><td title=\"Index: [6, 4]&#10;Color: (135, 206, 235)\" style=\"width: 20px; height: 20px;background-color: rgb(135, 206, 235);\"></td><td title=\"Index: [6, 5]&#10;Color: (135, 206, 235)\" style=\"width: 20px; height: 20px;background-color: rgb(135, 206, 235);\"></td><td title=\"Index: [6, 6]&#10;Color: (135, 206, 235)\" style=\"width: 20px; height: 20px;background-color: rgb(135, 206, 235);\"></td><td title=\"Index: [6, 7]&#10;Color: (135, 206, 235)\" style=\"width: 20px; height: 20px;background-color: rgb(135, 206, 235);\"></td></tr><tr><td title=\"Index: [7, 0]&#10;Color: (135, 206, 235)\" style=\"width: 20px; height: 20px;background-color: rgb(135, 206, 235);\"></td><td title=\"Index: [7, 1]&#10;Color: (135, 206, 235)\" style=\"width: 20px; height: 20px;background-color: rgb(135, 206, 235);\"></td><td title=\"Index: [7, 2]&#10;Color: (135, 206, 235)\" style=\"width: 20px; height: 20px;background-color: rgb(135, 206, 235);\"></td><td title=\"Index: [7, 3]&#10;Color: (135, 206, 235)\" style=\"width: 20px; height: 20px;background-color: rgb(135, 206, 235);\"></td><td title=\"Index: [7, 4]&#10;Color: (135, 206, 235)\" style=\"width: 20px; height: 20px;background-color: rgb(135, 206, 235);\"></td><td title=\"Index: [7, 5]&#10;Color: (135, 206, 235)\" style=\"width: 20px; height: 20px;background-color: rgb(135, 206, 235);\"></td><td title=\"Index: [7, 6]&#10;Color: (135, 206, 235)\" style=\"width: 20px; height: 20px;background-color: rgb(135, 206, 235);\"></td><td title=\"Index: [7, 7]&#10;Color: (135, 206, 235)\" style=\"width: 20px; height: 20px;background-color: rgb(135, 206, 235);\"></td></tr></tbody></table>"
       ],
       "metadata": {},
       "output_type": "display_data",
       "text": [
        "<IPython.core.display.HTML at 0x2a92950>"
       ]
      },
      {
       "output_type": "stream",
       "stream": "stdout",
       "text": [
        "Game Over.\n"
       ]
      },
      {
       "html": [
        "<style type=\"text/css\">table.blockgrid {border: none;} .blockgrid tr {border: none;} .blockgrid td {padding: 0px;} #blocks8d78292d-e18d-41f9-98b3-a02a4b354bfd td {border: 1px solid white;}</style><table id=\"blocks8d78292d-e18d-41f9-98b3-a02a4b354bfd\" class=\"blockgrid\"><tbody><tr><td title=\"Index: [0, 0]&#10;Color: (0, 0, 0)\" style=\"width: 20px; height: 20px;background-color: rgb(0, 0, 0);\"></td><td title=\"Index: [0, 1]&#10;Color: (135, 206, 235)\" style=\"width: 20px; height: 20px;background-color: rgb(135, 206, 235);\"></td><td title=\"Index: [0, 2]&#10;Color: (135, 206, 235)\" style=\"width: 20px; height: 20px;background-color: rgb(135, 206, 235);\"></td><td title=\"Index: [0, 3]&#10;Color: (135, 206, 235)\" style=\"width: 20px; height: 20px;background-color: rgb(135, 206, 235);\"></td><td title=\"Index: [0, 4]&#10;Color: (135, 206, 235)\" style=\"width: 20px; height: 20px;background-color: rgb(135, 206, 235);\"></td><td title=\"Index: [0, 5]&#10;Color: (135, 206, 235)\" style=\"width: 20px; height: 20px;background-color: rgb(135, 206, 235);\"></td><td title=\"Index: [0, 6]&#10;Color: (135, 206, 235)\" style=\"width: 20px; height: 20px;background-color: rgb(135, 206, 235);\"></td><td title=\"Index: [0, 7]&#10;Color: (135, 206, 235)\" style=\"width: 20px; height: 20px;background-color: rgb(135, 206, 235);\"></td></tr><tr><td title=\"Index: [1, 0]&#10;Color: (135, 206, 235)\" style=\"width: 20px; height: 20px;background-color: rgb(135, 206, 235);\"></td><td title=\"Index: [1, 1]&#10;Color: (0, 0, 0)\" style=\"width: 20px; height: 20px;background-color: rgb(0, 0, 0);\"></td><td title=\"Index: [1, 2]&#10;Color: (0, 0, 0)\" style=\"width: 20px; height: 20px;background-color: rgb(0, 0, 0);\"></td><td title=\"Index: [1, 3]&#10;Color: (135, 206, 235)\" style=\"width: 20px; height: 20px;background-color: rgb(135, 206, 235);\"></td><td title=\"Index: [1, 4]&#10;Color: (135, 206, 235)\" style=\"width: 20px; height: 20px;background-color: rgb(135, 206, 235);\"></td><td title=\"Index: [1, 5]&#10;Color: (135, 206, 235)\" style=\"width: 20px; height: 20px;background-color: rgb(135, 206, 235);\"></td><td title=\"Index: [1, 6]&#10;Color: (135, 206, 235)\" style=\"width: 20px; height: 20px;background-color: rgb(135, 206, 235);\"></td><td title=\"Index: [1, 7]&#10;Color: (135, 206, 235)\" style=\"width: 20px; height: 20px;background-color: rgb(135, 206, 235);\"></td></tr><tr><td title=\"Index: [2, 0]&#10;Color: (135, 206, 235)\" style=\"width: 20px; height: 20px;background-color: rgb(135, 206, 235);\"></td><td title=\"Index: [2, 1]&#10;Color: (0, 0, 0)\" style=\"width: 20px; height: 20px;background-color: rgb(0, 0, 0);\"></td><td title=\"Index: [2, 2]&#10;Color: (250, 250, 3)\" style=\"width: 20px; height: 20px;background-color: rgb(250, 250, 3);\"></td><td title=\"Index: [2, 3]&#10;Color: (0, 0, 0)\" style=\"width: 20px; height: 20px;background-color: rgb(0, 0, 0);\"></td><td title=\"Index: [2, 4]&#10;Color: (135, 206, 235)\" style=\"width: 20px; height: 20px;background-color: rgb(135, 206, 235);\"></td><td title=\"Index: [2, 5]&#10;Color: (135, 206, 235)\" style=\"width: 20px; height: 20px;background-color: rgb(135, 206, 235);\"></td><td title=\"Index: [2, 6]&#10;Color: (135, 206, 235)\" style=\"width: 20px; height: 20px;background-color: rgb(135, 206, 235);\"></td><td title=\"Index: [2, 7]&#10;Color: (135, 206, 235)\" style=\"width: 20px; height: 20px;background-color: rgb(135, 206, 235);\"></td></tr><tr><td title=\"Index: [3, 0]&#10;Color: (135, 206, 235)\" style=\"width: 20px; height: 20px;background-color: rgb(135, 206, 235);\"></td><td title=\"Index: [3, 1]&#10;Color: (135, 206, 235)\" style=\"width: 20px; height: 20px;background-color: rgb(135, 206, 235);\"></td><td title=\"Index: [3, 2]&#10;Color: (250, 250, 3)\" style=\"width: 20px; height: 20px;background-color: rgb(250, 250, 3);\"></td><td title=\"Index: [3, 3]&#10;Color: (0, 0, 0)\" style=\"width: 20px; height: 20px;background-color: rgb(0, 0, 0);\"></td><td title=\"Index: [3, 4]&#10;Color: (135, 206, 235)\" style=\"width: 20px; height: 20px;background-color: rgb(135, 206, 235);\"></td><td title=\"Index: [3, 5]&#10;Color: (135, 206, 235)\" style=\"width: 20px; height: 20px;background-color: rgb(135, 206, 235);\"></td><td title=\"Index: [3, 6]&#10;Color: (135, 206, 235)\" style=\"width: 20px; height: 20px;background-color: rgb(135, 206, 235);\"></td><td title=\"Index: [3, 7]&#10;Color: (135, 206, 235)\" style=\"width: 20px; height: 20px;background-color: rgb(135, 206, 235);\"></td></tr><tr><td title=\"Index: [4, 0]&#10;Color: (135, 206, 235)\" style=\"width: 20px; height: 20px;background-color: rgb(135, 206, 235);\"></td><td title=\"Index: [4, 1]&#10;Color: (135, 206, 235)\" style=\"width: 20px; height: 20px;background-color: rgb(135, 206, 235);\"></td><td title=\"Index: [4, 2]&#10;Color: (135, 206, 235)\" style=\"width: 20px; height: 20px;background-color: rgb(135, 206, 235);\"></td><td title=\"Index: [4, 3]&#10;Color: (135, 206, 235)\" style=\"width: 20px; height: 20px;background-color: rgb(135, 206, 235);\"></td><td title=\"Index: [4, 4]&#10;Color: (135, 206, 235)\" style=\"width: 20px; height: 20px;background-color: rgb(135, 206, 235);\"></td><td title=\"Index: [4, 5]&#10;Color: (135, 206, 235)\" style=\"width: 20px; height: 20px;background-color: rgb(135, 206, 235);\"></td><td title=\"Index: [4, 6]&#10;Color: (135, 206, 235)\" style=\"width: 20px; height: 20px;background-color: rgb(135, 206, 235);\"></td><td title=\"Index: [4, 7]&#10;Color: (135, 206, 235)\" style=\"width: 20px; height: 20px;background-color: rgb(135, 206, 235);\"></td></tr><tr><td title=\"Index: [5, 0]&#10;Color: (135, 206, 235)\" style=\"width: 20px; height: 20px;background-color: rgb(135, 206, 235);\"></td><td title=\"Index: [5, 1]&#10;Color: (135, 206, 235)\" style=\"width: 20px; height: 20px;background-color: rgb(135, 206, 235);\"></td><td title=\"Index: [5, 2]&#10;Color: (135, 206, 235)\" style=\"width: 20px; height: 20px;background-color: rgb(135, 206, 235);\"></td><td title=\"Index: [5, 3]&#10;Color: (135, 206, 235)\" style=\"width: 20px; height: 20px;background-color: rgb(135, 206, 235);\"></td><td title=\"Index: [5, 4]&#10;Color: (135, 206, 235)\" style=\"width: 20px; height: 20px;background-color: rgb(135, 206, 235);\"></td><td title=\"Index: [5, 5]&#10;Color: (135, 206, 235)\" style=\"width: 20px; height: 20px;background-color: rgb(135, 206, 235);\"></td><td title=\"Index: [5, 6]&#10;Color: (135, 206, 235)\" style=\"width: 20px; height: 20px;background-color: rgb(135, 206, 235);\"></td><td title=\"Index: [5, 7]&#10;Color: (135, 206, 235)\" style=\"width: 20px; height: 20px;background-color: rgb(135, 206, 235);\"></td></tr><tr><td title=\"Index: [6, 0]&#10;Color: (135, 206, 235)\" style=\"width: 20px; height: 20px;background-color: rgb(135, 206, 235);\"></td><td title=\"Index: [6, 1]&#10;Color: (135, 206, 235)\" style=\"width: 20px; height: 20px;background-color: rgb(135, 206, 235);\"></td><td title=\"Index: [6, 2]&#10;Color: (135, 206, 235)\" style=\"width: 20px; height: 20px;background-color: rgb(135, 206, 235);\"></td><td title=\"Index: [6, 3]&#10;Color: (135, 206, 235)\" style=\"width: 20px; height: 20px;background-color: rgb(135, 206, 235);\"></td><td title=\"Index: [6, 4]&#10;Color: (135, 206, 235)\" style=\"width: 20px; height: 20px;background-color: rgb(135, 206, 235);\"></td><td title=\"Index: [6, 5]&#10;Color: (135, 206, 235)\" style=\"width: 20px; height: 20px;background-color: rgb(135, 206, 235);\"></td><td title=\"Index: [6, 6]&#10;Color: (135, 206, 235)\" style=\"width: 20px; height: 20px;background-color: rgb(135, 206, 235);\"></td><td title=\"Index: [6, 7]&#10;Color: (135, 206, 235)\" style=\"width: 20px; height: 20px;background-color: rgb(135, 206, 235);\"></td></tr><tr><td title=\"Index: [7, 0]&#10;Color: (135, 206, 235)\" style=\"width: 20px; height: 20px;background-color: rgb(135, 206, 235);\"></td><td title=\"Index: [7, 1]&#10;Color: (135, 206, 235)\" style=\"width: 20px; height: 20px;background-color: rgb(135, 206, 235);\"></td><td title=\"Index: [7, 2]&#10;Color: (135, 206, 235)\" style=\"width: 20px; height: 20px;background-color: rgb(135, 206, 235);\"></td><td title=\"Index: [7, 3]&#10;Color: (135, 206, 235)\" style=\"width: 20px; height: 20px;background-color: rgb(135, 206, 235);\"></td><td title=\"Index: [7, 4]&#10;Color: (135, 206, 235)\" style=\"width: 20px; height: 20px;background-color: rgb(135, 206, 235);\"></td><td title=\"Index: [7, 5]&#10;Color: (135, 206, 235)\" style=\"width: 20px; height: 20px;background-color: rgb(135, 206, 235);\"></td><td title=\"Index: [7, 6]&#10;Color: (135, 206, 235)\" style=\"width: 20px; height: 20px;background-color: rgb(135, 206, 235);\"></td><td title=\"Index: [7, 7]&#10;Color: (135, 206, 235)\" style=\"width: 20px; height: 20px;background-color: rgb(135, 206, 235);\"></td></tr></tbody></table>"
       ],
       "metadata": {},
       "output_type": "display_data",
       "text": [
        "<IPython.core.display.HTML at 0x2a929d0>"
       ]
      },
      {
       "output_type": "stream",
       "stream": "stdout",
       "text": [
        "None\n"
       ]
      }
     ],
     "prompt_number": 8
    },
    {
     "cell_type": "markdown",
     "metadata": {},
     "source": [
      "Breakdown of Code\n",
      "\n",
      "from random import randint\n",
      "from ipythonblocks import BlockGrid\n",
      "from ipythonblocks import colors\n",
      "\n",
      "#Change the dimensions of the board/color\n",
      "board = BlockGrid(8,8, fill=(135, 206, 235))\n",
      "\n",
      "#Shows you what dimensions you're working with/pretty colors of board\n",
      "def print_board(board):\n",
      "    print board.show()\n",
      "\n",
      "print \"Let's play Battleship!\"\n",
      "print_board(board)\n",
      "\n",
      "#Change where the ship can be. On purpose this is smaller than the board in order to account for second section of ship.\n",
      "def random_row(board):\n",
      "    return randint(1, 7)\n",
      "\n",
      "def random_col(board):\n",
      "    return randint(1, 7)\n",
      "\n",
      "ship_row = random_row(board)-1\n",
      "ship_col = random_col(board)-1\n",
      "\n",
      "#Second Section of the battleship. Criteria for direction (includes diagonal)\n",
      "shipr=0\n",
      "shipc=0\n",
      "#Criteria for direction (includes diagonal). Short for Pain in the Ass.\n",
      "Pain=randint(1,3)\n",
      "if Pain==1:\n",
      "    shipr=ship_row +1\n",
      "    shipc=ship_col\n",
      "if Pain==2:\n",
      "    shipr=ship_row\n",
      "    shipc=ship_col+1\n",
      "if Pain==3:\n",
      "    shipr=ship_row +1\n",
      "    shipc=ship_col+1\n",
      "\n",
      "\n",
      "#Change the number of turns and print current number\n",
      "for turn in range(7):\n",
      "    guess_row = int(raw_input(\"Guess Row:\"))-1\n",
      "    guess_col = int(raw_input(\"Guess Col:\"))-1\n",
      "    print \"Turn \" + str(turn+1)\n",
      "# Criteria for hitting or sinking battleship. Can either hit first section or second section, or eventually both.   \n",
      "    if guess_row == ship_row and guess_col == ship_col or guess_row == shipr and guess_col == shipc:\n",
      "        board[guess_row,guess_col]=(255,0,0)\n",
      "        print \"Congratulations! You hit my battleship!\"\n",
      "        if guess_row == ship_row and guess_col == ship_col and board[shipr,shipc]==(255,0,0) or board[ship_row,ship_col]==(255,0,0) and guess_row == shipr and guess_col == shipc:\n",
      "            board[guess_row, guess_col]=(255,0,0)\n",
      "            print \"Congratulations! You sunk my battleship!\"\n",
      "            break\n",
      "#Stops the code if the number of alloted turns is up (Game Over). Can increase max number by changing this as well\n",
      "    else:\n",
      "        if turn==6:\n",
      "            board[guess_row, guess_col] = (0,0,0)\n",
      "            board[ship_row, ship_col]=(250,250,3)\n",
      "            board[shipr, shipc]=(250,250,3)\n",
      "            board.show()\n",
      "            print \"Game Over.\"\n",
      "#Checks that guessed number is allowable for given board.\n",
      "        elif (guess_row < 0 or guess_row > 8) or (guess_col < 0 or guess_col > 8):\n",
      "            print \"Oops, that's not even in the ocean.\"\n",
      "#Checks for repetition of guessed spots\n",
      "        elif board[guess_row,guess_col]==(0,0,0):\n",
      "            print \"You guessed that one already.\"\n",
      "#Lets you know if you missed the ship and changes it black.\n",
      "        else:\n",
      "            board[guess_row, guess_col] = (0,0,0)\n",
      "            print \"You missed my battleship!\"\n",
      "    \n",
      "        print_board(board)"
     ]
    },
    {
     "cell_type": "code",
     "collapsed": false,
     "input": [],
     "language": "python",
     "metadata": {},
     "outputs": [],
     "prompt_number": 9
    },
    {
     "cell_type": "code",
     "collapsed": false,
     "input": [],
     "language": "python",
     "metadata": {},
     "outputs": []
    }
   ],
   "metadata": {}
  }
 ]
}