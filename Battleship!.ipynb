{
 "metadata": {
  "name": "",
  "signature": "sha256:c5c74dab348f61ebdc43eb98d3cffe930c0f8578a0401103a6d91c978f019cf8"
 },
 "nbformat": 3,
 "nbformat_minor": 0,
 "worksheets": [
  {
   "cells": [
    {
     "cell_type": "heading",
     "level": 1,
     "metadata": {},
     "source": [
      "Battleship!"
     ]
    },
    {
     "cell_type": "code",
     "collapsed": false,
     "input": [
      "from random import randint\n",
      "from ipythonblocks import BlockGrid\n",
      "from ipythonblocks import colors\n",
      "\n",
      "board = BlockGrid(5,5, fill=(135, 206, 235))\n",
      "\n",
      "\n",
      "def print_board(board):\n",
      "    print board.show()\n",
      "\n",
      "print \"Let's play Battleship!\"\n",
      "print_board(board)\n",
      "\n",
      "def random_row(board):\n",
      "    return randint(1, 6)\n",
      "\n",
      "def random_col(board):\n",
      "    return randint(1, 6)\n",
      "\n",
      "ship_row = random_row(board)\n",
      "ship_col = random_col(board)\n",
      "\n",
      "\n",
      "\n",
      "for turn in range(4):\n",
      "    print \"Turn \" + str(turn+1)\n",
      "    guess_row = int(raw_input(\"Guess Row:\"))-1\n",
      "    guess_col = int(raw_input(\"Guess Col:\"))-1\n",
      "\n",
      "    if guess_row == ship_row and guess_col == ship_col:\n",
      "        print \"Congratulations! You sunk my battleship!\"\n",
      "        break \n",
      "    else:\n",
      "        if turn==3:\n",
      "            print \"Game Over.\"\n",
      "        elif (guess_row < 0 or guess_row > 5) or (guess_col < 0 or guess_col > 5):\n",
      "            print \"Oops, that's not even in the ocean.\"\n",
      "        elif board[guess_row,guess_col]==(0,0,0):\n",
      "            print \"You guessed that one already.\"\n",
      "        else:\n",
      "            print \"You missed my battleship!\"\n",
      "            board[guess_row, guess_col] = (0,0,0)\n",
      "    \n",
      "        print_board(board)\n",
      "    "
     ],
     "language": "python",
     "metadata": {},
     "outputs": [
      {
       "output_type": "stream",
       "stream": "stdout",
       "text": [
        "Let's play Battleship!\n"
       ]
      },
      {
       "html": [
        "<style type=\"text/css\">table.blockgrid {border: none;} .blockgrid tr {border: none;} .blockgrid td {padding: 0px;} #blocksbe96e83f-7cc7-4ffa-b138-258e02197a99 td {border: 1px solid white;}</style><table id=\"blocksbe96e83f-7cc7-4ffa-b138-258e02197a99\" class=\"blockgrid\"><tbody><tr><td title=\"Index: [0, 0]&#10;Color: (135, 206, 235)\" style=\"width: 20px; height: 20px;background-color: rgb(135, 206, 235);\"></td><td title=\"Index: [0, 1]&#10;Color: (135, 206, 235)\" style=\"width: 20px; height: 20px;background-color: rgb(135, 206, 235);\"></td><td title=\"Index: [0, 2]&#10;Color: (135, 206, 235)\" style=\"width: 20px; height: 20px;background-color: rgb(135, 206, 235);\"></td><td title=\"Index: [0, 3]&#10;Color: (135, 206, 235)\" style=\"width: 20px; height: 20px;background-color: rgb(135, 206, 235);\"></td><td title=\"Index: [0, 4]&#10;Color: (135, 206, 235)\" style=\"width: 20px; height: 20px;background-color: rgb(135, 206, 235);\"></td></tr><tr><td title=\"Index: [1, 0]&#10;Color: (135, 206, 235)\" style=\"width: 20px; height: 20px;background-color: rgb(135, 206, 235);\"></td><td title=\"Index: [1, 1]&#10;Color: (135, 206, 235)\" style=\"width: 20px; height: 20px;background-color: rgb(135, 206, 235);\"></td><td title=\"Index: [1, 2]&#10;Color: (135, 206, 235)\" style=\"width: 20px; height: 20px;background-color: rgb(135, 206, 235);\"></td><td title=\"Index: [1, 3]&#10;Color: (135, 206, 235)\" style=\"width: 20px; height: 20px;background-color: rgb(135, 206, 235);\"></td><td title=\"Index: [1, 4]&#10;Color: (135, 206, 235)\" style=\"width: 20px; height: 20px;background-color: rgb(135, 206, 235);\"></td></tr><tr><td title=\"Index: [2, 0]&#10;Color: (135, 206, 235)\" style=\"width: 20px; height: 20px;background-color: rgb(135, 206, 235);\"></td><td title=\"Index: [2, 1]&#10;Color: (135, 206, 235)\" style=\"width: 20px; height: 20px;background-color: rgb(135, 206, 235);\"></td><td title=\"Index: [2, 2]&#10;Color: (135, 206, 235)\" style=\"width: 20px; height: 20px;background-color: rgb(135, 206, 235);\"></td><td title=\"Index: [2, 3]&#10;Color: (135, 206, 235)\" style=\"width: 20px; height: 20px;background-color: rgb(135, 206, 235);\"></td><td title=\"Index: [2, 4]&#10;Color: (135, 206, 235)\" style=\"width: 20px; height: 20px;background-color: rgb(135, 206, 235);\"></td></tr><tr><td title=\"Index: [3, 0]&#10;Color: (135, 206, 235)\" style=\"width: 20px; height: 20px;background-color: rgb(135, 206, 235);\"></td><td title=\"Index: [3, 1]&#10;Color: (135, 206, 235)\" style=\"width: 20px; height: 20px;background-color: rgb(135, 206, 235);\"></td><td title=\"Index: [3, 2]&#10;Color: (135, 206, 235)\" style=\"width: 20px; height: 20px;background-color: rgb(135, 206, 235);\"></td><td title=\"Index: [3, 3]&#10;Color: (135, 206, 235)\" style=\"width: 20px; height: 20px;background-color: rgb(135, 206, 235);\"></td><td title=\"Index: [3, 4]&#10;Color: (135, 206, 235)\" style=\"width: 20px; height: 20px;background-color: rgb(135, 206, 235);\"></td></tr><tr><td title=\"Index: [4, 0]&#10;Color: (135, 206, 235)\" style=\"width: 20px; height: 20px;background-color: rgb(135, 206, 235);\"></td><td title=\"Index: [4, 1]&#10;Color: (135, 206, 235)\" style=\"width: 20px; height: 20px;background-color: rgb(135, 206, 235);\"></td><td title=\"Index: [4, 2]&#10;Color: (135, 206, 235)\" style=\"width: 20px; height: 20px;background-color: rgb(135, 206, 235);\"></td><td title=\"Index: [4, 3]&#10;Color: (135, 206, 235)\" style=\"width: 20px; height: 20px;background-color: rgb(135, 206, 235);\"></td><td title=\"Index: [4, 4]&#10;Color: (135, 206, 235)\" style=\"width: 20px; height: 20px;background-color: rgb(135, 206, 235);\"></td></tr></tbody></table>"
       ],
       "metadata": {},
       "output_type": "display_data",
       "text": [
        "<IPython.core.display.HTML at 0x1cb41d0>"
       ]
      },
      {
       "output_type": "stream",
       "stream": "stdout",
       "text": [
        "None\n",
        "Turn 1\n"
       ]
      },
      {
       "name": "stdout",
       "output_type": "stream",
       "stream": "stdout",
       "text": [
        "Guess Row:1\n"
       ]
      },
      {
       "name": "stdout",
       "output_type": "stream",
       "stream": "stdout",
       "text": [
        "Guess Col:1\n"
       ]
      },
      {
       "output_type": "stream",
       "stream": "stdout",
       "text": [
        "You missed my battleship!\n"
       ]
      },
      {
       "html": [
        "<style type=\"text/css\">table.blockgrid {border: none;} .blockgrid tr {border: none;} .blockgrid td {padding: 0px;} #blocksa7918757-e0e5-4349-b5ab-585007c53430 td {border: 1px solid white;}</style><table id=\"blocksa7918757-e0e5-4349-b5ab-585007c53430\" class=\"blockgrid\"><tbody><tr><td title=\"Index: [0, 0]&#10;Color: (0, 0, 0)\" style=\"width: 20px; height: 20px;background-color: rgb(0, 0, 0);\"></td><td title=\"Index: [0, 1]&#10;Color: (135, 206, 235)\" style=\"width: 20px; height: 20px;background-color: rgb(135, 206, 235);\"></td><td title=\"Index: [0, 2]&#10;Color: (135, 206, 235)\" style=\"width: 20px; height: 20px;background-color: rgb(135, 206, 235);\"></td><td title=\"Index: [0, 3]&#10;Color: (135, 206, 235)\" style=\"width: 20px; height: 20px;background-color: rgb(135, 206, 235);\"></td><td title=\"Index: [0, 4]&#10;Color: (135, 206, 235)\" style=\"width: 20px; height: 20px;background-color: rgb(135, 206, 235);\"></td></tr><tr><td title=\"Index: [1, 0]&#10;Color: (135, 206, 235)\" style=\"width: 20px; height: 20px;background-color: rgb(135, 206, 235);\"></td><td title=\"Index: [1, 1]&#10;Color: (135, 206, 235)\" style=\"width: 20px; height: 20px;background-color: rgb(135, 206, 235);\"></td><td title=\"Index: [1, 2]&#10;Color: (135, 206, 235)\" style=\"width: 20px; height: 20px;background-color: rgb(135, 206, 235);\"></td><td title=\"Index: [1, 3]&#10;Color: (135, 206, 235)\" style=\"width: 20px; height: 20px;background-color: rgb(135, 206, 235);\"></td><td title=\"Index: [1, 4]&#10;Color: (135, 206, 235)\" style=\"width: 20px; height: 20px;background-color: rgb(135, 206, 235);\"></td></tr><tr><td title=\"Index: [2, 0]&#10;Color: (135, 206, 235)\" style=\"width: 20px; height: 20px;background-color: rgb(135, 206, 235);\"></td><td title=\"Index: [2, 1]&#10;Color: (135, 206, 235)\" style=\"width: 20px; height: 20px;background-color: rgb(135, 206, 235);\"></td><td title=\"Index: [2, 2]&#10;Color: (135, 206, 235)\" style=\"width: 20px; height: 20px;background-color: rgb(135, 206, 235);\"></td><td title=\"Index: [2, 3]&#10;Color: (135, 206, 235)\" style=\"width: 20px; height: 20px;background-color: rgb(135, 206, 235);\"></td><td title=\"Index: [2, 4]&#10;Color: (135, 206, 235)\" style=\"width: 20px; height: 20px;background-color: rgb(135, 206, 235);\"></td></tr><tr><td title=\"Index: [3, 0]&#10;Color: (135, 206, 235)\" style=\"width: 20px; height: 20px;background-color: rgb(135, 206, 235);\"></td><td title=\"Index: [3, 1]&#10;Color: (135, 206, 235)\" style=\"width: 20px; height: 20px;background-color: rgb(135, 206, 235);\"></td><td title=\"Index: [3, 2]&#10;Color: (135, 206, 235)\" style=\"width: 20px; height: 20px;background-color: rgb(135, 206, 235);\"></td><td title=\"Index: [3, 3]&#10;Color: (135, 206, 235)\" style=\"width: 20px; height: 20px;background-color: rgb(135, 206, 235);\"></td><td title=\"Index: [3, 4]&#10;Color: (135, 206, 235)\" style=\"width: 20px; height: 20px;background-color: rgb(135, 206, 235);\"></td></tr><tr><td title=\"Index: [4, 0]&#10;Color: (135, 206, 235)\" style=\"width: 20px; height: 20px;background-color: rgb(135, 206, 235);\"></td><td title=\"Index: [4, 1]&#10;Color: (135, 206, 235)\" style=\"width: 20px; height: 20px;background-color: rgb(135, 206, 235);\"></td><td title=\"Index: [4, 2]&#10;Color: (135, 206, 235)\" style=\"width: 20px; height: 20px;background-color: rgb(135, 206, 235);\"></td><td title=\"Index: [4, 3]&#10;Color: (135, 206, 235)\" style=\"width: 20px; height: 20px;background-color: rgb(135, 206, 235);\"></td><td title=\"Index: [4, 4]&#10;Color: (135, 206, 235)\" style=\"width: 20px; height: 20px;background-color: rgb(135, 206, 235);\"></td></tr></tbody></table>"
       ],
       "metadata": {},
       "output_type": "display_data",
       "text": [
        "<IPython.core.display.HTML at 0x1cb4310>"
       ]
      },
      {
       "output_type": "stream",
       "stream": "stdout",
       "text": [
        "None\n",
        "Turn 2\n"
       ]
      },
      {
       "name": "stdout",
       "output_type": "stream",
       "stream": "stdout",
       "text": [
        "Guess Row:1\n"
       ]
      },
      {
       "name": "stdout",
       "output_type": "stream",
       "stream": "stdout",
       "text": [
        "Guess Col:1\n"
       ]
      },
      {
       "output_type": "stream",
       "stream": "stdout",
       "text": [
        "You missed my battleship!\n"
       ]
      },
      {
       "html": [
        "<style type=\"text/css\">table.blockgrid {border: none;} .blockgrid tr {border: none;} .blockgrid td {padding: 0px;} #blocks1d2895f5-dd7e-40c0-940e-a8f46df5f9a0 td {border: 1px solid white;}</style><table id=\"blocks1d2895f5-dd7e-40c0-940e-a8f46df5f9a0\" class=\"blockgrid\"><tbody><tr><td title=\"Index: [0, 0]&#10;Color: (0, 0, 0)\" style=\"width: 20px; height: 20px;background-color: rgb(0, 0, 0);\"></td><td title=\"Index: [0, 1]&#10;Color: (135, 206, 235)\" style=\"width: 20px; height: 20px;background-color: rgb(135, 206, 235);\"></td><td title=\"Index: [0, 2]&#10;Color: (135, 206, 235)\" style=\"width: 20px; height: 20px;background-color: rgb(135, 206, 235);\"></td><td title=\"Index: [0, 3]&#10;Color: (135, 206, 235)\" style=\"width: 20px; height: 20px;background-color: rgb(135, 206, 235);\"></td><td title=\"Index: [0, 4]&#10;Color: (135, 206, 235)\" style=\"width: 20px; height: 20px;background-color: rgb(135, 206, 235);\"></td></tr><tr><td title=\"Index: [1, 0]&#10;Color: (135, 206, 235)\" style=\"width: 20px; height: 20px;background-color: rgb(135, 206, 235);\"></td><td title=\"Index: [1, 1]&#10;Color: (135, 206, 235)\" style=\"width: 20px; height: 20px;background-color: rgb(135, 206, 235);\"></td><td title=\"Index: [1, 2]&#10;Color: (135, 206, 235)\" style=\"width: 20px; height: 20px;background-color: rgb(135, 206, 235);\"></td><td title=\"Index: [1, 3]&#10;Color: (135, 206, 235)\" style=\"width: 20px; height: 20px;background-color: rgb(135, 206, 235);\"></td><td title=\"Index: [1, 4]&#10;Color: (135, 206, 235)\" style=\"width: 20px; height: 20px;background-color: rgb(135, 206, 235);\"></td></tr><tr><td title=\"Index: [2, 0]&#10;Color: (135, 206, 235)\" style=\"width: 20px; height: 20px;background-color: rgb(135, 206, 235);\"></td><td title=\"Index: [2, 1]&#10;Color: (135, 206, 235)\" style=\"width: 20px; height: 20px;background-color: rgb(135, 206, 235);\"></td><td title=\"Index: [2, 2]&#10;Color: (135, 206, 235)\" style=\"width: 20px; height: 20px;background-color: rgb(135, 206, 235);\"></td><td title=\"Index: [2, 3]&#10;Color: (135, 206, 235)\" style=\"width: 20px; height: 20px;background-color: rgb(135, 206, 235);\"></td><td title=\"Index: [2, 4]&#10;Color: (135, 206, 235)\" style=\"width: 20px; height: 20px;background-color: rgb(135, 206, 235);\"></td></tr><tr><td title=\"Index: [3, 0]&#10;Color: (135, 206, 235)\" style=\"width: 20px; height: 20px;background-color: rgb(135, 206, 235);\"></td><td title=\"Index: [3, 1]&#10;Color: (135, 206, 235)\" style=\"width: 20px; height: 20px;background-color: rgb(135, 206, 235);\"></td><td title=\"Index: [3, 2]&#10;Color: (135, 206, 235)\" style=\"width: 20px; height: 20px;background-color: rgb(135, 206, 235);\"></td><td title=\"Index: [3, 3]&#10;Color: (135, 206, 235)\" style=\"width: 20px; height: 20px;background-color: rgb(135, 206, 235);\"></td><td title=\"Index: [3, 4]&#10;Color: (135, 206, 235)\" style=\"width: 20px; height: 20px;background-color: rgb(135, 206, 235);\"></td></tr><tr><td title=\"Index: [4, 0]&#10;Color: (135, 206, 235)\" style=\"width: 20px; height: 20px;background-color: rgb(135, 206, 235);\"></td><td title=\"Index: [4, 1]&#10;Color: (135, 206, 235)\" style=\"width: 20px; height: 20px;background-color: rgb(135, 206, 235);\"></td><td title=\"Index: [4, 2]&#10;Color: (135, 206, 235)\" style=\"width: 20px; height: 20px;background-color: rgb(135, 206, 235);\"></td><td title=\"Index: [4, 3]&#10;Color: (135, 206, 235)\" style=\"width: 20px; height: 20px;background-color: rgb(135, 206, 235);\"></td><td title=\"Index: [4, 4]&#10;Color: (135, 206, 235)\" style=\"width: 20px; height: 20px;background-color: rgb(135, 206, 235);\"></td></tr></tbody></table>"
       ],
       "metadata": {},
       "output_type": "display_data",
       "text": [
        "<IPython.core.display.HTML at 0x1cb43d0>"
       ]
      },
      {
       "output_type": "stream",
       "stream": "stdout",
       "text": [
        "None\n",
        "Turn 3\n"
       ]
      },
      {
       "name": "stdout",
       "output_type": "stream",
       "stream": "stdout",
       "text": [
        "Guess Row:2\n"
       ]
      },
      {
       "name": "stdout",
       "output_type": "stream",
       "stream": "stdout",
       "text": [
        "Guess Col:2\n"
       ]
      },
      {
       "output_type": "stream",
       "stream": "stdout",
       "text": [
        "You missed my battleship!\n"
       ]
      },
      {
       "html": [
        "<style type=\"text/css\">table.blockgrid {border: none;} .blockgrid tr {border: none;} .blockgrid td {padding: 0px;} #blocks15b76392-3b10-439c-b662-90557e26265d td {border: 1px solid white;}</style><table id=\"blocks15b76392-3b10-439c-b662-90557e26265d\" class=\"blockgrid\"><tbody><tr><td title=\"Index: [0, 0]&#10;Color: (0, 0, 0)\" style=\"width: 20px; height: 20px;background-color: rgb(0, 0, 0);\"></td><td title=\"Index: [0, 1]&#10;Color: (135, 206, 235)\" style=\"width: 20px; height: 20px;background-color: rgb(135, 206, 235);\"></td><td title=\"Index: [0, 2]&#10;Color: (135, 206, 235)\" style=\"width: 20px; height: 20px;background-color: rgb(135, 206, 235);\"></td><td title=\"Index: [0, 3]&#10;Color: (135, 206, 235)\" style=\"width: 20px; height: 20px;background-color: rgb(135, 206, 235);\"></td><td title=\"Index: [0, 4]&#10;Color: (135, 206, 235)\" style=\"width: 20px; height: 20px;background-color: rgb(135, 206, 235);\"></td></tr><tr><td title=\"Index: [1, 0]&#10;Color: (135, 206, 235)\" style=\"width: 20px; height: 20px;background-color: rgb(135, 206, 235);\"></td><td title=\"Index: [1, 1]&#10;Color: (0, 0, 0)\" style=\"width: 20px; height: 20px;background-color: rgb(0, 0, 0);\"></td><td title=\"Index: [1, 2]&#10;Color: (135, 206, 235)\" style=\"width: 20px; height: 20px;background-color: rgb(135, 206, 235);\"></td><td title=\"Index: [1, 3]&#10;Color: (135, 206, 235)\" style=\"width: 20px; height: 20px;background-color: rgb(135, 206, 235);\"></td><td title=\"Index: [1, 4]&#10;Color: (135, 206, 235)\" style=\"width: 20px; height: 20px;background-color: rgb(135, 206, 235);\"></td></tr><tr><td title=\"Index: [2, 0]&#10;Color: (135, 206, 235)\" style=\"width: 20px; height: 20px;background-color: rgb(135, 206, 235);\"></td><td title=\"Index: [2, 1]&#10;Color: (135, 206, 235)\" style=\"width: 20px; height: 20px;background-color: rgb(135, 206, 235);\"></td><td title=\"Index: [2, 2]&#10;Color: (135, 206, 235)\" style=\"width: 20px; height: 20px;background-color: rgb(135, 206, 235);\"></td><td title=\"Index: [2, 3]&#10;Color: (135, 206, 235)\" style=\"width: 20px; height: 20px;background-color: rgb(135, 206, 235);\"></td><td title=\"Index: [2, 4]&#10;Color: (135, 206, 235)\" style=\"width: 20px; height: 20px;background-color: rgb(135, 206, 235);\"></td></tr><tr><td title=\"Index: [3, 0]&#10;Color: (135, 206, 235)\" style=\"width: 20px; height: 20px;background-color: rgb(135, 206, 235);\"></td><td title=\"Index: [3, 1]&#10;Color: (135, 206, 235)\" style=\"width: 20px; height: 20px;background-color: rgb(135, 206, 235);\"></td><td title=\"Index: [3, 2]&#10;Color: (135, 206, 235)\" style=\"width: 20px; height: 20px;background-color: rgb(135, 206, 235);\"></td><td title=\"Index: [3, 3]&#10;Color: (135, 206, 235)\" style=\"width: 20px; height: 20px;background-color: rgb(135, 206, 235);\"></td><td title=\"Index: [3, 4]&#10;Color: (135, 206, 235)\" style=\"width: 20px; height: 20px;background-color: rgb(135, 206, 235);\"></td></tr><tr><td title=\"Index: [4, 0]&#10;Color: (135, 206, 235)\" style=\"width: 20px; height: 20px;background-color: rgb(135, 206, 235);\"></td><td title=\"Index: [4, 1]&#10;Color: (135, 206, 235)\" style=\"width: 20px; height: 20px;background-color: rgb(135, 206, 235);\"></td><td title=\"Index: [4, 2]&#10;Color: (135, 206, 235)\" style=\"width: 20px; height: 20px;background-color: rgb(135, 206, 235);\"></td><td title=\"Index: [4, 3]&#10;Color: (135, 206, 235)\" style=\"width: 20px; height: 20px;background-color: rgb(135, 206, 235);\"></td><td title=\"Index: [4, 4]&#10;Color: (135, 206, 235)\" style=\"width: 20px; height: 20px;background-color: rgb(135, 206, 235);\"></td></tr></tbody></table>"
       ],
       "metadata": {},
       "output_type": "display_data",
       "text": [
        "<IPython.core.display.HTML at 0x1cba250>"
       ]
      },
      {
       "output_type": "stream",
       "stream": "stdout",
       "text": [
        "None\n",
        "Turn 4\n"
       ]
      },
      {
       "name": "stdout",
       "output_type": "stream",
       "stream": "stdout",
       "text": [
        "Guess Row:1\n"
       ]
      },
      {
       "name": "stdout",
       "output_type": "stream",
       "stream": "stdout",
       "text": [
        "Guess Col:5\n"
       ]
      },
      {
       "output_type": "stream",
       "stream": "stdout",
       "text": [
        "Game Over.\n"
       ]
      },
      {
       "html": [
        "<style type=\"text/css\">table.blockgrid {border: none;} .blockgrid tr {border: none;} .blockgrid td {padding: 0px;} #blocks0219c849-b9fa-4b1f-9cde-6fa589f23ce7 td {border: 1px solid white;}</style><table id=\"blocks0219c849-b9fa-4b1f-9cde-6fa589f23ce7\" class=\"blockgrid\"><tbody><tr><td title=\"Index: [0, 0]&#10;Color: (0, 0, 0)\" style=\"width: 20px; height: 20px;background-color: rgb(0, 0, 0);\"></td><td title=\"Index: [0, 1]&#10;Color: (135, 206, 235)\" style=\"width: 20px; height: 20px;background-color: rgb(135, 206, 235);\"></td><td title=\"Index: [0, 2]&#10;Color: (135, 206, 235)\" style=\"width: 20px; height: 20px;background-color: rgb(135, 206, 235);\"></td><td title=\"Index: [0, 3]&#10;Color: (135, 206, 235)\" style=\"width: 20px; height: 20px;background-color: rgb(135, 206, 235);\"></td><td title=\"Index: [0, 4]&#10;Color: (135, 206, 235)\" style=\"width: 20px; height: 20px;background-color: rgb(135, 206, 235);\"></td></tr><tr><td title=\"Index: [1, 0]&#10;Color: (135, 206, 235)\" style=\"width: 20px; height: 20px;background-color: rgb(135, 206, 235);\"></td><td title=\"Index: [1, 1]&#10;Color: (0, 0, 0)\" style=\"width: 20px; height: 20px;background-color: rgb(0, 0, 0);\"></td><td title=\"Index: [1, 2]&#10;Color: (135, 206, 235)\" style=\"width: 20px; height: 20px;background-color: rgb(135, 206, 235);\"></td><td title=\"Index: [1, 3]&#10;Color: (135, 206, 235)\" style=\"width: 20px; height: 20px;background-color: rgb(135, 206, 235);\"></td><td title=\"Index: [1, 4]&#10;Color: (135, 206, 235)\" style=\"width: 20px; height: 20px;background-color: rgb(135, 206, 235);\"></td></tr><tr><td title=\"Index: [2, 0]&#10;Color: (135, 206, 235)\" style=\"width: 20px; height: 20px;background-color: rgb(135, 206, 235);\"></td><td title=\"Index: [2, 1]&#10;Color: (135, 206, 235)\" style=\"width: 20px; height: 20px;background-color: rgb(135, 206, 235);\"></td><td title=\"Index: [2, 2]&#10;Color: (135, 206, 235)\" style=\"width: 20px; height: 20px;background-color: rgb(135, 206, 235);\"></td><td title=\"Index: [2, 3]&#10;Color: (135, 206, 235)\" style=\"width: 20px; height: 20px;background-color: rgb(135, 206, 235);\"></td><td title=\"Index: [2, 4]&#10;Color: (135, 206, 235)\" style=\"width: 20px; height: 20px;background-color: rgb(135, 206, 235);\"></td></tr><tr><td title=\"Index: [3, 0]&#10;Color: (135, 206, 235)\" style=\"width: 20px; height: 20px;background-color: rgb(135, 206, 235);\"></td><td title=\"Index: [3, 1]&#10;Color: (135, 206, 235)\" style=\"width: 20px; height: 20px;background-color: rgb(135, 206, 235);\"></td><td title=\"Index: [3, 2]&#10;Color: (135, 206, 235)\" style=\"width: 20px; height: 20px;background-color: rgb(135, 206, 235);\"></td><td title=\"Index: [3, 3]&#10;Color: (135, 206, 235)\" style=\"width: 20px; height: 20px;background-color: rgb(135, 206, 235);\"></td><td title=\"Index: [3, 4]&#10;Color: (135, 206, 235)\" style=\"width: 20px; height: 20px;background-color: rgb(135, 206, 235);\"></td></tr><tr><td title=\"Index: [4, 0]&#10;Color: (135, 206, 235)\" style=\"width: 20px; height: 20px;background-color: rgb(135, 206, 235);\"></td><td title=\"Index: [4, 1]&#10;Color: (135, 206, 235)\" style=\"width: 20px; height: 20px;background-color: rgb(135, 206, 235);\"></td><td title=\"Index: [4, 2]&#10;Color: (135, 206, 235)\" style=\"width: 20px; height: 20px;background-color: rgb(135, 206, 235);\"></td><td title=\"Index: [4, 3]&#10;Color: (135, 206, 235)\" style=\"width: 20px; height: 20px;background-color: rgb(135, 206, 235);\"></td><td title=\"Index: [4, 4]&#10;Color: (135, 206, 235)\" style=\"width: 20px; height: 20px;background-color: rgb(135, 206, 235);\"></td></tr></tbody></table>"
       ],
       "metadata": {},
       "output_type": "display_data",
       "text": [
        "<IPython.core.display.HTML at 0x1cba210>"
       ]
      },
      {
       "output_type": "stream",
       "stream": "stdout",
       "text": [
        "None\n"
       ]
      }
     ],
     "prompt_number": 4
    },
    {
     "cell_type": "markdown",
     "metadata": {},
     "source": [
      "BATTLESHIP!!! 2.0"
     ]
    },
    {
     "cell_type": "code",
     "collapsed": false,
     "input": [
      "from random import randint\n",
      "from ipythonblocks import BlockGrid\n",
      "from ipythonblocks import colors\n",
      "#Change the dimensions of the board/color\n",
      "board = BlockGrid(8,8, fill=(135, 206, 235))\n",
      "\n",
      "\n",
      "def print_board(board):\n",
      "    print board.show()\n",
      "\n",
      "print \"Let's play Battleship!\"\n",
      "print_board(board)\n",
      "\n",
      "#Change where the ship can be\n",
      "def random_row(board):\n",
      "    return randint(1, 7)\n",
      "\n",
      "def random_col(board):\n",
      "    return randint(1, 7)\n",
      "\n",
      "ship_row = random_row(board)-1\n",
      "ship_col = random_col(board)-1\n",
      "shipr=0\n",
      "shipc=0\n",
      "#Make the ship larger \n",
      "Pain=randint(1,3)\n",
      "if Pain==1:\n",
      "    shipr=ship_row +1\n",
      "    shipc=ship_col\n",
      "if Pain==2:\n",
      "    shipr=ship_row\n",
      "    shipc=ship_col+1\n",
      "if Pain==3:\n",
      "    shipr=ship_row +1\n",
      "    shipc=ship_col+1\n",
      "\n",
      "\n",
      "#Change the number of turns\n",
      "for turn in range(3):\n",
      "    guess_row = int(raw_input(\"Guess Row:\"))-1\n",
      "    guess_col = int(raw_input(\"Guess Col:\"))-1\n",
      "    print \"Turn \" + str(turn+1)\n",
      "    \n",
      "    if guess_row == ship_row and guess_col == ship_col or guess_row == shipr and guess_col == shipc:\n",
      "        board[guess_row,guess_col]=(255,0,0)\n",
      "        print \"Congratulations! You hit my battleship!\"\n",
      "        if guess_row == ship_row and guess_col == ship_col and board[shipr,shipc]=(255,0,0) or board[ship_row,ship_col] and guess_row == shipr and guess_col == shipc:\n",
      "            \n",
      "    else:\n",
      "        if turn==2:\n",
      "            board[ship_row, ship_col]=(250,250,3)\n",
      "            board.show()\n",
      "            print \"Game Over.\"\n",
      "        elif (guess_row < 0 or guess_row > 8) or (guess_col < 0 or guess_col > 8):\n",
      "            print \"Oops, that's not even in the ocean.\"\n",
      "        elif board[guess_row,guess_col]==(0,0,0):\n",
      "            print \"You guessed that one already.\"\n",
      "        else:\n",
      "            board[guess_row, guess_col] = (0,0,0)\n",
      "            print \"You missed my battleship!\"\n",
      "    \n",
      "        print_board(board)\n",
      "    "
     ],
     "language": "python",
     "metadata": {},
     "outputs": [
      {
       "output_type": "stream",
       "stream": "stdout",
       "text": [
        "Let's play Battleship!\n"
       ]
      },
      {
       "html": [
        "<style type=\"text/css\">table.blockgrid {border: none;} .blockgrid tr {border: none;} .blockgrid td {padding: 0px;} #blocks31129722-8603-416d-a29d-4f0a1ef21258 td {border: 1px solid white;}</style><table id=\"blocks31129722-8603-416d-a29d-4f0a1ef21258\" class=\"blockgrid\"><tbody><tr><td title=\"Index: [0, 0]&#10;Color: (135, 206, 235)\" style=\"width: 20px; height: 20px;background-color: rgb(135, 206, 235);\"></td><td title=\"Index: [0, 1]&#10;Color: (135, 206, 235)\" style=\"width: 20px; height: 20px;background-color: rgb(135, 206, 235);\"></td><td title=\"Index: [0, 2]&#10;Color: (135, 206, 235)\" style=\"width: 20px; height: 20px;background-color: rgb(135, 206, 235);\"></td><td title=\"Index: [0, 3]&#10;Color: (135, 206, 235)\" style=\"width: 20px; height: 20px;background-color: rgb(135, 206, 235);\"></td><td title=\"Index: [0, 4]&#10;Color: (135, 206, 235)\" style=\"width: 20px; height: 20px;background-color: rgb(135, 206, 235);\"></td><td title=\"Index: [0, 5]&#10;Color: (135, 206, 235)\" style=\"width: 20px; height: 20px;background-color: rgb(135, 206, 235);\"></td><td title=\"Index: [0, 6]&#10;Color: (135, 206, 235)\" style=\"width: 20px; height: 20px;background-color: rgb(135, 206, 235);\"></td><td title=\"Index: [0, 7]&#10;Color: (135, 206, 235)\" style=\"width: 20px; height: 20px;background-color: rgb(135, 206, 235);\"></td></tr><tr><td title=\"Index: [1, 0]&#10;Color: (135, 206, 235)\" style=\"width: 20px; height: 20px;background-color: rgb(135, 206, 235);\"></td><td title=\"Index: [1, 1]&#10;Color: (135, 206, 235)\" style=\"width: 20px; height: 20px;background-color: rgb(135, 206, 235);\"></td><td title=\"Index: [1, 2]&#10;Color: (135, 206, 235)\" style=\"width: 20px; height: 20px;background-color: rgb(135, 206, 235);\"></td><td title=\"Index: [1, 3]&#10;Color: (135, 206, 235)\" style=\"width: 20px; height: 20px;background-color: rgb(135, 206, 235);\"></td><td title=\"Index: [1, 4]&#10;Color: (135, 206, 235)\" style=\"width: 20px; height: 20px;background-color: rgb(135, 206, 235);\"></td><td title=\"Index: [1, 5]&#10;Color: (135, 206, 235)\" style=\"width: 20px; height: 20px;background-color: rgb(135, 206, 235);\"></td><td title=\"Index: [1, 6]&#10;Color: (135, 206, 235)\" style=\"width: 20px; height: 20px;background-color: rgb(135, 206, 235);\"></td><td title=\"Index: [1, 7]&#10;Color: (135, 206, 235)\" style=\"width: 20px; height: 20px;background-color: rgb(135, 206, 235);\"></td></tr><tr><td title=\"Index: [2, 0]&#10;Color: (135, 206, 235)\" style=\"width: 20px; height: 20px;background-color: rgb(135, 206, 235);\"></td><td title=\"Index: [2, 1]&#10;Color: (135, 206, 235)\" style=\"width: 20px; height: 20px;background-color: rgb(135, 206, 235);\"></td><td title=\"Index: [2, 2]&#10;Color: (135, 206, 235)\" style=\"width: 20px; height: 20px;background-color: rgb(135, 206, 235);\"></td><td title=\"Index: [2, 3]&#10;Color: (135, 206, 235)\" style=\"width: 20px; height: 20px;background-color: rgb(135, 206, 235);\"></td><td title=\"Index: [2, 4]&#10;Color: (135, 206, 235)\" style=\"width: 20px; height: 20px;background-color: rgb(135, 206, 235);\"></td><td title=\"Index: [2, 5]&#10;Color: (135, 206, 235)\" style=\"width: 20px; height: 20px;background-color: rgb(135, 206, 235);\"></td><td title=\"Index: [2, 6]&#10;Color: (135, 206, 235)\" style=\"width: 20px; height: 20px;background-color: rgb(135, 206, 235);\"></td><td title=\"Index: [2, 7]&#10;Color: (135, 206, 235)\" style=\"width: 20px; height: 20px;background-color: rgb(135, 206, 235);\"></td></tr><tr><td title=\"Index: [3, 0]&#10;Color: (135, 206, 235)\" style=\"width: 20px; height: 20px;background-color: rgb(135, 206, 235);\"></td><td title=\"Index: [3, 1]&#10;Color: (135, 206, 235)\" style=\"width: 20px; height: 20px;background-color: rgb(135, 206, 235);\"></td><td title=\"Index: [3, 2]&#10;Color: (135, 206, 235)\" style=\"width: 20px; height: 20px;background-color: rgb(135, 206, 235);\"></td><td title=\"Index: [3, 3]&#10;Color: (135, 206, 235)\" style=\"width: 20px; height: 20px;background-color: rgb(135, 206, 235);\"></td><td title=\"Index: [3, 4]&#10;Color: (135, 206, 235)\" style=\"width: 20px; height: 20px;background-color: rgb(135, 206, 235);\"></td><td title=\"Index: [3, 5]&#10;Color: (135, 206, 235)\" style=\"width: 20px; height: 20px;background-color: rgb(135, 206, 235);\"></td><td title=\"Index: [3, 6]&#10;Color: (135, 206, 235)\" style=\"width: 20px; height: 20px;background-color: rgb(135, 206, 235);\"></td><td title=\"Index: [3, 7]&#10;Color: (135, 206, 235)\" style=\"width: 20px; height: 20px;background-color: rgb(135, 206, 235);\"></td></tr><tr><td title=\"Index: [4, 0]&#10;Color: (135, 206, 235)\" style=\"width: 20px; height: 20px;background-color: rgb(135, 206, 235);\"></td><td title=\"Index: [4, 1]&#10;Color: (135, 206, 235)\" style=\"width: 20px; height: 20px;background-color: rgb(135, 206, 235);\"></td><td title=\"Index: [4, 2]&#10;Color: (135, 206, 235)\" style=\"width: 20px; height: 20px;background-color: rgb(135, 206, 235);\"></td><td title=\"Index: [4, 3]&#10;Color: (135, 206, 235)\" style=\"width: 20px; height: 20px;background-color: rgb(135, 206, 235);\"></td><td title=\"Index: [4, 4]&#10;Color: (135, 206, 235)\" style=\"width: 20px; height: 20px;background-color: rgb(135, 206, 235);\"></td><td title=\"Index: [4, 5]&#10;Color: (135, 206, 235)\" style=\"width: 20px; height: 20px;background-color: rgb(135, 206, 235);\"></td><td title=\"Index: [4, 6]&#10;Color: (135, 206, 235)\" style=\"width: 20px; height: 20px;background-color: rgb(135, 206, 235);\"></td><td title=\"Index: [4, 7]&#10;Color: (135, 206, 235)\" style=\"width: 20px; height: 20px;background-color: rgb(135, 206, 235);\"></td></tr><tr><td title=\"Index: [5, 0]&#10;Color: (135, 206, 235)\" style=\"width: 20px; height: 20px;background-color: rgb(135, 206, 235);\"></td><td title=\"Index: [5, 1]&#10;Color: (135, 206, 235)\" style=\"width: 20px; height: 20px;background-color: rgb(135, 206, 235);\"></td><td title=\"Index: [5, 2]&#10;Color: (135, 206, 235)\" style=\"width: 20px; height: 20px;background-color: rgb(135, 206, 235);\"></td><td title=\"Index: [5, 3]&#10;Color: (135, 206, 235)\" style=\"width: 20px; height: 20px;background-color: rgb(135, 206, 235);\"></td><td title=\"Index: [5, 4]&#10;Color: (135, 206, 235)\" style=\"width: 20px; height: 20px;background-color: rgb(135, 206, 235);\"></td><td title=\"Index: [5, 5]&#10;Color: (135, 206, 235)\" style=\"width: 20px; height: 20px;background-color: rgb(135, 206, 235);\"></td><td title=\"Index: [5, 6]&#10;Color: (135, 206, 235)\" style=\"width: 20px; height: 20px;background-color: rgb(135, 206, 235);\"></td><td title=\"Index: [5, 7]&#10;Color: (135, 206, 235)\" style=\"width: 20px; height: 20px;background-color: rgb(135, 206, 235);\"></td></tr><tr><td title=\"Index: [6, 0]&#10;Color: (135, 206, 235)\" style=\"width: 20px; height: 20px;background-color: rgb(135, 206, 235);\"></td><td title=\"Index: [6, 1]&#10;Color: (135, 206, 235)\" style=\"width: 20px; height: 20px;background-color: rgb(135, 206, 235);\"></td><td title=\"Index: [6, 2]&#10;Color: (135, 206, 235)\" style=\"width: 20px; height: 20px;background-color: rgb(135, 206, 235);\"></td><td title=\"Index: [6, 3]&#10;Color: (135, 206, 235)\" style=\"width: 20px; height: 20px;background-color: rgb(135, 206, 235);\"></td><td title=\"Index: [6, 4]&#10;Color: (135, 206, 235)\" style=\"width: 20px; height: 20px;background-color: rgb(135, 206, 235);\"></td><td title=\"Index: [6, 5]&#10;Color: (135, 206, 235)\" style=\"width: 20px; height: 20px;background-color: rgb(135, 206, 235);\"></td><td title=\"Index: [6, 6]&#10;Color: (135, 206, 235)\" style=\"width: 20px; height: 20px;background-color: rgb(135, 206, 235);\"></td><td title=\"Index: [6, 7]&#10;Color: (135, 206, 235)\" style=\"width: 20px; height: 20px;background-color: rgb(135, 206, 235);\"></td></tr><tr><td title=\"Index: [7, 0]&#10;Color: (135, 206, 235)\" style=\"width: 20px; height: 20px;background-color: rgb(135, 206, 235);\"></td><td title=\"Index: [7, 1]&#10;Color: (135, 206, 235)\" style=\"width: 20px; height: 20px;background-color: rgb(135, 206, 235);\"></td><td title=\"Index: [7, 2]&#10;Color: (135, 206, 235)\" style=\"width: 20px; height: 20px;background-color: rgb(135, 206, 235);\"></td><td title=\"Index: [7, 3]&#10;Color: (135, 206, 235)\" style=\"width: 20px; height: 20px;background-color: rgb(135, 206, 235);\"></td><td title=\"Index: [7, 4]&#10;Color: (135, 206, 235)\" style=\"width: 20px; height: 20px;background-color: rgb(135, 206, 235);\"></td><td title=\"Index: [7, 5]&#10;Color: (135, 206, 235)\" style=\"width: 20px; height: 20px;background-color: rgb(135, 206, 235);\"></td><td title=\"Index: [7, 6]&#10;Color: (135, 206, 235)\" style=\"width: 20px; height: 20px;background-color: rgb(135, 206, 235);\"></td><td title=\"Index: [7, 7]&#10;Color: (135, 206, 235)\" style=\"width: 20px; height: 20px;background-color: rgb(135, 206, 235);\"></td></tr></tbody></table>"
       ],
       "metadata": {},
       "output_type": "display_data",
       "text": [
        "<IPython.core.display.HTML at 0x2623ad0>"
       ]
      },
      {
       "output_type": "stream",
       "stream": "stdout",
       "text": [
        "None\n"
       ]
      },
      {
       "name": "stdout",
       "output_type": "stream",
       "stream": "stdout",
       "text": [
        "Guess Row:8\n"
       ]
      },
      {
       "name": "stdout",
       "output_type": "stream",
       "stream": "stdout",
       "text": [
        "Guess Col:8\n"
       ]
      },
      {
       "output_type": "stream",
       "stream": "stdout",
       "text": [
        "Turn 1\n",
        "You missed my battleship!\n"
       ]
      },
      {
       "html": [
        "<style type=\"text/css\">table.blockgrid {border: none;} .blockgrid tr {border: none;} .blockgrid td {padding: 0px;} #blocks15753786-3b8b-4df6-a98c-36e794e68ce1 td {border: 1px solid white;}</style><table id=\"blocks15753786-3b8b-4df6-a98c-36e794e68ce1\" class=\"blockgrid\"><tbody><tr><td title=\"Index: [0, 0]&#10;Color: (135, 206, 235)\" style=\"width: 20px; height: 20px;background-color: rgb(135, 206, 235);\"></td><td title=\"Index: [0, 1]&#10;Color: (135, 206, 235)\" style=\"width: 20px; height: 20px;background-color: rgb(135, 206, 235);\"></td><td title=\"Index: [0, 2]&#10;Color: (135, 206, 235)\" style=\"width: 20px; height: 20px;background-color: rgb(135, 206, 235);\"></td><td title=\"Index: [0, 3]&#10;Color: (135, 206, 235)\" style=\"width: 20px; height: 20px;background-color: rgb(135, 206, 235);\"></td><td title=\"Index: [0, 4]&#10;Color: (135, 206, 235)\" style=\"width: 20px; height: 20px;background-color: rgb(135, 206, 235);\"></td><td title=\"Index: [0, 5]&#10;Color: (135, 206, 235)\" style=\"width: 20px; height: 20px;background-color: rgb(135, 206, 235);\"></td><td title=\"Index: [0, 6]&#10;Color: (135, 206, 235)\" style=\"width: 20px; height: 20px;background-color: rgb(135, 206, 235);\"></td><td title=\"Index: [0, 7]&#10;Color: (135, 206, 235)\" style=\"width: 20px; height: 20px;background-color: rgb(135, 206, 235);\"></td></tr><tr><td title=\"Index: [1, 0]&#10;Color: (135, 206, 235)\" style=\"width: 20px; height: 20px;background-color: rgb(135, 206, 235);\"></td><td title=\"Index: [1, 1]&#10;Color: (135, 206, 235)\" style=\"width: 20px; height: 20px;background-color: rgb(135, 206, 235);\"></td><td title=\"Index: [1, 2]&#10;Color: (135, 206, 235)\" style=\"width: 20px; height: 20px;background-color: rgb(135, 206, 235);\"></td><td title=\"Index: [1, 3]&#10;Color: (135, 206, 235)\" style=\"width: 20px; height: 20px;background-color: rgb(135, 206, 235);\"></td><td title=\"Index: [1, 4]&#10;Color: (135, 206, 235)\" style=\"width: 20px; height: 20px;background-color: rgb(135, 206, 235);\"></td><td title=\"Index: [1, 5]&#10;Color: (135, 206, 235)\" style=\"width: 20px; height: 20px;background-color: rgb(135, 206, 235);\"></td><td title=\"Index: [1, 6]&#10;Color: (135, 206, 235)\" style=\"width: 20px; height: 20px;background-color: rgb(135, 206, 235);\"></td><td title=\"Index: [1, 7]&#10;Color: (135, 206, 235)\" style=\"width: 20px; height: 20px;background-color: rgb(135, 206, 235);\"></td></tr><tr><td title=\"Index: [2, 0]&#10;Color: (135, 206, 235)\" style=\"width: 20px; height: 20px;background-color: rgb(135, 206, 235);\"></td><td title=\"Index: [2, 1]&#10;Color: (135, 206, 235)\" style=\"width: 20px; height: 20px;background-color: rgb(135, 206, 235);\"></td><td title=\"Index: [2, 2]&#10;Color: (135, 206, 235)\" style=\"width: 20px; height: 20px;background-color: rgb(135, 206, 235);\"></td><td title=\"Index: [2, 3]&#10;Color: (135, 206, 235)\" style=\"width: 20px; height: 20px;background-color: rgb(135, 206, 235);\"></td><td title=\"Index: [2, 4]&#10;Color: (135, 206, 235)\" style=\"width: 20px; height: 20px;background-color: rgb(135, 206, 235);\"></td><td title=\"Index: [2, 5]&#10;Color: (135, 206, 235)\" style=\"width: 20px; height: 20px;background-color: rgb(135, 206, 235);\"></td><td title=\"Index: [2, 6]&#10;Color: (135, 206, 235)\" style=\"width: 20px; height: 20px;background-color: rgb(135, 206, 235);\"></td><td title=\"Index: [2, 7]&#10;Color: (135, 206, 235)\" style=\"width: 20px; height: 20px;background-color: rgb(135, 206, 235);\"></td></tr><tr><td title=\"Index: [3, 0]&#10;Color: (135, 206, 235)\" style=\"width: 20px; height: 20px;background-color: rgb(135, 206, 235);\"></td><td title=\"Index: [3, 1]&#10;Color: (135, 206, 235)\" style=\"width: 20px; height: 20px;background-color: rgb(135, 206, 235);\"></td><td title=\"Index: [3, 2]&#10;Color: (135, 206, 235)\" style=\"width: 20px; height: 20px;background-color: rgb(135, 206, 235);\"></td><td title=\"Index: [3, 3]&#10;Color: (135, 206, 235)\" style=\"width: 20px; height: 20px;background-color: rgb(135, 206, 235);\"></td><td title=\"Index: [3, 4]&#10;Color: (135, 206, 235)\" style=\"width: 20px; height: 20px;background-color: rgb(135, 206, 235);\"></td><td title=\"Index: [3, 5]&#10;Color: (135, 206, 235)\" style=\"width: 20px; height: 20px;background-color: rgb(135, 206, 235);\"></td><td title=\"Index: [3, 6]&#10;Color: (135, 206, 235)\" style=\"width: 20px; height: 20px;background-color: rgb(135, 206, 235);\"></td><td title=\"Index: [3, 7]&#10;Color: (135, 206, 235)\" style=\"width: 20px; height: 20px;background-color: rgb(135, 206, 235);\"></td></tr><tr><td title=\"Index: [4, 0]&#10;Color: (135, 206, 235)\" style=\"width: 20px; height: 20px;background-color: rgb(135, 206, 235);\"></td><td title=\"Index: [4, 1]&#10;Color: (135, 206, 235)\" style=\"width: 20px; height: 20px;background-color: rgb(135, 206, 235);\"></td><td title=\"Index: [4, 2]&#10;Color: (135, 206, 235)\" style=\"width: 20px; height: 20px;background-color: rgb(135, 206, 235);\"></td><td title=\"Index: [4, 3]&#10;Color: (135, 206, 235)\" style=\"width: 20px; height: 20px;background-color: rgb(135, 206, 235);\"></td><td title=\"Index: [4, 4]&#10;Color: (135, 206, 235)\" style=\"width: 20px; height: 20px;background-color: rgb(135, 206, 235);\"></td><td title=\"Index: [4, 5]&#10;Color: (135, 206, 235)\" style=\"width: 20px; height: 20px;background-color: rgb(135, 206, 235);\"></td><td title=\"Index: [4, 6]&#10;Color: (135, 206, 235)\" style=\"width: 20px; height: 20px;background-color: rgb(135, 206, 235);\"></td><td title=\"Index: [4, 7]&#10;Color: (135, 206, 235)\" style=\"width: 20px; height: 20px;background-color: rgb(135, 206, 235);\"></td></tr><tr><td title=\"Index: [5, 0]&#10;Color: (135, 206, 235)\" style=\"width: 20px; height: 20px;background-color: rgb(135, 206, 235);\"></td><td title=\"Index: [5, 1]&#10;Color: (135, 206, 235)\" style=\"width: 20px; height: 20px;background-color: rgb(135, 206, 235);\"></td><td title=\"Index: [5, 2]&#10;Color: (135, 206, 235)\" style=\"width: 20px; height: 20px;background-color: rgb(135, 206, 235);\"></td><td title=\"Index: [5, 3]&#10;Color: (135, 206, 235)\" style=\"width: 20px; height: 20px;background-color: rgb(135, 206, 235);\"></td><td title=\"Index: [5, 4]&#10;Color: (135, 206, 235)\" style=\"width: 20px; height: 20px;background-color: rgb(135, 206, 235);\"></td><td title=\"Index: [5, 5]&#10;Color: (135, 206, 235)\" style=\"width: 20px; height: 20px;background-color: rgb(135, 206, 235);\"></td><td title=\"Index: [5, 6]&#10;Color: (135, 206, 235)\" style=\"width: 20px; height: 20px;background-color: rgb(135, 206, 235);\"></td><td title=\"Index: [5, 7]&#10;Color: (135, 206, 235)\" style=\"width: 20px; height: 20px;background-color: rgb(135, 206, 235);\"></td></tr><tr><td title=\"Index: [6, 0]&#10;Color: (135, 206, 235)\" style=\"width: 20px; height: 20px;background-color: rgb(135, 206, 235);\"></td><td title=\"Index: [6, 1]&#10;Color: (135, 206, 235)\" style=\"width: 20px; height: 20px;background-color: rgb(135, 206, 235);\"></td><td title=\"Index: [6, 2]&#10;Color: (135, 206, 235)\" style=\"width: 20px; height: 20px;background-color: rgb(135, 206, 235);\"></td><td title=\"Index: [6, 3]&#10;Color: (135, 206, 235)\" style=\"width: 20px; height: 20px;background-color: rgb(135, 206, 235);\"></td><td title=\"Index: [6, 4]&#10;Color: (135, 206, 235)\" style=\"width: 20px; height: 20px;background-color: rgb(135, 206, 235);\"></td><td title=\"Index: [6, 5]&#10;Color: (135, 206, 235)\" style=\"width: 20px; height: 20px;background-color: rgb(135, 206, 235);\"></td><td title=\"Index: [6, 6]&#10;Color: (135, 206, 235)\" style=\"width: 20px; height: 20px;background-color: rgb(135, 206, 235);\"></td><td title=\"Index: [6, 7]&#10;Color: (135, 206, 235)\" style=\"width: 20px; height: 20px;background-color: rgb(135, 206, 235);\"></td></tr><tr><td title=\"Index: [7, 0]&#10;Color: (135, 206, 235)\" style=\"width: 20px; height: 20px;background-color: rgb(135, 206, 235);\"></td><td title=\"Index: [7, 1]&#10;Color: (135, 206, 235)\" style=\"width: 20px; height: 20px;background-color: rgb(135, 206, 235);\"></td><td title=\"Index: [7, 2]&#10;Color: (135, 206, 235)\" style=\"width: 20px; height: 20px;background-color: rgb(135, 206, 235);\"></td><td title=\"Index: [7, 3]&#10;Color: (135, 206, 235)\" style=\"width: 20px; height: 20px;background-color: rgb(135, 206, 235);\"></td><td title=\"Index: [7, 4]&#10;Color: (135, 206, 235)\" style=\"width: 20px; height: 20px;background-color: rgb(135, 206, 235);\"></td><td title=\"Index: [7, 5]&#10;Color: (135, 206, 235)\" style=\"width: 20px; height: 20px;background-color: rgb(135, 206, 235);\"></td><td title=\"Index: [7, 6]&#10;Color: (135, 206, 235)\" style=\"width: 20px; height: 20px;background-color: rgb(135, 206, 235);\"></td><td title=\"Index: [7, 7]&#10;Color: (0, 0, 0)\" style=\"width: 20px; height: 20px;background-color: rgb(0, 0, 0);\"></td></tr></tbody></table>"
       ],
       "metadata": {},
       "output_type": "display_data",
       "text": [
        "<IPython.core.display.HTML at 0x2623b50>"
       ]
      },
      {
       "output_type": "stream",
       "stream": "stdout",
       "text": [
        "None\n"
       ]
      },
      {
       "name": "stdout",
       "output_type": "stream",
       "stream": "stdout",
       "text": [
        "Guess Row:7\n"
       ]
      },
      {
       "name": "stdout",
       "output_type": "stream",
       "stream": "stdout",
       "text": [
        "Guess Col:7\n"
       ]
      },
      {
       "output_type": "stream",
       "stream": "stdout",
       "text": [
        "Turn 2\n",
        "You missed my battleship!\n"
       ]
      },
      {
       "html": [
        "<style type=\"text/css\">table.blockgrid {border: none;} .blockgrid tr {border: none;} .blockgrid td {padding: 0px;} #blocks1155ddaa-7526-4ba5-b8a9-a2192ba558ad td {border: 1px solid white;}</style><table id=\"blocks1155ddaa-7526-4ba5-b8a9-a2192ba558ad\" class=\"blockgrid\"><tbody><tr><td title=\"Index: [0, 0]&#10;Color: (135, 206, 235)\" style=\"width: 20px; height: 20px;background-color: rgb(135, 206, 235);\"></td><td title=\"Index: [0, 1]&#10;Color: (135, 206, 235)\" style=\"width: 20px; height: 20px;background-color: rgb(135, 206, 235);\"></td><td title=\"Index: [0, 2]&#10;Color: (135, 206, 235)\" style=\"width: 20px; height: 20px;background-color: rgb(135, 206, 235);\"></td><td title=\"Index: [0, 3]&#10;Color: (135, 206, 235)\" style=\"width: 20px; height: 20px;background-color: rgb(135, 206, 235);\"></td><td title=\"Index: [0, 4]&#10;Color: (135, 206, 235)\" style=\"width: 20px; height: 20px;background-color: rgb(135, 206, 235);\"></td><td title=\"Index: [0, 5]&#10;Color: (135, 206, 235)\" style=\"width: 20px; height: 20px;background-color: rgb(135, 206, 235);\"></td><td title=\"Index: [0, 6]&#10;Color: (135, 206, 235)\" style=\"width: 20px; height: 20px;background-color: rgb(135, 206, 235);\"></td><td title=\"Index: [0, 7]&#10;Color: (135, 206, 235)\" style=\"width: 20px; height: 20px;background-color: rgb(135, 206, 235);\"></td></tr><tr><td title=\"Index: [1, 0]&#10;Color: (135, 206, 235)\" style=\"width: 20px; height: 20px;background-color: rgb(135, 206, 235);\"></td><td title=\"Index: [1, 1]&#10;Color: (135, 206, 235)\" style=\"width: 20px; height: 20px;background-color: rgb(135, 206, 235);\"></td><td title=\"Index: [1, 2]&#10;Color: (135, 206, 235)\" style=\"width: 20px; height: 20px;background-color: rgb(135, 206, 235);\"></td><td title=\"Index: [1, 3]&#10;Color: (135, 206, 235)\" style=\"width: 20px; height: 20px;background-color: rgb(135, 206, 235);\"></td><td title=\"Index: [1, 4]&#10;Color: (135, 206, 235)\" style=\"width: 20px; height: 20px;background-color: rgb(135, 206, 235);\"></td><td title=\"Index: [1, 5]&#10;Color: (135, 206, 235)\" style=\"width: 20px; height: 20px;background-color: rgb(135, 206, 235);\"></td><td title=\"Index: [1, 6]&#10;Color: (135, 206, 235)\" style=\"width: 20px; height: 20px;background-color: rgb(135, 206, 235);\"></td><td title=\"Index: [1, 7]&#10;Color: (135, 206, 235)\" style=\"width: 20px; height: 20px;background-color: rgb(135, 206, 235);\"></td></tr><tr><td title=\"Index: [2, 0]&#10;Color: (135, 206, 235)\" style=\"width: 20px; height: 20px;background-color: rgb(135, 206, 235);\"></td><td title=\"Index: [2, 1]&#10;Color: (135, 206, 235)\" style=\"width: 20px; height: 20px;background-color: rgb(135, 206, 235);\"></td><td title=\"Index: [2, 2]&#10;Color: (135, 206, 235)\" style=\"width: 20px; height: 20px;background-color: rgb(135, 206, 235);\"></td><td title=\"Index: [2, 3]&#10;Color: (135, 206, 235)\" style=\"width: 20px; height: 20px;background-color: rgb(135, 206, 235);\"></td><td title=\"Index: [2, 4]&#10;Color: (135, 206, 235)\" style=\"width: 20px; height: 20px;background-color: rgb(135, 206, 235);\"></td><td title=\"Index: [2, 5]&#10;Color: (135, 206, 235)\" style=\"width: 20px; height: 20px;background-color: rgb(135, 206, 235);\"></td><td title=\"Index: [2, 6]&#10;Color: (135, 206, 235)\" style=\"width: 20px; height: 20px;background-color: rgb(135, 206, 235);\"></td><td title=\"Index: [2, 7]&#10;Color: (135, 206, 235)\" style=\"width: 20px; height: 20px;background-color: rgb(135, 206, 235);\"></td></tr><tr><td title=\"Index: [3, 0]&#10;Color: (135, 206, 235)\" style=\"width: 20px; height: 20px;background-color: rgb(135, 206, 235);\"></td><td title=\"Index: [3, 1]&#10;Color: (135, 206, 235)\" style=\"width: 20px; height: 20px;background-color: rgb(135, 206, 235);\"></td><td title=\"Index: [3, 2]&#10;Color: (135, 206, 235)\" style=\"width: 20px; height: 20px;background-color: rgb(135, 206, 235);\"></td><td title=\"Index: [3, 3]&#10;Color: (135, 206, 235)\" style=\"width: 20px; height: 20px;background-color: rgb(135, 206, 235);\"></td><td title=\"Index: [3, 4]&#10;Color: (135, 206, 235)\" style=\"width: 20px; height: 20px;background-color: rgb(135, 206, 235);\"></td><td title=\"Index: [3, 5]&#10;Color: (135, 206, 235)\" style=\"width: 20px; height: 20px;background-color: rgb(135, 206, 235);\"></td><td title=\"Index: [3, 6]&#10;Color: (135, 206, 235)\" style=\"width: 20px; height: 20px;background-color: rgb(135, 206, 235);\"></td><td title=\"Index: [3, 7]&#10;Color: (135, 206, 235)\" style=\"width: 20px; height: 20px;background-color: rgb(135, 206, 235);\"></td></tr><tr><td title=\"Index: [4, 0]&#10;Color: (135, 206, 235)\" style=\"width: 20px; height: 20px;background-color: rgb(135, 206, 235);\"></td><td title=\"Index: [4, 1]&#10;Color: (135, 206, 235)\" style=\"width: 20px; height: 20px;background-color: rgb(135, 206, 235);\"></td><td title=\"Index: [4, 2]&#10;Color: (135, 206, 235)\" style=\"width: 20px; height: 20px;background-color: rgb(135, 206, 235);\"></td><td title=\"Index: [4, 3]&#10;Color: (135, 206, 235)\" style=\"width: 20px; height: 20px;background-color: rgb(135, 206, 235);\"></td><td title=\"Index: [4, 4]&#10;Color: (135, 206, 235)\" style=\"width: 20px; height: 20px;background-color: rgb(135, 206, 235);\"></td><td title=\"Index: [4, 5]&#10;Color: (135, 206, 235)\" style=\"width: 20px; height: 20px;background-color: rgb(135, 206, 235);\"></td><td title=\"Index: [4, 6]&#10;Color: (135, 206, 235)\" style=\"width: 20px; height: 20px;background-color: rgb(135, 206, 235);\"></td><td title=\"Index: [4, 7]&#10;Color: (135, 206, 235)\" style=\"width: 20px; height: 20px;background-color: rgb(135, 206, 235);\"></td></tr><tr><td title=\"Index: [5, 0]&#10;Color: (135, 206, 235)\" style=\"width: 20px; height: 20px;background-color: rgb(135, 206, 235);\"></td><td title=\"Index: [5, 1]&#10;Color: (135, 206, 235)\" style=\"width: 20px; height: 20px;background-color: rgb(135, 206, 235);\"></td><td title=\"Index: [5, 2]&#10;Color: (135, 206, 235)\" style=\"width: 20px; height: 20px;background-color: rgb(135, 206, 235);\"></td><td title=\"Index: [5, 3]&#10;Color: (135, 206, 235)\" style=\"width: 20px; height: 20px;background-color: rgb(135, 206, 235);\"></td><td title=\"Index: [5, 4]&#10;Color: (135, 206, 235)\" style=\"width: 20px; height: 20px;background-color: rgb(135, 206, 235);\"></td><td title=\"Index: [5, 5]&#10;Color: (135, 206, 235)\" style=\"width: 20px; height: 20px;background-color: rgb(135, 206, 235);\"></td><td title=\"Index: [5, 6]&#10;Color: (135, 206, 235)\" style=\"width: 20px; height: 20px;background-color: rgb(135, 206, 235);\"></td><td title=\"Index: [5, 7]&#10;Color: (135, 206, 235)\" style=\"width: 20px; height: 20px;background-color: rgb(135, 206, 235);\"></td></tr><tr><td title=\"Index: [6, 0]&#10;Color: (135, 206, 235)\" style=\"width: 20px; height: 20px;background-color: rgb(135, 206, 235);\"></td><td title=\"Index: [6, 1]&#10;Color: (135, 206, 235)\" style=\"width: 20px; height: 20px;background-color: rgb(135, 206, 235);\"></td><td title=\"Index: [6, 2]&#10;Color: (135, 206, 235)\" style=\"width: 20px; height: 20px;background-color: rgb(135, 206, 235);\"></td><td title=\"Index: [6, 3]&#10;Color: (135, 206, 235)\" style=\"width: 20px; height: 20px;background-color: rgb(135, 206, 235);\"></td><td title=\"Index: [6, 4]&#10;Color: (135, 206, 235)\" style=\"width: 20px; height: 20px;background-color: rgb(135, 206, 235);\"></td><td title=\"Index: [6, 5]&#10;Color: (135, 206, 235)\" style=\"width: 20px; height: 20px;background-color: rgb(135, 206, 235);\"></td><td title=\"Index: [6, 6]&#10;Color: (0, 0, 0)\" style=\"width: 20px; height: 20px;background-color: rgb(0, 0, 0);\"></td><td title=\"Index: [6, 7]&#10;Color: (135, 206, 235)\" style=\"width: 20px; height: 20px;background-color: rgb(135, 206, 235);\"></td></tr><tr><td title=\"Index: [7, 0]&#10;Color: (135, 206, 235)\" style=\"width: 20px; height: 20px;background-color: rgb(135, 206, 235);\"></td><td title=\"Index: [7, 1]&#10;Color: (135, 206, 235)\" style=\"width: 20px; height: 20px;background-color: rgb(135, 206, 235);\"></td><td title=\"Index: [7, 2]&#10;Color: (135, 206, 235)\" style=\"width: 20px; height: 20px;background-color: rgb(135, 206, 235);\"></td><td title=\"Index: [7, 3]&#10;Color: (135, 206, 235)\" style=\"width: 20px; height: 20px;background-color: rgb(135, 206, 235);\"></td><td title=\"Index: [7, 4]&#10;Color: (135, 206, 235)\" style=\"width: 20px; height: 20px;background-color: rgb(135, 206, 235);\"></td><td title=\"Index: [7, 5]&#10;Color: (135, 206, 235)\" style=\"width: 20px; height: 20px;background-color: rgb(135, 206, 235);\"></td><td title=\"Index: [7, 6]&#10;Color: (135, 206, 235)\" style=\"width: 20px; height: 20px;background-color: rgb(135, 206, 235);\"></td><td title=\"Index: [7, 7]&#10;Color: (0, 0, 0)\" style=\"width: 20px; height: 20px;background-color: rgb(0, 0, 0);\"></td></tr></tbody></table>"
       ],
       "metadata": {},
       "output_type": "display_data",
       "text": [
        "<IPython.core.display.HTML at 0x2623b10>"
       ]
      },
      {
       "output_type": "stream",
       "stream": "stdout",
       "text": [
        "None\n"
       ]
      },
      {
       "name": "stdout",
       "output_type": "stream",
       "stream": "stdout",
       "text": [
        "Guess Row:6\n"
       ]
      },
      {
       "name": "stdout",
       "output_type": "stream",
       "stream": "stdout",
       "text": [
        "Guess Col:6\n"
       ]
      },
      {
       "output_type": "stream",
       "stream": "stdout",
       "text": [
        "Turn 3\n"
       ]
      },
      {
       "html": [
        "<style type=\"text/css\">table.blockgrid {border: none;} .blockgrid tr {border: none;} .blockgrid td {padding: 0px;} #blocks38850e16-f5f7-47c7-920c-19f953a5c7cb td {border: 1px solid white;}</style><table id=\"blocks38850e16-f5f7-47c7-920c-19f953a5c7cb\" class=\"blockgrid\"><tbody><tr><td title=\"Index: [0, 0]&#10;Color: (135, 206, 235)\" style=\"width: 20px; height: 20px;background-color: rgb(135, 206, 235);\"></td><td title=\"Index: [0, 1]&#10;Color: (135, 206, 235)\" style=\"width: 20px; height: 20px;background-color: rgb(135, 206, 235);\"></td><td title=\"Index: [0, 2]&#10;Color: (135, 206, 235)\" style=\"width: 20px; height: 20px;background-color: rgb(135, 206, 235);\"></td><td title=\"Index: [0, 3]&#10;Color: (135, 206, 235)\" style=\"width: 20px; height: 20px;background-color: rgb(135, 206, 235);\"></td><td title=\"Index: [0, 4]&#10;Color: (135, 206, 235)\" style=\"width: 20px; height: 20px;background-color: rgb(135, 206, 235);\"></td><td title=\"Index: [0, 5]&#10;Color: (135, 206, 235)\" style=\"width: 20px; height: 20px;background-color: rgb(135, 206, 235);\"></td><td title=\"Index: [0, 6]&#10;Color: (135, 206, 235)\" style=\"width: 20px; height: 20px;background-color: rgb(135, 206, 235);\"></td><td title=\"Index: [0, 7]&#10;Color: (135, 206, 235)\" style=\"width: 20px; height: 20px;background-color: rgb(135, 206, 235);\"></td></tr><tr><td title=\"Index: [1, 0]&#10;Color: (135, 206, 235)\" style=\"width: 20px; height: 20px;background-color: rgb(135, 206, 235);\"></td><td title=\"Index: [1, 1]&#10;Color: (250, 250, 3)\" style=\"width: 20px; height: 20px;background-color: rgb(250, 250, 3);\"></td><td title=\"Index: [1, 2]&#10;Color: (135, 206, 235)\" style=\"width: 20px; height: 20px;background-color: rgb(135, 206, 235);\"></td><td title=\"Index: [1, 3]&#10;Color: (135, 206, 235)\" style=\"width: 20px; height: 20px;background-color: rgb(135, 206, 235);\"></td><td title=\"Index: [1, 4]&#10;Color: (135, 206, 235)\" style=\"width: 20px; height: 20px;background-color: rgb(135, 206, 235);\"></td><td title=\"Index: [1, 5]&#10;Color: (135, 206, 235)\" style=\"width: 20px; height: 20px;background-color: rgb(135, 206, 235);\"></td><td title=\"Index: [1, 6]&#10;Color: (135, 206, 235)\" style=\"width: 20px; height: 20px;background-color: rgb(135, 206, 235);\"></td><td title=\"Index: [1, 7]&#10;Color: (135, 206, 235)\" style=\"width: 20px; height: 20px;background-color: rgb(135, 206, 235);\"></td></tr><tr><td title=\"Index: [2, 0]&#10;Color: (135, 206, 235)\" style=\"width: 20px; height: 20px;background-color: rgb(135, 206, 235);\"></td><td title=\"Index: [2, 1]&#10;Color: (135, 206, 235)\" style=\"width: 20px; height: 20px;background-color: rgb(135, 206, 235);\"></td><td title=\"Index: [2, 2]&#10;Color: (135, 206, 235)\" style=\"width: 20px; height: 20px;background-color: rgb(135, 206, 235);\"></td><td title=\"Index: [2, 3]&#10;Color: (135, 206, 235)\" style=\"width: 20px; height: 20px;background-color: rgb(135, 206, 235);\"></td><td title=\"Index: [2, 4]&#10;Color: (135, 206, 235)\" style=\"width: 20px; height: 20px;background-color: rgb(135, 206, 235);\"></td><td title=\"Index: [2, 5]&#10;Color: (135, 206, 235)\" style=\"width: 20px; height: 20px;background-color: rgb(135, 206, 235);\"></td><td title=\"Index: [2, 6]&#10;Color: (135, 206, 235)\" style=\"width: 20px; height: 20px;background-color: rgb(135, 206, 235);\"></td><td title=\"Index: [2, 7]&#10;Color: (135, 206, 235)\" style=\"width: 20px; height: 20px;background-color: rgb(135, 206, 235);\"></td></tr><tr><td title=\"Index: [3, 0]&#10;Color: (135, 206, 235)\" style=\"width: 20px; height: 20px;background-color: rgb(135, 206, 235);\"></td><td title=\"Index: [3, 1]&#10;Color: (135, 206, 235)\" style=\"width: 20px; height: 20px;background-color: rgb(135, 206, 235);\"></td><td title=\"Index: [3, 2]&#10;Color: (135, 206, 235)\" style=\"width: 20px; height: 20px;background-color: rgb(135, 206, 235);\"></td><td title=\"Index: [3, 3]&#10;Color: (135, 206, 235)\" style=\"width: 20px; height: 20px;background-color: rgb(135, 206, 235);\"></td><td title=\"Index: [3, 4]&#10;Color: (135, 206, 235)\" style=\"width: 20px; height: 20px;background-color: rgb(135, 206, 235);\"></td><td title=\"Index: [3, 5]&#10;Color: (135, 206, 235)\" style=\"width: 20px; height: 20px;background-color: rgb(135, 206, 235);\"></td><td title=\"Index: [3, 6]&#10;Color: (135, 206, 235)\" style=\"width: 20px; height: 20px;background-color: rgb(135, 206, 235);\"></td><td title=\"Index: [3, 7]&#10;Color: (135, 206, 235)\" style=\"width: 20px; height: 20px;background-color: rgb(135, 206, 235);\"></td></tr><tr><td title=\"Index: [4, 0]&#10;Color: (135, 206, 235)\" style=\"width: 20px; height: 20px;background-color: rgb(135, 206, 235);\"></td><td title=\"Index: [4, 1]&#10;Color: (135, 206, 235)\" style=\"width: 20px; height: 20px;background-color: rgb(135, 206, 235);\"></td><td title=\"Index: [4, 2]&#10;Color: (135, 206, 235)\" style=\"width: 20px; height: 20px;background-color: rgb(135, 206, 235);\"></td><td title=\"Index: [4, 3]&#10;Color: (135, 206, 235)\" style=\"width: 20px; height: 20px;background-color: rgb(135, 206, 235);\"></td><td title=\"Index: [4, 4]&#10;Color: (135, 206, 235)\" style=\"width: 20px; height: 20px;background-color: rgb(135, 206, 235);\"></td><td title=\"Index: [4, 5]&#10;Color: (135, 206, 235)\" style=\"width: 20px; height: 20px;background-color: rgb(135, 206, 235);\"></td><td title=\"Index: [4, 6]&#10;Color: (135, 206, 235)\" style=\"width: 20px; height: 20px;background-color: rgb(135, 206, 235);\"></td><td title=\"Index: [4, 7]&#10;Color: (135, 206, 235)\" style=\"width: 20px; height: 20px;background-color: rgb(135, 206, 235);\"></td></tr><tr><td title=\"Index: [5, 0]&#10;Color: (135, 206, 235)\" style=\"width: 20px; height: 20px;background-color: rgb(135, 206, 235);\"></td><td title=\"Index: [5, 1]&#10;Color: (135, 206, 235)\" style=\"width: 20px; height: 20px;background-color: rgb(135, 206, 235);\"></td><td title=\"Index: [5, 2]&#10;Color: (135, 206, 235)\" style=\"width: 20px; height: 20px;background-color: rgb(135, 206, 235);\"></td><td title=\"Index: [5, 3]&#10;Color: (135, 206, 235)\" style=\"width: 20px; height: 20px;background-color: rgb(135, 206, 235);\"></td><td title=\"Index: [5, 4]&#10;Color: (135, 206, 235)\" style=\"width: 20px; height: 20px;background-color: rgb(135, 206, 235);\"></td><td title=\"Index: [5, 5]&#10;Color: (135, 206, 235)\" style=\"width: 20px; height: 20px;background-color: rgb(135, 206, 235);\"></td><td title=\"Index: [5, 6]&#10;Color: (135, 206, 235)\" style=\"width: 20px; height: 20px;background-color: rgb(135, 206, 235);\"></td><td title=\"Index: [5, 7]&#10;Color: (135, 206, 235)\" style=\"width: 20px; height: 20px;background-color: rgb(135, 206, 235);\"></td></tr><tr><td title=\"Index: [6, 0]&#10;Color: (135, 206, 235)\" style=\"width: 20px; height: 20px;background-color: rgb(135, 206, 235);\"></td><td title=\"Index: [6, 1]&#10;Color: (135, 206, 235)\" style=\"width: 20px; height: 20px;background-color: rgb(135, 206, 235);\"></td><td title=\"Index: [6, 2]&#10;Color: (135, 206, 235)\" style=\"width: 20px; height: 20px;background-color: rgb(135, 206, 235);\"></td><td title=\"Index: [6, 3]&#10;Color: (135, 206, 235)\" style=\"width: 20px; height: 20px;background-color: rgb(135, 206, 235);\"></td><td title=\"Index: [6, 4]&#10;Color: (135, 206, 235)\" style=\"width: 20px; height: 20px;background-color: rgb(135, 206, 235);\"></td><td title=\"Index: [6, 5]&#10;Color: (135, 206, 235)\" style=\"width: 20px; height: 20px;background-color: rgb(135, 206, 235);\"></td><td title=\"Index: [6, 6]&#10;Color: (0, 0, 0)\" style=\"width: 20px; height: 20px;background-color: rgb(0, 0, 0);\"></td><td title=\"Index: [6, 7]&#10;Color: (135, 206, 235)\" style=\"width: 20px; height: 20px;background-color: rgb(135, 206, 235);\"></td></tr><tr><td title=\"Index: [7, 0]&#10;Color: (135, 206, 235)\" style=\"width: 20px; height: 20px;background-color: rgb(135, 206, 235);\"></td><td title=\"Index: [7, 1]&#10;Color: (135, 206, 235)\" style=\"width: 20px; height: 20px;background-color: rgb(135, 206, 235);\"></td><td title=\"Index: [7, 2]&#10;Color: (135, 206, 235)\" style=\"width: 20px; height: 20px;background-color: rgb(135, 206, 235);\"></td><td title=\"Index: [7, 3]&#10;Color: (135, 206, 235)\" style=\"width: 20px; height: 20px;background-color: rgb(135, 206, 235);\"></td><td title=\"Index: [7, 4]&#10;Color: (135, 206, 235)\" style=\"width: 20px; height: 20px;background-color: rgb(135, 206, 235);\"></td><td title=\"Index: [7, 5]&#10;Color: (135, 206, 235)\" style=\"width: 20px; height: 20px;background-color: rgb(135, 206, 235);\"></td><td title=\"Index: [7, 6]&#10;Color: (135, 206, 235)\" style=\"width: 20px; height: 20px;background-color: rgb(135, 206, 235);\"></td><td title=\"Index: [7, 7]&#10;Color: (0, 0, 0)\" style=\"width: 20px; height: 20px;background-color: rgb(0, 0, 0);\"></td></tr></tbody></table>"
       ],
       "metadata": {},
       "output_type": "display_data",
       "text": [
        "<IPython.core.display.HTML at 0x2623c10>"
       ]
      },
      {
       "output_type": "stream",
       "stream": "stdout",
       "text": [
        "Game Over.\n"
       ]
      },
      {
       "html": [
        "<style type=\"text/css\">table.blockgrid {border: none;} .blockgrid tr {border: none;} .blockgrid td {padding: 0px;} #blocksd1786094-880f-4cd9-a3f6-fec57dbeebc6 td {border: 1px solid white;}</style><table id=\"blocksd1786094-880f-4cd9-a3f6-fec57dbeebc6\" class=\"blockgrid\"><tbody><tr><td title=\"Index: [0, 0]&#10;Color: (135, 206, 235)\" style=\"width: 20px; height: 20px;background-color: rgb(135, 206, 235);\"></td><td title=\"Index: [0, 1]&#10;Color: (135, 206, 235)\" style=\"width: 20px; height: 20px;background-color: rgb(135, 206, 235);\"></td><td title=\"Index: [0, 2]&#10;Color: (135, 206, 235)\" style=\"width: 20px; height: 20px;background-color: rgb(135, 206, 235);\"></td><td title=\"Index: [0, 3]&#10;Color: (135, 206, 235)\" style=\"width: 20px; height: 20px;background-color: rgb(135, 206, 235);\"></td><td title=\"Index: [0, 4]&#10;Color: (135, 206, 235)\" style=\"width: 20px; height: 20px;background-color: rgb(135, 206, 235);\"></td><td title=\"Index: [0, 5]&#10;Color: (135, 206, 235)\" style=\"width: 20px; height: 20px;background-color: rgb(135, 206, 235);\"></td><td title=\"Index: [0, 6]&#10;Color: (135, 206, 235)\" style=\"width: 20px; height: 20px;background-color: rgb(135, 206, 235);\"></td><td title=\"Index: [0, 7]&#10;Color: (135, 206, 235)\" style=\"width: 20px; height: 20px;background-color: rgb(135, 206, 235);\"></td></tr><tr><td title=\"Index: [1, 0]&#10;Color: (135, 206, 235)\" style=\"width: 20px; height: 20px;background-color: rgb(135, 206, 235);\"></td><td title=\"Index: [1, 1]&#10;Color: (250, 250, 3)\" style=\"width: 20px; height: 20px;background-color: rgb(250, 250, 3);\"></td><td title=\"Index: [1, 2]&#10;Color: (135, 206, 235)\" style=\"width: 20px; height: 20px;background-color: rgb(135, 206, 235);\"></td><td title=\"Index: [1, 3]&#10;Color: (135, 206, 235)\" style=\"width: 20px; height: 20px;background-color: rgb(135, 206, 235);\"></td><td title=\"Index: [1, 4]&#10;Color: (135, 206, 235)\" style=\"width: 20px; height: 20px;background-color: rgb(135, 206, 235);\"></td><td title=\"Index: [1, 5]&#10;Color: (135, 206, 235)\" style=\"width: 20px; height: 20px;background-color: rgb(135, 206, 235);\"></td><td title=\"Index: [1, 6]&#10;Color: (135, 206, 235)\" style=\"width: 20px; height: 20px;background-color: rgb(135, 206, 235);\"></td><td title=\"Index: [1, 7]&#10;Color: (135, 206, 235)\" style=\"width: 20px; height: 20px;background-color: rgb(135, 206, 235);\"></td></tr><tr><td title=\"Index: [2, 0]&#10;Color: (135, 206, 235)\" style=\"width: 20px; height: 20px;background-color: rgb(135, 206, 235);\"></td><td title=\"Index: [2, 1]&#10;Color: (135, 206, 235)\" style=\"width: 20px; height: 20px;background-color: rgb(135, 206, 235);\"></td><td title=\"Index: [2, 2]&#10;Color: (135, 206, 235)\" style=\"width: 20px; height: 20px;background-color: rgb(135, 206, 235);\"></td><td title=\"Index: [2, 3]&#10;Color: (135, 206, 235)\" style=\"width: 20px; height: 20px;background-color: rgb(135, 206, 235);\"></td><td title=\"Index: [2, 4]&#10;Color: (135, 206, 235)\" style=\"width: 20px; height: 20px;background-color: rgb(135, 206, 235);\"></td><td title=\"Index: [2, 5]&#10;Color: (135, 206, 235)\" style=\"width: 20px; height: 20px;background-color: rgb(135, 206, 235);\"></td><td title=\"Index: [2, 6]&#10;Color: (135, 206, 235)\" style=\"width: 20px; height: 20px;background-color: rgb(135, 206, 235);\"></td><td title=\"Index: [2, 7]&#10;Color: (135, 206, 235)\" style=\"width: 20px; height: 20px;background-color: rgb(135, 206, 235);\"></td></tr><tr><td title=\"Index: [3, 0]&#10;Color: (135, 206, 235)\" style=\"width: 20px; height: 20px;background-color: rgb(135, 206, 235);\"></td><td title=\"Index: [3, 1]&#10;Color: (135, 206, 235)\" style=\"width: 20px; height: 20px;background-color: rgb(135, 206, 235);\"></td><td title=\"Index: [3, 2]&#10;Color: (135, 206, 235)\" style=\"width: 20px; height: 20px;background-color: rgb(135, 206, 235);\"></td><td title=\"Index: [3, 3]&#10;Color: (135, 206, 235)\" style=\"width: 20px; height: 20px;background-color: rgb(135, 206, 235);\"></td><td title=\"Index: [3, 4]&#10;Color: (135, 206, 235)\" style=\"width: 20px; height: 20px;background-color: rgb(135, 206, 235);\"></td><td title=\"Index: [3, 5]&#10;Color: (135, 206, 235)\" style=\"width: 20px; height: 20px;background-color: rgb(135, 206, 235);\"></td><td title=\"Index: [3, 6]&#10;Color: (135, 206, 235)\" style=\"width: 20px; height: 20px;background-color: rgb(135, 206, 235);\"></td><td title=\"Index: [3, 7]&#10;Color: (135, 206, 235)\" style=\"width: 20px; height: 20px;background-color: rgb(135, 206, 235);\"></td></tr><tr><td title=\"Index: [4, 0]&#10;Color: (135, 206, 235)\" style=\"width: 20px; height: 20px;background-color: rgb(135, 206, 235);\"></td><td title=\"Index: [4, 1]&#10;Color: (135, 206, 235)\" style=\"width: 20px; height: 20px;background-color: rgb(135, 206, 235);\"></td><td title=\"Index: [4, 2]&#10;Color: (135, 206, 235)\" style=\"width: 20px; height: 20px;background-color: rgb(135, 206, 235);\"></td><td title=\"Index: [4, 3]&#10;Color: (135, 206, 235)\" style=\"width: 20px; height: 20px;background-color: rgb(135, 206, 235);\"></td><td title=\"Index: [4, 4]&#10;Color: (135, 206, 235)\" style=\"width: 20px; height: 20px;background-color: rgb(135, 206, 235);\"></td><td title=\"Index: [4, 5]&#10;Color: (135, 206, 235)\" style=\"width: 20px; height: 20px;background-color: rgb(135, 206, 235);\"></td><td title=\"Index: [4, 6]&#10;Color: (135, 206, 235)\" style=\"width: 20px; height: 20px;background-color: rgb(135, 206, 235);\"></td><td title=\"Index: [4, 7]&#10;Color: (135, 206, 235)\" style=\"width: 20px; height: 20px;background-color: rgb(135, 206, 235);\"></td></tr><tr><td title=\"Index: [5, 0]&#10;Color: (135, 206, 235)\" style=\"width: 20px; height: 20px;background-color: rgb(135, 206, 235);\"></td><td title=\"Index: [5, 1]&#10;Color: (135, 206, 235)\" style=\"width: 20px; height: 20px;background-color: rgb(135, 206, 235);\"></td><td title=\"Index: [5, 2]&#10;Color: (135, 206, 235)\" style=\"width: 20px; height: 20px;background-color: rgb(135, 206, 235);\"></td><td title=\"Index: [5, 3]&#10;Color: (135, 206, 235)\" style=\"width: 20px; height: 20px;background-color: rgb(135, 206, 235);\"></td><td title=\"Index: [5, 4]&#10;Color: (135, 206, 235)\" style=\"width: 20px; height: 20px;background-color: rgb(135, 206, 235);\"></td><td title=\"Index: [5, 5]&#10;Color: (135, 206, 235)\" style=\"width: 20px; height: 20px;background-color: rgb(135, 206, 235);\"></td><td title=\"Index: [5, 6]&#10;Color: (135, 206, 235)\" style=\"width: 20px; height: 20px;background-color: rgb(135, 206, 235);\"></td><td title=\"Index: [5, 7]&#10;Color: (135, 206, 235)\" style=\"width: 20px; height: 20px;background-color: rgb(135, 206, 235);\"></td></tr><tr><td title=\"Index: [6, 0]&#10;Color: (135, 206, 235)\" style=\"width: 20px; height: 20px;background-color: rgb(135, 206, 235);\"></td><td title=\"Index: [6, 1]&#10;Color: (135, 206, 235)\" style=\"width: 20px; height: 20px;background-color: rgb(135, 206, 235);\"></td><td title=\"Index: [6, 2]&#10;Color: (135, 206, 235)\" style=\"width: 20px; height: 20px;background-color: rgb(135, 206, 235);\"></td><td title=\"Index: [6, 3]&#10;Color: (135, 206, 235)\" style=\"width: 20px; height: 20px;background-color: rgb(135, 206, 235);\"></td><td title=\"Index: [6, 4]&#10;Color: (135, 206, 235)\" style=\"width: 20px; height: 20px;background-color: rgb(135, 206, 235);\"></td><td title=\"Index: [6, 5]&#10;Color: (135, 206, 235)\" style=\"width: 20px; height: 20px;background-color: rgb(135, 206, 235);\"></td><td title=\"Index: [6, 6]&#10;Color: (0, 0, 0)\" style=\"width: 20px; height: 20px;background-color: rgb(0, 0, 0);\"></td><td title=\"Index: [6, 7]&#10;Color: (135, 206, 235)\" style=\"width: 20px; height: 20px;background-color: rgb(135, 206, 235);\"></td></tr><tr><td title=\"Index: [7, 0]&#10;Color: (135, 206, 235)\" style=\"width: 20px; height: 20px;background-color: rgb(135, 206, 235);\"></td><td title=\"Index: [7, 1]&#10;Color: (135, 206, 235)\" style=\"width: 20px; height: 20px;background-color: rgb(135, 206, 235);\"></td><td title=\"Index: [7, 2]&#10;Color: (135, 206, 235)\" style=\"width: 20px; height: 20px;background-color: rgb(135, 206, 235);\"></td><td title=\"Index: [7, 3]&#10;Color: (135, 206, 235)\" style=\"width: 20px; height: 20px;background-color: rgb(135, 206, 235);\"></td><td title=\"Index: [7, 4]&#10;Color: (135, 206, 235)\" style=\"width: 20px; height: 20px;background-color: rgb(135, 206, 235);\"></td><td title=\"Index: [7, 5]&#10;Color: (135, 206, 235)\" style=\"width: 20px; height: 20px;background-color: rgb(135, 206, 235);\"></td><td title=\"Index: [7, 6]&#10;Color: (135, 206, 235)\" style=\"width: 20px; height: 20px;background-color: rgb(135, 206, 235);\"></td><td title=\"Index: [7, 7]&#10;Color: (0, 0, 0)\" style=\"width: 20px; height: 20px;background-color: rgb(0, 0, 0);\"></td></tr></tbody></table>"
       ],
       "metadata": {},
       "output_type": "display_data",
       "text": [
        "<IPython.core.display.HTML at 0x2623bd0>"
       ]
      },
      {
       "output_type": "stream",
       "stream": "stdout",
       "text": [
        "None\n"
       ]
      }
     ],
     "prompt_number": 4
    },
    {
     "cell_type": "code",
     "collapsed": false,
     "input": [],
     "language": "python",
     "metadata": {},
     "outputs": [],
     "prompt_number": 15
    },
    {
     "cell_type": "code",
     "collapsed": false,
     "input": [
      "\\"
     ],
     "language": "python",
     "metadata": {},
     "outputs": []
    }
   ],
   "metadata": {}
  }
 ]
}