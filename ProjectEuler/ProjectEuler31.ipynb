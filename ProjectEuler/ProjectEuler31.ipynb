{
 "metadata": {
  "name": "",
  "signature": "sha256:10041443265fdd19055114492cd4070e659fbef67f825a981b285cdb38d3992b"
 },
 "nbformat": 3,
 "nbformat_minor": 0,
 "worksheets": [
  {
   "cells": [
    {
     "cell_type": "heading",
     "level": 3,
     "metadata": {},
     "source": [
      "Project Euler 31"
     ]
    },
    {
     "cell_type": "code",
     "collapsed": false,
     "input": [
      "total=0\n",
      "count=1\n",
      "if total==200:\n",
      "    count+=1\n",
      "    total=0\n",
      "    for L in range(0,3):\n",
      "        total+=100*L\n",
      "        for fifty in range(0,5):\n",
      "            total+=50*fifty\n",
      "            for twenty in range(0,11):\n",
      "               total+=20*twenty\n",
      "               for ten in range(0,21):\n",
      "                    total+=10*ten\n",
      "                    for five in range(0,41):\n",
      "                        total+=5*five\n",
      "                        for two in range(0,101):\n",
      "                            total+=two*2\n",
      "                            for one in range(0,201):\n",
      "                                total+=one\n"
     ],
     "language": "python",
     "metadata": {},
     "outputs": [
      {
       "output_type": "stream",
       "stream": "stdout",
       "text": [
        "1\n"
       ]
      }
     ],
     "prompt_number": 5
    },
    {
     "cell_type": "code",
     "collapsed": false,
     "input": [],
     "language": "python",
     "metadata": {},
     "outputs": []
    }
   ],
   "metadata": {}
  }
 ]
}