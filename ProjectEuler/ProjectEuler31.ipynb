{
 "metadata": {
  "name": "",
  "signature": "sha256:d0a73453b7ec925aaea5ed5d5a8a0a4893f345300177e6cbdff192f732297e77"
 },
 "nbformat": 3,
 "nbformat_minor": 0,
 "worksheets": [
  {
   "cells": [
    {
     "cell_type": "heading",
     "level": 3,
     "metadata": {},
     "source": [
      "Project Euler 31"
     ]
    },
    {
     "cell_type": "code",
     "collapsed": false,
     "input": [
      "#start count at one to avoid adding in extra 2.00 coin for loop\n",
      "#This should work but takes forever......\n",
      "count=1\n",
      "for hunnid in range(0,3):\n",
      "    for fifty in range(0,5):\n",
      "        for twenty in range(0,11):\n",
      "            for ten in range(0,21):\n",
      "                for five in range(0,41):\n",
      "                    for two in range(0,101):\n",
      "                        for one in range(0,201):\n",
      "                           if hunnid*100+fifty*50+twenty*20+ten*10+five*5+two*2+one==200:\n",
      "                                count+=1\n",
      "                                \n",
      "print count"
     ],
     "language": "python",
     "metadata": {},
     "outputs": []
    },
    {
     "cell_type": "code",
     "collapsed": false,
     "input": [
      "#Code is taking too long and crashes my firefox until no end.\n",
      "#If I don't use ssh the code gives answer: 73,682"
     ],
     "language": "python",
     "metadata": {},
     "outputs": [],
     "prompt_number": 1
    },
    {
     "cell_type": "code",
     "collapsed": false,
     "input": [],
     "language": "python",
     "metadata": {},
     "outputs": []
    }
   ],
   "metadata": {}
  }
 ]
}