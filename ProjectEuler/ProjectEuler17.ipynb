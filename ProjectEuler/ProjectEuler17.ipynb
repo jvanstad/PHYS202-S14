{
 "metadata": {
  "name": "",
  "signature": "sha256:376ecc1faa60276765cf570aab96972b412558c248062b48034caa26f8a3371f"
 },
 "nbformat": 3,
 "nbformat_minor": 0,
 "worksheets": [
  {
   "cells": [
    {
     "cell_type": "markdown",
     "metadata": {},
     "source": [
      "Project Euler 17"
     ]
    },
    {
     "cell_type": "markdown",
     "metadata": {},
     "source": [
      "If the numbers 1 to 5 are written out in words: one, two, three, four, five, then there are 3 + 3 + 5 + 4 + 4 = 19 letters used in total.\n",
      "\n",
      "If all the numbers from 1 to 1000 (one thousand) inclusive were written out in words, how many letters would be used?\n",
      "\n",
      "\n",
      "NOTE: Do not count spaces or hyphens. For example, 342 (three hundred and forty-two) contains 23 letters and 115 (one hundred and fifteen) contains 20 letters. The use of \"and\" when writing out numbers is in compliance with British usage."
     ]
    },
    {
     "cell_type": "code",
     "collapsed": false,
     "input": [
      "count=0\n",
      "for i in range (1,1001):\n",
      "    if i%10==1 or i%10==2 or i%10==6 or i%100==10:\n",
      "        count+=3\n",
      "    if i%10==4 or i%10==5 or i%10==9: \n",
      "        count+=4\n",
      "    if i%10==3 or i%10==7 or i%10==8:\n",
      "        count+=5\n",
      "    if (i%100)<16 and (i%100)>10 or i%100==18:\n",
      "        if i%100==12 or i%100==13 or i%100==15 or i%100==11 or i%100==18:\n",
      "            count+=3 #In addition to ones places\n",
      "    if (i%100)>15 or (i%100)==14 and i%100==18:\n",
      "        if  (i/10)%10==2 or (i/10)%10==3 or (i/10)%10==9 or (i/10)%10==8:\n",
      "            count+=6\n",
      "        if (i/10)%10==4 or (i/10)%10==5 or (i/10)%10==6:\n",
      "            count+=5\n",
      "        if  (i/10)%10==7:\n",
      "            count+=7\n",
      "        if (i/10)%10==1:\n",
      "            count+=4\n",
      "    if (i/100)%10==1 or (i/100)%10==2 or (i/100)%10==6 : \n",
      "        count+=13\n",
      "    if (i/100)%10==4 or (i/100)%10==5 or (i/100)%10==9 or i==1000: \n",
      "        count+=14\n",
      "    if (i/100)%10==3 or (i/100)%10==7 or (i/100)%10==8:\n",
      "        count+=15\n",
      "    if (i%100)==0:\n",
      "        count-=3\n",
      "print count"
     ],
     "language": "python",
     "metadata": {},
     "outputs": [
      {
       "output_type": "stream",
       "stream": "stdout",
       "text": [
        "21124\n"
       ]
      }
     ],
     "prompt_number": 1
    },
    {
     "cell_type": "code",
     "collapsed": false,
     "input": [],
     "language": "python",
     "metadata": {},
     "outputs": []
    }
   ],
   "metadata": {}
  }
 ]
}