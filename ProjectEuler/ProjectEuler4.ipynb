{
 "metadata": {
  "name": "",
  "signature": "sha256:c122f53c8d4fbe3e333db141bbc12849e5fb430d8b5deb2fb9c95f541381cf9a"
 },
 "nbformat": 3,
 "nbformat_minor": 0,
 "worksheets": [
  {
   "cells": [
    {
     "cell_type": "heading",
     "level": 2,
     "metadata": {},
     "source": [
      "Project Euler 4"
     ]
    },
    {
     "cell_type": "markdown",
     "metadata": {},
     "source": [
      "A palindromic number reads the same both ways. The largest palindrome made from the product of two 2-digit numbers is 9009 = 91 \u00d7 99.\n",
      "\n",
      "Find the largest palindrome made from the product of two 3-digit numbers."
     ]
    },
    {
     "cell_type": "code",
     "collapsed": false,
     "input": [
      "lol=[]\n",
      "for i in range(10,100):\n",
      "    for j in range(10,100):\n",
      "        p=i*j\n",
      "        if p%10==(p/1000)%10 and (p/10)%10==(p/100)%10:\n",
      "            lol.append(p)\n",
      "print max(lol)\n"
     ],
     "language": "python",
     "metadata": {},
     "outputs": [
      {
       "output_type": "stream",
       "stream": "stdout",
       "text": [
        "9009\n"
       ]
      }
     ],
     "prompt_number": 1
    },
    {
     "cell_type": "code",
     "collapsed": false,
     "input": [
      "lol=[]\n",
      "for i in range(100,1000):\n",
      "    for j in range(100,1000):\n",
      "        p=i*j\n",
      "        if p%10==(p/100000)%10 and (p/10)%10==(p/10000)%10 and (p/100)%10==(p/1000)%10:\n",
      "            lol.append(p)\n",
      "print max(lol)"
     ],
     "language": "python",
     "metadata": {},
     "outputs": [
      {
       "output_type": "stream",
       "stream": "stdout",
       "text": [
        "906609\n"
       ]
      }
     ],
     "prompt_number": 2
    },
    {
     "cell_type": "code",
     "collapsed": false,
     "input": [],
     "language": "python",
     "metadata": {},
     "outputs": []
    }
   ],
   "metadata": {}
  }
 ]
}