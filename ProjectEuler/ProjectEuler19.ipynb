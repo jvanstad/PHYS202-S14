{
 "metadata": {
  "name": "",
  "signature": "sha256:88e37fec54b1d83a52f9e65f530a1e013c53879eee6a5f319d3832501ccc5a78"
 },
 "nbformat": 3,
 "nbformat_minor": 0,
 "worksheets": [
  {
   "cells": [
    {
     "cell_type": "heading",
     "level": 3,
     "metadata": {},
     "source": [
      "Project Euler 19"
     ]
    },
    {
     "cell_type": "markdown",
     "metadata": {},
     "source": [
      "1 Jan 1900 was a Monday. \n",
      "\n",
      "September, April, June and November have Thirty days \n",
      "\n",
      "All the rest have thirty-one,\n",
      "\n",
      "Saving February alone,\n",
      "\n",
      "Which has twenty-eight, rain or shine.\n",
      "\n",
      "And on leap years, twenty-nine.\n",
      "\n",
      "A leap year occurs on any year evenly divisible by 4, but not on a century unless it is divisible by 400.\n",
      "\n",
      "How many Sundays fell on the first of the month during the twentieth century (1 Jan 1901 to 31 Dec 2000)?"
     ]
    },
    {
     "cell_type": "code",
     "collapsed": false,
     "input": [
      "count=0\n",
      "day=0\n",
      "start=0\n",
      "#Let Sunday be day=0 or 7, monday; day=1, etc\n",
      "#Code increases start day by one after regular year, by two for after leap year\n",
      "for i in range(0,100):\n",
      "    #Code dicatates which years will be leap years (increments for start day of particular year)\n",
      "    if (i-1)%4==0:\n",
      "        day+=2\n",
      "    else:\n",
      "        day+=1\n",
      "    start=day%7\n",
      "    #Dictates which day of the week (0-6) the month will start on (beginning with Jan)\n",
      "    for a in range(1,13):\n",
      "        #Goes through each month incrementing count if start=0.\n",
      "        #A month with 31 days increase the next month start day by 3\n",
      "        #30 increase start day by 2, pass for feb unless leap year (increase by one)\n",
      "        if a==4 or a==6 or a==9 or a==10:\n",
      "            if start%7==0:\n",
      "                count+=1\n",
      "            start+=2\n",
      "        elif a==2:\n",
      "            if start%7==0:\n",
      "                    count+=1\n",
      "            if i%4==0:\n",
      "                    start+=1\n",
      "            else:\n",
      "                pass\n",
      "        else:\n",
      "            if start%7==0:\n",
      "                count+=1\n",
      "            start+=3 \n",
      "print count"
     ],
     "language": "python",
     "metadata": {},
     "outputs": [
      {
       "output_type": "stream",
       "stream": "stdout",
       "text": [
        "171\n"
       ]
      }
     ],
     "prompt_number": 1
    },
    {
     "cell_type": "code",
     "collapsed": false,
     "input": [],
     "language": "python",
     "metadata": {},
     "outputs": []
    }
   ],
   "metadata": {}
  }
 ]
}