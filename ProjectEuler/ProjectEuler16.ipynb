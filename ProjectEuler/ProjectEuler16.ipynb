{
 "metadata": {
  "name": "",
  "signature": "sha256:cde7df56d6067415caab94ed435fbdc3a14b4a7bba0830428600bc9603f7753f"
 },
 "nbformat": 3,
 "nbformat_minor": 0,
 "worksheets": [
  {
   "cells": [
    {
     "cell_type": "heading",
     "level": 1,
     "metadata": {},
     "source": [
      "Project Euler 16"
     ]
    },
    {
     "cell_type": "markdown",
     "metadata": {},
     "source": [
      "2^15 = 32768 and the sum of its digits is 3 + 2 + 7 + 6 + 8 = 26.\n",
      "\n",
      "What is the sum of the digits of the number 2^1000?"
     ]
    },
    {
     "cell_type": "code",
     "collapsed": false,
     "input": [
      "def crunch(number):\n",
      "    result= str(2**number)\n",
      "    count=0\n",
      "    for i in result:\n",
      "        count+=int(i)\n",
      "    return count\n",
      "print crunch(15)"
     ],
     "language": "python",
     "metadata": {},
     "outputs": [
      {
       "output_type": "stream",
       "stream": "stdout",
       "text": [
        "26\n"
       ]
      }
     ],
     "prompt_number": 1
    },
    {
     "cell_type": "code",
     "collapsed": false,
     "input": [
      "def crunch(number):\n",
      "    result= str(2**number)\n",
      "    count=0\n",
      "    for i in result:\n",
      "        count+=int(i)\n",
      "    return count\n",
      "print crunch(1000)"
     ],
     "language": "python",
     "metadata": {},
     "outputs": [
      {
       "output_type": "stream",
       "stream": "stdout",
       "text": [
        "1366\n"
       ]
      }
     ],
     "prompt_number": 2
    },
    {
     "cell_type": "code",
     "collapsed": false,
     "input": [],
     "language": "python",
     "metadata": {},
     "outputs": []
    }
   ],
   "metadata": {}
  }
 ]
}