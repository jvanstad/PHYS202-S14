{
 "metadata": {
  "name": "",
  "signature": "sha256:834d043e7c0446a845cfc835d002ae5d4bbe444f0e3f3df1990a451ddc48ed92"
 },
 "nbformat": 3,
 "nbformat_minor": 0,
 "worksheets": [
  {
   "cells": [
    {
     "cell_type": "heading",
     "level": 2,
     "metadata": {},
     "source": [
      "Project Euler Problem 25"
     ]
    },
    {
     "cell_type": "markdown",
     "metadata": {},
     "source": [
      "The Fibonacci sequence is defined by the recurrence relation:\n",
      "Fn = Fn\u22121 + Fn\u22122, where F1 = 1 and F2 = 1. Hence the first 12 terms will be:\n",
      "F1 = 1 F2 = 1 F3 = 2 F4 = 3 F5 = 5 F6 = 8 F7 = 13 F8 = 21 F9 = 34 F10 = 55 F11 = 89 F12 = 144 The 12th term, F12, is the first term to contain three digits.\n",
      "What is the first term in the Fibonacci sequence to contain 1000 digits?"
     ]
    },
    {
     "cell_type": "code",
     "collapsed": false,
     "input": [
      "Fibb=[1,1,2]\n",
      "term=3\n",
      "while len(str(Fibb[2]))<3:\n",
      "    term+=1\n",
      "    Fibb[0]=Fibb[1]\n",
      "    Fibb[1]=Fibb[2]\n",
      "    Fibb[2]=Fibb[2]+Fibb[0]\n",
      "    print \"Fibb\", Fibb[1], Fibb[2]\n",
      "    print \"term\", term\n",
      "    "
     ],
     "language": "python",
     "metadata": {},
     "outputs": [
      {
       "output_type": "stream",
       "stream": "stdout",
       "text": [
        "Fibb 2 3\n",
        "term 4\n",
        "Fibb 3 5\n",
        "term 5\n",
        "Fibb 5 8\n",
        "term 6\n",
        "Fibb 8 13\n",
        "term 7\n",
        "Fibb 13 21\n",
        "term 8\n",
        "Fibb 21 34\n",
        "term 9\n",
        "Fibb 34 55\n",
        "term 10\n",
        "Fibb 55 89\n",
        "term 11\n",
        "Fibb 89 144\n",
        "term 12\n"
       ]
      }
     ],
     "prompt_number": 1
    },
    {
     "cell_type": "code",
     "collapsed": false,
     "input": [
      "Fibb=[1,1,2]\n",
      "term=3\n",
      "while len(str(Fibb[2]))<1000:\n",
      "    term+=1\n",
      "    Fibb[0]=Fibb[1]\n",
      "    Fibb[1]=Fibb[2]\n",
      "    Fibb[2]=Fibb[2]+Fibb[0]\n",
      "    \n",
      "print \"The number of terms it takes to reach an 1000 digit Fibbonacci number is:\", term"
     ],
     "language": "python",
     "metadata": {},
     "outputs": [
      {
       "output_type": "stream",
       "stream": "stdout",
       "text": [
        "The number of terms it takes to reach an 1000 digit Fibbonacci number is: 4782\n"
       ]
      }
     ],
     "prompt_number": 2
    },
    {
     "cell_type": "code",
     "collapsed": false,
     "input": [],
     "language": "python",
     "metadata": {},
     "outputs": []
    }
   ],
   "metadata": {}
  }
 ]
}