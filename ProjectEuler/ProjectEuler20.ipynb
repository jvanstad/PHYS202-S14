{
 "metadata": {
  "name": "",
  "signature": "sha256:9927d02fac8dc50775525c68088728fd4bef6a081fa88ddffbf9df0f562663be"
 },
 "nbformat": 3,
 "nbformat_minor": 0,
 "worksheets": [
  {
   "cells": [
    {
     "cell_type": "heading",
     "level": 2,
     "metadata": {},
     "source": [
      "Project Euler 20"
     ]
    },
    {
     "cell_type": "code",
     "collapsed": false,
     "input": [
      "add=0\n",
      "check=1\n",
      "for i in range(1,11):\n",
      "    check*=i\n",
      "print check\n",
      "x= len(str(check))\n",
      "m=str(check)\n",
      "for i in range(x):\n",
      "    add+=int(m[i])\n",
      "print add"
     ],
     "language": "python",
     "metadata": {},
     "outputs": [
      {
       "output_type": "stream",
       "stream": "stdout",
       "text": [
        "3628800\n",
        "27\n"
       ]
      }
     ],
     "prompt_number": 1
    },
    {
     "cell_type": "code",
     "collapsed": false,
     "input": [
      "add=0\n",
      "check=1\n",
      "for i in range(1,101):\n",
      "    check*=i\n",
      "#print check\n",
      "x= len(str(check))\n",
      "m=str(check)\n",
      "for i in range(x):\n",
      "    add+=int(m[i])\n",
      "print add"
     ],
     "language": "python",
     "metadata": {},
     "outputs": [
      {
       "output_type": "stream",
       "stream": "stdout",
       "text": [
        "648\n"
       ]
      }
     ],
     "prompt_number": 2
    },
    {
     "cell_type": "code",
     "collapsed": false,
     "input": [],
     "language": "python",
     "metadata": {},
     "outputs": []
    }
   ],
   "metadata": {}
  }
 ]
}