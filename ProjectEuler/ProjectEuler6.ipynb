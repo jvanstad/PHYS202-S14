{
 "metadata": {
  "name": "",
  "signature": "sha256:9a2afc4d3650d420462464d52f528d0d8b9a76928d801366b8e91d209c430336"
 },
 "nbformat": 3,
 "nbformat_minor": 0,
 "worksheets": [
  {
   "cells": [
    {
     "cell_type": "heading",
     "level": 3,
     "metadata": {},
     "source": [
      "Project Euler 6"
     ]
    },
    {
     "cell_type": "code",
     "collapsed": false,
     "input": [
      "re=0\n",
      "nm=0\n",
      "for i in range(1,11):\n",
      "    re+=i\n",
      "    nm+=i**2\n",
      "print re**2-nm"
     ],
     "language": "python",
     "metadata": {},
     "outputs": [
      {
       "output_type": "stream",
       "stream": "stdout",
       "text": [
        "2640\n"
       ]
      }
     ],
     "prompt_number": 8
    },
    {
     "cell_type": "code",
     "collapsed": false,
     "input": [
      "re=0\n",
      "nm=0\n",
      "for i in range(1,101):\n",
      "    re+=i\n",
      "    nm+=i**2\n",
      "print re**2-nm"
     ],
     "language": "python",
     "metadata": {},
     "outputs": [
      {
       "output_type": "stream",
       "stream": "stdout",
       "text": [
        "25164150\n"
       ]
      }
     ],
     "prompt_number": 9
    },
    {
     "cell_type": "code",
     "collapsed": false,
     "input": [],
     "language": "python",
     "metadata": {},
     "outputs": []
    }
   ],
   "metadata": {}
  }
 ]
}