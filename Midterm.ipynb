{
 "metadata": {
  "name": "",
  "signature": "sha256:bebc8a8989eca8f7645896909f6436e4d2b129ca72f958128beed689e5d793c7"
 },
 "nbformat": 3,
 "nbformat_minor": 0,
 "worksheets": [
  {
   "cells": [
    {
     "cell_type": "heading",
     "level": 1,
     "metadata": {},
     "source": [
      "Midterm "
     ]
    },
    {
     "cell_type": "heading",
     "level": 3,
     "metadata": {},
     "source": [
      "Question 1"
     ]
    },
    {
     "cell_type": "markdown",
     "metadata": {},
     "source": [
      "In Robert McCloskey\u2019s book Make Way for Ducklings, the names of the ducklings are Jack, Kack, Lack, Mack, Nack, Ouack, Pack, and Quack. This loop outputs these names in order:\n",
      "prefixes = 'JKLMNOPQ' \n",
      "suffix = 'ack'\n",
      "for letter in prefixes: \n",
      "    print letter + suffix\n",
      "The output is:\n",
      "Jack \n",
      "Kack \n",
      "Lack \n",
      "Mack \n",
      "Nack \n",
      "Oack \n",
      "Pack \n",
      "Qack\n",
      "Of course, that\u2019s not quite right because \u201cOuack\u201d and \u201cQuack\u201d are misspelled.\n",
      "Modify the program to fix this error.`"
     ]
    },
    {
     "cell_type": "code",
     "collapsed": false,
     "input": [
      "prefixes='JKLMNOPQ'\n",
      "suffix='ack'\n",
      "for letter in prefixes:\n",
      "    if letter==\"Q\" or letter==\"O\":\n",
      "        print letter+ \"u\"+ suffix\n",
      "    else:\n",
      "        print letter+suffix"
     ],
     "language": "python",
     "metadata": {},
     "outputs": [
      {
       "output_type": "stream",
       "stream": "stdout",
       "text": [
        "Jack\n",
        "Kack\n",
        "Lack\n",
        "Mack\n",
        "Nack\n",
        "Ouack\n",
        "Pack\n",
        "Quack\n"
       ]
      }
     ],
     "prompt_number": 6
    },
    {
     "cell_type": "heading",
     "level": 3,
     "metadata": {},
     "source": [
      "Question 2"
     ]
    },
    {
     "cell_type": "code",
     "collapsed": false,
     "input": [
      "from ipythonblocks import BlockGrid\n"
     ],
     "language": "python",
     "metadata": {},
     "outputs": [],
     "prompt_number": 7
    },
    {
     "cell_type": "code",
     "collapsed": false,
     "input": [
      "grid=BlockGrid(8,8, fill=(123,234,123))\n",
      "for column in [7]:\n",
      "    for row in range(grid.height):\n",
      "        grid[row,column]=(0,0,0)\n",
      "for column in range(grid.width):\n",
      "    for row in range(grid.height):\n",
      "        if row==column:\n",
      "            grid[row, column]=(0,0,0)\n",
      "grid.show()\n",
      "#THE LETTER V. BROUGHT TO YOU BY PBS"
     ],
     "language": "python",
     "metadata": {},
     "outputs": [
      {
       "html": [
        "<style type=\"text/css\">table.blockgrid {border: none;} .blockgrid tr {border: none;} .blockgrid td {padding: 0px;} #blocks51a720bb-ebdf-489d-97af-79624654b8f1 td {border: 1px solid white;}</style><table id=\"blocks51a720bb-ebdf-489d-97af-79624654b8f1\" class=\"blockgrid\"><tbody><tr><td title=\"Index: [0, 0]&#10;Color: (0, 0, 0)\" style=\"width: 20px; height: 20px;background-color: rgb(0, 0, 0);\"></td><td title=\"Index: [0, 1]&#10;Color: (123, 234, 123)\" style=\"width: 20px; height: 20px;background-color: rgb(123, 234, 123);\"></td><td title=\"Index: [0, 2]&#10;Color: (123, 234, 123)\" style=\"width: 20px; height: 20px;background-color: rgb(123, 234, 123);\"></td><td title=\"Index: [0, 3]&#10;Color: (123, 234, 123)\" style=\"width: 20px; height: 20px;background-color: rgb(123, 234, 123);\"></td><td title=\"Index: [0, 4]&#10;Color: (123, 234, 123)\" style=\"width: 20px; height: 20px;background-color: rgb(123, 234, 123);\"></td><td title=\"Index: [0, 5]&#10;Color: (123, 234, 123)\" style=\"width: 20px; height: 20px;background-color: rgb(123, 234, 123);\"></td><td title=\"Index: [0, 6]&#10;Color: (123, 234, 123)\" style=\"width: 20px; height: 20px;background-color: rgb(123, 234, 123);\"></td><td title=\"Index: [0, 7]&#10;Color: (0, 0, 0)\" style=\"width: 20px; height: 20px;background-color: rgb(0, 0, 0);\"></td></tr><tr><td title=\"Index: [1, 0]&#10;Color: (123, 234, 123)\" style=\"width: 20px; height: 20px;background-color: rgb(123, 234, 123);\"></td><td title=\"Index: [1, 1]&#10;Color: (0, 0, 0)\" style=\"width: 20px; height: 20px;background-color: rgb(0, 0, 0);\"></td><td title=\"Index: [1, 2]&#10;Color: (123, 234, 123)\" style=\"width: 20px; height: 20px;background-color: rgb(123, 234, 123);\"></td><td title=\"Index: [1, 3]&#10;Color: (123, 234, 123)\" style=\"width: 20px; height: 20px;background-color: rgb(123, 234, 123);\"></td><td title=\"Index: [1, 4]&#10;Color: (123, 234, 123)\" style=\"width: 20px; height: 20px;background-color: rgb(123, 234, 123);\"></td><td title=\"Index: [1, 5]&#10;Color: (123, 234, 123)\" style=\"width: 20px; height: 20px;background-color: rgb(123, 234, 123);\"></td><td title=\"Index: [1, 6]&#10;Color: (123, 234, 123)\" style=\"width: 20px; height: 20px;background-color: rgb(123, 234, 123);\"></td><td title=\"Index: [1, 7]&#10;Color: (0, 0, 0)\" style=\"width: 20px; height: 20px;background-color: rgb(0, 0, 0);\"></td></tr><tr><td title=\"Index: [2, 0]&#10;Color: (123, 234, 123)\" style=\"width: 20px; height: 20px;background-color: rgb(123, 234, 123);\"></td><td title=\"Index: [2, 1]&#10;Color: (123, 234, 123)\" style=\"width: 20px; height: 20px;background-color: rgb(123, 234, 123);\"></td><td title=\"Index: [2, 2]&#10;Color: (0, 0, 0)\" style=\"width: 20px; height: 20px;background-color: rgb(0, 0, 0);\"></td><td title=\"Index: [2, 3]&#10;Color: (123, 234, 123)\" style=\"width: 20px; height: 20px;background-color: rgb(123, 234, 123);\"></td><td title=\"Index: [2, 4]&#10;Color: (123, 234, 123)\" style=\"width: 20px; height: 20px;background-color: rgb(123, 234, 123);\"></td><td title=\"Index: [2, 5]&#10;Color: (123, 234, 123)\" style=\"width: 20px; height: 20px;background-color: rgb(123, 234, 123);\"></td><td title=\"Index: [2, 6]&#10;Color: (123, 234, 123)\" style=\"width: 20px; height: 20px;background-color: rgb(123, 234, 123);\"></td><td title=\"Index: [2, 7]&#10;Color: (0, 0, 0)\" style=\"width: 20px; height: 20px;background-color: rgb(0, 0, 0);\"></td></tr><tr><td title=\"Index: [3, 0]&#10;Color: (123, 234, 123)\" style=\"width: 20px; height: 20px;background-color: rgb(123, 234, 123);\"></td><td title=\"Index: [3, 1]&#10;Color: (123, 234, 123)\" style=\"width: 20px; height: 20px;background-color: rgb(123, 234, 123);\"></td><td title=\"Index: [3, 2]&#10;Color: (123, 234, 123)\" style=\"width: 20px; height: 20px;background-color: rgb(123, 234, 123);\"></td><td title=\"Index: [3, 3]&#10;Color: (0, 0, 0)\" style=\"width: 20px; height: 20px;background-color: rgb(0, 0, 0);\"></td><td title=\"Index: [3, 4]&#10;Color: (123, 234, 123)\" style=\"width: 20px; height: 20px;background-color: rgb(123, 234, 123);\"></td><td title=\"Index: [3, 5]&#10;Color: (123, 234, 123)\" style=\"width: 20px; height: 20px;background-color: rgb(123, 234, 123);\"></td><td title=\"Index: [3, 6]&#10;Color: (123, 234, 123)\" style=\"width: 20px; height: 20px;background-color: rgb(123, 234, 123);\"></td><td title=\"Index: [3, 7]&#10;Color: (0, 0, 0)\" style=\"width: 20px; height: 20px;background-color: rgb(0, 0, 0);\"></td></tr><tr><td title=\"Index: [4, 0]&#10;Color: (123, 234, 123)\" style=\"width: 20px; height: 20px;background-color: rgb(123, 234, 123);\"></td><td title=\"Index: [4, 1]&#10;Color: (123, 234, 123)\" style=\"width: 20px; height: 20px;background-color: rgb(123, 234, 123);\"></td><td title=\"Index: [4, 2]&#10;Color: (123, 234, 123)\" style=\"width: 20px; height: 20px;background-color: rgb(123, 234, 123);\"></td><td title=\"Index: [4, 3]&#10;Color: (123, 234, 123)\" style=\"width: 20px; height: 20px;background-color: rgb(123, 234, 123);\"></td><td title=\"Index: [4, 4]&#10;Color: (0, 0, 0)\" style=\"width: 20px; height: 20px;background-color: rgb(0, 0, 0);\"></td><td title=\"Index: [4, 5]&#10;Color: (123, 234, 123)\" style=\"width: 20px; height: 20px;background-color: rgb(123, 234, 123);\"></td><td title=\"Index: [4, 6]&#10;Color: (123, 234, 123)\" style=\"width: 20px; height: 20px;background-color: rgb(123, 234, 123);\"></td><td title=\"Index: [4, 7]&#10;Color: (0, 0, 0)\" style=\"width: 20px; height: 20px;background-color: rgb(0, 0, 0);\"></td></tr><tr><td title=\"Index: [5, 0]&#10;Color: (123, 234, 123)\" style=\"width: 20px; height: 20px;background-color: rgb(123, 234, 123);\"></td><td title=\"Index: [5, 1]&#10;Color: (123, 234, 123)\" style=\"width: 20px; height: 20px;background-color: rgb(123, 234, 123);\"></td><td title=\"Index: [5, 2]&#10;Color: (123, 234, 123)\" style=\"width: 20px; height: 20px;background-color: rgb(123, 234, 123);\"></td><td title=\"Index: [5, 3]&#10;Color: (123, 234, 123)\" style=\"width: 20px; height: 20px;background-color: rgb(123, 234, 123);\"></td><td title=\"Index: [5, 4]&#10;Color: (123, 234, 123)\" style=\"width: 20px; height: 20px;background-color: rgb(123, 234, 123);\"></td><td title=\"Index: [5, 5]&#10;Color: (0, 0, 0)\" style=\"width: 20px; height: 20px;background-color: rgb(0, 0, 0);\"></td><td title=\"Index: [5, 6]&#10;Color: (123, 234, 123)\" style=\"width: 20px; height: 20px;background-color: rgb(123, 234, 123);\"></td><td title=\"Index: [5, 7]&#10;Color: (0, 0, 0)\" style=\"width: 20px; height: 20px;background-color: rgb(0, 0, 0);\"></td></tr><tr><td title=\"Index: [6, 0]&#10;Color: (123, 234, 123)\" style=\"width: 20px; height: 20px;background-color: rgb(123, 234, 123);\"></td><td title=\"Index: [6, 1]&#10;Color: (123, 234, 123)\" style=\"width: 20px; height: 20px;background-color: rgb(123, 234, 123);\"></td><td title=\"Index: [6, 2]&#10;Color: (123, 234, 123)\" style=\"width: 20px; height: 20px;background-color: rgb(123, 234, 123);\"></td><td title=\"Index: [6, 3]&#10;Color: (123, 234, 123)\" style=\"width: 20px; height: 20px;background-color: rgb(123, 234, 123);\"></td><td title=\"Index: [6, 4]&#10;Color: (123, 234, 123)\" style=\"width: 20px; height: 20px;background-color: rgb(123, 234, 123);\"></td><td title=\"Index: [6, 5]&#10;Color: (123, 234, 123)\" style=\"width: 20px; height: 20px;background-color: rgb(123, 234, 123);\"></td><td title=\"Index: [6, 6]&#10;Color: (0, 0, 0)\" style=\"width: 20px; height: 20px;background-color: rgb(0, 0, 0);\"></td><td title=\"Index: [6, 7]&#10;Color: (0, 0, 0)\" style=\"width: 20px; height: 20px;background-color: rgb(0, 0, 0);\"></td></tr><tr><td title=\"Index: [7, 0]&#10;Color: (123, 234, 123)\" style=\"width: 20px; height: 20px;background-color: rgb(123, 234, 123);\"></td><td title=\"Index: [7, 1]&#10;Color: (123, 234, 123)\" style=\"width: 20px; height: 20px;background-color: rgb(123, 234, 123);\"></td><td title=\"Index: [7, 2]&#10;Color: (123, 234, 123)\" style=\"width: 20px; height: 20px;background-color: rgb(123, 234, 123);\"></td><td title=\"Index: [7, 3]&#10;Color: (123, 234, 123)\" style=\"width: 20px; height: 20px;background-color: rgb(123, 234, 123);\"></td><td title=\"Index: [7, 4]&#10;Color: (123, 234, 123)\" style=\"width: 20px; height: 20px;background-color: rgb(123, 234, 123);\"></td><td title=\"Index: [7, 5]&#10;Color: (123, 234, 123)\" style=\"width: 20px; height: 20px;background-color: rgb(123, 234, 123);\"></td><td title=\"Index: [7, 6]&#10;Color: (123, 234, 123)\" style=\"width: 20px; height: 20px;background-color: rgb(123, 234, 123);\"></td><td title=\"Index: [7, 7]&#10;Color: (0, 0, 0)\" style=\"width: 20px; height: 20px;background-color: rgb(0, 0, 0);\"></td></tr></tbody></table>"
       ],
       "metadata": {},
       "output_type": "display_data",
       "text": [
        "<IPython.core.display.HTML at 0x1024b6810>"
       ]
      }
     ],
     "prompt_number": 33
    },
    {
     "cell_type": "heading",
     "level": 3,
     "metadata": {},
     "source": [
      "Question 3"
     ]
    },
    {
     "cell_type": "markdown",
     "metadata": {},
     "source": [
      "99 bottles of beer on the wall, 99 bottles of beer.  \n",
      "Take one down, pass it around, 98 bottles of beer on the wall."
     ]
    },
    {
     "cell_type": "code",
     "collapsed": false,
     "input": [
      "count=100\n",
      "while count>1:\n",
      "    count-=1\n",
      "    print \"%d bottles of beer on the wall, %d bottles of beer. Take one down, pass it around, %d bottles of beer on the wall.\" %(count, count, (count-1))"
     ],
     "language": "python",
     "metadata": {},
     "outputs": [
      {
       "output_type": "stream",
       "stream": "stdout",
       "text": [
        "99 bottles of beer on the wall, 99 bottles of beer. Take one down, pass it around, 98 bottles of beer on the wall.\n",
        "98 bottles of beer on the wall, 98 bottles of beer. Take one down, pass it around, 97 bottles of beer on the wall.\n",
        "97 bottles of beer on the wall, 97 bottles of beer. Take one down, pass it around, 96 bottles of beer on the wall.\n",
        "96 bottles of beer on the wall, 96 bottles of beer. Take one down, pass it around, 95 bottles of beer on the wall.\n",
        "95 bottles of beer on the wall, 95 bottles of beer. Take one down, pass it around, 94 bottles of beer on the wall.\n",
        "94 bottles of beer on the wall, 94 bottles of beer. Take one down, pass it around, 93 bottles of beer on the wall.\n",
        "93 bottles of beer on the wall, 93 bottles of beer. Take one down, pass it around, 92 bottles of beer on the wall.\n",
        "92 bottles of beer on the wall, 92 bottles of beer. Take one down, pass it around, 91 bottles of beer on the wall.\n",
        "91 bottles of beer on the wall, 91 bottles of beer. Take one down, pass it around, 90 bottles of beer on the wall.\n",
        "90 bottles of beer on the wall, 90 bottles of beer. Take one down, pass it around, 89 bottles of beer on the wall.\n",
        "89 bottles of beer on the wall, 89 bottles of beer. Take one down, pass it around, 88 bottles of beer on the wall.\n",
        "88 bottles of beer on the wall, 88 bottles of beer. Take one down, pass it around, 87 bottles of beer on the wall.\n",
        "87 bottles of beer on the wall, 87 bottles of beer. Take one down, pass it around, 86 bottles of beer on the wall.\n",
        "86 bottles of beer on the wall, 86 bottles of beer. Take one down, pass it around, 85 bottles of beer on the wall.\n",
        "85 bottles of beer on the wall, 85 bottles of beer. Take one down, pass it around, 84 bottles of beer on the wall.\n",
        "84 bottles of beer on the wall, 84 bottles of beer. Take one down, pass it around, 83 bottles of beer on the wall.\n",
        "83 bottles of beer on the wall, 83 bottles of beer. Take one down, pass it around, 82 bottles of beer on the wall.\n",
        "82 bottles of beer on the wall, 82 bottles of beer. Take one down, pass it around, 81 bottles of beer on the wall.\n",
        "81 bottles of beer on the wall, 81 bottles of beer. Take one down, pass it around, 80 bottles of beer on the wall.\n",
        "80 bottles of beer on the wall, 80 bottles of beer. Take one down, pass it around, 79 bottles of beer on the wall.\n",
        "79 bottles of beer on the wall, 79 bottles of beer. Take one down, pass it around, 78 bottles of beer on the wall.\n",
        "78 bottles of beer on the wall, 78 bottles of beer. Take one down, pass it around, 77 bottles of beer on the wall.\n",
        "77 bottles of beer on the wall, 77 bottles of beer. Take one down, pass it around, 76 bottles of beer on the wall.\n",
        "76 bottles of beer on the wall, 76 bottles of beer. Take one down, pass it around, 75 bottles of beer on the wall.\n",
        "75 bottles of beer on the wall, 75 bottles of beer. Take one down, pass it around, 74 bottles of beer on the wall.\n",
        "74 bottles of beer on the wall, 74 bottles of beer. Take one down, pass it around, 73 bottles of beer on the wall.\n",
        "73 bottles of beer on the wall, 73 bottles of beer. Take one down, pass it around, 72 bottles of beer on the wall.\n",
        "72 bottles of beer on the wall, 72 bottles of beer. Take one down, pass it around, 71 bottles of beer on the wall.\n",
        "71 bottles of beer on the wall, 71 bottles of beer. Take one down, pass it around, 70 bottles of beer on the wall.\n",
        "70 bottles of beer on the wall, 70 bottles of beer. Take one down, pass it around, 69 bottles of beer on the wall.\n",
        "69 bottles of beer on the wall, 69 bottles of beer. Take one down, pass it around, 68 bottles of beer on the wall.\n",
        "68 bottles of beer on the wall, 68 bottles of beer. Take one down, pass it around, 67 bottles of beer on the wall.\n",
        "67 bottles of beer on the wall, 67 bottles of beer. Take one down, pass it around, 66 bottles of beer on the wall.\n",
        "66 bottles of beer on the wall, 66 bottles of beer. Take one down, pass it around, 65 bottles of beer on the wall.\n",
        "65 bottles of beer on the wall, 65 bottles of beer. Take one down, pass it around, 64 bottles of beer on the wall.\n",
        "64 bottles of beer on the wall, 64 bottles of beer. Take one down, pass it around, 63 bottles of beer on the wall.\n",
        "63 bottles of beer on the wall, 63 bottles of beer. Take one down, pass it around, 62 bottles of beer on the wall.\n",
        "62 bottles of beer on the wall, 62 bottles of beer. Take one down, pass it around, 61 bottles of beer on the wall.\n",
        "61 bottles of beer on the wall, 61 bottles of beer. Take one down, pass it around, 60 bottles of beer on the wall.\n",
        "60 bottles of beer on the wall, 60 bottles of beer. Take one down, pass it around, 59 bottles of beer on the wall.\n",
        "59 bottles of beer on the wall, 59 bottles of beer. Take one down, pass it around, 58 bottles of beer on the wall.\n",
        "58 bottles of beer on the wall, 58 bottles of beer. Take one down, pass it around, 57 bottles of beer on the wall.\n",
        "57 bottles of beer on the wall, 57 bottles of beer. Take one down, pass it around, 56 bottles of beer on the wall.\n",
        "56 bottles of beer on the wall, 56 bottles of beer. Take one down, pass it around, 55 bottles of beer on the wall.\n",
        "55 bottles of beer on the wall, 55 bottles of beer. Take one down, pass it around, 54 bottles of beer on the wall.\n",
        "54 bottles of beer on the wall, 54 bottles of beer. Take one down, pass it around, 53 bottles of beer on the wall.\n",
        "53 bottles of beer on the wall, 53 bottles of beer. Take one down, pass it around, 52 bottles of beer on the wall.\n",
        "52 bottles of beer on the wall, 52 bottles of beer. Take one down, pass it around, 51 bottles of beer on the wall.\n",
        "51 bottles of beer on the wall, 51 bottles of beer. Take one down, pass it around, 50 bottles of beer on the wall.\n",
        "50 bottles of beer on the wall, 50 bottles of beer. Take one down, pass it around, 49 bottles of beer on the wall.\n",
        "49 bottles of beer on the wall, 49 bottles of beer. Take one down, pass it around, 48 bottles of beer on the wall.\n",
        "48 bottles of beer on the wall, 48 bottles of beer. Take one down, pass it around, 47 bottles of beer on the wall.\n",
        "47 bottles of beer on the wall, 47 bottles of beer. Take one down, pass it around, 46 bottles of beer on the wall.\n",
        "46 bottles of beer on the wall, 46 bottles of beer. Take one down, pass it around, 45 bottles of beer on the wall.\n",
        "45 bottles of beer on the wall, 45 bottles of beer. Take one down, pass it around, 44 bottles of beer on the wall.\n",
        "44 bottles of beer on the wall, 44 bottles of beer. Take one down, pass it around, 43 bottles of beer on the wall.\n",
        "43 bottles of beer on the wall, 43 bottles of beer. Take one down, pass it around, 42 bottles of beer on the wall.\n",
        "42 bottles of beer on the wall, 42 bottles of beer. Take one down, pass it around, 41 bottles of beer on the wall.\n",
        "41 bottles of beer on the wall, 41 bottles of beer. Take one down, pass it around, 40 bottles of beer on the wall.\n",
        "40 bottles of beer on the wall, 40 bottles of beer. Take one down, pass it around, 39 bottles of beer on the wall.\n",
        "39 bottles of beer on the wall, 39 bottles of beer. Take one down, pass it around, 38 bottles of beer on the wall.\n",
        "38 bottles of beer on the wall, 38 bottles of beer. Take one down, pass it around, 37 bottles of beer on the wall.\n",
        "37 bottles of beer on the wall, 37 bottles of beer. Take one down, pass it around, 36 bottles of beer on the wall.\n",
        "36 bottles of beer on the wall, 36 bottles of beer. Take one down, pass it around, 35 bottles of beer on the wall.\n",
        "35 bottles of beer on the wall, 35 bottles of beer. Take one down, pass it around, 34 bottles of beer on the wall.\n",
        "34 bottles of beer on the wall, 34 bottles of beer. Take one down, pass it around, 33 bottles of beer on the wall.\n",
        "33 bottles of beer on the wall, 33 bottles of beer. Take one down, pass it around, 32 bottles of beer on the wall.\n",
        "32 bottles of beer on the wall, 32 bottles of beer. Take one down, pass it around, 31 bottles of beer on the wall.\n",
        "31 bottles of beer on the wall, 31 bottles of beer. Take one down, pass it around, 30 bottles of beer on the wall.\n",
        "30 bottles of beer on the wall, 30 bottles of beer. Take one down, pass it around, 29 bottles of beer on the wall.\n",
        "29 bottles of beer on the wall, 29 bottles of beer. Take one down, pass it around, 28 bottles of beer on the wall.\n",
        "28 bottles of beer on the wall, 28 bottles of beer. Take one down, pass it around, 27 bottles of beer on the wall.\n",
        "27 bottles of beer on the wall, 27 bottles of beer. Take one down, pass it around, 26 bottles of beer on the wall.\n",
        "26 bottles of beer on the wall, 26 bottles of beer. Take one down, pass it around, 25 bottles of beer on the wall.\n",
        "25 bottles of beer on the wall, 25 bottles of beer. Take one down, pass it around, 24 bottles of beer on the wall.\n",
        "24 bottles of beer on the wall, 24 bottles of beer. Take one down, pass it around, 23 bottles of beer on the wall.\n",
        "23 bottles of beer on the wall, 23 bottles of beer. Take one down, pass it around, 22 bottles of beer on the wall.\n",
        "22 bottles of beer on the wall, 22 bottles of beer. Take one down, pass it around, 21 bottles of beer on the wall.\n",
        "21 bottles of beer on the wall, 21 bottles of beer. Take one down, pass it around, 20 bottles of beer on the wall.\n",
        "20 bottles of beer on the wall, 20 bottles of beer. Take one down, pass it around, 19 bottles of beer on the wall.\n",
        "19 bottles of beer on the wall, 19 bottles of beer. Take one down, pass it around, 18 bottles of beer on the wall.\n",
        "18 bottles of beer on the wall, 18 bottles of beer. Take one down, pass it around, 17 bottles of beer on the wall.\n",
        "17 bottles of beer on the wall, 17 bottles of beer. Take one down, pass it around, 16 bottles of beer on the wall.\n",
        "16 bottles of beer on the wall, 16 bottles of beer. Take one down, pass it around, 15 bottles of beer on the wall.\n",
        "15 bottles of beer on the wall, 15 bottles of beer. Take one down, pass it around, 14 bottles of beer on the wall.\n",
        "14 bottles of beer on the wall, 14 bottles of beer. Take one down, pass it around, 13 bottles of beer on the wall.\n",
        "13 bottles of beer on the wall, 13 bottles of beer. Take one down, pass it around, 12 bottles of beer on the wall.\n",
        "12 bottles of beer on the wall, 12 bottles of beer. Take one down, pass it around, 11 bottles of beer on the wall.\n",
        "11 bottles of beer on the wall, 11 bottles of beer. Take one down, pass it around, 10 bottles of beer on the wall.\n",
        "10 bottles of beer on the wall, 10 bottles of beer. Take one down, pass it around, 9 bottles of beer on the wall.\n",
        "9 bottles of beer on the wall, 9 bottles of beer. Take one down, pass it around, 8 bottles of beer on the wall.\n",
        "8 bottles of beer on the wall, 8 bottles of beer. Take one down, pass it around, 7 bottles of beer on the wall.\n",
        "7 bottles of beer on the wall, 7 bottles of beer. Take one down, pass it around, 6 bottles of beer on the wall.\n",
        "6 bottles of beer on the wall, 6 bottles of beer. Take one down, pass it around, 5 bottles of beer on the wall.\n",
        "5 bottles of beer on the wall, 5 bottles of beer. Take one down, pass it around, 4 bottles of beer on the wall.\n",
        "4 bottles of beer on the wall, 4 bottles of beer. Take one down, pass it around, 3 bottles of beer on the wall.\n",
        "3 bottles of beer on the wall, 3 bottles of beer. Take one down, pass it around, 2 bottles of beer on the wall.\n",
        "2 bottles of beer on the wall, 2 bottles of beer. Take one down, pass it around, 1 bottles of beer on the wall.\n",
        "1 bottles of beer on the wall, 1 bottles of beer. Take one down, pass it around, 0 bottles of beer on the wall.\n"
       ]
      }
     ],
     "prompt_number": 37
    },
    {
     "cell_type": "heading",
     "level": 3,
     "metadata": {},
     "source": [
      "Question 4"
     ]
    },
    {
     "cell_type": "code",
     "collapsed": false,
     "input": [
      "%pylab inline"
     ],
     "language": "python",
     "metadata": {},
     "outputs": [
      {
       "output_type": "stream",
       "stream": "stdout",
       "text": [
        "Populating the interactive namespace from numpy and matplotlib\n"
       ]
      },
      {
       "output_type": "stream",
       "stream": "stderr",
       "text": [
        "WARNING: pylab import has clobbered these variables: ['grid']\n",
        "`%matplotlib` prevents importing * from pylab and numpy\n"
       ]
      }
     ],
     "prompt_number": 38
    },
    {
     "cell_type": "code",
     "collapsed": false,
     "input": [
      "import numpy as np\n",
      "import matplotlib\n",
      "import matplotlib.pyplot as plt\n",
      "from sklearn.datasets import load_iris\n",
      "\n",
      "import mpld3\n",
      "from mpld3 import plugins, utils"
     ],
     "language": "python",
     "metadata": {},
     "outputs": [],
     "prompt_number": 39
    },
    {
     "cell_type": "code",
     "collapsed": false,
     "input": [
      "#Step size of marker is .1 (30 markers in 3 units).\n",
      "x=np.linspace(0, 3,30)\n",
      "y=np.sin(x)\n",
      "plt.plot(x,y, color=\"red\", label=\"Sine Line\")\n",
      "plt.plot(x,y,'D', markersize=7, color=\"green\", label=\"Sine Marker\")\n",
      "plt.legend(loc=\"upper left\")\n",
      "plt.ylabel(\"Y (m)\")\n",
      "plt.xlabel(\"X (m)\")\n",
      "plt.grid(True)\n",
      "plt.show()"
     ],
     "language": "python",
     "metadata": {},
     "outputs": [
      {
       "metadata": {},
       "output_type": "display_data",
       "png": "[encoded data removed]",
       "text": [
        "<matplotlib.figure.Figure at 0x1080aa710>"
       ]
      }
     ],
     "prompt_number": 69
    },
    {
     "cell_type": "heading",
     "level": 3,
     "metadata": {},
     "source": [
      "Question 5"
     ]
    },
    {
     "cell_type": "code",
     "collapsed": false,
     "input": [
      "\n",
      "import random\n",
      "arr=[]\n",
      "arr1=[]\n",
      "\n",
      "for i in range(100):\n",
      "    for j in range(5):\n",
      "        arr.append(random.uniform(10.67,36.2))\n",
      "\n",
      "\n",
      "print arr"
     ],
     "language": "python",
     "metadata": {},
     "outputs": [
      {
       "output_type": "stream",
       "stream": "stdout",
       "text": [
        "[17.081742833033754, 34.08475538747513, 23.947551177097104, 34.54428287112965, 34.72176489852403, 29.390400901073768, 20.52451056530943, 25.411220052490926, 33.67474753961291, 28.871245989621215, 25.323305030422762, 29.683121668115987, 17.53125973345526, 12.018393200831543, 12.471358034950773, 19.89807410873943, 33.13966755623228, 32.85250630326083, 35.86814143010997, 21.412165305802723, 29.14225972199928, 12.80755721798768, 16.789156589684506, 15.231876424089823, 18.78980495969626, 23.867513196462625, 36.192806835649876, 24.544270709666147, 19.98250602433663, 20.26443939143055, 13.049633887245903, 26.036256871315942, 16.745696241875127, 30.573868555090577, 31.935838879671998, 18.43148923039969, 32.66759968805426, 16.295595525176804, 13.887821950757768, 18.27800607614097, 29.296367727062588, 19.76155016760307, 28.925821949491045, 26.68710594386399, 29.3687778183139, 28.259946245711966, 20.094294133858007, 19.388444445186206, 34.98605307871861, 19.833999750658613, 32.93638545391003, 18.03033312680809, 15.350996725230516, 21.01474797715565, 18.423484058372598, 36.179880217816304, 29.965071374589726, 11.991661568926146, 33.50405111902931, 34.91615295618058, 27.525577547131903, 21.30513093746126, 30.134404462727346, 29.607056672345102, 28.137601621602634, 13.265334176756898, 23.121266289123433, 24.312996647381198, 33.05511291501416, 22.863577551705255, 16.122006062734137, 28.676267520063185, 18.97388069045261, 33.86396784593948, 11.227068671412955, 11.9292894257403, 21.466091573860034, 18.48907589398424, 22.055522105955284, 27.987226010636718, 19.03781663103952, 22.241651444736014, 35.21207615339195, 11.51439342664916, 17.263528751131087, 31.643420080380082, 18.68051563795067, 22.999293421520278, 18.910409200488044, 22.157805312279237, 33.745191309972526, 29.353305126575442, 22.176380300454266, 15.62292874123063, 13.248175655242807, 17.267165199556512, 12.18381192358056, 13.41016457879812, 35.917757569027785, 24.92586647206076, 34.857844043190774, 30.921998149530786, 22.055939522874862, 22.149956245911742, 32.19444914257399, 30.733123956502602, 28.5137030437143, 24.49526046286008, 29.978488650715484, 17.269121549429205, 13.843467513803404, 24.53917324246126, 10.964435815575412, 31.116834643519127, 27.800092669725636, 22.271886940854237, 13.657735092730125, 30.967606061932237, 19.91539962723057, 33.99973560553047, 31.36086434873551, 21.626108219042283, 25.61779010522804, 30.664571236227374, 33.187364590473884, 16.350103194931254, 13.363333652920918, 28.89746593125311, 13.149900052035964, 26.205758101629133, 33.79873082544135, 32.573031435771846, 35.05006960356677, 36.04451504195581, 12.866968857116941, 17.53257719844302, 12.478752141257035, 28.172928557631387, 16.791511331230474, 15.518803714424273, 30.82087138452829, 14.888558751224533, 10.71352621312405, 34.262880158605455, 36.075553952969344, 16.634641840521724, 25.328694895034694, 30.876342425961248, 29.749390909043314, 20.993499671764603, 23.624243279616714, 25.076909726978315, 36.1874435585246, 25.943376722947697, 16.105799541726714, 30.444279662233882, 20.687314238973592, 35.57401279876503, 24.178887098946163, 11.680604642139228, 15.17610918565969, 11.196998699557309, 16.117286443593414, 26.81349926320238, 35.44927745240339, 24.99436175280178, 34.388881747282575, 17.525573296396963, 34.229182598065805, 31.787790153424027, 12.696898475224657, 19.439112121250844, 18.785534737373368, 30.169778674581835, 17.668783872382757, 21.619689894712366, 21.47865007756951, 33.39658114594855, 11.6053892243465, 19.62693462308097, 25.496291461637767, 23.46771478584662, 22.582782958742982, 19.504352939306592, 13.747016973326033, 30.896827878207993, 24.35444203804962, 22.5884053080047, 34.622248000864424, 26.3000651376164, 10.985026264339497, 11.205084108125357, 14.94634149428068, 15.495373121786667, 15.867287942140265, 17.658489473643037, 31.387167074408488, 18.594847218685032, 30.785459042414857, 19.852490981927456, 27.658484482546477, 16.62472211603505, 34.31808405699955, 18.62173359807813, 21.58093995007922, 26.92351236034478, 33.15907413717153, 21.814274748952855, 13.512778916413467, 34.585121595777295, 17.33445616046967, 34.13277891360555, 24.115654920587353, 15.274097078950215, 26.026182459590785, 14.831192628174701, 11.971841440521615, 17.468653989779, 21.906012399404137, 29.089297338709706, 17.79548450033048, 31.790655727381605, 24.98565575301241, 13.325912096601124, 17.953237144197413, 29.679945689900883, 11.752573061064489, 13.096700944235788, 21.75864567487286, 36.14211047771239, 27.316450422867767, 24.22826227141502, 11.871375773680267, 17.816647779589786, 31.30297180833921, 16.05923980744965, 15.883927729137731, 10.99312763264753, 25.54300001343413, 30.641566901453842, 27.87246013067295, 33.893385290095, 11.9295422361962, 17.29221723703344, 30.548911443153898, 31.15965317674968, 19.946211999601744, 13.87443153505976, 20.807047282360845, 18.602301274218313, 25.532689922166714, 16.04303133880489, 28.746775466277207, 29.525084857987274, 25.575035359063094, 31.11797399471746, 34.30597336773904, 12.756828021035076, 23.874449617549345, 29.41802110565323, 29.30967099206159, 27.05080375594804, 17.700086357320913, 14.005590847291522, 26.410172873046385, 26.189832960001837, 31.178205675285277, 28.59437999059493, 11.889600795287778, 27.4525131522118, 14.250845784561761, 16.440326659292523, 26.645968285649353, 29.57298311630702, 24.825275839777802, 25.70703865133744, 26.187930599207448, 31.023422119750734, 34.653102132982724, 23.512697527405756, 30.828423878043438, 27.42233364001038, 20.73587549665157, 16.84092478398594, 12.144919763739502, 18.291175018271, 35.23063747176077, 18.63372960232403, 12.465823362920009, 19.839244532941414, 35.41982526444284, 22.852731634884805, 22.184487222265773, 27.385582910215923, 15.414258645152248, 22.775765695573185, 28.08643530576493, 11.012391725737661, 28.152941265392037, 24.767840363822785, 27.774525137438964, 12.61878600011849, 34.679726752531856, 31.481728247891752, 34.998576387303395, 17.74698664653185, 20.697909093985103, 26.311250839181383, 16.768630645248287, 27.64964990953905, 22.18243305553957, 22.900910016914153, 10.81114981197141, 25.763948751923063, 33.575859581020914, 35.44263380213143, 31.73524519275893, 12.222556690837443, 26.390418606154487, 12.488935391670566, 25.11728790009578, 16.52080508826706, 30.60007983778884, 13.073689765187384, 12.004401127303572, 25.113229278069763, 26.528245774488788, 16.70366870473663, 15.260082978950965, 26.691608814687825, 28.951880448317183, 15.950296394893506, 30.925614850783816, 30.10701261660293, 18.61157405535236, 35.76753545159961, 31.51268487157006, 11.927908816674629, 35.85410859069017, 30.1238796810446, 15.815034242270547, 13.889929829197365, 27.79424450122788, 31.56701340979336, 17.687148551718167, 19.969445560957677, 29.584111496894977, 29.51248843063189, 35.70047701038176, 12.455421706245968, 11.631871483408863, 23.874941784412677, 27.762194102126806, 21.701771341945836, 27.166184688422277, 14.28611382684544, 27.121812736046827, 32.16730008356347, 27.261363138066443, 35.15956912523125, 14.862971507175175, 28.791900626004256, 15.994658861619289, 17.387621396527127, 26.366018747789525, 12.093107298504762, 31.751374510903354, 26.943930453297497, 32.37394592109123, 32.33987996064986, 34.09720157148507, 22.54947476737447, 16.332434417171, 31.816723177713754, 20.56375887089594, 31.179466014866463, 27.480923556933604, 22.557132957372882, 22.846693086475167, 33.525821789401384, 13.236937583114196, 21.343861006904618, 22.043633744485078, 10.670177973923705, 24.622028878410312, 33.39751145749174, 26.905521584842433, 22.874560197462813, 15.727047898117771, 23.78772905807893, 24.46360690037932, 31.68048602584424, 29.854006403895056, 35.64077612039312, 30.602241169258882, 20.236023200967875, 29.970681913819234, 14.70269971271631, 35.84299800613056, 27.538770282989766, 32.95050227641147, 13.465399848985268, 19.833761925283426, 18.113083854527275, 20.60782373339172, 17.870467535571258, 26.174075694734928, 21.478375752237554, 19.692536424903018, 31.252268367475693, 20.174319056426796, 13.141547053181071, 29.249392488824817, 31.80345776261192, 26.855267611347756, 16.106279186208614, 35.34717405358038, 14.065441855102092, 28.2295609480081, 19.264969552723606, 18.134115178967527, 31.676388331678233, 24.572429689157516, 28.98534178401502, 32.096422794967545, 11.807906474939905, 14.88034280489699, 32.20650340102655, 32.86426431699986, 30.37769213297998, 20.83048865863556, 17.466596330546672, 16.990881756221288, 25.023410596200748, 22.322918896015842, 25.15312135755764, 22.234525900345034, 22.805367258334165, 13.688915522659679, 22.782294450066235, 16.274904432865497, 18.547741954609883, 30.948372091470475, 22.935091875152033, 15.200592752046205, 26.791332035345434, 25.860937723052004, 32.11110286210455, 26.111944445204887, 19.575791786701643, 31.119430480529722, 22.689961088643457, 35.29060299773598, 11.950976189060258, 25.111895055913457, 25.237426999098975, 15.786844682554314, 14.650069001559206, 32.34073787025079, 12.733930815796054, 28.494077794804625, 24.15785058633411, 31.305135068831994, 11.217188222859265, 30.755456269667143, 12.559742909028145, 16.753648746892157, 24.649250950229344, 18.576141216153218, 25.205677927550333, 10.735481067292158, 32.05614942662333, 22.413902122418982, 30.025333369955177, 18.933346020643242, 35.70539677996635, 27.594609574561282, 23.706812067671734, 34.35519621327721, 25.580334525964645, 21.994975747571477, 17.720362385833557, 28.10044216481886, 31.06025600160193, 21.753099633215733, 26.19249549101724, 31.245013549444536, 14.95068933528589, 22.32424278911396, 23.634692142468275, 11.942471435034046, 18.83958109262269, 11.95925876179207, 16.19392630985182, 15.531871148800896, 19.64421975148265, 28.60707583553556, 21.84300136202816, 19.064767260058943, 21.859211274677996]\n"
       ]
      }
     ],
     "prompt_number": 169
    },
    {
     "cell_type": "code",
     "collapsed": false,
     "input": [
      "var=!date\n",
      "var2= \"The current time and date is: \", var\n",
      "print var2"
     ],
     "language": "python",
     "metadata": {},
     "outputs": [
      {
       "output_type": "stream",
       "stream": "stdout",
       "text": [
        "('The current time and date is: ', ['Tue Apr 29 15:55:41 PDT 2014'])\n"
       ]
      }
     ],
     "prompt_number": 170
    },
    {
     "cell_type": "code",
     "collapsed": false,
     "input": [
      "import time\n",
      "\n",
      "myheader=\"\\nLast Problem\\nTue Apr 29 15:37:51 PDT 2014\\nSome Random Numbers\\n\"\n",
      "print myheader\n",
      "#hmmm"
     ],
     "language": "python",
     "metadata": {},
     "outputs": [
      {
       "output_type": "stream",
       "stream": "stdout",
       "text": [
        "\n",
        "Last Problem\n",
        "Tue Apr 29 15:37:51 PDT 2014\n",
        "Some Random Numbers\n",
        "\n"
       ]
      }
     ],
     "prompt_number": 171
    },
    {
     "cell_type": "code",
     "collapsed": false,
     "input": [
      "np.savetxt(\"numbers.txt\", arr, delimiter=',', fmt=\"%2.3f\", header=myheader)"
     ],
     "language": "python",
     "metadata": {},
     "outputs": [],
     "prompt_number": 172
    },
    {
     "cell_type": "code",
     "collapsed": false,
     "input": [
      "!head -10 numbers.txt"
     ],
     "language": "python",
     "metadata": {},
     "outputs": [
      {
       "output_type": "stream",
       "stream": "stdout",
       "text": [
        "# \r\n",
        "# Last Problem\r\n",
        "# Tue Apr 29 15:37:51 PDT 2014\r\n",
        "# Some Random Numbers\r\n",
        "# \r\n",
        "17.082\r\n",
        "34.085\r\n",
        "23.948\r\n",
        "34.544\r\n",
        "34.722\r\n"
       ]
      }
     ],
     "prompt_number": 173
    },
    {
     "cell_type": "markdown",
     "metadata": {},
     "source": [
      "Read the data back in from the file to a new floating point NumPy array called arr2 and use a slice to print the first ten lines of the array."
     ]
    },
    {
     "cell_type": "code",
     "collapsed": false,
     "input": [
      "#If the code formatted properly..\n",
      "arr2=[]\n",
      "for line in range(10):\n",
      "    arr2.append(arr[0])\n",
      "\n"
     ],
     "language": "python",
     "metadata": {},
     "outputs": [],
     "prompt_number": 175
    },
    {
     "cell_type": "code",
     "collapsed": false,
     "input": [],
     "language": "python",
     "metadata": {},
     "outputs": []
    }
   ],
   "metadata": {}
  }
 ]
}