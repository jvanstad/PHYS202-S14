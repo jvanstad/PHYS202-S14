{
 "metadata": {
  "name": "",
  "signature": "sha256:5ff8998f7f6538dad0d1f4139c4d572a1458aacd775e839960ba1ad492ca629f"
 },
 "nbformat": 3,
 "nbformat_minor": 0,
 "worksheets": [
  {
   "cells": [
    {
     "cell_type": "code",
     "collapsed": false,
     "input": [
      "from random import randint\n",
      "from ipythonblocks import BlockGrid\n",
      "from ipythonblocks import colors\n",
      "import os\n",
      "#Change the dimensions of the board/color\n"
     ],
     "language": "python",
     "metadata": {},
     "outputs": [],
     "prompt_number": 1
    },
    {
     "cell_type": "code",
     "collapsed": false,
     "input": [
      "\n",
      "board = BlockGrid(8,8, fill=(135, 206, 235))\n",
      "\n",
      "def print_board(board):\n",
      "    print board.show()\n",
      "\n",
      "print \"Let's play Battleship!\"\n",
      "print_board(board)\n",
      "\n",
      "#Change where the ship can be\n",
      "def random_row(board):\n",
      "    return randint(1, 7)\n",
      "\n",
      "def random_col(board):\n",
      "    return randint(1, 7)\n",
      "\n",
      "ship_row = random_row(board)-1\n",
      "ship_col = random_col(board)-1\n",
      "shipr=0\n",
      "shipc=0\n",
      "#Make the ship larger \n",
      "Pain=randint(1,3)\n",
      "if Pain==1:\n",
      "    shipr=ship_row +1\n",
      "    shipc=ship_col\n",
      "if Pain==2:\n",
      "    shipr=ship_row\n",
      "    shipc=ship_col+1\n",
      "if Pain==3:\n",
      "    shipr=ship_row +1\n",
      "    shipc=ship_col+1\n",
      "\n",
      "\n",
      "#Change the number of turns\n",
      "for turn in range(7):\n",
      "#Error Handling: Making sure the input is a number\n",
      "    try:\n",
      "        guess_row = int(raw_input(\"Guess Row:\"))-1\n",
      "        guess_col = int(raw_input(\"Guess Col:\"))-1\n",
      "        print \"Turn \" + str(turn+1)\n",
      "    except:\n",
      "        print \"Incompatible type.Try a whole number instead.\"\n",
      "        print \"Turn \" + str(turn+1)\n",
      "    \n",
      "    \n",
      "    if guess_row == ship_row and guess_col == ship_col or guess_row == shipr and guess_col == shipc:\n",
      "        board[guess_row,guess_col]=(255,0,0)\n",
      "        board.show()\n",
      "        print \"Congratulations! You hit my battleship!\"\n",
      "        if guess_row == ship_row and guess_col == ship_col and board[shipr,shipc]==(255,0,0) or board[ship_row,ship_col]==(255,0,0) and guess_row == shipr and guess_col == shipc:\n",
      "            board[guess_row, guess_col]=(255,0,0)\n",
      "            board.show()\n",
      "            print \"Congratulations! You sunk my battleship!\"\n",
      "            break\n",
      "    else:\n",
      "        if turn==6:\n",
      "            board[guess_row, guess_col] = (0,0,0)\n",
      "            board[ship_row, ship_col]=(250,250,3)\n",
      "            board[shipr, shipc]=(250,250,3)\n",
      "            board.show()\n",
      "            print \"Game Over.\"\n",
      "        elif guess_row < 0 or guess_row > 8 or guess_col < 0 or guess_col > 8 :\n",
      "            print \"Oops, that's not even in the ocean.\"\n",
      "        elif guess_row < 0 or guess_row > 8 and guess_col < 0 or guess_col > 8 :\n",
      "            print \"Oops, that's not even in the ocean.\"\n",
      "        elif board[guess_row,guess_col]==(0,0,0):\n",
      "            print \"You guessed that one already.\"\n",
      "        else:\n",
      "            board[guess_row, guess_col] = (0,0,0)\n",
      "            print \"You missed my battleship!\"\n",
      "    \n",
      "        print_board(board)\n",
      "    "
     ],
     "language": "python",
     "metadata": {},
     "outputs": [
      {
       "output_type": "stream",
       "stream": "stdout",
       "text": [
        "Let's play Battleship!\n"
       ]
      },
      {
       "html": [
        "<style type=\"text/css\">table.blockgrid {border: none;} .blockgrid tr {border: none;} .blockgrid td {padding: 0px;} #blocksdbc0c2c7-0af7-4652-bf2c-5bd53e446045 td {border: 1px solid white;}</style><table id=\"blocksdbc0c2c7-0af7-4652-bf2c-5bd53e446045\" class=\"blockgrid\"><tbody><tr><td title=\"Index: [0, 0]&#10;Color: (135, 206, 235)\" style=\"width: 20px; height: 20px;background-color: rgb(135, 206, 235);\"></td><td title=\"Index: [0, 1]&#10;Color: (135, 206, 235)\" style=\"width: 20px; height: 20px;background-color: rgb(135, 206, 235);\"></td><td title=\"Index: [0, 2]&#10;Color: (135, 206, 235)\" style=\"width: 20px; height: 20px;background-color: rgb(135, 206, 235);\"></td><td title=\"Index: [0, 3]&#10;Color: (135, 206, 235)\" style=\"width: 20px; height: 20px;background-color: rgb(135, 206, 235);\"></td><td title=\"Index: [0, 4]&#10;Color: (135, 206, 235)\" style=\"width: 20px; height: 20px;background-color: rgb(135, 206, 235);\"></td><td title=\"Index: [0, 5]&#10;Color: (135, 206, 235)\" style=\"width: 20px; height: 20px;background-color: rgb(135, 206, 235);\"></td><td title=\"Index: [0, 6]&#10;Color: (135, 206, 235)\" style=\"width: 20px; height: 20px;background-color: rgb(135, 206, 235);\"></td><td title=\"Index: [0, 7]&#10;Color: (135, 206, 235)\" style=\"width: 20px; height: 20px;background-color: rgb(135, 206, 235);\"></td></tr><tr><td title=\"Index: [1, 0]&#10;Color: (135, 206, 235)\" style=\"width: 20px; height: 20px;background-color: rgb(135, 206, 235);\"></td><td title=\"Index: [1, 1]&#10;Color: (135, 206, 235)\" style=\"width: 20px; height: 20px;background-color: rgb(135, 206, 235);\"></td><td title=\"Index: [1, 2]&#10;Color: (135, 206, 235)\" style=\"width: 20px; height: 20px;background-color: rgb(135, 206, 235);\"></td><td title=\"Index: [1, 3]&#10;Color: (135, 206, 235)\" style=\"width: 20px; height: 20px;background-color: rgb(135, 206, 235);\"></td><td title=\"Index: [1, 4]&#10;Color: (135, 206, 235)\" style=\"width: 20px; height: 20px;background-color: rgb(135, 206, 235);\"></td><td title=\"Index: [1, 5]&#10;Color: (135, 206, 235)\" style=\"width: 20px; height: 20px;background-color: rgb(135, 206, 235);\"></td><td title=\"Index: [1, 6]&#10;Color: (135, 206, 235)\" style=\"width: 20px; height: 20px;background-color: rgb(135, 206, 235);\"></td><td title=\"Index: [1, 7]&#10;Color: (135, 206, 235)\" style=\"width: 20px; height: 20px;background-color: rgb(135, 206, 235);\"></td></tr><tr><td title=\"Index: [2, 0]&#10;Color: (135, 206, 235)\" style=\"width: 20px; height: 20px;background-color: rgb(135, 206, 235);\"></td><td title=\"Index: [2, 1]&#10;Color: (135, 206, 235)\" style=\"width: 20px; height: 20px;background-color: rgb(135, 206, 235);\"></td><td title=\"Index: [2, 2]&#10;Color: (135, 206, 235)\" style=\"width: 20px; height: 20px;background-color: rgb(135, 206, 235);\"></td><td title=\"Index: [2, 3]&#10;Color: (135, 206, 235)\" style=\"width: 20px; height: 20px;background-color: rgb(135, 206, 235);\"></td><td title=\"Index: [2, 4]&#10;Color: (135, 206, 235)\" style=\"width: 20px; height: 20px;background-color: rgb(135, 206, 235);\"></td><td title=\"Index: [2, 5]&#10;Color: (135, 206, 235)\" style=\"width: 20px; height: 20px;background-color: rgb(135, 206, 235);\"></td><td title=\"Index: [2, 6]&#10;Color: (135, 206, 235)\" style=\"width: 20px; height: 20px;background-color: rgb(135, 206, 235);\"></td><td title=\"Index: [2, 7]&#10;Color: (135, 206, 235)\" style=\"width: 20px; height: 20px;background-color: rgb(135, 206, 235);\"></td></tr><tr><td title=\"Index: [3, 0]&#10;Color: (135, 206, 235)\" style=\"width: 20px; height: 20px;background-color: rgb(135, 206, 235);\"></td><td title=\"Index: [3, 1]&#10;Color: (135, 206, 235)\" style=\"width: 20px; height: 20px;background-color: rgb(135, 206, 235);\"></td><td title=\"Index: [3, 2]&#10;Color: (135, 206, 235)\" style=\"width: 20px; height: 20px;background-color: rgb(135, 206, 235);\"></td><td title=\"Index: [3, 3]&#10;Color: (135, 206, 235)\" style=\"width: 20px; height: 20px;background-color: rgb(135, 206, 235);\"></td><td title=\"Index: [3, 4]&#10;Color: (135, 206, 235)\" style=\"width: 20px; height: 20px;background-color: rgb(135, 206, 235);\"></td><td title=\"Index: [3, 5]&#10;Color: (135, 206, 235)\" style=\"width: 20px; height: 20px;background-color: rgb(135, 206, 235);\"></td><td title=\"Index: [3, 6]&#10;Color: (135, 206, 235)\" style=\"width: 20px; height: 20px;background-color: rgb(135, 206, 235);\"></td><td title=\"Index: [3, 7]&#10;Color: (135, 206, 235)\" style=\"width: 20px; height: 20px;background-color: rgb(135, 206, 235);\"></td></tr><tr><td title=\"Index: [4, 0]&#10;Color: (135, 206, 235)\" style=\"width: 20px; height: 20px;background-color: rgb(135, 206, 235);\"></td><td title=\"Index: [4, 1]&#10;Color: (135, 206, 235)\" style=\"width: 20px; height: 20px;background-color: rgb(135, 206, 235);\"></td><td title=\"Index: [4, 2]&#10;Color: (135, 206, 235)\" style=\"width: 20px; height: 20px;background-color: rgb(135, 206, 235);\"></td><td title=\"Index: [4, 3]&#10;Color: (135, 206, 235)\" style=\"width: 20px; height: 20px;background-color: rgb(135, 206, 235);\"></td><td title=\"Index: [4, 4]&#10;Color: (135, 206, 235)\" style=\"width: 20px; height: 20px;background-color: rgb(135, 206, 235);\"></td><td title=\"Index: [4, 5]&#10;Color: (135, 206, 235)\" style=\"width: 20px; height: 20px;background-color: rgb(135, 206, 235);\"></td><td title=\"Index: [4, 6]&#10;Color: (135, 206, 235)\" style=\"width: 20px; height: 20px;background-color: rgb(135, 206, 235);\"></td><td title=\"Index: [4, 7]&#10;Color: (135, 206, 235)\" style=\"width: 20px; height: 20px;background-color: rgb(135, 206, 235);\"></td></tr><tr><td title=\"Index: [5, 0]&#10;Color: (135, 206, 235)\" style=\"width: 20px; height: 20px;background-color: rgb(135, 206, 235);\"></td><td title=\"Index: [5, 1]&#10;Color: (135, 206, 235)\" style=\"width: 20px; height: 20px;background-color: rgb(135, 206, 235);\"></td><td title=\"Index: [5, 2]&#10;Color: (135, 206, 235)\" style=\"width: 20px; height: 20px;background-color: rgb(135, 206, 235);\"></td><td title=\"Index: [5, 3]&#10;Color: (135, 206, 235)\" style=\"width: 20px; height: 20px;background-color: rgb(135, 206, 235);\"></td><td title=\"Index: [5, 4]&#10;Color: (135, 206, 235)\" style=\"width: 20px; height: 20px;background-color: rgb(135, 206, 235);\"></td><td title=\"Index: [5, 5]&#10;Color: (135, 206, 235)\" style=\"width: 20px; height: 20px;background-color: rgb(135, 206, 235);\"></td><td title=\"Index: [5, 6]&#10;Color: (135, 206, 235)\" style=\"width: 20px; height: 20px;background-color: rgb(135, 206, 235);\"></td><td title=\"Index: [5, 7]&#10;Color: (135, 206, 235)\" style=\"width: 20px; height: 20px;background-color: rgb(135, 206, 235);\"></td></tr><tr><td title=\"Index: [6, 0]&#10;Color: (135, 206, 235)\" style=\"width: 20px; height: 20px;background-color: rgb(135, 206, 235);\"></td><td title=\"Index: [6, 1]&#10;Color: (135, 206, 235)\" style=\"width: 20px; height: 20px;background-color: rgb(135, 206, 235);\"></td><td title=\"Index: [6, 2]&#10;Color: (135, 206, 235)\" style=\"width: 20px; height: 20px;background-color: rgb(135, 206, 235);\"></td><td title=\"Index: [6, 3]&#10;Color: (135, 206, 235)\" style=\"width: 20px; height: 20px;background-color: rgb(135, 206, 235);\"></td><td title=\"Index: [6, 4]&#10;Color: (135, 206, 235)\" style=\"width: 20px; height: 20px;background-color: rgb(135, 206, 235);\"></td><td title=\"Index: [6, 5]&#10;Color: (135, 206, 235)\" style=\"width: 20px; height: 20px;background-color: rgb(135, 206, 235);\"></td><td title=\"Index: [6, 6]&#10;Color: (135, 206, 235)\" style=\"width: 20px; height: 20px;background-color: rgb(135, 206, 235);\"></td><td title=\"Index: [6, 7]&#10;Color: (135, 206, 235)\" style=\"width: 20px; height: 20px;background-color: rgb(135, 206, 235);\"></td></tr><tr><td title=\"Index: [7, 0]&#10;Color: (135, 206, 235)\" style=\"width: 20px; height: 20px;background-color: rgb(135, 206, 235);\"></td><td title=\"Index: [7, 1]&#10;Color: (135, 206, 235)\" style=\"width: 20px; height: 20px;background-color: rgb(135, 206, 235);\"></td><td title=\"Index: [7, 2]&#10;Color: (135, 206, 235)\" style=\"width: 20px; height: 20px;background-color: rgb(135, 206, 235);\"></td><td title=\"Index: [7, 3]&#10;Color: (135, 206, 235)\" style=\"width: 20px; height: 20px;background-color: rgb(135, 206, 235);\"></td><td title=\"Index: [7, 4]&#10;Color: (135, 206, 235)\" style=\"width: 20px; height: 20px;background-color: rgb(135, 206, 235);\"></td><td title=\"Index: [7, 5]&#10;Color: (135, 206, 235)\" style=\"width: 20px; height: 20px;background-color: rgb(135, 206, 235);\"></td><td title=\"Index: [7, 6]&#10;Color: (135, 206, 235)\" style=\"width: 20px; height: 20px;background-color: rgb(135, 206, 235);\"></td><td title=\"Index: [7, 7]&#10;Color: (135, 206, 235)\" style=\"width: 20px; height: 20px;background-color: rgb(135, 206, 235);\"></td></tr></tbody></table>"
       ],
       "metadata": {},
       "output_type": "display_data",
       "text": [
        "<IPython.core.display.HTML at 0x141c250>"
       ]
      },
      {
       "output_type": "stream",
       "stream": "stdout",
       "text": [
        "None\n"
       ]
      },
      {
       "name": "stdout",
       "output_type": "stream",
       "stream": "stdout",
       "text": [
        "Guess Row:3\n"
       ]
      },
      {
       "name": "stdout",
       "output_type": "stream",
       "stream": "stdout",
       "text": [
        "Guess Col:3\n"
       ]
      },
      {
       "output_type": "stream",
       "stream": "stdout",
       "text": [
        "Turn 1\n",
        "You missed my battleship!\n"
       ]
      },
      {
       "html": [
        "<style type=\"text/css\">table.blockgrid {border: none;} .blockgrid tr {border: none;} .blockgrid td {padding: 0px;} #blocks87369684-1371-413f-9a6d-ac3a10aff177 td {border: 1px solid white;}</style><table id=\"blocks87369684-1371-413f-9a6d-ac3a10aff177\" class=\"blockgrid\"><tbody><tr><td title=\"Index: [0, 0]&#10;Color: (135, 206, 235)\" style=\"width: 20px; height: 20px;background-color: rgb(135, 206, 235);\"></td><td title=\"Index: [0, 1]&#10;Color: (135, 206, 235)\" style=\"width: 20px; height: 20px;background-color: rgb(135, 206, 235);\"></td><td title=\"Index: [0, 2]&#10;Color: (135, 206, 235)\" style=\"width: 20px; height: 20px;background-color: rgb(135, 206, 235);\"></td><td title=\"Index: [0, 3]&#10;Color: (135, 206, 235)\" style=\"width: 20px; height: 20px;background-color: rgb(135, 206, 235);\"></td><td title=\"Index: [0, 4]&#10;Color: (135, 206, 235)\" style=\"width: 20px; height: 20px;background-color: rgb(135, 206, 235);\"></td><td title=\"Index: [0, 5]&#10;Color: (135, 206, 235)\" style=\"width: 20px; height: 20px;background-color: rgb(135, 206, 235);\"></td><td title=\"Index: [0, 6]&#10;Color: (135, 206, 235)\" style=\"width: 20px; height: 20px;background-color: rgb(135, 206, 235);\"></td><td title=\"Index: [0, 7]&#10;Color: (135, 206, 235)\" style=\"width: 20px; height: 20px;background-color: rgb(135, 206, 235);\"></td></tr><tr><td title=\"Index: [1, 0]&#10;Color: (135, 206, 235)\" style=\"width: 20px; height: 20px;background-color: rgb(135, 206, 235);\"></td><td title=\"Index: [1, 1]&#10;Color: (135, 206, 235)\" style=\"width: 20px; height: 20px;background-color: rgb(135, 206, 235);\"></td><td title=\"Index: [1, 2]&#10;Color: (135, 206, 235)\" style=\"width: 20px; height: 20px;background-color: rgb(135, 206, 235);\"></td><td title=\"Index: [1, 3]&#10;Color: (135, 206, 235)\" style=\"width: 20px; height: 20px;background-color: rgb(135, 206, 235);\"></td><td title=\"Index: [1, 4]&#10;Color: (135, 206, 235)\" style=\"width: 20px; height: 20px;background-color: rgb(135, 206, 235);\"></td><td title=\"Index: [1, 5]&#10;Color: (135, 206, 235)\" style=\"width: 20px; height: 20px;background-color: rgb(135, 206, 235);\"></td><td title=\"Index: [1, 6]&#10;Color: (135, 206, 235)\" style=\"width: 20px; height: 20px;background-color: rgb(135, 206, 235);\"></td><td title=\"Index: [1, 7]&#10;Color: (135, 206, 235)\" style=\"width: 20px; height: 20px;background-color: rgb(135, 206, 235);\"></td></tr><tr><td title=\"Index: [2, 0]&#10;Color: (135, 206, 235)\" style=\"width: 20px; height: 20px;background-color: rgb(135, 206, 235);\"></td><td title=\"Index: [2, 1]&#10;Color: (135, 206, 235)\" style=\"width: 20px; height: 20px;background-color: rgb(135, 206, 235);\"></td><td title=\"Index: [2, 2]&#10;Color: (0, 0, 0)\" style=\"width: 20px; height: 20px;background-color: rgb(0, 0, 0);\"></td><td title=\"Index: [2, 3]&#10;Color: (135, 206, 235)\" style=\"width: 20px; height: 20px;background-color: rgb(135, 206, 235);\"></td><td title=\"Index: [2, 4]&#10;Color: (135, 206, 235)\" style=\"width: 20px; height: 20px;background-color: rgb(135, 206, 235);\"></td><td title=\"Index: [2, 5]&#10;Color: (135, 206, 235)\" style=\"width: 20px; height: 20px;background-color: rgb(135, 206, 235);\"></td><td title=\"Index: [2, 6]&#10;Color: (135, 206, 235)\" style=\"width: 20px; height: 20px;background-color: rgb(135, 206, 235);\"></td><td title=\"Index: [2, 7]&#10;Color: (135, 206, 235)\" style=\"width: 20px; height: 20px;background-color: rgb(135, 206, 235);\"></td></tr><tr><td title=\"Index: [3, 0]&#10;Color: (135, 206, 235)\" style=\"width: 20px; height: 20px;background-color: rgb(135, 206, 235);\"></td><td title=\"Index: [3, 1]&#10;Color: (135, 206, 235)\" style=\"width: 20px; height: 20px;background-color: rgb(135, 206, 235);\"></td><td title=\"Index: [3, 2]&#10;Color: (135, 206, 235)\" style=\"width: 20px; height: 20px;background-color: rgb(135, 206, 235);\"></td><td title=\"Index: [3, 3]&#10;Color: (135, 206, 235)\" style=\"width: 20px; height: 20px;background-color: rgb(135, 206, 235);\"></td><td title=\"Index: [3, 4]&#10;Color: (135, 206, 235)\" style=\"width: 20px; height: 20px;background-color: rgb(135, 206, 235);\"></td><td title=\"Index: [3, 5]&#10;Color: (135, 206, 235)\" style=\"width: 20px; height: 20px;background-color: rgb(135, 206, 235);\"></td><td title=\"Index: [3, 6]&#10;Color: (135, 206, 235)\" style=\"width: 20px; height: 20px;background-color: rgb(135, 206, 235);\"></td><td title=\"Index: [3, 7]&#10;Color: (135, 206, 235)\" style=\"width: 20px; height: 20px;background-color: rgb(135, 206, 235);\"></td></tr><tr><td title=\"Index: [4, 0]&#10;Color: (135, 206, 235)\" style=\"width: 20px; height: 20px;background-color: rgb(135, 206, 235);\"></td><td title=\"Index: [4, 1]&#10;Color: (135, 206, 235)\" style=\"width: 20px; height: 20px;background-color: rgb(135, 206, 235);\"></td><td title=\"Index: [4, 2]&#10;Color: (135, 206, 235)\" style=\"width: 20px; height: 20px;background-color: rgb(135, 206, 235);\"></td><td title=\"Index: [4, 3]&#10;Color: (135, 206, 235)\" style=\"width: 20px; height: 20px;background-color: rgb(135, 206, 235);\"></td><td title=\"Index: [4, 4]&#10;Color: (135, 206, 235)\" style=\"width: 20px; height: 20px;background-color: rgb(135, 206, 235);\"></td><td title=\"Index: [4, 5]&#10;Color: (135, 206, 235)\" style=\"width: 20px; height: 20px;background-color: rgb(135, 206, 235);\"></td><td title=\"Index: [4, 6]&#10;Color: (135, 206, 235)\" style=\"width: 20px; height: 20px;background-color: rgb(135, 206, 235);\"></td><td title=\"Index: [4, 7]&#10;Color: (135, 206, 235)\" style=\"width: 20px; height: 20px;background-color: rgb(135, 206, 235);\"></td></tr><tr><td title=\"Index: [5, 0]&#10;Color: (135, 206, 235)\" style=\"width: 20px; height: 20px;background-color: rgb(135, 206, 235);\"></td><td title=\"Index: [5, 1]&#10;Color: (135, 206, 235)\" style=\"width: 20px; height: 20px;background-color: rgb(135, 206, 235);\"></td><td title=\"Index: [5, 2]&#10;Color: (135, 206, 235)\" style=\"width: 20px; height: 20px;background-color: rgb(135, 206, 235);\"></td><td title=\"Index: [5, 3]&#10;Color: (135, 206, 235)\" style=\"width: 20px; height: 20px;background-color: rgb(135, 206, 235);\"></td><td title=\"Index: [5, 4]&#10;Color: (135, 206, 235)\" style=\"width: 20px; height: 20px;background-color: rgb(135, 206, 235);\"></td><td title=\"Index: [5, 5]&#10;Color: (135, 206, 235)\" style=\"width: 20px; height: 20px;background-color: rgb(135, 206, 235);\"></td><td title=\"Index: [5, 6]&#10;Color: (135, 206, 235)\" style=\"width: 20px; height: 20px;background-color: rgb(135, 206, 235);\"></td><td title=\"Index: [5, 7]&#10;Color: (135, 206, 235)\" style=\"width: 20px; height: 20px;background-color: rgb(135, 206, 235);\"></td></tr><tr><td title=\"Index: [6, 0]&#10;Color: (135, 206, 235)\" style=\"width: 20px; height: 20px;background-color: rgb(135, 206, 235);\"></td><td title=\"Index: [6, 1]&#10;Color: (135, 206, 235)\" style=\"width: 20px; height: 20px;background-color: rgb(135, 206, 235);\"></td><td title=\"Index: [6, 2]&#10;Color: (135, 206, 235)\" style=\"width: 20px; height: 20px;background-color: rgb(135, 206, 235);\"></td><td title=\"Index: [6, 3]&#10;Color: (135, 206, 235)\" style=\"width: 20px; height: 20px;background-color: rgb(135, 206, 235);\"></td><td title=\"Index: [6, 4]&#10;Color: (135, 206, 235)\" style=\"width: 20px; height: 20px;background-color: rgb(135, 206, 235);\"></td><td title=\"Index: [6, 5]&#10;Color: (135, 206, 235)\" style=\"width: 20px; height: 20px;background-color: rgb(135, 206, 235);\"></td><td title=\"Index: [6, 6]&#10;Color: (135, 206, 235)\" style=\"width: 20px; height: 20px;background-color: rgb(135, 206, 235);\"></td><td title=\"Index: [6, 7]&#10;Color: (135, 206, 235)\" style=\"width: 20px; height: 20px;background-color: rgb(135, 206, 235);\"></td></tr><tr><td title=\"Index: [7, 0]&#10;Color: (135, 206, 235)\" style=\"width: 20px; height: 20px;background-color: rgb(135, 206, 235);\"></td><td title=\"Index: [7, 1]&#10;Color: (135, 206, 235)\" style=\"width: 20px; height: 20px;background-color: rgb(135, 206, 235);\"></td><td title=\"Index: [7, 2]&#10;Color: (135, 206, 235)\" style=\"width: 20px; height: 20px;background-color: rgb(135, 206, 235);\"></td><td title=\"Index: [7, 3]&#10;Color: (135, 206, 235)\" style=\"width: 20px; height: 20px;background-color: rgb(135, 206, 235);\"></td><td title=\"Index: [7, 4]&#10;Color: (135, 206, 235)\" style=\"width: 20px; height: 20px;background-color: rgb(135, 206, 235);\"></td><td title=\"Index: [7, 5]&#10;Color: (135, 206, 235)\" style=\"width: 20px; height: 20px;background-color: rgb(135, 206, 235);\"></td><td title=\"Index: [7, 6]&#10;Color: (135, 206, 235)\" style=\"width: 20px; height: 20px;background-color: rgb(135, 206, 235);\"></td><td title=\"Index: [7, 7]&#10;Color: (135, 206, 235)\" style=\"width: 20px; height: 20px;background-color: rgb(135, 206, 235);\"></td></tr></tbody></table>"
       ],
       "metadata": {},
       "output_type": "display_data",
       "text": [
        "<IPython.core.display.HTML at 0x7f1d2869f110>"
       ]
      },
      {
       "output_type": "stream",
       "stream": "stdout",
       "text": [
        "None\n"
       ]
      },
      {
       "name": "stdout",
       "output_type": "stream",
       "stream": "stdout",
       "text": [
        "Guess Row:2\n"
       ]
      },
      {
       "name": "stdout",
       "output_type": "stream",
       "stream": "stdout",
       "text": [
        "Guess Col:2\n"
       ]
      },
      {
       "output_type": "stream",
       "stream": "stdout",
       "text": [
        "Turn 2\n",
        "You missed my battleship!\n"
       ]
      },
      {
       "html": [
        "<style type=\"text/css\">table.blockgrid {border: none;} .blockgrid tr {border: none;} .blockgrid td {padding: 0px;} #blocks34cfa880-3852-4bec-bbaf-22f35ae6d234 td {border: 1px solid white;}</style><table id=\"blocks34cfa880-3852-4bec-bbaf-22f35ae6d234\" class=\"blockgrid\"><tbody><tr><td title=\"Index: [0, 0]&#10;Color: (135, 206, 235)\" style=\"width: 20px; height: 20px;background-color: rgb(135, 206, 235);\"></td><td title=\"Index: [0, 1]&#10;Color: (135, 206, 235)\" style=\"width: 20px; height: 20px;background-color: rgb(135, 206, 235);\"></td><td title=\"Index: [0, 2]&#10;Color: (135, 206, 235)\" style=\"width: 20px; height: 20px;background-color: rgb(135, 206, 235);\"></td><td title=\"Index: [0, 3]&#10;Color: (135, 206, 235)\" style=\"width: 20px; height: 20px;background-color: rgb(135, 206, 235);\"></td><td title=\"Index: [0, 4]&#10;Color: (135, 206, 235)\" style=\"width: 20px; height: 20px;background-color: rgb(135, 206, 235);\"></td><td title=\"Index: [0, 5]&#10;Color: (135, 206, 235)\" style=\"width: 20px; height: 20px;background-color: rgb(135, 206, 235);\"></td><td title=\"Index: [0, 6]&#10;Color: (135, 206, 235)\" style=\"width: 20px; height: 20px;background-color: rgb(135, 206, 235);\"></td><td title=\"Index: [0, 7]&#10;Color: (135, 206, 235)\" style=\"width: 20px; height: 20px;background-color: rgb(135, 206, 235);\"></td></tr><tr><td title=\"Index: [1, 0]&#10;Color: (135, 206, 235)\" style=\"width: 20px; height: 20px;background-color: rgb(135, 206, 235);\"></td><td title=\"Index: [1, 1]&#10;Color: (0, 0, 0)\" style=\"width: 20px; height: 20px;background-color: rgb(0, 0, 0);\"></td><td title=\"Index: [1, 2]&#10;Color: (135, 206, 235)\" style=\"width: 20px; height: 20px;background-color: rgb(135, 206, 235);\"></td><td title=\"Index: [1, 3]&#10;Color: (135, 206, 235)\" style=\"width: 20px; height: 20px;background-color: rgb(135, 206, 235);\"></td><td title=\"Index: [1, 4]&#10;Color: (135, 206, 235)\" style=\"width: 20px; height: 20px;background-color: rgb(135, 206, 235);\"></td><td title=\"Index: [1, 5]&#10;Color: (135, 206, 235)\" style=\"width: 20px; height: 20px;background-color: rgb(135, 206, 235);\"></td><td title=\"Index: [1, 6]&#10;Color: (135, 206, 235)\" style=\"width: 20px; height: 20px;background-color: rgb(135, 206, 235);\"></td><td title=\"Index: [1, 7]&#10;Color: (135, 206, 235)\" style=\"width: 20px; height: 20px;background-color: rgb(135, 206, 235);\"></td></tr><tr><td title=\"Index: [2, 0]&#10;Color: (135, 206, 235)\" style=\"width: 20px; height: 20px;background-color: rgb(135, 206, 235);\"></td><td title=\"Index: [2, 1]&#10;Color: (135, 206, 235)\" style=\"width: 20px; height: 20px;background-color: rgb(135, 206, 235);\"></td><td title=\"Index: [2, 2]&#10;Color: (0, 0, 0)\" style=\"width: 20px; height: 20px;background-color: rgb(0, 0, 0);\"></td><td title=\"Index: [2, 3]&#10;Color: (135, 206, 235)\" style=\"width: 20px; height: 20px;background-color: rgb(135, 206, 235);\"></td><td title=\"Index: [2, 4]&#10;Color: (135, 206, 235)\" style=\"width: 20px; height: 20px;background-color: rgb(135, 206, 235);\"></td><td title=\"Index: [2, 5]&#10;Color: (135, 206, 235)\" style=\"width: 20px; height: 20px;background-color: rgb(135, 206, 235);\"></td><td title=\"Index: [2, 6]&#10;Color: (135, 206, 235)\" style=\"width: 20px; height: 20px;background-color: rgb(135, 206, 235);\"></td><td title=\"Index: [2, 7]&#10;Color: (135, 206, 235)\" style=\"width: 20px; height: 20px;background-color: rgb(135, 206, 235);\"></td></tr><tr><td title=\"Index: [3, 0]&#10;Color: (135, 206, 235)\" style=\"width: 20px; height: 20px;background-color: rgb(135, 206, 235);\"></td><td title=\"Index: [3, 1]&#10;Color: (135, 206, 235)\" style=\"width: 20px; height: 20px;background-color: rgb(135, 206, 235);\"></td><td title=\"Index: [3, 2]&#10;Color: (135, 206, 235)\" style=\"width: 20px; height: 20px;background-color: rgb(135, 206, 235);\"></td><td title=\"Index: [3, 3]&#10;Color: (135, 206, 235)\" style=\"width: 20px; height: 20px;background-color: rgb(135, 206, 235);\"></td><td title=\"Index: [3, 4]&#10;Color: (135, 206, 235)\" style=\"width: 20px; height: 20px;background-color: rgb(135, 206, 235);\"></td><td title=\"Index: [3, 5]&#10;Color: (135, 206, 235)\" style=\"width: 20px; height: 20px;background-color: rgb(135, 206, 235);\"></td><td title=\"Index: [3, 6]&#10;Color: (135, 206, 235)\" style=\"width: 20px; height: 20px;background-color: rgb(135, 206, 235);\"></td><td title=\"Index: [3, 7]&#10;Color: (135, 206, 235)\" style=\"width: 20px; height: 20px;background-color: rgb(135, 206, 235);\"></td></tr><tr><td title=\"Index: [4, 0]&#10;Color: (135, 206, 235)\" style=\"width: 20px; height: 20px;background-color: rgb(135, 206, 235);\"></td><td title=\"Index: [4, 1]&#10;Color: (135, 206, 235)\" style=\"width: 20px; height: 20px;background-color: rgb(135, 206, 235);\"></td><td title=\"Index: [4, 2]&#10;Color: (135, 206, 235)\" style=\"width: 20px; height: 20px;background-color: rgb(135, 206, 235);\"></td><td title=\"Index: [4, 3]&#10;Color: (135, 206, 235)\" style=\"width: 20px; height: 20px;background-color: rgb(135, 206, 235);\"></td><td title=\"Index: [4, 4]&#10;Color: (135, 206, 235)\" style=\"width: 20px; height: 20px;background-color: rgb(135, 206, 235);\"></td><td title=\"Index: [4, 5]&#10;Color: (135, 206, 235)\" style=\"width: 20px; height: 20px;background-color: rgb(135, 206, 235);\"></td><td title=\"Index: [4, 6]&#10;Color: (135, 206, 235)\" style=\"width: 20px; height: 20px;background-color: rgb(135, 206, 235);\"></td><td title=\"Index: [4, 7]&#10;Color: (135, 206, 235)\" style=\"width: 20px; height: 20px;background-color: rgb(135, 206, 235);\"></td></tr><tr><td title=\"Index: [5, 0]&#10;Color: (135, 206, 235)\" style=\"width: 20px; height: 20px;background-color: rgb(135, 206, 235);\"></td><td title=\"Index: [5, 1]&#10;Color: (135, 206, 235)\" style=\"width: 20px; height: 20px;background-color: rgb(135, 206, 235);\"></td><td title=\"Index: [5, 2]&#10;Color: (135, 206, 235)\" style=\"width: 20px; height: 20px;background-color: rgb(135, 206, 235);\"></td><td title=\"Index: [5, 3]&#10;Color: (135, 206, 235)\" style=\"width: 20px; height: 20px;background-color: rgb(135, 206, 235);\"></td><td title=\"Index: [5, 4]&#10;Color: (135, 206, 235)\" style=\"width: 20px; height: 20px;background-color: rgb(135, 206, 235);\"></td><td title=\"Index: [5, 5]&#10;Color: (135, 206, 235)\" style=\"width: 20px; height: 20px;background-color: rgb(135, 206, 235);\"></td><td title=\"Index: [5, 6]&#10;Color: (135, 206, 235)\" style=\"width: 20px; height: 20px;background-color: rgb(135, 206, 235);\"></td><td title=\"Index: [5, 7]&#10;Color: (135, 206, 235)\" style=\"width: 20px; height: 20px;background-color: rgb(135, 206, 235);\"></td></tr><tr><td title=\"Index: [6, 0]&#10;Color: (135, 206, 235)\" style=\"width: 20px; height: 20px;background-color: rgb(135, 206, 235);\"></td><td title=\"Index: [6, 1]&#10;Color: (135, 206, 235)\" style=\"width: 20px; height: 20px;background-color: rgb(135, 206, 235);\"></td><td title=\"Index: [6, 2]&#10;Color: (135, 206, 235)\" style=\"width: 20px; height: 20px;background-color: rgb(135, 206, 235);\"></td><td title=\"Index: [6, 3]&#10;Color: (135, 206, 235)\" style=\"width: 20px; height: 20px;background-color: rgb(135, 206, 235);\"></td><td title=\"Index: [6, 4]&#10;Color: (135, 206, 235)\" style=\"width: 20px; height: 20px;background-color: rgb(135, 206, 235);\"></td><td title=\"Index: [6, 5]&#10;Color: (135, 206, 235)\" style=\"width: 20px; height: 20px;background-color: rgb(135, 206, 235);\"></td><td title=\"Index: [6, 6]&#10;Color: (135, 206, 235)\" style=\"width: 20px; height: 20px;background-color: rgb(135, 206, 235);\"></td><td title=\"Index: [6, 7]&#10;Color: (135, 206, 235)\" style=\"width: 20px; height: 20px;background-color: rgb(135, 206, 235);\"></td></tr><tr><td title=\"Index: [7, 0]&#10;Color: (135, 206, 235)\" style=\"width: 20px; height: 20px;background-color: rgb(135, 206, 235);\"></td><td title=\"Index: [7, 1]&#10;Color: (135, 206, 235)\" style=\"width: 20px; height: 20px;background-color: rgb(135, 206, 235);\"></td><td title=\"Index: [7, 2]&#10;Color: (135, 206, 235)\" style=\"width: 20px; height: 20px;background-color: rgb(135, 206, 235);\"></td><td title=\"Index: [7, 3]&#10;Color: (135, 206, 235)\" style=\"width: 20px; height: 20px;background-color: rgb(135, 206, 235);\"></td><td title=\"Index: [7, 4]&#10;Color: (135, 206, 235)\" style=\"width: 20px; height: 20px;background-color: rgb(135, 206, 235);\"></td><td title=\"Index: [7, 5]&#10;Color: (135, 206, 235)\" style=\"width: 20px; height: 20px;background-color: rgb(135, 206, 235);\"></td><td title=\"Index: [7, 6]&#10;Color: (135, 206, 235)\" style=\"width: 20px; height: 20px;background-color: rgb(135, 206, 235);\"></td><td title=\"Index: [7, 7]&#10;Color: (135, 206, 235)\" style=\"width: 20px; height: 20px;background-color: rgb(135, 206, 235);\"></td></tr></tbody></table>"
       ],
       "metadata": {},
       "output_type": "display_data",
       "text": [
        "<IPython.core.display.HTML at 0x7f1d286a8890>"
       ]
      },
      {
       "output_type": "stream",
       "stream": "stdout",
       "text": [
        "None\n"
       ]
      },
      {
       "name": "stdout",
       "output_type": "stream",
       "stream": "stdout",
       "text": [
        "Guess Row:4\n"
       ]
      },
      {
       "name": "stdout",
       "output_type": "stream",
       "stream": "stdout",
       "text": [
        "Guess Col:4\n"
       ]
      },
      {
       "output_type": "stream",
       "stream": "stdout",
       "text": [
        "Turn 3\n",
        "You missed my battleship!\n"
       ]
      },
      {
       "html": [
        "<style type=\"text/css\">table.blockgrid {border: none;} .blockgrid tr {border: none;} .blockgrid td {padding: 0px;} #blocksa190ac77-c0a2-46de-9bbe-2c73d7598332 td {border: 1px solid white;}</style><table id=\"blocksa190ac77-c0a2-46de-9bbe-2c73d7598332\" class=\"blockgrid\"><tbody><tr><td title=\"Index: [0, 0]&#10;Color: (135, 206, 235)\" style=\"width: 20px; height: 20px;background-color: rgb(135, 206, 235);\"></td><td title=\"Index: [0, 1]&#10;Color: (135, 206, 235)\" style=\"width: 20px; height: 20px;background-color: rgb(135, 206, 235);\"></td><td title=\"Index: [0, 2]&#10;Color: (135, 206, 235)\" style=\"width: 20px; height: 20px;background-color: rgb(135, 206, 235);\"></td><td title=\"Index: [0, 3]&#10;Color: (135, 206, 235)\" style=\"width: 20px; height: 20px;background-color: rgb(135, 206, 235);\"></td><td title=\"Index: [0, 4]&#10;Color: (135, 206, 235)\" style=\"width: 20px; height: 20px;background-color: rgb(135, 206, 235);\"></td><td title=\"Index: [0, 5]&#10;Color: (135, 206, 235)\" style=\"width: 20px; height: 20px;background-color: rgb(135, 206, 235);\"></td><td title=\"Index: [0, 6]&#10;Color: (135, 206, 235)\" style=\"width: 20px; height: 20px;background-color: rgb(135, 206, 235);\"></td><td title=\"Index: [0, 7]&#10;Color: (135, 206, 235)\" style=\"width: 20px; height: 20px;background-color: rgb(135, 206, 235);\"></td></tr><tr><td title=\"Index: [1, 0]&#10;Color: (135, 206, 235)\" style=\"width: 20px; height: 20px;background-color: rgb(135, 206, 235);\"></td><td title=\"Index: [1, 1]&#10;Color: (0, 0, 0)\" style=\"width: 20px; height: 20px;background-color: rgb(0, 0, 0);\"></td><td title=\"Index: [1, 2]&#10;Color: (135, 206, 235)\" style=\"width: 20px; height: 20px;background-color: rgb(135, 206, 235);\"></td><td title=\"Index: [1, 3]&#10;Color: (135, 206, 235)\" style=\"width: 20px; height: 20px;background-color: rgb(135, 206, 235);\"></td><td title=\"Index: [1, 4]&#10;Color: (135, 206, 235)\" style=\"width: 20px; height: 20px;background-color: rgb(135, 206, 235);\"></td><td title=\"Index: [1, 5]&#10;Color: (135, 206, 235)\" style=\"width: 20px; height: 20px;background-color: rgb(135, 206, 235);\"></td><td title=\"Index: [1, 6]&#10;Color: (135, 206, 235)\" style=\"width: 20px; height: 20px;background-color: rgb(135, 206, 235);\"></td><td title=\"Index: [1, 7]&#10;Color: (135, 206, 235)\" style=\"width: 20px; height: 20px;background-color: rgb(135, 206, 235);\"></td></tr><tr><td title=\"Index: [2, 0]&#10;Color: (135, 206, 235)\" style=\"width: 20px; height: 20px;background-color: rgb(135, 206, 235);\"></td><td title=\"Index: [2, 1]&#10;Color: (135, 206, 235)\" style=\"width: 20px; height: 20px;background-color: rgb(135, 206, 235);\"></td><td title=\"Index: [2, 2]&#10;Color: (0, 0, 0)\" style=\"width: 20px; height: 20px;background-color: rgb(0, 0, 0);\"></td><td title=\"Index: [2, 3]&#10;Color: (135, 206, 235)\" style=\"width: 20px; height: 20px;background-color: rgb(135, 206, 235);\"></td><td title=\"Index: [2, 4]&#10;Color: (135, 206, 235)\" style=\"width: 20px; height: 20px;background-color: rgb(135, 206, 235);\"></td><td title=\"Index: [2, 5]&#10;Color: (135, 206, 235)\" style=\"width: 20px; height: 20px;background-color: rgb(135, 206, 235);\"></td><td title=\"Index: [2, 6]&#10;Color: (135, 206, 235)\" style=\"width: 20px; height: 20px;background-color: rgb(135, 206, 235);\"></td><td title=\"Index: [2, 7]&#10;Color: (135, 206, 235)\" style=\"width: 20px; height: 20px;background-color: rgb(135, 206, 235);\"></td></tr><tr><td title=\"Index: [3, 0]&#10;Color: (135, 206, 235)\" style=\"width: 20px; height: 20px;background-color: rgb(135, 206, 235);\"></td><td title=\"Index: [3, 1]&#10;Color: (135, 206, 235)\" style=\"width: 20px; height: 20px;background-color: rgb(135, 206, 235);\"></td><td title=\"Index: [3, 2]&#10;Color: (135, 206, 235)\" style=\"width: 20px; height: 20px;background-color: rgb(135, 206, 235);\"></td><td title=\"Index: [3, 3]&#10;Color: (0, 0, 0)\" style=\"width: 20px; height: 20px;background-color: rgb(0, 0, 0);\"></td><td title=\"Index: [3, 4]&#10;Color: (135, 206, 235)\" style=\"width: 20px; height: 20px;background-color: rgb(135, 206, 235);\"></td><td title=\"Index: [3, 5]&#10;Color: (135, 206, 235)\" style=\"width: 20px; height: 20px;background-color: rgb(135, 206, 235);\"></td><td title=\"Index: [3, 6]&#10;Color: (135, 206, 235)\" style=\"width: 20px; height: 20px;background-color: rgb(135, 206, 235);\"></td><td title=\"Index: [3, 7]&#10;Color: (135, 206, 235)\" style=\"width: 20px; height: 20px;background-color: rgb(135, 206, 235);\"></td></tr><tr><td title=\"Index: [4, 0]&#10;Color: (135, 206, 235)\" style=\"width: 20px; height: 20px;background-color: rgb(135, 206, 235);\"></td><td title=\"Index: [4, 1]&#10;Color: (135, 206, 235)\" style=\"width: 20px; height: 20px;background-color: rgb(135, 206, 235);\"></td><td title=\"Index: [4, 2]&#10;Color: (135, 206, 235)\" style=\"width: 20px; height: 20px;background-color: rgb(135, 206, 235);\"></td><td title=\"Index: [4, 3]&#10;Color: (135, 206, 235)\" style=\"width: 20px; height: 20px;background-color: rgb(135, 206, 235);\"></td><td title=\"Index: [4, 4]&#10;Color: (135, 206, 235)\" style=\"width: 20px; height: 20px;background-color: rgb(135, 206, 235);\"></td><td title=\"Index: [4, 5]&#10;Color: (135, 206, 235)\" style=\"width: 20px; height: 20px;background-color: rgb(135, 206, 235);\"></td><td title=\"Index: [4, 6]&#10;Color: (135, 206, 235)\" style=\"width: 20px; height: 20px;background-color: rgb(135, 206, 235);\"></td><td title=\"Index: [4, 7]&#10;Color: (135, 206, 235)\" style=\"width: 20px; height: 20px;background-color: rgb(135, 206, 235);\"></td></tr><tr><td title=\"Index: [5, 0]&#10;Color: (135, 206, 235)\" style=\"width: 20px; height: 20px;background-color: rgb(135, 206, 235);\"></td><td title=\"Index: [5, 1]&#10;Color: (135, 206, 235)\" style=\"width: 20px; height: 20px;background-color: rgb(135, 206, 235);\"></td><td title=\"Index: [5, 2]&#10;Color: (135, 206, 235)\" style=\"width: 20px; height: 20px;background-color: rgb(135, 206, 235);\"></td><td title=\"Index: [5, 3]&#10;Color: (135, 206, 235)\" style=\"width: 20px; height: 20px;background-color: rgb(135, 206, 235);\"></td><td title=\"Index: [5, 4]&#10;Color: (135, 206, 235)\" style=\"width: 20px; height: 20px;background-color: rgb(135, 206, 235);\"></td><td title=\"Index: [5, 5]&#10;Color: (135, 206, 235)\" style=\"width: 20px; height: 20px;background-color: rgb(135, 206, 235);\"></td><td title=\"Index: [5, 6]&#10;Color: (135, 206, 235)\" style=\"width: 20px; height: 20px;background-color: rgb(135, 206, 235);\"></td><td title=\"Index: [5, 7]&#10;Color: (135, 206, 235)\" style=\"width: 20px; height: 20px;background-color: rgb(135, 206, 235);\"></td></tr><tr><td title=\"Index: [6, 0]&#10;Color: (135, 206, 235)\" style=\"width: 20px; height: 20px;background-color: rgb(135, 206, 235);\"></td><td title=\"Index: [6, 1]&#10;Color: (135, 206, 235)\" style=\"width: 20px; height: 20px;background-color: rgb(135, 206, 235);\"></td><td title=\"Index: [6, 2]&#10;Color: (135, 206, 235)\" style=\"width: 20px; height: 20px;background-color: rgb(135, 206, 235);\"></td><td title=\"Index: [6, 3]&#10;Color: (135, 206, 235)\" style=\"width: 20px; height: 20px;background-color: rgb(135, 206, 235);\"></td><td title=\"Index: [6, 4]&#10;Color: (135, 206, 235)\" style=\"width: 20px; height: 20px;background-color: rgb(135, 206, 235);\"></td><td title=\"Index: [6, 5]&#10;Color: (135, 206, 235)\" style=\"width: 20px; height: 20px;background-color: rgb(135, 206, 235);\"></td><td title=\"Index: [6, 6]&#10;Color: (135, 206, 235)\" style=\"width: 20px; height: 20px;background-color: rgb(135, 206, 235);\"></td><td title=\"Index: [6, 7]&#10;Color: (135, 206, 235)\" style=\"width: 20px; height: 20px;background-color: rgb(135, 206, 235);\"></td></tr><tr><td title=\"Index: [7, 0]&#10;Color: (135, 206, 235)\" style=\"width: 20px; height: 20px;background-color: rgb(135, 206, 235);\"></td><td title=\"Index: [7, 1]&#10;Color: (135, 206, 235)\" style=\"width: 20px; height: 20px;background-color: rgb(135, 206, 235);\"></td><td title=\"Index: [7, 2]&#10;Color: (135, 206, 235)\" style=\"width: 20px; height: 20px;background-color: rgb(135, 206, 235);\"></td><td title=\"Index: [7, 3]&#10;Color: (135, 206, 235)\" style=\"width: 20px; height: 20px;background-color: rgb(135, 206, 235);\"></td><td title=\"Index: [7, 4]&#10;Color: (135, 206, 235)\" style=\"width: 20px; height: 20px;background-color: rgb(135, 206, 235);\"></td><td title=\"Index: [7, 5]&#10;Color: (135, 206, 235)\" style=\"width: 20px; height: 20px;background-color: rgb(135, 206, 235);\"></td><td title=\"Index: [7, 6]&#10;Color: (135, 206, 235)\" style=\"width: 20px; height: 20px;background-color: rgb(135, 206, 235);\"></td><td title=\"Index: [7, 7]&#10;Color: (135, 206, 235)\" style=\"width: 20px; height: 20px;background-color: rgb(135, 206, 235);\"></td></tr></tbody></table>"
       ],
       "metadata": {},
       "output_type": "display_data",
       "text": [
        "<IPython.core.display.HTML at 0x7f1d286a8990>"
       ]
      },
      {
       "output_type": "stream",
       "stream": "stdout",
       "text": [
        "None\n"
       ]
      },
      {
       "name": "stdout",
       "output_type": "stream",
       "stream": "stdout",
       "text": [
        "Guess Row:5\n"
       ]
      },
      {
       "name": "stdout",
       "output_type": "stream",
       "stream": "stdout",
       "text": [
        "Guess Col:5\n"
       ]
      },
      {
       "output_type": "stream",
       "stream": "stdout",
       "text": [
        "Turn 4\n",
        "You missed my battleship!\n"
       ]
      },
      {
       "html": [
        "<style type=\"text/css\">table.blockgrid {border: none;} .blockgrid tr {border: none;} .blockgrid td {padding: 0px;} #blocksd0b3a03a-35df-4302-856a-4790a403b27e td {border: 1px solid white;}</style><table id=\"blocksd0b3a03a-35df-4302-856a-4790a403b27e\" class=\"blockgrid\"><tbody><tr><td title=\"Index: [0, 0]&#10;Color: (135, 206, 235)\" style=\"width: 20px; height: 20px;background-color: rgb(135, 206, 235);\"></td><td title=\"Index: [0, 1]&#10;Color: (135, 206, 235)\" style=\"width: 20px; height: 20px;background-color: rgb(135, 206, 235);\"></td><td title=\"Index: [0, 2]&#10;Color: (135, 206, 235)\" style=\"width: 20px; height: 20px;background-color: rgb(135, 206, 235);\"></td><td title=\"Index: [0, 3]&#10;Color: (135, 206, 235)\" style=\"width: 20px; height: 20px;background-color: rgb(135, 206, 235);\"></td><td title=\"Index: [0, 4]&#10;Color: (135, 206, 235)\" style=\"width: 20px; height: 20px;background-color: rgb(135, 206, 235);\"></td><td title=\"Index: [0, 5]&#10;Color: (135, 206, 235)\" style=\"width: 20px; height: 20px;background-color: rgb(135, 206, 235);\"></td><td title=\"Index: [0, 6]&#10;Color: (135, 206, 235)\" style=\"width: 20px; height: 20px;background-color: rgb(135, 206, 235);\"></td><td title=\"Index: [0, 7]&#10;Color: (135, 206, 235)\" style=\"width: 20px; height: 20px;background-color: rgb(135, 206, 235);\"></td></tr><tr><td title=\"Index: [1, 0]&#10;Color: (135, 206, 235)\" style=\"width: 20px; height: 20px;background-color: rgb(135, 206, 235);\"></td><td title=\"Index: [1, 1]&#10;Color: (0, 0, 0)\" style=\"width: 20px; height: 20px;background-color: rgb(0, 0, 0);\"></td><td title=\"Index: [1, 2]&#10;Color: (135, 206, 235)\" style=\"width: 20px; height: 20px;background-color: rgb(135, 206, 235);\"></td><td title=\"Index: [1, 3]&#10;Color: (135, 206, 235)\" style=\"width: 20px; height: 20px;background-color: rgb(135, 206, 235);\"></td><td title=\"Index: [1, 4]&#10;Color: (135, 206, 235)\" style=\"width: 20px; height: 20px;background-color: rgb(135, 206, 235);\"></td><td title=\"Index: [1, 5]&#10;Color: (135, 206, 235)\" style=\"width: 20px; height: 20px;background-color: rgb(135, 206, 235);\"></td><td title=\"Index: [1, 6]&#10;Color: (135, 206, 235)\" style=\"width: 20px; height: 20px;background-color: rgb(135, 206, 235);\"></td><td title=\"Index: [1, 7]&#10;Color: (135, 206, 235)\" style=\"width: 20px; height: 20px;background-color: rgb(135, 206, 235);\"></td></tr><tr><td title=\"Index: [2, 0]&#10;Color: (135, 206, 235)\" style=\"width: 20px; height: 20px;background-color: rgb(135, 206, 235);\"></td><td title=\"Index: [2, 1]&#10;Color: (135, 206, 235)\" style=\"width: 20px; height: 20px;background-color: rgb(135, 206, 235);\"></td><td title=\"Index: [2, 2]&#10;Color: (0, 0, 0)\" style=\"width: 20px; height: 20px;background-color: rgb(0, 0, 0);\"></td><td title=\"Index: [2, 3]&#10;Color: (135, 206, 235)\" style=\"width: 20px; height: 20px;background-color: rgb(135, 206, 235);\"></td><td title=\"Index: [2, 4]&#10;Color: (135, 206, 235)\" style=\"width: 20px; height: 20px;background-color: rgb(135, 206, 235);\"></td><td title=\"Index: [2, 5]&#10;Color: (135, 206, 235)\" style=\"width: 20px; height: 20px;background-color: rgb(135, 206, 235);\"></td><td title=\"Index: [2, 6]&#10;Color: (135, 206, 235)\" style=\"width: 20px; height: 20px;background-color: rgb(135, 206, 235);\"></td><td title=\"Index: [2, 7]&#10;Color: (135, 206, 235)\" style=\"width: 20px; height: 20px;background-color: rgb(135, 206, 235);\"></td></tr><tr><td title=\"Index: [3, 0]&#10;Color: (135, 206, 235)\" style=\"width: 20px; height: 20px;background-color: rgb(135, 206, 235);\"></td><td title=\"Index: [3, 1]&#10;Color: (135, 206, 235)\" style=\"width: 20px; height: 20px;background-color: rgb(135, 206, 235);\"></td><td title=\"Index: [3, 2]&#10;Color: (135, 206, 235)\" style=\"width: 20px; height: 20px;background-color: rgb(135, 206, 235);\"></td><td title=\"Index: [3, 3]&#10;Color: (0, 0, 0)\" style=\"width: 20px; height: 20px;background-color: rgb(0, 0, 0);\"></td><td title=\"Index: [3, 4]&#10;Color: (135, 206, 235)\" style=\"width: 20px; height: 20px;background-color: rgb(135, 206, 235);\"></td><td title=\"Index: [3, 5]&#10;Color: (135, 206, 235)\" style=\"width: 20px; height: 20px;background-color: rgb(135, 206, 235);\"></td><td title=\"Index: [3, 6]&#10;Color: (135, 206, 235)\" style=\"width: 20px; height: 20px;background-color: rgb(135, 206, 235);\"></td><td title=\"Index: [3, 7]&#10;Color: (135, 206, 235)\" style=\"width: 20px; height: 20px;background-color: rgb(135, 206, 235);\"></td></tr><tr><td title=\"Index: [4, 0]&#10;Color: (135, 206, 235)\" style=\"width: 20px; height: 20px;background-color: rgb(135, 206, 235);\"></td><td title=\"Index: [4, 1]&#10;Color: (135, 206, 235)\" style=\"width: 20px; height: 20px;background-color: rgb(135, 206, 235);\"></td><td title=\"Index: [4, 2]&#10;Color: (135, 206, 235)\" style=\"width: 20px; height: 20px;background-color: rgb(135, 206, 235);\"></td><td title=\"Index: [4, 3]&#10;Color: (135, 206, 235)\" style=\"width: 20px; height: 20px;background-color: rgb(135, 206, 235);\"></td><td title=\"Index: [4, 4]&#10;Color: (0, 0, 0)\" style=\"width: 20px; height: 20px;background-color: rgb(0, 0, 0);\"></td><td title=\"Index: [4, 5]&#10;Color: (135, 206, 235)\" style=\"width: 20px; height: 20px;background-color: rgb(135, 206, 235);\"></td><td title=\"Index: [4, 6]&#10;Color: (135, 206, 235)\" style=\"width: 20px; height: 20px;background-color: rgb(135, 206, 235);\"></td><td title=\"Index: [4, 7]&#10;Color: (135, 206, 235)\" style=\"width: 20px; height: 20px;background-color: rgb(135, 206, 235);\"></td></tr><tr><td title=\"Index: [5, 0]&#10;Color: (135, 206, 235)\" style=\"width: 20px; height: 20px;background-color: rgb(135, 206, 235);\"></td><td title=\"Index: [5, 1]&#10;Color: (135, 206, 235)\" style=\"width: 20px; height: 20px;background-color: rgb(135, 206, 235);\"></td><td title=\"Index: [5, 2]&#10;Color: (135, 206, 235)\" style=\"width: 20px; height: 20px;background-color: rgb(135, 206, 235);\"></td><td title=\"Index: [5, 3]&#10;Color: (135, 206, 235)\" style=\"width: 20px; height: 20px;background-color: rgb(135, 206, 235);\"></td><td title=\"Index: [5, 4]&#10;Color: (135, 206, 235)\" style=\"width: 20px; height: 20px;background-color: rgb(135, 206, 235);\"></td><td title=\"Index: [5, 5]&#10;Color: (135, 206, 235)\" style=\"width: 20px; height: 20px;background-color: rgb(135, 206, 235);\"></td><td title=\"Index: [5, 6]&#10;Color: (135, 206, 235)\" style=\"width: 20px; height: 20px;background-color: rgb(135, 206, 235);\"></td><td title=\"Index: [5, 7]&#10;Color: (135, 206, 235)\" style=\"width: 20px; height: 20px;background-color: rgb(135, 206, 235);\"></td></tr><tr><td title=\"Index: [6, 0]&#10;Color: (135, 206, 235)\" style=\"width: 20px; height: 20px;background-color: rgb(135, 206, 235);\"></td><td title=\"Index: [6, 1]&#10;Color: (135, 206, 235)\" style=\"width: 20px; height: 20px;background-color: rgb(135, 206, 235);\"></td><td title=\"Index: [6, 2]&#10;Color: (135, 206, 235)\" style=\"width: 20px; height: 20px;background-color: rgb(135, 206, 235);\"></td><td title=\"Index: [6, 3]&#10;Color: (135, 206, 235)\" style=\"width: 20px; height: 20px;background-color: rgb(135, 206, 235);\"></td><td title=\"Index: [6, 4]&#10;Color: (135, 206, 235)\" style=\"width: 20px; height: 20px;background-color: rgb(135, 206, 235);\"></td><td title=\"Index: [6, 5]&#10;Color: (135, 206, 235)\" style=\"width: 20px; height: 20px;background-color: rgb(135, 206, 235);\"></td><td title=\"Index: [6, 6]&#10;Color: (135, 206, 235)\" style=\"width: 20px; height: 20px;background-color: rgb(135, 206, 235);\"></td><td title=\"Index: [6, 7]&#10;Color: (135, 206, 235)\" style=\"width: 20px; height: 20px;background-color: rgb(135, 206, 235);\"></td></tr><tr><td title=\"Index: [7, 0]&#10;Color: (135, 206, 235)\" style=\"width: 20px; height: 20px;background-color: rgb(135, 206, 235);\"></td><td title=\"Index: [7, 1]&#10;Color: (135, 206, 235)\" style=\"width: 20px; height: 20px;background-color: rgb(135, 206, 235);\"></td><td title=\"Index: [7, 2]&#10;Color: (135, 206, 235)\" style=\"width: 20px; height: 20px;background-color: rgb(135, 206, 235);\"></td><td title=\"Index: [7, 3]&#10;Color: (135, 206, 235)\" style=\"width: 20px; height: 20px;background-color: rgb(135, 206, 235);\"></td><td title=\"Index: [7, 4]&#10;Color: (135, 206, 235)\" style=\"width: 20px; height: 20px;background-color: rgb(135, 206, 235);\"></td><td title=\"Index: [7, 5]&#10;Color: (135, 206, 235)\" style=\"width: 20px; height: 20px;background-color: rgb(135, 206, 235);\"></td><td title=\"Index: [7, 6]&#10;Color: (135, 206, 235)\" style=\"width: 20px; height: 20px;background-color: rgb(135, 206, 235);\"></td><td title=\"Index: [7, 7]&#10;Color: (135, 206, 235)\" style=\"width: 20px; height: 20px;background-color: rgb(135, 206, 235);\"></td></tr></tbody></table>"
       ],
       "metadata": {},
       "output_type": "display_data",
       "text": [
        "<IPython.core.display.HTML at 0x7f1d24d85810>"
       ]
      },
      {
       "output_type": "stream",
       "stream": "stdout",
       "text": [
        "None\n"
       ]
      },
      {
       "name": "stdout",
       "output_type": "stream",
       "stream": "stdout",
       "text": [
        "Guess Row:6\n"
       ]
      },
      {
       "name": "stdout",
       "output_type": "stream",
       "stream": "stdout",
       "text": [
        "Guess Col:6\n"
       ]
      },
      {
       "output_type": "stream",
       "stream": "stdout",
       "text": [
        "Turn 5\n",
        "You missed my battleship!\n"
       ]
      },
      {
       "html": [
        "<style type=\"text/css\">table.blockgrid {border: none;} .blockgrid tr {border: none;} .blockgrid td {padding: 0px;} #blocks729eb262-ab1f-48ed-8ab1-6447370c5bb2 td {border: 1px solid white;}</style><table id=\"blocks729eb262-ab1f-48ed-8ab1-6447370c5bb2\" class=\"blockgrid\"><tbody><tr><td title=\"Index: [0, 0]&#10;Color: (135, 206, 235)\" style=\"width: 20px; height: 20px;background-color: rgb(135, 206, 235);\"></td><td title=\"Index: [0, 1]&#10;Color: (135, 206, 235)\" style=\"width: 20px; height: 20px;background-color: rgb(135, 206, 235);\"></td><td title=\"Index: [0, 2]&#10;Color: (135, 206, 235)\" style=\"width: 20px; height: 20px;background-color: rgb(135, 206, 235);\"></td><td title=\"Index: [0, 3]&#10;Color: (135, 206, 235)\" style=\"width: 20px; height: 20px;background-color: rgb(135, 206, 235);\"></td><td title=\"Index: [0, 4]&#10;Color: (135, 206, 235)\" style=\"width: 20px; height: 20px;background-color: rgb(135, 206, 235);\"></td><td title=\"Index: [0, 5]&#10;Color: (135, 206, 235)\" style=\"width: 20px; height: 20px;background-color: rgb(135, 206, 235);\"></td><td title=\"Index: [0, 6]&#10;Color: (135, 206, 235)\" style=\"width: 20px; height: 20px;background-color: rgb(135, 206, 235);\"></td><td title=\"Index: [0, 7]&#10;Color: (135, 206, 235)\" style=\"width: 20px; height: 20px;background-color: rgb(135, 206, 235);\"></td></tr><tr><td title=\"Index: [1, 0]&#10;Color: (135, 206, 235)\" style=\"width: 20px; height: 20px;background-color: rgb(135, 206, 235);\"></td><td title=\"Index: [1, 1]&#10;Color: (0, 0, 0)\" style=\"width: 20px; height: 20px;background-color: rgb(0, 0, 0);\"></td><td title=\"Index: [1, 2]&#10;Color: (135, 206, 235)\" style=\"width: 20px; height: 20px;background-color: rgb(135, 206, 235);\"></td><td title=\"Index: [1, 3]&#10;Color: (135, 206, 235)\" style=\"width: 20px; height: 20px;background-color: rgb(135, 206, 235);\"></td><td title=\"Index: [1, 4]&#10;Color: (135, 206, 235)\" style=\"width: 20px; height: 20px;background-color: rgb(135, 206, 235);\"></td><td title=\"Index: [1, 5]&#10;Color: (135, 206, 235)\" style=\"width: 20px; height: 20px;background-color: rgb(135, 206, 235);\"></td><td title=\"Index: [1, 6]&#10;Color: (135, 206, 235)\" style=\"width: 20px; height: 20px;background-color: rgb(135, 206, 235);\"></td><td title=\"Index: [1, 7]&#10;Color: (135, 206, 235)\" style=\"width: 20px; height: 20px;background-color: rgb(135, 206, 235);\"></td></tr><tr><td title=\"Index: [2, 0]&#10;Color: (135, 206, 235)\" style=\"width: 20px; height: 20px;background-color: rgb(135, 206, 235);\"></td><td title=\"Index: [2, 1]&#10;Color: (135, 206, 235)\" style=\"width: 20px; height: 20px;background-color: rgb(135, 206, 235);\"></td><td title=\"Index: [2, 2]&#10;Color: (0, 0, 0)\" style=\"width: 20px; height: 20px;background-color: rgb(0, 0, 0);\"></td><td title=\"Index: [2, 3]&#10;Color: (135, 206, 235)\" style=\"width: 20px; height: 20px;background-color: rgb(135, 206, 235);\"></td><td title=\"Index: [2, 4]&#10;Color: (135, 206, 235)\" style=\"width: 20px; height: 20px;background-color: rgb(135, 206, 235);\"></td><td title=\"Index: [2, 5]&#10;Color: (135, 206, 235)\" style=\"width: 20px; height: 20px;background-color: rgb(135, 206, 235);\"></td><td title=\"Index: [2, 6]&#10;Color: (135, 206, 235)\" style=\"width: 20px; height: 20px;background-color: rgb(135, 206, 235);\"></td><td title=\"Index: [2, 7]&#10;Color: (135, 206, 235)\" style=\"width: 20px; height: 20px;background-color: rgb(135, 206, 235);\"></td></tr><tr><td title=\"Index: [3, 0]&#10;Color: (135, 206, 235)\" style=\"width: 20px; height: 20px;background-color: rgb(135, 206, 235);\"></td><td title=\"Index: [3, 1]&#10;Color: (135, 206, 235)\" style=\"width: 20px; height: 20px;background-color: rgb(135, 206, 235);\"></td><td title=\"Index: [3, 2]&#10;Color: (135, 206, 235)\" style=\"width: 20px; height: 20px;background-color: rgb(135, 206, 235);\"></td><td title=\"Index: [3, 3]&#10;Color: (0, 0, 0)\" style=\"width: 20px; height: 20px;background-color: rgb(0, 0, 0);\"></td><td title=\"Index: [3, 4]&#10;Color: (135, 206, 235)\" style=\"width: 20px; height: 20px;background-color: rgb(135, 206, 235);\"></td><td title=\"Index: [3, 5]&#10;Color: (135, 206, 235)\" style=\"width: 20px; height: 20px;background-color: rgb(135, 206, 235);\"></td><td title=\"Index: [3, 6]&#10;Color: (135, 206, 235)\" style=\"width: 20px; height: 20px;background-color: rgb(135, 206, 235);\"></td><td title=\"Index: [3, 7]&#10;Color: (135, 206, 235)\" style=\"width: 20px; height: 20px;background-color: rgb(135, 206, 235);\"></td></tr><tr><td title=\"Index: [4, 0]&#10;Color: (135, 206, 235)\" style=\"width: 20px; height: 20px;background-color: rgb(135, 206, 235);\"></td><td title=\"Index: [4, 1]&#10;Color: (135, 206, 235)\" style=\"width: 20px; height: 20px;background-color: rgb(135, 206, 235);\"></td><td title=\"Index: [4, 2]&#10;Color: (135, 206, 235)\" style=\"width: 20px; height: 20px;background-color: rgb(135, 206, 235);\"></td><td title=\"Index: [4, 3]&#10;Color: (135, 206, 235)\" style=\"width: 20px; height: 20px;background-color: rgb(135, 206, 235);\"></td><td title=\"Index: [4, 4]&#10;Color: (0, 0, 0)\" style=\"width: 20px; height: 20px;background-color: rgb(0, 0, 0);\"></td><td title=\"Index: [4, 5]&#10;Color: (135, 206, 235)\" style=\"width: 20px; height: 20px;background-color: rgb(135, 206, 235);\"></td><td title=\"Index: [4, 6]&#10;Color: (135, 206, 235)\" style=\"width: 20px; height: 20px;background-color: rgb(135, 206, 235);\"></td><td title=\"Index: [4, 7]&#10;Color: (135, 206, 235)\" style=\"width: 20px; height: 20px;background-color: rgb(135, 206, 235);\"></td></tr><tr><td title=\"Index: [5, 0]&#10;Color: (135, 206, 235)\" style=\"width: 20px; height: 20px;background-color: rgb(135, 206, 235);\"></td><td title=\"Index: [5, 1]&#10;Color: (135, 206, 235)\" style=\"width: 20px; height: 20px;background-color: rgb(135, 206, 235);\"></td><td title=\"Index: [5, 2]&#10;Color: (135, 206, 235)\" style=\"width: 20px; height: 20px;background-color: rgb(135, 206, 235);\"></td><td title=\"Index: [5, 3]&#10;Color: (135, 206, 235)\" style=\"width: 20px; height: 20px;background-color: rgb(135, 206, 235);\"></td><td title=\"Index: [5, 4]&#10;Color: (135, 206, 235)\" style=\"width: 20px; height: 20px;background-color: rgb(135, 206, 235);\"></td><td title=\"Index: [5, 5]&#10;Color: (0, 0, 0)\" style=\"width: 20px; height: 20px;background-color: rgb(0, 0, 0);\"></td><td title=\"Index: [5, 6]&#10;Color: (135, 206, 235)\" style=\"width: 20px; height: 20px;background-color: rgb(135, 206, 235);\"></td><td title=\"Index: [5, 7]&#10;Color: (135, 206, 235)\" style=\"width: 20px; height: 20px;background-color: rgb(135, 206, 235);\"></td></tr><tr><td title=\"Index: [6, 0]&#10;Color: (135, 206, 235)\" style=\"width: 20px; height: 20px;background-color: rgb(135, 206, 235);\"></td><td title=\"Index: [6, 1]&#10;Color: (135, 206, 235)\" style=\"width: 20px; height: 20px;background-color: rgb(135, 206, 235);\"></td><td title=\"Index: [6, 2]&#10;Color: (135, 206, 235)\" style=\"width: 20px; height: 20px;background-color: rgb(135, 206, 235);\"></td><td title=\"Index: [6, 3]&#10;Color: (135, 206, 235)\" style=\"width: 20px; height: 20px;background-color: rgb(135, 206, 235);\"></td><td title=\"Index: [6, 4]&#10;Color: (135, 206, 235)\" style=\"width: 20px; height: 20px;background-color: rgb(135, 206, 235);\"></td><td title=\"Index: [6, 5]&#10;Color: (135, 206, 235)\" style=\"width: 20px; height: 20px;background-color: rgb(135, 206, 235);\"></td><td title=\"Index: [6, 6]&#10;Color: (135, 206, 235)\" style=\"width: 20px; height: 20px;background-color: rgb(135, 206, 235);\"></td><td title=\"Index: [6, 7]&#10;Color: (135, 206, 235)\" style=\"width: 20px; height: 20px;background-color: rgb(135, 206, 235);\"></td></tr><tr><td title=\"Index: [7, 0]&#10;Color: (135, 206, 235)\" style=\"width: 20px; height: 20px;background-color: rgb(135, 206, 235);\"></td><td title=\"Index: [7, 1]&#10;Color: (135, 206, 235)\" style=\"width: 20px; height: 20px;background-color: rgb(135, 206, 235);\"></td><td title=\"Index: [7, 2]&#10;Color: (135, 206, 235)\" style=\"width: 20px; height: 20px;background-color: rgb(135, 206, 235);\"></td><td title=\"Index: [7, 3]&#10;Color: (135, 206, 235)\" style=\"width: 20px; height: 20px;background-color: rgb(135, 206, 235);\"></td><td title=\"Index: [7, 4]&#10;Color: (135, 206, 235)\" style=\"width: 20px; height: 20px;background-color: rgb(135, 206, 235);\"></td><td title=\"Index: [7, 5]&#10;Color: (135, 206, 235)\" style=\"width: 20px; height: 20px;background-color: rgb(135, 206, 235);\"></td><td title=\"Index: [7, 6]&#10;Color: (135, 206, 235)\" style=\"width: 20px; height: 20px;background-color: rgb(135, 206, 235);\"></td><td title=\"Index: [7, 7]&#10;Color: (135, 206, 235)\" style=\"width: 20px; height: 20px;background-color: rgb(135, 206, 235);\"></td></tr></tbody></table>"
       ],
       "metadata": {},
       "output_type": "display_data",
       "text": [
        "<IPython.core.display.HTML at 0x1422550>"
       ]
      },
      {
       "output_type": "stream",
       "stream": "stdout",
       "text": [
        "None\n"
       ]
      },
      {
       "name": "stdout",
       "output_type": "stream",
       "stream": "stdout",
       "text": [
        "Guess Row:7\n"
       ]
      },
      {
       "name": "stdout",
       "output_type": "stream",
       "stream": "stdout",
       "text": [
        "Guess Col:7\n"
       ]
      },
      {
       "output_type": "stream",
       "stream": "stdout",
       "text": [
        "Turn 6\n"
       ]
      },
      {
       "html": [
        "<style type=\"text/css\">table.blockgrid {border: none;} .blockgrid tr {border: none;} .blockgrid td {padding: 0px;} #blockscbbeee55-322b-40e1-87af-d460ccfdcd22 td {border: 1px solid white;}</style><table id=\"blockscbbeee55-322b-40e1-87af-d460ccfdcd22\" class=\"blockgrid\"><tbody><tr><td title=\"Index: [0, 0]&#10;Color: (135, 206, 235)\" style=\"width: 20px; height: 20px;background-color: rgb(135, 206, 235);\"></td><td title=\"Index: [0, 1]&#10;Color: (135, 206, 235)\" style=\"width: 20px; height: 20px;background-color: rgb(135, 206, 235);\"></td><td title=\"Index: [0, 2]&#10;Color: (135, 206, 235)\" style=\"width: 20px; height: 20px;background-color: rgb(135, 206, 235);\"></td><td title=\"Index: [0, 3]&#10;Color: (135, 206, 235)\" style=\"width: 20px; height: 20px;background-color: rgb(135, 206, 235);\"></td><td title=\"Index: [0, 4]&#10;Color: (135, 206, 235)\" style=\"width: 20px; height: 20px;background-color: rgb(135, 206, 235);\"></td><td title=\"Index: [0, 5]&#10;Color: (135, 206, 235)\" style=\"width: 20px; height: 20px;background-color: rgb(135, 206, 235);\"></td><td title=\"Index: [0, 6]&#10;Color: (135, 206, 235)\" style=\"width: 20px; height: 20px;background-color: rgb(135, 206, 235);\"></td><td title=\"Index: [0, 7]&#10;Color: (135, 206, 235)\" style=\"width: 20px; height: 20px;background-color: rgb(135, 206, 235);\"></td></tr><tr><td title=\"Index: [1, 0]&#10;Color: (135, 206, 235)\" style=\"width: 20px; height: 20px;background-color: rgb(135, 206, 235);\"></td><td title=\"Index: [1, 1]&#10;Color: (0, 0, 0)\" style=\"width: 20px; height: 20px;background-color: rgb(0, 0, 0);\"></td><td title=\"Index: [1, 2]&#10;Color: (135, 206, 235)\" style=\"width: 20px; height: 20px;background-color: rgb(135, 206, 235);\"></td><td title=\"Index: [1, 3]&#10;Color: (135, 206, 235)\" style=\"width: 20px; height: 20px;background-color: rgb(135, 206, 235);\"></td><td title=\"Index: [1, 4]&#10;Color: (135, 206, 235)\" style=\"width: 20px; height: 20px;background-color: rgb(135, 206, 235);\"></td><td title=\"Index: [1, 5]&#10;Color: (135, 206, 235)\" style=\"width: 20px; height: 20px;background-color: rgb(135, 206, 235);\"></td><td title=\"Index: [1, 6]&#10;Color: (135, 206, 235)\" style=\"width: 20px; height: 20px;background-color: rgb(135, 206, 235);\"></td><td title=\"Index: [1, 7]&#10;Color: (135, 206, 235)\" style=\"width: 20px; height: 20px;background-color: rgb(135, 206, 235);\"></td></tr><tr><td title=\"Index: [2, 0]&#10;Color: (135, 206, 235)\" style=\"width: 20px; height: 20px;background-color: rgb(135, 206, 235);\"></td><td title=\"Index: [2, 1]&#10;Color: (135, 206, 235)\" style=\"width: 20px; height: 20px;background-color: rgb(135, 206, 235);\"></td><td title=\"Index: [2, 2]&#10;Color: (0, 0, 0)\" style=\"width: 20px; height: 20px;background-color: rgb(0, 0, 0);\"></td><td title=\"Index: [2, 3]&#10;Color: (135, 206, 235)\" style=\"width: 20px; height: 20px;background-color: rgb(135, 206, 235);\"></td><td title=\"Index: [2, 4]&#10;Color: (135, 206, 235)\" style=\"width: 20px; height: 20px;background-color: rgb(135, 206, 235);\"></td><td title=\"Index: [2, 5]&#10;Color: (135, 206, 235)\" style=\"width: 20px; height: 20px;background-color: rgb(135, 206, 235);\"></td><td title=\"Index: [2, 6]&#10;Color: (135, 206, 235)\" style=\"width: 20px; height: 20px;background-color: rgb(135, 206, 235);\"></td><td title=\"Index: [2, 7]&#10;Color: (135, 206, 235)\" style=\"width: 20px; height: 20px;background-color: rgb(135, 206, 235);\"></td></tr><tr><td title=\"Index: [3, 0]&#10;Color: (135, 206, 235)\" style=\"width: 20px; height: 20px;background-color: rgb(135, 206, 235);\"></td><td title=\"Index: [3, 1]&#10;Color: (135, 206, 235)\" style=\"width: 20px; height: 20px;background-color: rgb(135, 206, 235);\"></td><td title=\"Index: [3, 2]&#10;Color: (135, 206, 235)\" style=\"width: 20px; height: 20px;background-color: rgb(135, 206, 235);\"></td><td title=\"Index: [3, 3]&#10;Color: (0, 0, 0)\" style=\"width: 20px; height: 20px;background-color: rgb(0, 0, 0);\"></td><td title=\"Index: [3, 4]&#10;Color: (135, 206, 235)\" style=\"width: 20px; height: 20px;background-color: rgb(135, 206, 235);\"></td><td title=\"Index: [3, 5]&#10;Color: (135, 206, 235)\" style=\"width: 20px; height: 20px;background-color: rgb(135, 206, 235);\"></td><td title=\"Index: [3, 6]&#10;Color: (135, 206, 235)\" style=\"width: 20px; height: 20px;background-color: rgb(135, 206, 235);\"></td><td title=\"Index: [3, 7]&#10;Color: (135, 206, 235)\" style=\"width: 20px; height: 20px;background-color: rgb(135, 206, 235);\"></td></tr><tr><td title=\"Index: [4, 0]&#10;Color: (135, 206, 235)\" style=\"width: 20px; height: 20px;background-color: rgb(135, 206, 235);\"></td><td title=\"Index: [4, 1]&#10;Color: (135, 206, 235)\" style=\"width: 20px; height: 20px;background-color: rgb(135, 206, 235);\"></td><td title=\"Index: [4, 2]&#10;Color: (135, 206, 235)\" style=\"width: 20px; height: 20px;background-color: rgb(135, 206, 235);\"></td><td title=\"Index: [4, 3]&#10;Color: (135, 206, 235)\" style=\"width: 20px; height: 20px;background-color: rgb(135, 206, 235);\"></td><td title=\"Index: [4, 4]&#10;Color: (0, 0, 0)\" style=\"width: 20px; height: 20px;background-color: rgb(0, 0, 0);\"></td><td title=\"Index: [4, 5]&#10;Color: (135, 206, 235)\" style=\"width: 20px; height: 20px;background-color: rgb(135, 206, 235);\"></td><td title=\"Index: [4, 6]&#10;Color: (135, 206, 235)\" style=\"width: 20px; height: 20px;background-color: rgb(135, 206, 235);\"></td><td title=\"Index: [4, 7]&#10;Color: (135, 206, 235)\" style=\"width: 20px; height: 20px;background-color: rgb(135, 206, 235);\"></td></tr><tr><td title=\"Index: [5, 0]&#10;Color: (135, 206, 235)\" style=\"width: 20px; height: 20px;background-color: rgb(135, 206, 235);\"></td><td title=\"Index: [5, 1]&#10;Color: (135, 206, 235)\" style=\"width: 20px; height: 20px;background-color: rgb(135, 206, 235);\"></td><td title=\"Index: [5, 2]&#10;Color: (135, 206, 235)\" style=\"width: 20px; height: 20px;background-color: rgb(135, 206, 235);\"></td><td title=\"Index: [5, 3]&#10;Color: (135, 206, 235)\" style=\"width: 20px; height: 20px;background-color: rgb(135, 206, 235);\"></td><td title=\"Index: [5, 4]&#10;Color: (135, 206, 235)\" style=\"width: 20px; height: 20px;background-color: rgb(135, 206, 235);\"></td><td title=\"Index: [5, 5]&#10;Color: (0, 0, 0)\" style=\"width: 20px; height: 20px;background-color: rgb(0, 0, 0);\"></td><td title=\"Index: [5, 6]&#10;Color: (135, 206, 235)\" style=\"width: 20px; height: 20px;background-color: rgb(135, 206, 235);\"></td><td title=\"Index: [5, 7]&#10;Color: (135, 206, 235)\" style=\"width: 20px; height: 20px;background-color: rgb(135, 206, 235);\"></td></tr><tr><td title=\"Index: [6, 0]&#10;Color: (135, 206, 235)\" style=\"width: 20px; height: 20px;background-color: rgb(135, 206, 235);\"></td><td title=\"Index: [6, 1]&#10;Color: (135, 206, 235)\" style=\"width: 20px; height: 20px;background-color: rgb(135, 206, 235);\"></td><td title=\"Index: [6, 2]&#10;Color: (135, 206, 235)\" style=\"width: 20px; height: 20px;background-color: rgb(135, 206, 235);\"></td><td title=\"Index: [6, 3]&#10;Color: (135, 206, 235)\" style=\"width: 20px; height: 20px;background-color: rgb(135, 206, 235);\"></td><td title=\"Index: [6, 4]&#10;Color: (135, 206, 235)\" style=\"width: 20px; height: 20px;background-color: rgb(135, 206, 235);\"></td><td title=\"Index: [6, 5]&#10;Color: (135, 206, 235)\" style=\"width: 20px; height: 20px;background-color: rgb(135, 206, 235);\"></td><td title=\"Index: [6, 6]&#10;Color: (255, 0, 0)\" style=\"width: 20px; height: 20px;background-color: rgb(255, 0, 0);\"></td><td title=\"Index: [6, 7]&#10;Color: (135, 206, 235)\" style=\"width: 20px; height: 20px;background-color: rgb(135, 206, 235);\"></td></tr><tr><td title=\"Index: [7, 0]&#10;Color: (135, 206, 235)\" style=\"width: 20px; height: 20px;background-color: rgb(135, 206, 235);\"></td><td title=\"Index: [7, 1]&#10;Color: (135, 206, 235)\" style=\"width: 20px; height: 20px;background-color: rgb(135, 206, 235);\"></td><td title=\"Index: [7, 2]&#10;Color: (135, 206, 235)\" style=\"width: 20px; height: 20px;background-color: rgb(135, 206, 235);\"></td><td title=\"Index: [7, 3]&#10;Color: (135, 206, 235)\" style=\"width: 20px; height: 20px;background-color: rgb(135, 206, 235);\"></td><td title=\"Index: [7, 4]&#10;Color: (135, 206, 235)\" style=\"width: 20px; height: 20px;background-color: rgb(135, 206, 235);\"></td><td title=\"Index: [7, 5]&#10;Color: (135, 206, 235)\" style=\"width: 20px; height: 20px;background-color: rgb(135, 206, 235);\"></td><td title=\"Index: [7, 6]&#10;Color: (135, 206, 235)\" style=\"width: 20px; height: 20px;background-color: rgb(135, 206, 235);\"></td><td title=\"Index: [7, 7]&#10;Color: (135, 206, 235)\" style=\"width: 20px; height: 20px;background-color: rgb(135, 206, 235);\"></td></tr></tbody></table>"
       ],
       "metadata": {},
       "output_type": "display_data",
       "text": [
        "<IPython.core.display.HTML at 0x7f1d24d85810>"
       ]
      },
      {
       "output_type": "stream",
       "stream": "stdout",
       "text": [
        "Congratulations! You hit my battleship!\n"
       ]
      },
      {
       "name": "stdout",
       "output_type": "stream",
       "stream": "stdout",
       "text": [
        "Guess Row:7\n"
       ]
      },
      {
       "name": "stdout",
       "output_type": "stream",
       "stream": "stdout",
       "text": [
        "Guess Col:8\n"
       ]
      },
      {
       "output_type": "stream",
       "stream": "stdout",
       "text": [
        "Turn 7\n"
       ]
      },
      {
       "html": [
        "<style type=\"text/css\">table.blockgrid {border: none;} .blockgrid tr {border: none;} .blockgrid td {padding: 0px;} #blocks47fe024b-4acd-4b23-bdbc-2e28c2ea0940 td {border: 1px solid white;}</style><table id=\"blocks47fe024b-4acd-4b23-bdbc-2e28c2ea0940\" class=\"blockgrid\"><tbody><tr><td title=\"Index: [0, 0]&#10;Color: (135, 206, 235)\" style=\"width: 20px; height: 20px;background-color: rgb(135, 206, 235);\"></td><td title=\"Index: [0, 1]&#10;Color: (135, 206, 235)\" style=\"width: 20px; height: 20px;background-color: rgb(135, 206, 235);\"></td><td title=\"Index: [0, 2]&#10;Color: (135, 206, 235)\" style=\"width: 20px; height: 20px;background-color: rgb(135, 206, 235);\"></td><td title=\"Index: [0, 3]&#10;Color: (135, 206, 235)\" style=\"width: 20px; height: 20px;background-color: rgb(135, 206, 235);\"></td><td title=\"Index: [0, 4]&#10;Color: (135, 206, 235)\" style=\"width: 20px; height: 20px;background-color: rgb(135, 206, 235);\"></td><td title=\"Index: [0, 5]&#10;Color: (135, 206, 235)\" style=\"width: 20px; height: 20px;background-color: rgb(135, 206, 235);\"></td><td title=\"Index: [0, 6]&#10;Color: (135, 206, 235)\" style=\"width: 20px; height: 20px;background-color: rgb(135, 206, 235);\"></td><td title=\"Index: [0, 7]&#10;Color: (135, 206, 235)\" style=\"width: 20px; height: 20px;background-color: rgb(135, 206, 235);\"></td></tr><tr><td title=\"Index: [1, 0]&#10;Color: (135, 206, 235)\" style=\"width: 20px; height: 20px;background-color: rgb(135, 206, 235);\"></td><td title=\"Index: [1, 1]&#10;Color: (0, 0, 0)\" style=\"width: 20px; height: 20px;background-color: rgb(0, 0, 0);\"></td><td title=\"Index: [1, 2]&#10;Color: (135, 206, 235)\" style=\"width: 20px; height: 20px;background-color: rgb(135, 206, 235);\"></td><td title=\"Index: [1, 3]&#10;Color: (135, 206, 235)\" style=\"width: 20px; height: 20px;background-color: rgb(135, 206, 235);\"></td><td title=\"Index: [1, 4]&#10;Color: (135, 206, 235)\" style=\"width: 20px; height: 20px;background-color: rgb(135, 206, 235);\"></td><td title=\"Index: [1, 5]&#10;Color: (135, 206, 235)\" style=\"width: 20px; height: 20px;background-color: rgb(135, 206, 235);\"></td><td title=\"Index: [1, 6]&#10;Color: (135, 206, 235)\" style=\"width: 20px; height: 20px;background-color: rgb(135, 206, 235);\"></td><td title=\"Index: [1, 7]&#10;Color: (135, 206, 235)\" style=\"width: 20px; height: 20px;background-color: rgb(135, 206, 235);\"></td></tr><tr><td title=\"Index: [2, 0]&#10;Color: (135, 206, 235)\" style=\"width: 20px; height: 20px;background-color: rgb(135, 206, 235);\"></td><td title=\"Index: [2, 1]&#10;Color: (135, 206, 235)\" style=\"width: 20px; height: 20px;background-color: rgb(135, 206, 235);\"></td><td title=\"Index: [2, 2]&#10;Color: (0, 0, 0)\" style=\"width: 20px; height: 20px;background-color: rgb(0, 0, 0);\"></td><td title=\"Index: [2, 3]&#10;Color: (135, 206, 235)\" style=\"width: 20px; height: 20px;background-color: rgb(135, 206, 235);\"></td><td title=\"Index: [2, 4]&#10;Color: (135, 206, 235)\" style=\"width: 20px; height: 20px;background-color: rgb(135, 206, 235);\"></td><td title=\"Index: [2, 5]&#10;Color: (135, 206, 235)\" style=\"width: 20px; height: 20px;background-color: rgb(135, 206, 235);\"></td><td title=\"Index: [2, 6]&#10;Color: (135, 206, 235)\" style=\"width: 20px; height: 20px;background-color: rgb(135, 206, 235);\"></td><td title=\"Index: [2, 7]&#10;Color: (135, 206, 235)\" style=\"width: 20px; height: 20px;background-color: rgb(135, 206, 235);\"></td></tr><tr><td title=\"Index: [3, 0]&#10;Color: (135, 206, 235)\" style=\"width: 20px; height: 20px;background-color: rgb(135, 206, 235);\"></td><td title=\"Index: [3, 1]&#10;Color: (135, 206, 235)\" style=\"width: 20px; height: 20px;background-color: rgb(135, 206, 235);\"></td><td title=\"Index: [3, 2]&#10;Color: (135, 206, 235)\" style=\"width: 20px; height: 20px;background-color: rgb(135, 206, 235);\"></td><td title=\"Index: [3, 3]&#10;Color: (0, 0, 0)\" style=\"width: 20px; height: 20px;background-color: rgb(0, 0, 0);\"></td><td title=\"Index: [3, 4]&#10;Color: (135, 206, 235)\" style=\"width: 20px; height: 20px;background-color: rgb(135, 206, 235);\"></td><td title=\"Index: [3, 5]&#10;Color: (135, 206, 235)\" style=\"width: 20px; height: 20px;background-color: rgb(135, 206, 235);\"></td><td title=\"Index: [3, 6]&#10;Color: (135, 206, 235)\" style=\"width: 20px; height: 20px;background-color: rgb(135, 206, 235);\"></td><td title=\"Index: [3, 7]&#10;Color: (135, 206, 235)\" style=\"width: 20px; height: 20px;background-color: rgb(135, 206, 235);\"></td></tr><tr><td title=\"Index: [4, 0]&#10;Color: (135, 206, 235)\" style=\"width: 20px; height: 20px;background-color: rgb(135, 206, 235);\"></td><td title=\"Index: [4, 1]&#10;Color: (135, 206, 235)\" style=\"width: 20px; height: 20px;background-color: rgb(135, 206, 235);\"></td><td title=\"Index: [4, 2]&#10;Color: (135, 206, 235)\" style=\"width: 20px; height: 20px;background-color: rgb(135, 206, 235);\"></td><td title=\"Index: [4, 3]&#10;Color: (135, 206, 235)\" style=\"width: 20px; height: 20px;background-color: rgb(135, 206, 235);\"></td><td title=\"Index: [4, 4]&#10;Color: (0, 0, 0)\" style=\"width: 20px; height: 20px;background-color: rgb(0, 0, 0);\"></td><td title=\"Index: [4, 5]&#10;Color: (135, 206, 235)\" style=\"width: 20px; height: 20px;background-color: rgb(135, 206, 235);\"></td><td title=\"Index: [4, 6]&#10;Color: (135, 206, 235)\" style=\"width: 20px; height: 20px;background-color: rgb(135, 206, 235);\"></td><td title=\"Index: [4, 7]&#10;Color: (135, 206, 235)\" style=\"width: 20px; height: 20px;background-color: rgb(135, 206, 235);\"></td></tr><tr><td title=\"Index: [5, 0]&#10;Color: (135, 206, 235)\" style=\"width: 20px; height: 20px;background-color: rgb(135, 206, 235);\"></td><td title=\"Index: [5, 1]&#10;Color: (135, 206, 235)\" style=\"width: 20px; height: 20px;background-color: rgb(135, 206, 235);\"></td><td title=\"Index: [5, 2]&#10;Color: (135, 206, 235)\" style=\"width: 20px; height: 20px;background-color: rgb(135, 206, 235);\"></td><td title=\"Index: [5, 3]&#10;Color: (135, 206, 235)\" style=\"width: 20px; height: 20px;background-color: rgb(135, 206, 235);\"></td><td title=\"Index: [5, 4]&#10;Color: (135, 206, 235)\" style=\"width: 20px; height: 20px;background-color: rgb(135, 206, 235);\"></td><td title=\"Index: [5, 5]&#10;Color: (0, 0, 0)\" style=\"width: 20px; height: 20px;background-color: rgb(0, 0, 0);\"></td><td title=\"Index: [5, 6]&#10;Color: (135, 206, 235)\" style=\"width: 20px; height: 20px;background-color: rgb(135, 206, 235);\"></td><td title=\"Index: [5, 7]&#10;Color: (135, 206, 235)\" style=\"width: 20px; height: 20px;background-color: rgb(135, 206, 235);\"></td></tr><tr><td title=\"Index: [6, 0]&#10;Color: (135, 206, 235)\" style=\"width: 20px; height: 20px;background-color: rgb(135, 206, 235);\"></td><td title=\"Index: [6, 1]&#10;Color: (135, 206, 235)\" style=\"width: 20px; height: 20px;background-color: rgb(135, 206, 235);\"></td><td title=\"Index: [6, 2]&#10;Color: (135, 206, 235)\" style=\"width: 20px; height: 20px;background-color: rgb(135, 206, 235);\"></td><td title=\"Index: [6, 3]&#10;Color: (135, 206, 235)\" style=\"width: 20px; height: 20px;background-color: rgb(135, 206, 235);\"></td><td title=\"Index: [6, 4]&#10;Color: (135, 206, 235)\" style=\"width: 20px; height: 20px;background-color: rgb(135, 206, 235);\"></td><td title=\"Index: [6, 5]&#10;Color: (135, 206, 235)\" style=\"width: 20px; height: 20px;background-color: rgb(135, 206, 235);\"></td><td title=\"Index: [6, 6]&#10;Color: (250, 250, 3)\" style=\"width: 20px; height: 20px;background-color: rgb(250, 250, 3);\"></td><td title=\"Index: [6, 7]&#10;Color: (0, 0, 0)\" style=\"width: 20px; height: 20px;background-color: rgb(0, 0, 0);\"></td></tr><tr><td title=\"Index: [7, 0]&#10;Color: (135, 206, 235)\" style=\"width: 20px; height: 20px;background-color: rgb(135, 206, 235);\"></td><td title=\"Index: [7, 1]&#10;Color: (135, 206, 235)\" style=\"width: 20px; height: 20px;background-color: rgb(135, 206, 235);\"></td><td title=\"Index: [7, 2]&#10;Color: (135, 206, 235)\" style=\"width: 20px; height: 20px;background-color: rgb(135, 206, 235);\"></td><td title=\"Index: [7, 3]&#10;Color: (135, 206, 235)\" style=\"width: 20px; height: 20px;background-color: rgb(135, 206, 235);\"></td><td title=\"Index: [7, 4]&#10;Color: (135, 206, 235)\" style=\"width: 20px; height: 20px;background-color: rgb(135, 206, 235);\"></td><td title=\"Index: [7, 5]&#10;Color: (135, 206, 235)\" style=\"width: 20px; height: 20px;background-color: rgb(135, 206, 235);\"></td><td title=\"Index: [7, 6]&#10;Color: (135, 206, 235)\" style=\"width: 20px; height: 20px;background-color: rgb(135, 206, 235);\"></td><td title=\"Index: [7, 7]&#10;Color: (250, 250, 3)\" style=\"width: 20px; height: 20px;background-color: rgb(250, 250, 3);\"></td></tr></tbody></table>"
       ],
       "metadata": {},
       "output_type": "display_data",
       "text": [
        "<IPython.core.display.HTML at 0x7f1d286a8890>"
       ]
      },
      {
       "output_type": "stream",
       "stream": "stdout",
       "text": [
        "Game Over.\n"
       ]
      },
      {
       "html": [
        "<style type=\"text/css\">table.blockgrid {border: none;} .blockgrid tr {border: none;} .blockgrid td {padding: 0px;} #blocks85c03e08-518f-4ced-a04c-4fe443127c97 td {border: 1px solid white;}</style><table id=\"blocks85c03e08-518f-4ced-a04c-4fe443127c97\" class=\"blockgrid\"><tbody><tr><td title=\"Index: [0, 0]&#10;Color: (135, 206, 235)\" style=\"width: 20px; height: 20px;background-color: rgb(135, 206, 235);\"></td><td title=\"Index: [0, 1]&#10;Color: (135, 206, 235)\" style=\"width: 20px; height: 20px;background-color: rgb(135, 206, 235);\"></td><td title=\"Index: [0, 2]&#10;Color: (135, 206, 235)\" style=\"width: 20px; height: 20px;background-color: rgb(135, 206, 235);\"></td><td title=\"Index: [0, 3]&#10;Color: (135, 206, 235)\" style=\"width: 20px; height: 20px;background-color: rgb(135, 206, 235);\"></td><td title=\"Index: [0, 4]&#10;Color: (135, 206, 235)\" style=\"width: 20px; height: 20px;background-color: rgb(135, 206, 235);\"></td><td title=\"Index: [0, 5]&#10;Color: (135, 206, 235)\" style=\"width: 20px; height: 20px;background-color: rgb(135, 206, 235);\"></td><td title=\"Index: [0, 6]&#10;Color: (135, 206, 235)\" style=\"width: 20px; height: 20px;background-color: rgb(135, 206, 235);\"></td><td title=\"Index: [0, 7]&#10;Color: (135, 206, 235)\" style=\"width: 20px; height: 20px;background-color: rgb(135, 206, 235);\"></td></tr><tr><td title=\"Index: [1, 0]&#10;Color: (135, 206, 235)\" style=\"width: 20px; height: 20px;background-color: rgb(135, 206, 235);\"></td><td title=\"Index: [1, 1]&#10;Color: (0, 0, 0)\" style=\"width: 20px; height: 20px;background-color: rgb(0, 0, 0);\"></td><td title=\"Index: [1, 2]&#10;Color: (135, 206, 235)\" style=\"width: 20px; height: 20px;background-color: rgb(135, 206, 235);\"></td><td title=\"Index: [1, 3]&#10;Color: (135, 206, 235)\" style=\"width: 20px; height: 20px;background-color: rgb(135, 206, 235);\"></td><td title=\"Index: [1, 4]&#10;Color: (135, 206, 235)\" style=\"width: 20px; height: 20px;background-color: rgb(135, 206, 235);\"></td><td title=\"Index: [1, 5]&#10;Color: (135, 206, 235)\" style=\"width: 20px; height: 20px;background-color: rgb(135, 206, 235);\"></td><td title=\"Index: [1, 6]&#10;Color: (135, 206, 235)\" style=\"width: 20px; height: 20px;background-color: rgb(135, 206, 235);\"></td><td title=\"Index: [1, 7]&#10;Color: (135, 206, 235)\" style=\"width: 20px; height: 20px;background-color: rgb(135, 206, 235);\"></td></tr><tr><td title=\"Index: [2, 0]&#10;Color: (135, 206, 235)\" style=\"width: 20px; height: 20px;background-color: rgb(135, 206, 235);\"></td><td title=\"Index: [2, 1]&#10;Color: (135, 206, 235)\" style=\"width: 20px; height: 20px;background-color: rgb(135, 206, 235);\"></td><td title=\"Index: [2, 2]&#10;Color: (0, 0, 0)\" style=\"width: 20px; height: 20px;background-color: rgb(0, 0, 0);\"></td><td title=\"Index: [2, 3]&#10;Color: (135, 206, 235)\" style=\"width: 20px; height: 20px;background-color: rgb(135, 206, 235);\"></td><td title=\"Index: [2, 4]&#10;Color: (135, 206, 235)\" style=\"width: 20px; height: 20px;background-color: rgb(135, 206, 235);\"></td><td title=\"Index: [2, 5]&#10;Color: (135, 206, 235)\" style=\"width: 20px; height: 20px;background-color: rgb(135, 206, 235);\"></td><td title=\"Index: [2, 6]&#10;Color: (135, 206, 235)\" style=\"width: 20px; height: 20px;background-color: rgb(135, 206, 235);\"></td><td title=\"Index: [2, 7]&#10;Color: (135, 206, 235)\" style=\"width: 20px; height: 20px;background-color: rgb(135, 206, 235);\"></td></tr><tr><td title=\"Index: [3, 0]&#10;Color: (135, 206, 235)\" style=\"width: 20px; height: 20px;background-color: rgb(135, 206, 235);\"></td><td title=\"Index: [3, 1]&#10;Color: (135, 206, 235)\" style=\"width: 20px; height: 20px;background-color: rgb(135, 206, 235);\"></td><td title=\"Index: [3, 2]&#10;Color: (135, 206, 235)\" style=\"width: 20px; height: 20px;background-color: rgb(135, 206, 235);\"></td><td title=\"Index: [3, 3]&#10;Color: (0, 0, 0)\" style=\"width: 20px; height: 20px;background-color: rgb(0, 0, 0);\"></td><td title=\"Index: [3, 4]&#10;Color: (135, 206, 235)\" style=\"width: 20px; height: 20px;background-color: rgb(135, 206, 235);\"></td><td title=\"Index: [3, 5]&#10;Color: (135, 206, 235)\" style=\"width: 20px; height: 20px;background-color: rgb(135, 206, 235);\"></td><td title=\"Index: [3, 6]&#10;Color: (135, 206, 235)\" style=\"width: 20px; height: 20px;background-color: rgb(135, 206, 235);\"></td><td title=\"Index: [3, 7]&#10;Color: (135, 206, 235)\" style=\"width: 20px; height: 20px;background-color: rgb(135, 206, 235);\"></td></tr><tr><td title=\"Index: [4, 0]&#10;Color: (135, 206, 235)\" style=\"width: 20px; height: 20px;background-color: rgb(135, 206, 235);\"></td><td title=\"Index: [4, 1]&#10;Color: (135, 206, 235)\" style=\"width: 20px; height: 20px;background-color: rgb(135, 206, 235);\"></td><td title=\"Index: [4, 2]&#10;Color: (135, 206, 235)\" style=\"width: 20px; height: 20px;background-color: rgb(135, 206, 235);\"></td><td title=\"Index: [4, 3]&#10;Color: (135, 206, 235)\" style=\"width: 20px; height: 20px;background-color: rgb(135, 206, 235);\"></td><td title=\"Index: [4, 4]&#10;Color: (0, 0, 0)\" style=\"width: 20px; height: 20px;background-color: rgb(0, 0, 0);\"></td><td title=\"Index: [4, 5]&#10;Color: (135, 206, 235)\" style=\"width: 20px; height: 20px;background-color: rgb(135, 206, 235);\"></td><td title=\"Index: [4, 6]&#10;Color: (135, 206, 235)\" style=\"width: 20px; height: 20px;background-color: rgb(135, 206, 235);\"></td><td title=\"Index: [4, 7]&#10;Color: (135, 206, 235)\" style=\"width: 20px; height: 20px;background-color: rgb(135, 206, 235);\"></td></tr><tr><td title=\"Index: [5, 0]&#10;Color: (135, 206, 235)\" style=\"width: 20px; height: 20px;background-color: rgb(135, 206, 235);\"></td><td title=\"Index: [5, 1]&#10;Color: (135, 206, 235)\" style=\"width: 20px; height: 20px;background-color: rgb(135, 206, 235);\"></td><td title=\"Index: [5, 2]&#10;Color: (135, 206, 235)\" style=\"width: 20px; height: 20px;background-color: rgb(135, 206, 235);\"></td><td title=\"Index: [5, 3]&#10;Color: (135, 206, 235)\" style=\"width: 20px; height: 20px;background-color: rgb(135, 206, 235);\"></td><td title=\"Index: [5, 4]&#10;Color: (135, 206, 235)\" style=\"width: 20px; height: 20px;background-color: rgb(135, 206, 235);\"></td><td title=\"Index: [5, 5]&#10;Color: (0, 0, 0)\" style=\"width: 20px; height: 20px;background-color: rgb(0, 0, 0);\"></td><td title=\"Index: [5, 6]&#10;Color: (135, 206, 235)\" style=\"width: 20px; height: 20px;background-color: rgb(135, 206, 235);\"></td><td title=\"Index: [5, 7]&#10;Color: (135, 206, 235)\" style=\"width: 20px; height: 20px;background-color: rgb(135, 206, 235);\"></td></tr><tr><td title=\"Index: [6, 0]&#10;Color: (135, 206, 235)\" style=\"width: 20px; height: 20px;background-color: rgb(135, 206, 235);\"></td><td title=\"Index: [6, 1]&#10;Color: (135, 206, 235)\" style=\"width: 20px; height: 20px;background-color: rgb(135, 206, 235);\"></td><td title=\"Index: [6, 2]&#10;Color: (135, 206, 235)\" style=\"width: 20px; height: 20px;background-color: rgb(135, 206, 235);\"></td><td title=\"Index: [6, 3]&#10;Color: (135, 206, 235)\" style=\"width: 20px; height: 20px;background-color: rgb(135, 206, 235);\"></td><td title=\"Index: [6, 4]&#10;Color: (135, 206, 235)\" style=\"width: 20px; height: 20px;background-color: rgb(135, 206, 235);\"></td><td title=\"Index: [6, 5]&#10;Color: (135, 206, 235)\" style=\"width: 20px; height: 20px;background-color: rgb(135, 206, 235);\"></td><td title=\"Index: [6, 6]&#10;Color: (250, 250, 3)\" style=\"width: 20px; height: 20px;background-color: rgb(250, 250, 3);\"></td><td title=\"Index: [6, 7]&#10;Color: (0, 0, 0)\" style=\"width: 20px; height: 20px;background-color: rgb(0, 0, 0);\"></td></tr><tr><td title=\"Index: [7, 0]&#10;Color: (135, 206, 235)\" style=\"width: 20px; height: 20px;background-color: rgb(135, 206, 235);\"></td><td title=\"Index: [7, 1]&#10;Color: (135, 206, 235)\" style=\"width: 20px; height: 20px;background-color: rgb(135, 206, 235);\"></td><td title=\"Index: [7, 2]&#10;Color: (135, 206, 235)\" style=\"width: 20px; height: 20px;background-color: rgb(135, 206, 235);\"></td><td title=\"Index: [7, 3]&#10;Color: (135, 206, 235)\" style=\"width: 20px; height: 20px;background-color: rgb(135, 206, 235);\"></td><td title=\"Index: [7, 4]&#10;Color: (135, 206, 235)\" style=\"width: 20px; height: 20px;background-color: rgb(135, 206, 235);\"></td><td title=\"Index: [7, 5]&#10;Color: (135, 206, 235)\" style=\"width: 20px; height: 20px;background-color: rgb(135, 206, 235);\"></td><td title=\"Index: [7, 6]&#10;Color: (135, 206, 235)\" style=\"width: 20px; height: 20px;background-color: rgb(135, 206, 235);\"></td><td title=\"Index: [7, 7]&#10;Color: (250, 250, 3)\" style=\"width: 20px; height: 20px;background-color: rgb(250, 250, 3);\"></td></tr></tbody></table>"
       ],
       "metadata": {},
       "output_type": "display_data",
       "text": [
        "<IPython.core.display.HTML at 0x7f1d286a8990>"
       ]
      },
      {
       "output_type": "stream",
       "stream": "stdout",
       "text": [
        "None\n"
       ]
      }
     ],
     "prompt_number": 2
    },
    {
     "cell_type": "markdown",
     "metadata": {},
     "source": [
      "2.\n",
      "Here is a function which takes a filename, opens the file, reads the result, closes the file, and returns the contents. \n",
      "\n",
      "raises an informative custom error if the file doesn't exist\n",
      "\n",
      "uses try, except, else, and/or finally to safely return thme file's contents & close the file if necessary.\n",
      "\n",
      "add a keyword safe which defaults to False.\n",
      "\n",
      "If the function is called with safe=True, then return an empty string if the file doesn't exist."
     ]
    },
    {
     "cell_type": "code",
     "collapsed": false,
     "input": [
      "import os\n",
      "\n",
      "def read_all(filename, safe):\n",
      "    try:\n",
      "        f = open(filename)\n",
      "        contents = f.read()\n",
      "        f.close()\n",
      "        return contents\n",
      "    except IOError as err:\n",
      "        if safe==True:\n",
      "            return \"   \"\n",
      "        else:\n",
      "            print err\n",
      "            print \"File does not exist:\", err.filename\n",
      "            return None"
     ],
     "language": "python",
     "metadata": {},
     "outputs": [],
     "prompt_number": 4
    },
    {
     "cell_type": "code",
     "collapsed": false,
     "input": [
      "%%file tmp.txt\n",
      "These are some LINNNNESS"
     ],
     "language": "python",
     "metadata": {},
     "outputs": [
      {
       "output_type": "stream",
       "stream": "stdout",
       "text": [
        "Overwriting tmp.txt\n"
       ]
      }
     ],
     "prompt_number": 5
    },
    {
     "cell_type": "code",
     "collapsed": false,
     "input": [
      "read_all(\"tmp.txt\", True)"
     ],
     "language": "python",
     "metadata": {},
     "outputs": [
      {
       "metadata": {},
       "output_type": "pyout",
       "prompt_number": 6,
       "text": [
        "'These are some LINNNNESS'"
       ]
      }
     ],
     "prompt_number": 6
    },
    {
     "cell_type": "code",
     "collapsed": false,
     "input": [
      "read_all(\"file.which.does.not.exist\", False)"
     ],
     "language": "python",
     "metadata": {},
     "outputs": [
      {
       "output_type": "stream",
       "stream": "stdout",
       "text": [
        "[Errno 2] No such file or directory: 'file.which.does.not.exist'\n",
        "File does not exist: file.which.does.not.exist\n"
       ]
      }
     ],
     "prompt_number": 7
    },
    {
     "cell_type": "code",
     "collapsed": false,
     "input": [
      "read_all(\"file.which.does.not.exist\",True)"
     ],
     "language": "python",
     "metadata": {},
     "outputs": [
      {
       "metadata": {},
       "output_type": "pyout",
       "prompt_number": 8,
       "text": [
        "'   '"
       ]
      }
     ],
     "prompt_number": 8
    },
    {
     "cell_type": "code",
     "collapsed": false,
     "input": [],
     "language": "python",
     "metadata": {},
     "outputs": []
    }
   ],
   "metadata": {}
  }
 ]
}