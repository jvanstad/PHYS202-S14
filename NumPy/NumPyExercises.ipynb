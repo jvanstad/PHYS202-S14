{
 "metadata": {
  "name": "",
  "signature": "sha256:3fc6bdb3c657f1a2a77b9d674f60989499d7c2c9c1b7fe0e5af6984ab7b8cf94"
 },
 "nbformat": 3,
 "nbformat_minor": 0,
 "worksheets": [
  {
   "cells": [
    {
     "cell_type": "code",
     "collapsed": false,
     "input": [
      "NumPy Exercises"
     ],
     "language": "python",
     "metadata": {},
     "outputs": []
    },
    {
     "cell_type": "code",
     "collapsed": false,
     "input": [
      "import numpy as np\n",
      "x=np.ones((4,4))\n",
      "x[2,3]=2\n",
      "x[3,1]=6\n",
      "print x"
     ],
     "language": "python",
     "metadata": {},
     "outputs": [
      {
       "output_type": "stream",
       "stream": "stdout",
       "text": [
        "[[ 1.  1.  1.  1.]\n",
        " [ 1.  1.  1.  1.]\n",
        " [ 1.  1.  1.  2.]\n",
        " [ 1.  6.  1.  1.]]\n"
       ]
      }
     ],
     "prompt_number": 1
    },
    {
     "cell_type": "code",
     "collapsed": false,
     "input": [
      "b=np.diag(np.array(([1,2,3,4,5,6])))\n",
      "print b[1:6]\n",
      "\n",
      "#needs top row of zeros..rehshape?"
     ],
     "language": "python",
     "metadata": {},
     "outputs": [
      {
       "output_type": "stream",
       "stream": "stdout",
       "text": [
        "[[0 2 0 0 0 0]\n",
        " [0 0 3 0 0 0]\n",
        " [0 0 0 4 0 0]\n",
        " [0 0 0 0 5 0]\n",
        " [0 0 0 0 0 6]]\n"
       ]
      }
     ],
     "prompt_number": 17
    },
    {
     "cell_type": "markdown",
     "metadata": {},
     "source": [
      "Read the documentation for np.tile and use this function to construct the following array:\n",
      "[[4, 3, 4, 3, 4, 3],  [2, 1, 2, 1, 2, 1],  [4, 3, 4, 3, 4, 3],  [2, 1, 2, 1, 2, 1]]"
     ]
    },
    {
     "cell_type": "code",
     "collapsed": false,
     "input": [
      "c=np.array([[4,3],[2,1]])\n",
      "np.tile(c,(2,3))"
     ],
     "language": "python",
     "metadata": {},
     "outputs": [
      {
       "metadata": {},
       "output_type": "pyout",
       "prompt_number": 4,
       "text": [
        "array([[4, 3, 4, 3, 4, 3],\n",
        "       [2, 1, 2, 1, 2, 1],\n",
        "       [4, 3, 4, 3, 4, 3],\n",
        "       [2, 1, 2, 1, 2, 1]])"
       ]
      }
     ],
     "prompt_number": 4
    },
    {
     "cell_type": "markdown",
     "metadata": {},
     "source": [
      "3. Let\u2019s create a prime number sieve. We will use the sieve to see what numbers between 0 and 100 are prime.\n",
      "(a) First, construct an array of booleans called is prime with shape (100,), filled with True in all the elements.\n",
      "is_prime = np.ones((100,), dtype=bool)"
     ]
    },
    {
     "cell_type": "code",
     "collapsed": false,
     "input": [
      "is_prime=np.ones((100,),dtype=bool)\n",
      "print is_prime"
     ],
     "language": "python",
     "metadata": {},
     "outputs": [
      {
       "output_type": "stream",
       "stream": "stdout",
       "text": [
        "[ True  True  True  True  True  True  True  True  True  True  True  True\n",
        "  True  True  True  True  True  True  True  True  True  True  True  True\n",
        "  True  True  True  True  True  True  True  True  True  True  True  True\n",
        "  True  True  True  True  True  True  True  True  True  True  True  True\n",
        "  True  True  True  True  True  True  True  True  True  True  True  True\n",
        "  True  True  True  True  True  True  True  True  True  True  True  True\n",
        "  True  True  True  True  True  True  True  True  True  True  True  True\n",
        "  True  True  True  True  True  True  True  True  True  True  True  True\n",
        "  True  True  True  True]\n"
       ]
      }
     ],
     "prompt_number": 5
    },
    {
     "cell_type": "markdown",
     "metadata": {},
     "source": [
      "\n",
      "(b) The index of each boolean element represents the number. \u201cCross out\u201d 0 and 1, which are not primes. You can either set them to False or 0 (which python recognizes as equivalent to False for boolean types)."
     ]
    },
    {
     "cell_type": "code",
     "collapsed": false,
     "input": [
      "is_prime[0]=False\n",
      "is_prime[1]=False\n"
     ],
     "language": "python",
     "metadata": {},
     "outputs": [],
     "prompt_number": 7
    },
    {
     "cell_type": "markdown",
     "metadata": {},
     "source": [
      "(c) For each subsequent integer j starting from 2, cross out its higher multiples:\n",
      "\n",
      "N_max = int(np.sqrt(len(is_prime)))\n",
      "for j in range(2, N_max):\n",
      "    is_prime[2*j::j] = False\n",
      "    \n",
      "Make sure you understand what this code is doing. What does that slicing of the array mean?"
     ]
    },
    {
     "cell_type": "code",
     "collapsed": false,
     "input": [
      "N_max=int(np.sqrt(len(is_prime)))\n",
      "for j in range(2, N_max):\n",
      "    is_prime[2*j::j]=False"
     ],
     "language": "python",
     "metadata": {},
     "outputs": [],
     "prompt_number": 8
    },
    {
     "cell_type": "code",
     "collapsed": false,
     "input": [
      "#print the prime numbers.\n",
      "print np.nonzero(is_prime)"
     ],
     "language": "python",
     "metadata": {},
     "outputs": [
      {
       "output_type": "stream",
       "stream": "stdout",
       "text": [
        "(array([ 2,  3,  5,  7, 11, 13, 17, 19, 23, 29, 31, 37, 41, 43, 47, 53, 59,\n",
        "       61, 67, 71, 73, 79, 83, 89, 97]),)\n"
       ]
      }
     ],
     "prompt_number": 11
    },
    {
     "cell_type": "markdown",
     "metadata": {},
     "source": [
      "(e) Finally, create a new function, called eratosthenes_sieve() that takes one argument, maximum, the maximum number to test for primes,\n",
      "and returns an array containing the prime numbers between 2 and maximum. Use the sieve algorithm developed by Eratosthenes and\n",
      "described on wikipedia. Print the result for the test cases where maximum = 10 and 100. (Prime numbers and prime factorization are common topics in the Project Euler exercises.)"
     ]
    },
    {
     "cell_type": "code",
     "collapsed": false,
     "input": [
      "def eratosthenes_sieves(maximum):\n",
      "    is_prim=np.ones((maximum,) ,dtype=bool)\n",
      "    is_prim[0]=False\n",
      "    is_prim[1]=False\n",
      "    NM=int(np.sqrt(len(is_prim)))\n",
      "    for i in range(2,NM):\n",
      "        is_prim[2*i::i]=False\n",
      "    return is_prim\n",
      "print np.nonzero(eratosthenes_sieves(10))\n",
      "print np.nonzero(eratosthenes_sieves(100))\n",
      "\n",
      "        \n",
      "    \n",
      "    \n",
      "    "
     ],
     "language": "python",
     "metadata": {},
     "outputs": [
      {
       "output_type": "stream",
       "stream": "stdout",
       "text": [
        "(array([2, 3, 5, 7, 9]),)\n",
        "(array([ 2,  3,  5,  7, 11, 13, 17, 19, 23, 29, 31, 37, 41, 43, 47, 53, 59,\n",
        "       61, 67, 71, 73, 79, 83, 89, 97]),)\n"
       ]
      }
     ],
     "prompt_number": 9
    },
    {
     "cell_type": "markdown",
     "metadata": {},
     "source": [
      "4. Let\u2019s do some manipulations on NumPy arrays by starting with a stock image provided in SciPy. It turns out that digital images are just arrays of numbers representing the relative intensity (for B/W images) or RGB values (for color images) of the pixels in the image, similar to ipythonblocks. We can use the array operations we have learned to do digital image processing!\n",
      "(a) Import the SciPy stock image into an array (since it is coming from SciPy, it is a NumPy array):\n",
      "\n",
      "from scipy import misc\n",
      "\n",
      "lena = misc.lena()"
     ]
    },
    {
     "cell_type": "code",
     "collapsed": false,
     "input": [
      "from scipy import misc\n",
      "lena=misc.lena()"
     ],
     "language": "python",
     "metadata": {},
     "outputs": [],
     "prompt_number": 2
    },
    {
     "cell_type": "markdown",
     "metadata": {},
     "source": [
      "\n",
      "(b) Try viewing the image in both false color and grayscale:\n",
      "\n",
      "imshow(lena)\n",
      "\n",
      "imshow(lena, cmap=cm.gray)"
     ]
    },
    {
     "cell_type": "code",
     "collapsed": false,
     "input": [
      "\n",
      "imshow(lena)\n",
      "\n",
      "imshow(lena, cmap=cm.gray)"
     ],
     "language": "python",
     "metadata": {},
     "outputs": [
      {
       "ename": "NameError",
       "evalue": "name 'imshow' is not defined",
       "output_type": "pyerr",
       "traceback": [
        "\u001b[1;31m---------------------------------------------------------------------------\u001b[0m\n\u001b[1;31mNameError\u001b[0m                                 Traceback (most recent call last)",
        "\u001b[1;32m<ipython-input-4-bddc2ce6d434>\u001b[0m in \u001b[0;36m<module>\u001b[1;34m()\u001b[0m\n\u001b[0;32m      1\u001b[0m \u001b[1;33m\u001b[0m\u001b[0m\n\u001b[1;32m----> 2\u001b[1;33m \u001b[0mimshow\u001b[0m\u001b[1;33m(\u001b[0m\u001b[0mlena\u001b[0m\u001b[1;33m)\u001b[0m\u001b[1;33m\u001b[0m\u001b[0m\n\u001b[0m\u001b[0;32m      3\u001b[0m \u001b[1;33m\u001b[0m\u001b[0m\n\u001b[0;32m      4\u001b[0m \u001b[0mimshow\u001b[0m\u001b[1;33m(\u001b[0m\u001b[0mlena\u001b[0m\u001b[1;33m,\u001b[0m \u001b[0mcmap\u001b[0m\u001b[1;33m=\u001b[0m\u001b[0mcm\u001b[0m\u001b[1;33m.\u001b[0m\u001b[0mgray\u001b[0m\u001b[1;33m)\u001b[0m\u001b[1;33m\u001b[0m\u001b[0m\n",
        "\u001b[1;31mNameError\u001b[0m: name 'imshow' is not defined"
       ]
      }
     ],
     "prompt_number": 4
    },
    {
     "cell_type": "code",
     "collapsed": false,
     "input": [],
     "language": "python",
     "metadata": {},
     "outputs": []
    }
   ],
   "metadata": {}
  }
 ]
}