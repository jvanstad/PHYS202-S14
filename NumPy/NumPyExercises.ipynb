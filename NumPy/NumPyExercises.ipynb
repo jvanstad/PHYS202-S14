{
 "metadata": {
  "name": "",
  "signature": "sha256:79d33a4d6eaf0332757f42d80330113ad6a384675c6afddd030d4f8d44646343"
 },
 "nbformat": 3,
 "nbformat_minor": 0,
 "worksheets": [
  {
   "cells": [
    {
     "cell_type": "heading",
     "level": 1,
     "metadata": {},
     "source": [
      "NumPy Exercises"
     ]
    },
    {
     "cell_type": "code",
     "collapsed": false,
     "input": [
      "import numpy as np\n",
      "x=np.ones((4,4))\n",
      "x[2,3]=2\n",
      "x[3,1]=6\n",
      "print x"
     ],
     "language": "python",
     "metadata": {},
     "outputs": [
      {
       "output_type": "stream",
       "stream": "stdout",
       "text": [
        "[[ 1.  1.  1.  1.]\n",
        " [ 1.  1.  1.  1.]\n",
        " [ 1.  1.  1.  2.]\n",
        " [ 1.  6.  1.  1.]]\n"
       ]
      }
     ],
     "prompt_number": 5
    },
    {
     "cell_type": "code",
     "collapsed": false,
     "input": [
      "b=np.diag(np.array(([2,3,4,5,6])))\n",
      "print b\n",
      "#needs top row of zeros..rehshape?"
     ],
     "language": "python",
     "metadata": {},
     "outputs": [
      {
       "output_type": "stream",
       "stream": "stdout",
       "text": [
        "[[2 0 0 0 0]\n",
        " [0 3 0 0 0]\n",
        " [0 0 4 0 0]\n",
        " [0 0 0 5 0]\n",
        " [0 0 0 0 6]]\n"
       ]
      }
     ],
     "prompt_number": 25
    },
    {
     "cell_type": "markdown",
     "metadata": {},
     "source": [
      "Read the documentation for np.tile and use this function to construct the following array:\n",
      "[[4, 3, 4, 3, 4, 3],  [2, 1, 2, 1, 2, 1],  [4, 3, 4, 3, 4, 3],  [2, 1, 2, 1, 2, 1]]"
     ]
    },
    {
     "cell_type": "code",
     "collapsed": false,
     "input": [],
     "language": "python",
     "metadata": {},
     "outputs": []
    }
   ],
   "metadata": {}
  }
 ]
}