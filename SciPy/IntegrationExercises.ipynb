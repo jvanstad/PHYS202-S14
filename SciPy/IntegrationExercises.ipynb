{
 "metadata": {
  "name": "",
  "signature": "sha256:cccae69fcb0476ee02b7b6b4f6d38dfcba1f771490a50b12d66df30373c306a0"
 },
 "nbformat": 3,
 "nbformat_minor": 0,
 "worksheets": [
  {
   "cells": [
    {
     "cell_type": "heading",
     "level": 2,
     "metadata": {},
     "source": [
      "Integration Exercises"
     ]
    },
    {
     "cell_type": "code",
     "collapsed": false,
     "input": [
      "%pylab inline\n",
      "import numpy as np\n",
      "import matplotlib.pyplot as plt\n",
      "\n",
      "#TO call a function\n",
      "#import integrators as myint\n",
      "#I=myint.trapz()"
     ],
     "language": "python",
     "metadata": {},
     "outputs": [
      {
       "output_type": "stream",
       "stream": "stdout",
       "text": [
        "Populating the interactive namespace from numpy and matplotlib\n"
       ]
      }
     ],
     "prompt_number": 1
    },
    {
     "cell_type": "markdown",
     "metadata": {},
     "source": [
      "\n",
      "(a) Write two functions trapz(func,a,b,N) and simps(func,a,b,N) to compute the integral of the function func over the variable x using the trapezoidal rule and Simpson's rule to a file called Integrators.py. Do not use the scipy.integrate built-in functions. Include docstrings with each function that describe what they do. Then import the module and use the functions to answer the following questions. To avoid namespace conflicts, import your module as myint and then call the functions from that namespace"
     ]
    },
    {
     "cell_type": "code",
     "collapsed": false,
     "input": [
      "%%file Integrators.py\n",
      "import numpy as np\n",
      "def trapz(func,a,b,N):\n",
      "    h=(b-a)/N\n",
      "    k=np.arange(1,N)\n",
      "    I=h*(0.5*func(a)+0.5*func(b)+func(a+k*h).sum())\n",
      "    return I\n",
      "def simps(func,a,b,N):\n",
      "    h=(b-a)/N\n",
      "    k1=np.arange(1,N/2+1)\n",
      "    k2=np.arange(1,N/2)\n",
      "    I=(1./3.)*h*(func(a)+func(b)+4.*func(a+(2*k1-1)*h).sum()+2.*func(a+2*k2*h).sum())\n",
      "    return I"
     ],
     "language": "python",
     "metadata": {},
     "outputs": [
      {
       "output_type": "stream",
       "stream": "stdout",
       "text": [
        "Overwriting Integrators.py\n"
       ]
      }
     ],
     "prompt_number": 2
    },
    {
     "cell_type": "code",
     "collapsed": false,
     "input": [
      "import Integrators as myint"
     ],
     "language": "python",
     "metadata": {},
     "outputs": [],
     "prompt_number": 3
    },
    {
     "cell_type": "markdown",
     "metadata": {},
     "source": [
      "(b) Use your trapz and simps functions from part (a) to calculate the integral of x4\u22122x+1 from x = 0 to x = 2 with N = 10, N = 100, and N = 1000. Then compare your result to the known correct value of 4.4. What is the percent error in each case?"
     ]
    },
    {
     "cell_type": "code",
     "collapsed": false,
     "input": [
      "func=lambda x: x**4-2*x+1\n",
      "xmin=0.0\n",
      "xmax=2.0\n",
      "N=10.\n",
      "I=myint.trapz(func, xmin, xmax, N)\n",
      "print \"Trap value with N=1 is=\", I"
     ],
     "language": "python",
     "metadata": {},
     "outputs": [
      {
       "output_type": "stream",
       "stream": "stdout",
       "text": [
        "Trap value with N=1 is= 4.50656\n"
       ]
      }
     ],
     "prompt_number": 4
    },
    {
     "cell_type": "code",
     "collapsed": false,
     "input": [
      "print myint.simps(func, xmin, xmax, 10)\n",
      "print myint.trapz(func, xmin, xmax, 100)\n",
      "print myint.simps(func, xmin, xmax, 100)\n",
      "print myint.trapz(func, xmin, xmax, 1000)\n",
      "print myint.simps(func, xmin, xmax, 1000)"
     ],
     "language": "python",
     "metadata": {},
     "outputs": [
      {
       "output_type": "stream",
       "stream": "stdout",
       "text": [
        "4.40042666667\n",
        "4.401066656\n",
        "4.40000004267\n",
        "4.40001066667\n",
        "4.4\n"
       ]
      }
     ],
     "prompt_number": 5
    },
    {
     "cell_type": "heading",
     "level": 3,
     "metadata": {},
     "source": [
      "Question 2 "
     ]
    },
    {
     "cell_type": "markdown",
     "metadata": {},
     "source": [
      "(a) Use scipy.integrate.cumtrapz to calculate E(x) for values of x from 0 to 3 in steps of 0.1. Print the result."
     ]
    },
    {
     "cell_type": "code",
     "collapsed": false,
     "input": [
      "import scipy.integrate as integrate\n",
      "import math"
     ],
     "language": "python",
     "metadata": {},
     "outputs": [],
     "prompt_number": 6
    },
    {
     "cell_type": "code",
     "collapsed": false,
     "input": [
      "#cumtrapz set initial equal to zero \n",
      "x=np.arange(0,3.1,.1)\n",
      "y= lambda x: np.exp(-x**2)\n",
      "MI=integrate.cumtrapz(y(x),x,initial=0)\n",
      "print MI"
     ],
     "language": "python",
     "metadata": {},
     "outputs": [
      {
       "output_type": "stream",
       "stream": "stdout",
       "text": [
        "[ 0.          0.09950249  0.19704446  0.29078049  0.37908424  0.46063146\n",
        "  0.53445532  0.59997046  0.6569664   0.70557392  0.7462108   0.77951463\n",
        "  0.80627088  0.82734325  0.84361215  0.85592503  0.86506023  0.87170427\n",
        "  0.87644128  0.87975207  0.88202044  0.88354398  0.88454709  0.88519453\n",
        "  0.88560418  0.88585826  0.88601274  0.88610482  0.88615862  0.88618943\n",
        "  0.88620673]\n"
       ]
      }
     ],
     "prompt_number": 7
    },
    {
     "cell_type": "code",
     "collapsed": false,
     "input": [],
     "language": "python",
     "metadata": {},
     "outputs": [],
     "prompt_number": 7
    },
    {
     "cell_type": "markdown",
     "metadata": {},
     "source": [
      "b) Plot the integrand as a function of t and E(x) as a function of x (both ranging from 0 to 3) on the same graph."
     ]
    },
    {
     "cell_type": "code",
     "collapsed": false,
     "input": [
      "plt.plot(x,MI,\"r-\",label=\"Integral\")\n",
      "plt.plot(x,y(x),'b-',label=\"Function\")\n",
      "plt.legend(loc=\"lower right\")\n",
      "plt.xlabel(r\"$t$\", fontsize=20)\n",
      "plt.ylabel(r\"$y(x), Integral$\", fontsize=20)\n",
      "plt.show()"
     ],
     "language": "python",
     "metadata": {},
     "outputs": [
      {
       "metadata": {},
       "output_type": "display_data",
       "png": "[encoded data removed]",
       "text": [
        "<matplotlib.figure.Figure at 0x29aad90>"
       ]
      }
     ],
     "prompt_number": 8
    },
    {
     "cell_type": "heading",
     "level": 3,
     "metadata": {},
     "source": [
      "Question 3\n"
     ]
    },
    {
     "cell_type": "markdown",
     "metadata": {},
     "source": [
      "Consider a particle in a one-dimensional box of width L. The probability of finding the particle between a and b is given by \n",
      "\n",
      "P(a,b)=\u222b|\u03c8(x)|**2dx\n",
      "\n",
      "where\n",
      "\n",
      "\u03c8(x)=\u2212\u221a(2/L)*sin(n\u03c0x/L)"
     ]
    },
    {
     "cell_type": "markdown",
     "metadata": {},
     "source": [
      "a) What is the probability of finding the particle between L/3 and L/2 for the ground state (n = 1) and for the first excited state (n = 2)? Let L = 1. Perform the integral using both scipy.integrate.trapz and scipy.integrate.quad with an accuracy of 6 sig figs. How many slices did you need to use for scipy.integrate.trapz?"
     ]
    },
    {
     "cell_type": "code",
     "collapsed": false,
     "input": [
      "n=1\n",
      "L=1\n",
      "step=66\n",
      "arr=np.linspace(0.33333,0.5,step)\n",
      "fx= lambda arr: (2/L)*(np.sin(np.pi*n*arr/L))**2\n",
      "PL = sqrt(2/L)*np.sin(n*np.pi*arr/ L)\n",
      "lol= integrate.trapz(PL**2, arr)\n",
      "res, err= integrate.quad(fx,0.33333,0.5)\n",
      "print \"Trapz Integration, %d steps, state: %d :\" %(step, n), lol\n",
      "print \"state; %d, Actual:\"%n, res\n",
      "print \"Difference:\",(res-lol)/res"
     ],
     "language": "python",
     "metadata": {},
     "outputs": [
      {
       "output_type": "stream",
       "stream": "stdout",
       "text": [
        "Trapz Integration, 66 steps, state: 1 : 0.304500909062\n",
        "state; 1, Actual: 0.304503890492\n",
        "Difference: 9.79110472915e-06\n"
       ]
      }
     ],
     "prompt_number": 9
    },
    {
     "cell_type": "markdown",
     "metadata": {},
     "source": [
      "66 steps were needed to obtain 6 sigfigs"
     ]
    },
    {
     "cell_type": "code",
     "collapsed": false,
     "input": [
      "n2=2\n",
      "L=1\n",
      "step2=162\n",
      "arr2=np.linspace(0.33333,0.5,step2)\n",
      "fx2= lambda arr2: (2/L)*(np.sin(np.pi*n2*arr2/L))**2\n",
      "PL2 = sqrt(2/L)*np.sin(n2*np.pi*arr2/ L)\n",
      "lol2= integrate.trapz(PL2**2, arr2)\n",
      "res2, err2= integrate.quad(fx2,0.33333,0.5)\n",
      "print \"Trapz Integration, %d steps, state: %d :\" %(step2, n2), lol2\n",
      "print \"state; %d, Actual:\"%n2, res2\n",
      "print \"Difference:\",(res2-lol2)/res2\n",
      "\n"
     ],
     "language": "python",
     "metadata": {},
     "outputs": [
      {
       "output_type": "stream",
       "stream": "stdout",
       "text": [
        "Trapz Integration, 162 steps, state: 2 : 0.0977565266804\n",
        "state; 2, Actual: 0.0977555547994\n",
        "Difference: -9.94195161206e-06\n"
       ]
      }
     ],
     "prompt_number": 10
    },
    {
     "cell_type": "markdown",
     "metadata": {},
     "source": [
      "162 steps needed to obtain 6 sigfigs"
     ]
    },
    {
     "cell_type": "markdown",
     "metadata": {},
     "source": [
      "(b) Make a plot of |\u03c8(x)|2 vs. x for the first two excited states with L=1."
     ]
    },
    {
     "cell_type": "code",
     "collapsed": false,
     "input": [
      "plt.plot(arr,PL**2,\"r-\",label=\"Ground State\")\n",
      "plt.plot(arr2,PL2**2,'b-',label=\"First Excited State\")\n",
      "plt.legend(loc=\"center right\")\n",
      "plt.xlabel(r'$x$', fontsize=20)\n",
      "plt.ylabel(r'$|\\Psi^2|$',fontsize=20)\n",
      "plt.show()"
     ],
     "language": "python",
     "metadata": {},
     "outputs": [
      {
       "metadata": {},
       "output_type": "display_data",
       "png": "[encoded data removed]",
       "text": [
        "<matplotlib.figure.Figure at 0x2a2b750>"
       ]
      }
     ],
     "prompt_number": 11
    },
    {
     "cell_type": "heading",
     "level": 2,
     "metadata": {},
     "source": [
      "Question 4"
     ]
    },
    {
     "cell_type": "markdown",
     "metadata": {},
     "source": [
      "(a) Use numerical integration to find M, r\u20d7 cm, and Icm. Note that you need M to compute r\u20d7 cm and r\u20d7 cm to compute Icm. The moments of inertia Icm are Ixx, Iyy, and Izz, where e.g. Ixx=\u222b((y\u2212ycm)2+(z\u2212zcm)2)\u03c1dV, etc."
     ]
    },
    {
     "cell_type": "code",
     "collapsed": false,
     "input": [
      "from scipy.integrate import tplquad"
     ],
     "language": "python",
     "metadata": {},
     "outputs": [],
     "prompt_number": 12
    },
    {
     "cell_type": "code",
     "collapsed": false,
     "input": [
      "dens=lambda z,y,x:100*(y+0.1)+(100*z**2)\n",
      "xmin=-0.1\n",
      "xmax=0.1\n",
      "ymin=lambda x:-0.1\n",
      "ymax=lambda x:0.1\n",
      "zmin=lambda y,x:-0.5\n",
      "zmax=lambda y,x:0.5\n",
      "M,err=tplquad(dens,xmin,xmax,ymin,ymax,zmin,zmax)\n",
      "print \"The total mass is:\" ,M"
     ],
     "language": "python",
     "metadata": {},
     "outputs": [
      {
       "output_type": "stream",
       "stream": "stdout",
       "text": [
        "The total mass is: 0.733333333333\n"
       ]
      }
     ],
     "prompt_number": 13
    },
    {
     "cell_type": "code",
     "collapsed": false,
     "input": [
      "rx=lambda z,y,x:x*(100*(y+0.1)+(100*z**2))/M\n",
      "ry=lambda z,y,x:y*(100*(y+0.1)+(100*z**2))/M\n",
      "rz=lambda z,y,x:z*(100*(y+0.1)+(100*z**2))/M\n",
      "X,errx=tplquad(rx,xmin,xmax,ymin,ymax,zmin,zmax)\n",
      "Y,erry=tplquad(ry,xmin,xmax,ymin,ymax,zmin,zmax)\n",
      "Z,errz=tplquad(rz,xmin,xmax,ymin,ymax,zmin,zmax)\n",
      "R=(X,Y,Z)\n",
      "print \"The Center of Mass is:\",  R"
     ],
     "language": "python",
     "metadata": {},
     "outputs": [
      {
       "output_type": "stream",
       "stream": "stdout",
       "text": [
        "The Center of Mass is: (0.0, 0.018181818181818184, 0.0)\n"
       ]
      }
     ],
     "prompt_number": 14
    },
    {
     "cell_type": "code",
     "collapsed": false,
     "input": [
      "ix=lambda z,y,x:(x-X)**2*(100*(y+0.1)+(100*z**2))\n",
      "iy=lambda z,y,x:(y-Y)**2*(100*(y+0.1)+(100*z**2))\n",
      "iz=lambda z,y,x:(z-Z)**2*(100*(y+0.1)+(100*z**2))\n",
      "Xi,err1=tplquad(ix,xmin,xmax,ymin,ymax,zmin,zmax)\n",
      "Yi,err2=tplquad(iy,xmin,xmax,ymin,ymax,zmin,zmax)\n",
      "Zi,err3=tplquad(iz,xmin,xmax,ymin,ymax,zmin,zmax)\n",
      "I=[(Xi,0,0),(0,Yi,0),(0,0,Zi)]\n",
      "print I"
     ],
     "language": "python",
     "metadata": {},
     "outputs": [
      {
       "output_type": "stream",
       "stream": "stdout",
       "text": [
        "[(0.0024444444444444453, 0, 0), (0, 0.0022020202020202025, 0), (0, 0, 0.08333333333333337)]\n"
       ]
      }
     ],
     "prompt_number": 15
    },
    {
     "cell_type": "markdown",
     "metadata": {},
     "source": [
      "(b) The mass, center of mass, and moments of inertia can be easily computed analytically for a rectangular box of uniform density. (Compute them yourself or look them up). Verify your algorithm from part (a) works by having it compute the result for this test case. How accurate (how many sig figs?) is the numerical result?"
     ]
    },
    {
     "cell_type": "markdown",
     "metadata": {},
     "source": [
      "Masses assumed to be equal.\n",
      "Center of mass for uniform object is (0,0,0) centered at origin.\n",
      "\n",
      "$I_x=  (\\frac{m}{12} \\left(y^2+z^2\\right)$,0,0)\n",
      "\n",
      "$I_y =(0,\\frac{m}{12} \\left(x^2+z^2\\right)$,0)\n",
      "\n",
      "$I_z = (0,0,\\frac{m}{12} \\left(x^2+y^2\\right)$)"
     ]
    },
    {
     "cell_type": "code",
     "collapsed": false,
     "input": [
      "#unif= M/(8*xmax*ymax*zmax)\n",
      "#Uniform density function centered at origin so volume is zmax*\n",
      "\n",
      "\n",
      "\n",
      "\n",
      "\n",
      "\n"
     ],
     "language": "python",
     "metadata": {},
     "outputs": [],
     "prompt_number": 19
    },
    {
     "cell_type": "code",
     "collapsed": false,
     "input": [],
     "language": "python",
     "metadata": {},
     "outputs": []
    }
   ],
   "metadata": {}
  }
 ]
}