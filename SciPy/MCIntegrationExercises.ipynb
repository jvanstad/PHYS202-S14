{
 "metadata": {
  "name": "",
  "signature": "sha256:6e6039694bec04dd1c872efaab433c365e964b3376c6320c2e9464383c7735bc"
 },
 "nbformat": 3,
 "nbformat_minor": 0,
 "worksheets": [
  {
   "cells": [
    {
     "cell_type": "heading",
     "level": 2,
     "metadata": {},
     "source": [
      "Monte Carlo Integration Exercises"
     ]
    },
    {
     "cell_type": "code",
     "collapsed": false,
     "input": [
      "%pylab inline\n",
      "import numpy as np\n",
      "import matplotlib.pyplot as plt\n",
      "from IPython.html.widgets import interact, interactive\n",
      "import random"
     ],
     "language": "python",
     "metadata": {},
     "outputs": [
      {
       "output_type": "stream",
       "stream": "stdout",
       "text": [
        "Populating the interactive namespace from numpy and matplotlib\n"
       ]
      }
     ],
     "prompt_number": 1
    },
    {
     "cell_type": "code",
     "collapsed": false,
     "input": [
      "def pointPotential(x,y,q,X,Y):\n",
      "    \"\"\"return the electric potential for a point charge q at (X,Y)\"\"\"\n",
      "    k = 8.987551787997912e9 #(Nm^2/C^2)\n",
      "    Vxy = k*q/sqrt(((x-X)**2 + (y-Y)**2))\n",
      "    return Vxy\n",
      "def dipolePotential(x,y,q,d):\n",
      "    \"\"\"finds the electric potential at a point given a two point charges\"\"\"\n",
      "    Vxy = pointPotential(x,y,q,d/2,0) + pointPotential(x,y,-q,-d/2,0)\n",
      "    return Vxy\n",
      "\n",
      "def pointField(x,y,q,Xq,Yq):\n",
      "    \"\"\"Returns a tuple of the electric field caused by q at (Xq,Yq)\"\"\"\n",
      "    k = 1.3806488e-23 #Nm^2/C^2\n",
      "    Ex = (k*q*(x-Xq))/(((x-Xq)**2+(y-Yq)**2)**(0.5))\n",
      "    Ey = (k*q*(y-Yq))/(((x-Xq)**2+(y-Yq)**2)**(0.5))\n",
      "    return [Ex,Ey]\n"
     ],
     "language": "python",
     "metadata": {},
     "outputs": [],
     "prompt_number": 2
    },
    {
     "cell_type": "markdown",
     "metadata": {},
     "source": [
      "(a) Use the sample mean method to compute the potential at point P(2,3) due to the disk of charge for different numbers of samples N=(101,102,103,104,105,106). Report the value and its statistical uncertainty for each sample size. How does the result depend on N?"
     ]
    },
    {
     "cell_type": "code",
     "collapsed": false,
     "input": [
      "sigma=1 #uC/(m*^2)\n",
      "\n",
      "def sample(N,X,Y):\n",
      "    xs=-1.+(2.)*np.random.random_sample(N)\n",
      "    ys=2.*np.random.random_sample(N)\n",
      "    Q=4.*10**(-6)\n",
      "    PP=pointPotential(xs,ys,Q,X,Y)\n",
      "    ave=np.mean(PP)\n",
      "        #print Ave \n",
      "    unc=2*np.sqrt(((np.mean(PP**2))-(ave**2))/N)\n",
      "    return ave, unc\n",
      "\n",
      "print \"Sample mean with 10 samples:\", sample(10.,2.,3.)\n",
      "print \"Sample mean with 100 samples:\", sample(100.,2.,3.) \n",
      "print \"Sample mean with 1000 samples:\",sample(1000.,2.,3.)\n",
      "print \"Sample mean with 10000 samples:\",sample(10000.,2.,3.)\n",
      "print \"Sample mean with 100000 samples:\",sample(100000.,2.,3.)\n",
      "print \"Sample mean with 1000000 samples:\",sample(1000000.,2.,3.)\n"
     ],
     "language": "python",
     "metadata": {},
     "outputs": [
      {
       "output_type": "stream",
       "stream": "stdout",
       "text": [
        "Sample mean with 10 samples: (13918.480939961539, 1885.2707389240172)\n",
        "Sample mean with 100 samples: (13154.77549597691, 649.68720527999676)\n",
        "Sample mean with 1000 samples: (12882.553759411581, 176.21471044992026)\n",
        "Sample mean with 10000 samples: (13005.193585838493, 59.502989119605218)\n",
        "Sample mean with 100000 samples: (13036.577775883125, 18.877204634566169)\n",
        "Sample mean with 1000000 samples: "
       ]
      },
      {
       "output_type": "stream",
       "stream": "stdout",
       "text": [
        "(13024.159276189939, 5.9336462988514889)\n"
       ]
      }
     ],
     "prompt_number": 3
    },
    {
     "cell_type": "markdown",
     "metadata": {},
     "source": [
      "Part b"
     ]
    },
    {
     "cell_type": "code",
     "collapsed": false,
     "input": [
      "def sample1(N,X,Y):\n",
      "    xs=np.zeros(N)\n",
      "    ys=np.zeros(N)\n",
      "    for y in range(int(N)):\n",
      "        a,b=1000., 1000.\n",
      "        d=(a**2.+b**2.)**(0.5)\n",
      "        while d>1.2:\n",
      "            a=-1.2+(2.4)*np.random.random_sample(1)\n",
      "            b=-1.2+(2.4)*np.random.random_sample(1)\n",
      "            d = (a**2+b**2)**.5\n",
      "        xs[y]=(a)\n",
      "        ys[y]=(b)\n",
      "    Q=2*(1.2**2)*np.pi*10**(-9)\n",
      "    PP=pointPotential(xs,ys,Q,X,Y)\n",
      "    ave=np.mean(PP)\n",
      "        #print Ave \n",
      "    unc=2*np.sqrt(((np.mean(PP**2))-(ave**2))/N)\n",
      "    return ave, unc\n",
      "\n",
      "print \"Sample mean with 10 samples:\", sample1(10.,2.,3.)\n",
      "print \"Sample mean with 100 samples:\", sample1(100.,2.,3.) \n",
      "print \"Sample mean with 1000 samples:\",sample1(1000.,2.,3.)\n",
      "print \"Sample mean with 10000 samples:\",sample1(10000.,2.,3.)\n",
      "print \"Sample mean with 100000 samples:\",sample1(100000.,2.,3.)\n",
      "print \"Sample mean with 1000000 samples:\",sample1(1000000.,2.,3.)\n"
     ],
     "language": "python",
     "metadata": {},
     "outputs": [
      {
       "output_type": "stream",
       "stream": "stdout",
       "text": [
        "Sample mean with 10 samples: (23.045790810916433, 1.8466232460298144)\n",
        "Sample mean with 100 samples: (22.844276472078395, 0.78197997872178127)\n",
        "Sample mean with 1000 samples: (22.878249905380983, 0.25374026569087754)\n",
        "Sample mean with 10000 samples: "
       ]
      },
      {
       "output_type": "stream",
       "stream": "stdout",
       "text": [
        "(22.944453813095418, 0.079380190753202143)\n",
        "Sample mean with 100000 samples: "
       ]
      },
      {
       "output_type": "stream",
       "stream": "stdout",
       "text": [
        "(22.861820117314476, 0.025023142138085697)\n",
        "Sample mean with 1000000 samples: "
       ]
      },
      {
       "output_type": "stream",
       "stream": "stdout",
       "text": [
        "(22.87442511491912, 0.0079018330752096272)\n"
       ]
      }
     ],
     "prompt_number": 4
    },
    {
     "cell_type": "heading",
     "level": 2,
     "metadata": {},
     "source": [
      "Question 2"
     ]
    },
    {
     "cell_type": "code",
     "collapsed": false,
     "input": [
      "NI=(10.,100.,1000.,10.**4.,10.**5.,10.**6.)\n",
      "V= lambda x,y,z: (x**2.)*np.sin(z)\n",
      "xa=0.;xb=1. #r\n",
      "ya=0.;yb=2*np.pi #theta\n",
      "za=0.;zb=np.pi #phi\n",
      "for i in NI:\n",
      "    x = (xb-xa)*np.random.random_sample(i)\n",
      "    y = (yb-ya)*np.random.random_sample(i)\n",
      "    z = (zb-za)*np.random.random_sample(i)\n",
      "    \n",
      "    I=2*(np.pi**2)*V(x,y,z).mean()\n",
      "    err=(xb-xa)*(yb-ya)*(zb-za)*np.sqrt(((V(x,y,z)**2).mean() - (V(x,y,z).mean())**2)/i)\n",
      "    exact=4.1866666666666666666\n",
      "    print \"Exact =\",exact,\"I=\",I,\" +/-\",err,\"percentErr =\",100.*np.abs(I-exact)/exact"
     ],
     "language": "python",
     "metadata": {},
     "outputs": [
      {
       "output_type": "stream",
       "stream": "stdout",
       "text": [
        "Exact = 4.18666666667 I= 4.26805917766  +/- 1.68930957326 percentErr = 1.94408863827\n",
        "Exact = 4.18666666667 I= 3.8447618145  +/- 0.453362141162 percentErr = 8.16651716965\n",
        "Exact = 4.18666666667 I= 3.87765481198  +/- 0.137496651963 percentErr = 7.38085640174\n",
        "Exact = 4.18666666667 I= 4.19757652992  +/- 0.0464837299848 percentErr = 0.260585905831\n",
        "Exact = 4.18666666667 I= 4.19035696313  +/- 0.0146633068546 percentErr = 0.0881440237495\n",
        "Exact ="
       ]
      },
      {
       "output_type": "stream",
       "stream": "stdout",
       "text": [
        " 4.18666666667 I= 4.18228493387  +/- 0.00462468193413 percentErr = 0.104659222796\n"
       ]
      }
     ],
     "prompt_number": 5
    },
    {
     "cell_type": "markdown",
     "metadata": {},
     "source": [
      "As seen in the previous example, Increasing your N also lowers error from actual value..how strange."
     ]
    },
    {
     "cell_type": "heading",
     "level": 2,
     "metadata": {},
     "source": [
      "Question 3"
     ]
    },
    {
     "cell_type": "code",
     "collapsed": false,
     "input": [
      "f=lambda x:4*(1.-x**2)**(.5)\n",
      "N=np.logspace(1,6,100)\n",
      "x=np.arange(0.,1.01,.01)\n",
      "xmin=0.;xmax=1.\n",
      "subx = x[logical_and((x > xmin),(x < xmax))]\n",
      "ymax = f(subx).max()*1.05\n",
      "ymin = 0.\n",
      "for i in N:\n",
      "    samples_x = np.random.random_sample(i);\n",
      "    samples_y =ymax*np.random.random_sample(i);\n",
      "    newmask = (samples_y < f(samples_x))\n",
      "    I = (xmax-xmin)*(ymax-ymin)*newmask.sum()/newmask.size\n",
      "    err=100*np.abs(I-np.pi)/np.pi\n",
      "    print \"Integral and error with %s number of samples\" %i, I, err\n"
     ],
     "language": "python",
     "metadata": {},
     "outputs": [
      {
       "output_type": "stream",
       "stream": "stdout",
       "text": [
        "Integral and error with 10.0 number of samples 3.3598319958 6.94677401797\n",
        "Integral and error with 11.2332403298 number of samples 3.43619181389 9.37738251838\n",
        "Integral and error with 12.6185688307 number of samples 3.14984249606 0.262600641846\n",
        "Integral and error with 14.1747416293 number of samples 2.69986499662 14.0606280213\n",
        "Integral and error with 15.9228279334 number of samples 3.63981799545 15.8590051861\n",
        "Integral and error with 17.8864952906 number of samples 3.21160411363 2.22853398776\n",
        "Integral and error with 20.0923300257 number of samples 3.56982149554 13.6309473941\n",
        "Integral and error with 22.5701971963 number of samples 3.6270913591 15.4539037694\n",
        "Integral and error with 25.3536449397 number of samples 3.19184039601 1.59943531707\n",
        "Integral and error with 28.4803586844 number of samples 3.89980499512 24.1346484137\n",
        "Integral and error with 31.992671378 number of samples 3.11597322191 0.815491838174\n",
        "Integral and error with 35.938136638 number of samples 3.3598319958 6.94677401797\n",
        "Integral and error with 40.370172586 number of samples 3.14984249606 0.262600641846\n",
        "Integral and error with 45.3487850813 number of samples 3.26650332925 3.97603029525\n",
        "Integral and error with 50.9413801482 number of samples 3.10784459611 1.07423403338\n",
        "Integral and error with 57.2236765935 number of samples 3.09458210139 1.49639235187\n",
        "Integral and error with 64.2807311728 number of samples 2.88735562139 8.09261607831\n",
        "Integral and error with 72.2080901839 number of samples 3.26650332925 3.97603029525\n",
        "Integral and error with 81.113083079 number of samples 2.95540777408 5.92644878049\n",
        "Integral and error with 91.1162756115 number of samples 3.46136538029 10.178682024\n",
        "Integral and error with 102.35310219 number of samples 3.17042970192 0.917911757152\n",
        "Integral and error with 114.97569954 number of samples 3.20510289073 2.02159363556\n",
        "Integral and error with 129.154966501 number of samples 3.19053813555 1.55798307908\n",
        "Integral and error with 145.08287785 number of samples 2.98329909972 5.03864031163\n",
        "Integral and error with 162.975083462 number of samples 3.37020184764 7.27685665383\n",
        "Integral and error with 183.07382803 number of samples 2.98345737332 5.03360230645\n",
        "Integral and error with 205.651230835 number of samples 3.07301706933 2.1828286421\n",
        "Integral and error with 231.012970008 number of samples 3.199839996 1.8540704933\n",
        "Integral and error with 259.50242114 number of samples 2.91877296932 7.09257083381\n",
        "Integral and error with 291.505306283 number of samples 3.18953123313 1.5259323796\n",
        "Integral and error with 327.454916288 number of samples 3.05672788609 2.70132944848\n",
        "Integral and error with 367.837977183 number of samples 3.24997372891 3.44987677487\n",
        "Integral and error with 413.201240012 number of samples 3.19306067397 1.63827797107\n",
        "Integral and error with 464.158883361 number of samples 3.12268868144 0.601732122308\n",
        "Integral and error with 521.4008288 number of samples 3.04706452594 3.0089237553\n",
        "Integral and error with 585.702081806 number of samples 3.20907030368 2.14788031203\n",
        "Integral and error with 657.933224658 number of samples 2.98523885472 4.97689599241\n",
        "Integral and error with 739.072203353 number of samples 3.12000636958 0.687112760716\n",
        "Integral and error with 830.217568132 number of samples 3.10177261058 1.26751133582\n",
        "Integral and error with 932.603346883 number of samples 3.10478037166 1.17177132728\n",
        "Integral and error with 1047.61575279 number of samples 3.15686220236 0.486044833025\n",
        "Integral and error with 1176.81195243 number of samples 3.24269499595 3.21818750884\n",
        "Integral and error with 1321.94114847 number of samples 3.16017506039 0.591496379505\n",
        "Integral and error with 1484.96826225 number of samples 3.16965282623 0.89318303582\n",
        "Integral and error with 1668.1005372 number of samples 3.12718175868 0.458713031836\n",
        "Integral and error with 1873.81742286 number of samples 3.10779975052 1.07566151301\n",
        "Integral and error with 2104.90414451 number of samples 3.15982298559 0.580289490521\n",
        "Integral and error with 2364.48941265 number of samples 3.1409596915 0.0201478089207\n",
        "Integral and error with 2656.08778295 number of samples 3.12928629503 0.39172355913\n",
        "Integral and error with 2983.64724028 number of samples 3.16497750861 0.744363054138\n",
        "Integral and error with 3351.60265094 number of samples 3.10942374723 1.02396809214\n",
        "Integral and error with 3764.93580679 number of samples 3.15653716662 0.475698624081\n",
        "Integral and error with 4229.24287439 number of samples 3.19080757936 1.56655974218\n",
        "Integral and error with 4750.8101621 number of samples 3.11845459189 0.736507378585\n",
        "Integral and error with 5336.69923121 number of samples 3.14118475807 0.0129837177394\n",
        "Integral and error with 5994.84250319 number of samples 3.19223276878 1.61192493032\n",
        "Integral and error with 6734.15065775 number of samples 3.16013304179 0.590158885701\n",
        "Integral and error with 7564.63327555 number of samples 3.14706632605 0.174232405779\n",
        "Integral and error with 8497.53435909 number of samples 3.15490873679 0.423864092723\n",
        "Integral and error with 9545.48456662 number of samples 3.12971254402 0.378155632555\n",
        "Integral and error with 10722.6722201 number of samples 3.12026926862 0.678744424182\n",
        "Integral and error with 12045.0354026 number of samples 3.13946941575 0.0675847594653\n",
        "Integral and error with 13530.4777458 number of samples 3.12951091848 0.384573572694\n",
        "Integral and error with 15199.1108295 number of samples 3.16690526547 0.805725460552\n",
        "Integral and error with 17073.5264747 number of samples 3.12628893828 0.487132387808\n",
        "Integral and error with 19179.1026167 number of samples 3.13730597293 0.136449283367\n",
        "Integral and error with 21544.3469003 number of samples 3.16075914291 0.610088303434\n",
        "Integral and error with 24201.2826479 number of samples 3.15144772136 0.313696550056\n",
        "Integral and error with 27185.8824273 number of samples 3.14014829624 0.0459753223636\n",
        "Integral and error with 30538.5550883 number of samples 3.14853599253 0.221013342695\n",
        "Integral and error with 34304.6928631 number of samples 3.13258006634 0.286879562231\n",
        "Integral and error with 38535.2859371 number of samples 3.13455715684 0.223946816829\n",
        "Integral and error with 43287.6128108 number of samples 3.12701807773 0.463923158248\n",
        "Integral and error with 48626.0158007 number of samples 3.14617180395 0.145758882916\n",
        "Integral and error with 54622.7721768 number of samples 3.14265344468 0.0337660291743\n",
        "Integral and error with 61359.0727341 number of samples 3.14400745806 0.0768656134672\n",
        "Integral and error with 68926.1210435 number of samples 3.13640701897 0.165063876459\n",
        "Integral and error with 77426.3682681 number of samples 3.14574717738 0.132242599354\n",
        "Integral and error with 86974.9002618 number of samples 3.14358921572 0.0635525465052\n",
        "Integral and error with 97700.9957299 number of samples 3.14477007826 0.101140568482\n",
        "Integral and error with 109749.876549 number of samples 3.13638199865 0.165860298126\n",
        "Integral and error with 123284.673944 number of samples 3.14248424488 0.0283802321832\n",
        "Integral and error with 138488.637139 number of samples"
       ]
      },
      {
       "output_type": "stream",
       "stream": "stdout",
       "text": [
        " 3.15381520481 0.389055888838\n",
        "Integral and error with 155567.614393 number of samples 3.1373092949 0.136343541672\n",
        "Integral and error with 174752.840001 number of samples 3.13746557421 0.131369016722\n",
        "Integral and error with 196304.065004 number of samples 3.13713427179 0.141914700217\n",
        "Integral and error with 220513.07399 number of samples 3.14302895278 0.045718823059\n",
        "Integral and error with 247707.635599 number of samples 3.13932636311 0.0721382663432\n",
        "Integral and error with 278255.940221 number of samples 3.14039030838 0.0382718367652\n",
        "Integral and error with 312571.584969 number of samples"
       ]
      },
      {
       "output_type": "stream",
       "stream": "stdout",
       "text": [
        " 3.14003065605 0.0497199258276\n",
        "Integral and error with 351119.173422 number of samples 3.14289007271 0.041298133302\n",
        "Integral and error with 394420.605944 number of samples 3.1385662484 0.0963334692699\n",
        "Integral and error with 443062.145758 number of samples 3.13722119164 0.13914795543\n",
        "Integral and error with 497702.356433 number of samples"
       ]
      },
      {
       "output_type": "stream",
       "stream": "stdout",
       "text": [
        " 3.13906248771 0.0805376814077\n",
        "Integral and error with 559081.018251 number of samples 3.14220471821 0.0194826220894\n",
        "Integral and error with 628029.144183 number of samples 3.13875669929 0.090271229175\n",
        "Integral and error with 705480.231072 number of samples"
       ]
      },
      {
       "output_type": "stream",
       "stream": "stdout",
       "text": [
        " 3.14141291247 0.00572133753241\n",
        "Integral and error with 792482.898354 number of samples 3.14634214995 0.151181164434\n",
        "Integral and error with 890215.085445 number of samples"
       ]
      },
      {
       "output_type": "stream",
       "stream": "stdout",
       "text": [
        " 3.14066534056 0.0295172905615\n",
        "Integral and error with 1000000.0 number of samples 3.14179569843 0.00646311807285\n"
       ]
      }
     ],
     "prompt_number": 6
    },
    {
     "cell_type": "code",
     "collapsed": false,
     "input": [
      "def sample2(N):\n",
      "    f=lambda x:4*(1.-x**2)**(.5)\n",
      "    x=np.random.random_sample(N)\n",
      "    ave=np.mean(f(x))\n",
      "        #print Ave \n",
      "    unc=2*np.sqrt(((np.mean(f(x**2)**2))-(ave**2))/N)\n",
      "    err=100*np.abs(ave-np.pi)/np.pi\n",
      "    return ave, unc,err\n",
      "N=np.logspace(1,6,100)\n",
      "for i in N:\n",
      "    o,p,t=sample2(i)\n",
      "    print \"Integral, Uncertainty, and Error for %s samples\"%i,o, p, t"
     ],
     "language": "python",
     "metadata": {},
     "outputs": [
      {
       "output_type": "stream",
       "stream": "stdout",
       "text": [
        "Integral, Uncertainty, and Error for 10.0 samples 3.091813462 1.13905588803 1.5845208808\n",
        "Integral, Uncertainty, and Error for 11.2332403298 samples 3.39273445533 0.935704820154 7.99409183281\n",
        "Integral, Uncertainty, and Error for 12.6185688307 samples 2.67473890611 1.04432998802 14.8604163224\n",
        "Integral, Uncertainty, and Error for 14.1747416293 samples 2.78605239587 0.999433986447 11.317197897\n",
        "Integral, Uncertainty, and Error for 15.9228279334 samples 3.09458495164 0.876578197229 1.49630162577\n",
        "Integral, Uncertainty, and Error for 17.8864952906 samples 2.92133328384 0.824571528677 7.01107349153\n",
        "Integral, Uncertainty, and Error for 20.0923300257 samples 3.28652370225 0.726682146505 4.61329856047\n",
        "Integral, Uncertainty, and Error for 22.5701971963 samples 2.6667586049 0.765773829149 15.1144371995\n",
        "Integral, Uncertainty, and Error for 25.3536449397 samples 3.26355498654 0.665145555418 3.88218163194\n",
        "Integral, Uncertainty, and Error for 28.4803586844 samples 3.20980945495 0.624781688173 2.17140822763\n",
        "Integral, Uncertainty, and Error for 31.992671378 samples 2.92988456677 0.629784427561 6.73887770184\n",
        "Integral, Uncertainty, and Error for 35.938136638 samples 3.00961713145 0.603849547326 4.20091134321\n",
        "Integral, Uncertainty, and Error for 40.370172586 samples 3.12355318463 0.545026746657 0.574214131278\n",
        "Integral, Uncertainty, and Error for 45.3487850813 samples 3.30586367451 0.485094909631 5.22890899721\n",
        "Integral, Uncertainty, and Error for 50.9413801482 samples 3.02263294071 0.499361133398 3.78660526683\n",
        "Integral, Uncertainty, and Error for 57.2236765935 samples 3.28479758999 0.439407858535 4.55835470064\n",
        "Integral, Uncertainty, and Error for 64.2807311728 samples 2.88301280598 0.44084701113 8.23085218628\n",
        "Integral, Uncertainty, and Error for 72.2080901839 samples 3.19100778173 0.392469987141 1.57293238143\n",
        "Integral, Uncertainty, and Error for 81.113083079 samples 3.23003431919 0.365331128699 2.81518565111\n",
        "Integral, Uncertainty, and Error for 91.1162756115 samples 3.16784217062 0.355587263293 0.835548077982\n",
        "Integral, Uncertainty, and Error for 102.35310219 samples 3.04046969064 0.350965259059 3.21884388286\n",
        "Integral, Uncertainty, and Error for 114.97569954 samples 3.12112138213 0.321125156421 0.651620808895\n",
        "Integral, Uncertainty, and Error for 129.154966501 samples 3.16873059541 0.301417232179 0.863827517129\n",
        "Integral, Uncertainty, and Error for 145.08287785 samples 3.01081263986 0.294731229353 4.16285712866\n",
        "Integral, Uncertainty, and Error for 162.975083462 samples 3.21922562146 0.258824256975 2.47113411658\n",
        "Integral, Uncertainty, and Error for 183.07382803 samples 3.12449742599 0.257156843695 0.544157995054\n",
        "Integral, Uncertainty, and Error for 205.651230835 samples 3.13811245263 0.237867835985 0.110778237039\n",
        "Integral, Uncertainty, and Error for 231.012970008 samples 3.26819564714 0.216609325153 4.02989844682\n",
        "Integral, Uncertainty, and Error for 259.50242114 samples 3.13720224146 0.212306254428 0.139751158475\n",
        "Integral, Uncertainty, and Error for 291.505306283 samples 3.19993535173 0.19780628195 1.8571057606\n",
        "Integral, Uncertainty, and Error for 327.454916288 samples 3.16478437645 0.187276898148 0.738215466429\n",
        "Integral, Uncertainty, and Error for 367.837977183 samples 3.17078739991 0.175491530791 0.929297637781\n",
        "Integral, Uncertainty, and Error for 413.201240012 samples 3.15070581299 0.170037429396 0.290080873266\n",
        "Integral, Uncertainty, and Error for 464.158883361 samples 3.119461479 0.160055159523 0.704457166439\n",
        "Integral, Uncertainty, and Error for 521.4008288 samples 3.12368155621 0.150281604362 0.570127936853\n",
        "Integral, Uncertainty, and Error for 585.702081806 samples 3.13690991698 0.142184286057 0.149056135703\n",
        "Integral, Uncertainty, and Error for 657.933224658 samples 3.16868970761 0.132649314529 0.86252601819\n",
        "Integral, Uncertainty, and Error for 739.072203353 samples 3.11153537198 0.127358786429 0.956752988704\n",
        "Integral, Uncertainty, and Error for 830.217568132 samples 3.13650421267 0.119032160744 0.161970104931\n",
        "Integral, Uncertainty, and Error for 932.603346883 samples 3.13553126054 0.112560247622 0.192940133054\n",
        "Integral, Uncertainty, and Error for 1047.61575279 samples 3.16594853928 0.105308714051 0.775271920261\n",
        "Integral, Uncertainty, and Error for 1176.81195243 samples 3.15106279932 0.0994077010797 0.301444100997\n",
        "Integral, Uncertainty, and Error for 1321.94114847 samples 3.13947984996 0.0939991601192 0.0672526282822\n",
        "Integral, Uncertainty, and Error for 1484.96826225 samples 3.11259617633 0.0894844073795 0.922986537653\n",
        "Integral, Uncertainty, and Error for 1668.1005372 samples 3.13309325781 0.0841326402598 0.27054417023\n",
        "Integral, Uncertainty, and Error for 1873.81742286 samples 3.15973535798 0.0786504253115 0.577500216923\n",
        "Integral, Uncertainty, and Error for 2104.90414451 samples 3.12621296225 0.0744484201223 0.489550779885\n",
        "Integral, Uncertainty, and Error for 2364.48941265 samples 3.12225898365 0.0706767225987 0.615409827784\n",
        "Integral, Uncertainty, and Error for 2656.08778295 samples 3.13105189928 0.0668116308039 0.335522630591\n",
        "Integral, Uncertainty, and Error for 2983.64724028 samples 3.12064983339 0.0631565234933 0.666630671478\n",
        "Integral, Uncertainty, and Error for 3351.60265094 samples 3.1303176976 0.0594553216615 0.35889299588\n",
        "Integral, Uncertainty, and Error for 3764.93580679 samples 3.15820200492 0.055542349218 0.528692073026\n",
        "Integral, Uncertainty, and Error for 4229.24287439 samples 3.14620852666 0.0525809910469 0.146927803081\n",
        "Integral, Uncertainty, and Error for 4750.8101621 samples 3.13182019444 0.0499037920753 0.311067036097\n",
        "Integral, Uncertainty, and Error for 5336.69923121 samples 3.14893884047 0.046769383062 0.233836390986\n",
        "Integral, Uncertainty, and Error for 5994.84250319 samples 3.13372920445 0.0442818685742 0.250301359941\n",
        "Integral, Uncertainty, and Error for 6734.15065775 samples 3.13999285052 0.0417443668597 0.05092331328\n",
        "Integral, Uncertainty, and Error for 7564.63327555 samples 3.15216442269 0.0392870566722 0.336509861916\n",
        "Integral, Uncertainty, and Error for 8497.53435909 samples 3.14360835239 0.0370842906697 0.0641616857027\n",
        "Integral, Uncertainty, and Error for 9545.48456662 samples 3.13205636723 0.035165734173 0.303549422456\n",
        "Integral, Uncertainty, and Error for 10722.6722201 samples 3.14458724354 0.0330246823139 0.0953207584804\n",
        "Integral, Uncertainty, and Error for 12045.0354026 samples 3.15871099441 0.0310613203315 0.544893711791\n",
        "Integral, Uncertainty, and Error for 13530.4777458 samples 3.14771390093 0.0293641873538 0.194845354551\n",
        "Integral, Uncertainty, and Error for 15199.1108295 samples 3.13777316895 0.027805190095 0.121577972093\n",
        "Integral, Uncertainty, and Error for 17073.5264747 samples 3.14275854132 0.0261839702802 0.0371113590151\n",
        "Integral, Uncertainty, and Error for 19179.1026167 samples 3.14249531871 0.0247403016614 0.0287327230875\n",
        "Integral, Uncertainty, and Error for 21544.3469003 samples 3.13673407722 0.0233588817321 0.154653288987\n",
        "Integral, Uncertainty, and Error for 24201.2826479 samples 3.14547686887 0.0219979588997 0.123638412532\n",
        "Integral, Uncertainty, and Error for 27185.8824273 samples 3.14197735732 0.0207587802125 0.0122455000742\n",
        "Integral, Uncertainty, and Error for 30538.5550883 samples 3.14186571445 0.0195954191387 0.00869179722841\n",
        "Integral, Uncertainty, and Error for 34304.6928631 samples 3.14149163626 0.0184896466926 0.00321548135473\n",
        "Integral, Uncertainty, and Error for 38535.2859371 samples 3.14044507221 0.017447684887 0.0365286499739\n",
        "Integral, Uncertainty, and Error for 43287.6128108 samples 3.13731261344 0.0164610582051 0.136237909215\n",
        "Integral, Uncertainty, and Error for 48626.0158007 samples 3.14597795453 0.0154964044048 0.139588464284\n",
        "Integral, Uncertainty, and Error for 54622.7721768 samples 3.13941666669 0.0146588793219 0.0692638143155\n",
        "Integral, Uncertainty, and Error for 61359.0727341 samples 3.14507645414 0.0138225161436 0.110892815615\n",
        "Integral, Uncertainty, and Error for 68926.1210435 samples 3.14198174614 0.0130383230238 0.0123852006024\n",
        "Integral, Uncertainty, and Error for 77426.3682681 samples 3.14016329151 0.0123063362254 0.0454980081594\n",
        "Integral, Uncertainty, and Error for 86974.9002618 samples 3.13973771113 0.0116183124766 0.059044652291\n",
        "Integral, Uncertainty, and Error for 97700.9957299 samples 3.1421518942 0.0109484325351 0.0178011815824\n",
        "Integral, Uncertainty, and Error for 109749.876549 samples 3.14097808994 0.0103321019278 0.019562168492\n",
        "Integral, Uncertainty, and Error for 123284.673944 samples 3.14165408336 0.00974889465747 0.00195537031561\n",
        "Integral, Uncertainty, and Error for 138488.637139 samples"
       ]
      },
      {
       "output_type": "stream",
       "stream": "stdout",
       "text": [
        " 3.14313729973 0.00919583495834 0.0491676138383\n",
        "Integral, Uncertainty, and Error for 155567.614393 samples 3.13756944668 0.00868957698307 0.128062653302\n",
        "Integral, Uncertainty, and Error for 174752.840001 samples 3.13901854403 0.00819704850106 0.0819364522448\n",
        "Integral, Uncertainty, and Error for 196304.065004 samples 3.1407874267 0.00772799099577 0.0256311678316\n",
        "Integral, Uncertainty, and Error for 220513.07399 samples 3.14116671198 0.0072917723361 0.0135581425306\n",
        "Integral, Uncertainty, and Error for 247707.635599 samples 3.14196547533 0.00687818602175 0.0118672847032\n",
        "Integral, Uncertainty, and Error for 278255.940221 samples 3.14203232376 0.00648917637681 0.0139951360776\n",
        "Integral, Uncertainty, and Error for 312571.584969 samples 3.14330369684 0.00612184455576 0.054464198253\n",
        "Integral, Uncertainty, and Error for 351119.173422 samples"
       ]
      },
      {
       "output_type": "stream",
       "stream": "stdout",
       "text": [
        " 3.14437765639 0.00577577101924 0.088649392446\n",
        "Integral, Uncertainty, and Error for 394420.605944 samples 3.14210792562 0.00544987052167 0.0164016182393\n",
        "Integral, Uncertainty, and Error for 443062.145758 samples 3.14333765106 0.00514206121861 0.0555449947154\n",
        "Integral, Uncertainty, and Error for 497702.356433 samples 3.14345520466 0.00484977933918 0.0592868420609\n",
        "Integral, Uncertainty, and Error for 559081.018251 samples"
       ]
      },
      {
       "output_type": "stream",
       "stream": "stdout",
       "text": [
        " 3.14060493489 0.00457913420362 0.0314400625385\n",
        "Integral, Uncertainty, and Error for 628029.144183 samples 3.1423718856 0.00431903813165 0.0248037251778\n",
        "Integral, Uncertainty, and Error for 705480.231072 samples 3.14194067232 0.00407530093715 0.0110777801873\n",
        "Integral, Uncertainty, and Error for 792482.898354 samples"
       ]
      },
      {
       "output_type": "stream",
       "stream": "stdout",
       "text": [
        " 3.14039821219 0.00384798379618 0.0380202506745\n",
        "Integral, Uncertainty, and Error for 890215.085445 samples 3.14256694021 0.00362657027842 0.031012506164\n",
        "Integral, Uncertainty, and Error for 1000000.0 samples"
       ]
      },
      {
       "output_type": "stream",
       "stream": "stdout",
       "text": [
        " 3.14255094964 0.00342264051591 0.0305035105127\n"
       ]
      }
     ],
     "prompt_number": 7
    },
    {
     "cell_type": "code",
     "collapsed": false,
     "input": [
      "ERR=[]\n",
      "UNC=[]\n",
      "N0=[]\n",
      "for i in N:\n",
      "    o,p,t=sample2(i)\n",
      "    UNC.append(p)\n",
      "    ERR.append(t)\n",
      "    N0.append(i)\n",
      "plt.loglog(N0,ERR)\n",
      "plt.xlabel(\"Number of samples\")\n",
      "plt.ylabel(\"Percent Error\")\n",
      "plt.title(\"PERCENT ERROR\")\n",
      "plt.show()"
     ],
     "language": "python",
     "metadata": {},
     "outputs": [
      {
       "metadata": {},
       "output_type": "display_data",
       "png": "[encoded data removed]",
       "text": [
        "<matplotlib.figure.Figure at 0x3b3ad50>"
       ]
      }
     ],
     "prompt_number": 8
    },
    {
     "cell_type": "code",
     "collapsed": false,
     "input": [
      "plt.loglog(N0,UNC)\n",
      "plt.xlabel(\"Number of samples\")\n",
      "plt.ylabel(\"Uncertainty\")\n",
      "plt.title(\"UNCERTAINTY\")\n",
      "plt.show()"
     ],
     "language": "python",
     "metadata": {},
     "outputs": [
      {
       "metadata": {},
       "output_type": "display_data",
       "png": "[encoded data removed]",
       "text": [
        "<matplotlib.figure.Figure at 0x4945b10>"
       ]
      }
     ],
     "prompt_number": 9
    },
    {
     "cell_type": "code",
     "collapsed": false,
     "input": [
      "print sample2(10**5)\n",
      "#Determines result to two decimals,(usually) when error graph is below 1"
     ],
     "language": "python",
     "metadata": {},
     "outputs": [
      {
       "output_type": "stream",
       "stream": "stdout",
       "text": [
        "(3.1396838161572083, 0.010830986121049728, 0.060760182590944393)\n"
       ]
      }
     ],
     "prompt_number": 10
    },
    {
     "cell_type": "code",
     "collapsed": false,
     "input": [],
     "language": "python",
     "metadata": {},
     "outputs": []
    }
   ],
   "metadata": {}
  }
 ]
}