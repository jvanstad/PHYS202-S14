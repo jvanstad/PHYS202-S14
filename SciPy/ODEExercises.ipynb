{
 "metadata": {
  "name": "",
  "signature": "sha256:63931375eba2fee91a21bb8b21f4f027a39a8aac18cc54694f70a82c64cec7a5"
 },
 "nbformat": 3,
 "nbformat_minor": 0,
 "worksheets": [
  {
   "cells": [
    {
     "cell_type": "markdown",
     "metadata": {},
     "source": [
      "Ordinary Differential Equations Exercises"
     ]
    },
    {
     "cell_type": "code",
     "collapsed": false,
     "input": [],
     "language": "python",
     "metadata": {},
     "outputs": []
    }
   ],
   "metadata": {}
  }
 ]
}